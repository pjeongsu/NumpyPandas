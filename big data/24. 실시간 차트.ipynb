{
 "cells": [
  {
   "cell_type": "code",
   "execution_count": null,
   "metadata": {},
   "outputs": [],
   "source": [
    "# 주피터에서는 반영이 안됨!\n",
    "# 파이썬 파일로 해야 반영이 되네!"
   ]
  },
  {
   "cell_type": "code",
   "execution_count": null,
   "metadata": {},
   "outputs": [],
   "source": [
    "import matplotlib.pyplot as plt\n",
    "import matplotlib.animation as animation\n",
    "from matplotlib import style"
   ]
  },
  {
   "cell_type": "code",
   "execution_count": null,
   "metadata": {},
   "outputs": [],
   "source": [
    "style.use('fivethirtyeight')\n",
    "fig = plt.figure()\n",
    "ax1 = fig.add_subplot(1,1,1)\n",
    "\n",
    "def animate(i):\n",
    "    graph_data = open(r'c:\\aa.txt').read()\n",
    "    lines = graph_data.split('\\n')\n",
    "    xs=[]\n",
    "    ys=[]\n",
    "    for line in lines:\n",
    "        if len(line) > 1:\n",
    "            x,y= line.split(',')\n",
    "            xs.append(x)\n",
    "            ys.append(y)\n",
    "\n",
    "    print(\"---------\")\n",
    "    ax1.clear()\n",
    "    ax1.plot(xs,ys)\n",
    "\n",
    "ani = animation.FuncAnimation(fig, animate, interval=3000)\n",
    "plt.show()"
   ]
  }
 ],
 "metadata": {
  "kernelspec": {
   "display_name": "Python 3",
   "language": "python",
   "name": "python3"
  },
  "language_info": {
   "codemirror_mode": {
    "name": "ipython",
    "version": 3
   },
   "file_extension": ".py",
   "mimetype": "text/x-python",
   "name": "python",
   "nbconvert_exporter": "python",
   "pygments_lexer": "ipython3",
   "version": "3.7.6"
  }
 },
 "nbformat": 4,
 "nbformat_minor": 4
}
