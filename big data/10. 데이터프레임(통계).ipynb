{
 "cells": [
  {
   "cell_type": "code",
   "execution_count": 30,
   "metadata": {},
   "outputs": [],
   "source": [
    "from pyspark import SparkContext\n",
    "from pyspark.sql import SQLContext, Row\n",
    "import pandas as pd\n",
    "import numpy as np\n",
    "\n",
    "from pyspark.sql.functions import when, udf, col, regexp_replace\n",
    "from pyspark.sql.types import DoubleType,IntegerType, StringType\n",
    "import pyspark.sql.functions as F"
   ]
  },
  {
   "cell_type": "code",
   "execution_count": 2,
   "metadata": {},
   "outputs": [],
   "source": [
    "sc = SparkContext('local')\n",
    "sqlCtx = SQLContext(sc)"
   ]
  },
  {
   "cell_type": "code",
   "execution_count": 3,
   "metadata": {},
   "outputs": [
    {
     "data": {
      "text/plain": [
       "DataFrame[_c0: int, _c1: double, _c2: double]"
      ]
     },
     "execution_count": 3,
     "metadata": {},
     "output_type": "execute_result"
    }
   ],
   "source": [
    "df = sqlCtx.read.csv('../data/births.txt', inferSchema = True)\n",
    "df"
   ]
  },
  {
   "cell_type": "code",
   "execution_count": 7,
   "metadata": {},
   "outputs": [],
   "source": [
    "# 분산 데이터프레잉을 반환하기 때문에 함수를 이어 쓰기\n",
    "\n",
    "df = df.withColumnRenamed('_c0', 'year').withColumnRenamed('_c1', 'boys').withColumnRenamed('_c2', 'girls')"
   ]
  },
  {
   "cell_type": "code",
   "execution_count": 8,
   "metadata": {},
   "outputs": [
    {
     "name": "stdout",
     "output_type": "stream",
     "text": [
      "+----+--------+--------+\n",
      "|year|    boys|   girls|\n",
      "+----+--------+--------+\n",
      "|1880| 90993.0|110491.0|\n",
      "|1881| 91954.0|100745.0|\n",
      "|1882|107850.0|113688.0|\n",
      "|1883|112321.0|104629.0|\n",
      "|1884|129022.0|114445.0|\n",
      "|1885|133055.0|107800.0|\n",
      "|1886|144535.0|110784.0|\n",
      "|1887|145982.0|101414.0|\n",
      "|1888|178627.0|120853.0|\n",
      "|1889|178366.0|110584.0|\n",
      "|1890|190377.0|111025.0|\n",
      "|1891|185482.0|101196.0|\n",
      "|1892|212346.0|122037.0|\n",
      "|1893|212906.0|112317.0|\n",
      "|1894|222922.0|115772.0|\n",
      "|1895|233630.0|117398.0|\n",
      "|1896|237920.0|119570.0|\n",
      "|1897|234202.0|112758.0|\n",
      "|1898|258770.0|122693.0|\n",
      "|1899|233023.0|106212.0|\n",
      "+----+--------+--------+\n",
      "only showing top 20 rows\n",
      "\n"
     ]
    }
   ],
   "source": [
    "df.show()"
   ]
  },
  {
   "cell_type": "code",
   "execution_count": 9,
   "metadata": {},
   "outputs": [
    {
     "name": "stdout",
     "output_type": "stream",
     "text": [
      "root\n",
      " |-- year: integer (nullable = true)\n",
      " |-- boys: double (nullable = true)\n",
      " |-- girls: double (nullable = true)\n",
      "\n"
     ]
    }
   ],
   "source": [
    "df.printSchema()"
   ]
  },
  {
   "cell_type": "markdown",
   "metadata": {},
   "source": [
    "<pre>\n",
    "1. 2000년도 이후 데이터를 구하시요\n",
    "2. 1995~2000 년도 데이터를 구하시요\n",
    "3.  남아출생이 가장많은 top5를 \n",
    "구하시요(년도,남아수 출력)\n",
    "4. 남아율(%)컬럼을 추가하고 각년도별\n",
    "남아수가 차지하는 비율을 보여주시요\n",
    "5. 2000년도 이후 데이터를 바차트로 보여주시요\n",
    "</pre>"
   ]
  },
  {
   "cell_type": "markdown",
   "metadata": {},
   "source": [
    "# 1. 2000년도 이후 데이터를 구하시요"
   ]
  },
  {
   "cell_type": "code",
   "execution_count": 47,
   "metadata": {},
   "outputs": [
    {
     "name": "stdout",
     "output_type": "stream",
     "text": [
      "+----+---------+---------+\n",
      "|year|     boys|    girls|\n",
      "+----+---------+---------+\n",
      "|2000|1814601.0|1962406.0|\n",
      "|2001|1799049.0|1941251.0|\n",
      "|2002|1795206.0|1939815.0|\n",
      "|2003|1825359.0|1973434.0|\n",
      "|2004|1834145.0|1982794.0|\n",
      "|2005|1845379.0|1994841.0|\n",
      "|2006|1898463.0|2052377.0|\n",
      "|2007|1919408.0|2072139.0|\n",
      "|2008|1887234.0|2036289.0|\n",
      "|2009|1832925.0|1979303.0|\n",
      "|2010|1772738.0|1913851.0|\n",
      "|2011|1753500.0|1893230.0|\n",
      "+----+---------+---------+\n",
      "\n"
     ]
    }
   ],
   "source": [
    "a=2000\n",
    "df.where(f'year >= {a}').show()"
   ]
  },
  {
   "cell_type": "markdown",
   "metadata": {},
   "source": [
    "# 2. 1995~2000 년도 데이터를 구하시요"
   ]
  },
  {
   "cell_type": "code",
   "execution_count": 49,
   "metadata": {},
   "outputs": [
    {
     "name": "stdout",
     "output_type": "stream",
     "text": [
      "+----+---------+---------+\n",
      "|year|     boys|    girls|\n",
      "+----+---------+---------+\n",
      "|1995|1757927.0|1902832.0|\n",
      "|1996|1752249.0|1893378.0|\n",
      "|1997|1739806.0|1884122.0|\n",
      "|1998|1765915.0|1910250.0|\n",
      "|1999|1772632.0|1918809.0|\n",
      "|2000|1814601.0|1962406.0|\n",
      "+----+---------+---------+\n",
      "\n"
     ]
    }
   ],
   "source": [
    "a=1995\n",
    "b=2000\n",
    "df.where(f'year between {a} and {b}').show()"
   ]
  },
  {
   "cell_type": "markdown",
   "metadata": {},
   "source": [
    "# 3.  남아출생이 가장많은 top5를 구하시요(년도,남아수 출력)"
   ]
  },
  {
   "cell_type": "code",
   "execution_count": 50,
   "metadata": {},
   "outputs": [
    {
     "name": "stdout",
     "output_type": "stream",
     "text": [
      "+----+---------+\n",
      "|year|     boys|\n",
      "+----+---------+\n",
      "|1957|2044160.0|\n",
      "|1959|2023044.0|\n",
      "|1960|2022093.0|\n",
      "|1961|2017316.0|\n",
      "|1958|2010884.0|\n",
      "+----+---------+\n",
      "only showing top 5 rows\n",
      "\n"
     ]
    }
   ],
   "source": [
    "df.select('year','boys').orderBy('boys', ascending= False ).show(5)"
   ]
  },
  {
   "cell_type": "markdown",
   "metadata": {},
   "source": [
    "#### 또는"
   ]
  },
  {
   "cell_type": "code",
   "execution_count": 51,
   "metadata": {},
   "outputs": [
    {
     "name": "stdout",
     "output_type": "stream",
     "text": [
      "1957 2044160.0\n",
      "1959 2023044.0\n",
      "1960 2022093.0\n",
      "1961 2017316.0\n",
      "1958 2010884.0\n"
     ]
    }
   ],
   "source": [
    "for r in df.orderBy('boys', ascending = False).head(5):\n",
    "    print(r['year'], r['boys'])"
   ]
  },
  {
   "cell_type": "markdown",
   "metadata": {},
   "source": [
    "# 4. 남아율(%)컬럼을 추가하고 각년도별 남아수가 차지하는 비율을 보여주시요"
   ]
  },
  {
   "cell_type": "code",
   "execution_count": 21,
   "metadata": {},
   "outputs": [
    {
     "name": "stdout",
     "output_type": "stream",
     "text": [
      "+----+--------+--------+------------------+\n",
      "|year|    boys|   girls|         남아율(%)|\n",
      "+----+--------+--------+------------------+\n",
      "|1880| 90993.0|110491.0| 45.16140239423478|\n",
      "|1881| 91954.0|100745.0|47.718981416613474|\n",
      "|1882|107850.0|113688.0| 48.68239308831893|\n",
      "|1883|112321.0|104629.0|51.772758700161326|\n",
      "|1884|129022.0|114445.0| 52.99362952679418|\n",
      "|1885|133055.0|107800.0| 55.24278092628345|\n",
      "|1886|144535.0|110784.0| 56.60957468891857|\n",
      "|1887|145982.0|101414.0| 59.00742130026354|\n",
      "|1888|178627.0|120853.0| 59.64571924669427|\n",
      "|1889|178366.0|110584.0|  61.7290188613947|\n",
      "|1890|190377.0|111025.0| 63.16381444051466|\n",
      "|1891|185482.0|101196.0| 64.70046533044042|\n",
      "|1892|212346.0|122037.0| 63.50382645050735|\n",
      "|1893|212906.0|112317.0|  65.4646196609711|\n",
      "|1894|222922.0|115772.0| 65.81811310504467|\n",
      "|1895|233630.0|117398.0| 66.55594425515913|\n",
      "|1896|237920.0|119570.0| 66.55291057092506|\n",
      "|1897|234202.0|112758.0| 67.50115287064791|\n",
      "|1898|258770.0|122693.0| 67.83619905469207|\n",
      "|1899|233023.0|106212.0|  68.6907306144708|\n",
      "+----+--------+--------+------------------+\n",
      "only showing top 20 rows\n",
      "\n"
     ]
    }
   ],
   "source": [
    "df.withColumn('남아율(%)', (df['boys']/ (df['boys'] +df['girls']))*100).show()"
   ]
  },
  {
   "cell_type": "markdown",
   "metadata": {},
   "source": [
    "# 5. 2000년도 이후 데이터를 바차트로 보여주시요"
   ]
  },
  {
   "cell_type": "code",
   "execution_count": 52,
   "metadata": {},
   "outputs": [
    {
     "data": {
      "text/plain": [
       "<matplotlib.axes._subplots.AxesSubplot at 0x2a4b6b14088>"
      ]
     },
     "execution_count": 52,
     "metadata": {},
     "output_type": "execute_result"
    },
    {
     "data": {
      "image/png": "[encoded data removed]",
      "text/plain": [
       "<Figure size 432x288 with 1 Axes>"
      ]
     },
     "metadata": {
      "needs_background": "light"
     },
     "output_type": "display_data"
    }
   ],
   "source": [
    "df_pd = df.where('year>=2000').toPandas()\n",
    "df_pd.set_index('year', inplace=True)\n",
    "df_pd.plot(kind='bar')"
   ]
  },
  {
   "cell_type": "markdown",
   "metadata": {},
   "source": [
    "# ==========================="
   ]
  },
  {
   "cell_type": "markdown",
   "metadata": {},
   "source": [
    "# 집계함수"
   ]
  },
  {
   "cell_type": "markdown",
   "metadata": {},
   "source": [
    "### 집계함수를 쓸 때 agg함수 사용\n",
    "### 칼럼명, 집계함수 -> 문자열로 주기\n",
    "### 통계 관련 함수는 Hive ql에 있음"
   ]
  },
  {
   "cell_type": "markdown",
   "metadata": {},
   "source": [
    "### https://rfriend.tistory.com/213 : hive ql 함수"
   ]
  },
  {
   "cell_type": "code",
   "execution_count": 33,
   "metadata": {},
   "outputs": [
    {
     "name": "stdout",
     "output_type": "stream",
     "text": [
      "+------------+\n",
      "|  sum(girls)|\n",
      "+------------+\n",
      "|1.64392696E8|\n",
      "+------------+\n",
      "\n"
     ]
    }
   ],
   "source": [
    "df.agg({'girls':'sum'}).show()"
   ]
  },
  {
   "cell_type": "code",
   "execution_count": 34,
   "metadata": {},
   "outputs": [
    {
     "data": {
      "text/html": [
       "<div>\n",
       "<style scoped>\n",
       "    .dataframe tbody tr th:only-of-type {\n",
       "        vertical-align: middle;\n",
       "    }\n",
       "\n",
       "    .dataframe tbody tr th {\n",
       "        vertical-align: top;\n",
       "    }\n",
       "\n",
       "    .dataframe thead th {\n",
       "        text-align: right;\n",
       "    }\n",
       "</style>\n",
       "<table border=\"1\" class=\"dataframe\">\n",
       "  <thead>\n",
       "    <tr style=\"text-align: right;\">\n",
       "      <th></th>\n",
       "      <th>sum(girls)</th>\n",
       "    </tr>\n",
       "  </thead>\n",
       "  <tbody>\n",
       "    <tr>\n",
       "      <th>0</th>\n",
       "      <td>164392696.0</td>\n",
       "    </tr>\n",
       "  </tbody>\n",
       "</table>\n",
       "</div>"
      ],
      "text/plain": [
       "    sum(girls)\n",
       "0  164392696.0"
      ]
     },
     "execution_count": 34,
     "metadata": {},
     "output_type": "execute_result"
    }
   ],
   "source": [
    "df.agg({'girls':'sum'}).toPandas()"
   ]
  },
  {
   "cell_type": "code",
   "execution_count": 39,
   "metadata": {},
   "outputs": [
    {
     "data": {
      "text/plain": [
       "164392696.0"
      ]
     },
     "execution_count": 39,
     "metadata": {},
     "output_type": "execute_result"
    }
   ],
   "source": [
    "df.agg({'girls':'sum'}).toPandas().loc[0]['sum(girls)']"
   ]
  },
  {
   "cell_type": "code",
   "execution_count": 38,
   "metadata": {},
   "outputs": [
    {
     "data": {
      "text/plain": [
       "[Row(sum(girls)=164392696.0)]"
      ]
     },
     "execution_count": 38,
     "metadata": {},
     "output_type": "execute_result"
    }
   ],
   "source": [
    "df.agg({'girls':'sum'}).collect()"
   ]
  },
  {
   "cell_type": "code",
   "execution_count": 37,
   "metadata": {},
   "outputs": [
    {
     "data": {
      "text/plain": [
       "164392696.0"
      ]
     },
     "execution_count": 37,
     "metadata": {},
     "output_type": "execute_result"
    }
   ],
   "source": [
    "# 0인덱스의 합만 추출\n",
    "df.agg({'girls':'sum'}).collect()[0]['sum(girls)']"
   ]
  },
  {
   "cell_type": "code",
   "execution_count": 40,
   "metadata": {},
   "outputs": [
    {
     "name": "stdout",
     "output_type": "stream",
     "text": [
      "+------------+\n",
      "|  sum(girls)|\n",
      "+------------+\n",
      "|1.64392696E8|\n",
      "+------------+\n",
      "\n"
     ]
    }
   ],
   "source": [
    "df.agg(F.sum('girls')).show()"
   ]
  },
  {
   "cell_type": "code",
   "execution_count": 42,
   "metadata": {},
   "outputs": [
    {
     "name": "stdout",
     "output_type": "stream",
     "text": [
      "+------------------+------------+\n",
      "|         avg(boys)|  sum(girls)|\n",
      "+------------------+------------+\n",
      "|1225776.0681818181|1.64392696E8|\n",
      "+------------------+------------+\n",
      "\n"
     ]
    }
   ],
   "source": [
    "df.agg({'girls':'sum', 'boys':'mean'}).show()"
   ]
  },
  {
   "cell_type": "code",
   "execution_count": 44,
   "metadata": {},
   "outputs": [
    {
     "name": "stdout",
     "output_type": "stream",
     "text": [
      "+------------------+\n",
      "|        avg(girls)|\n",
      "+------------------+\n",
      "|1245399.2121212122|\n",
      "+------------------+\n",
      "\n"
     ]
    }
   ],
   "source": [
    "# 동일 칼럼에 대해서 평균과 합을 구하는 것은 ? bug ㅠㅠ\n",
    "\n",
    "df.agg({'girls':'sum', 'girls':'mean'}).show()"
   ]
  },
  {
   "cell_type": "code",
   "execution_count": 43,
   "metadata": {},
   "outputs": [
    {
     "name": "stdout",
     "output_type": "stream",
     "text": [
      "+------------+------------------+\n",
      "|  sum(girls)|        avg(girls)|\n",
      "+------------+------------------+\n",
      "|1.64392696E8|1245399.2121212122|\n",
      "+------------+------------------+\n",
      "\n"
     ]
    }
   ],
   "source": [
    "df.agg(F.sum('girls'), F.mean('girls')).show()"
   ]
  },
  {
   "cell_type": "code",
   "execution_count": 45,
   "metadata": {},
   "outputs": [
    {
     "name": "stdout",
     "output_type": "stream",
     "text": [
      "+------------------+-----------------+\n",
      "|         avg(boys)|    stddev(girls)|\n",
      "+------------------+-----------------+\n",
      "|1225776.0681818181|740002.8662878576|\n",
      "+------------------+-----------------+\n",
      "\n"
     ]
    }
   ],
   "source": [
    "# stddev : 편차\n",
    "\n",
    "df.agg({'girls':'stddev', 'boys':'mean'}).show()"
   ]
  },
  {
   "cell_type": "code",
   "execution_count": 54,
   "metadata": {},
   "outputs": [
    {
     "name": "stdout",
     "output_type": "stream",
     "text": [
      "1225776.0681818181\n",
      "740002.8662878576\n"
     ]
    }
   ],
   "source": [
    "# 통계 데이터만 얻기\n",
    "\n",
    "r = df.agg({'girls':'stddev', 'boys':'mean'}).collect()[0]\n",
    "print(r['avg(boys)'])\n",
    "print(r['stddev(girls)'])"
   ]
  },
  {
   "cell_type": "code",
   "execution_count": 55,
   "metadata": {},
   "outputs": [
    {
     "name": "stdout",
     "output_type": "stream",
     "text": [
      "+------------+------------------+\n",
      "|  sum(girls)|        avg(girls)|\n",
      "+------------+------------------+\n",
      "|1.64392696E8|1245399.2121212122|\n",
      "+------------+------------------+\n",
      "\n"
     ]
    }
   ],
   "source": [
    "df.agg(F.sum('girls'), F.mean('girls')).show()"
   ]
  },
  {
   "cell_type": "code",
   "execution_count": 56,
   "metadata": {},
   "outputs": [
    {
     "name": "stdout",
     "output_type": "stream",
     "text": [
      "+------------+------------------+\n",
      "|    여아총합|          여아평균|\n",
      "+------------+------------------+\n",
      "|1.64392696E8|1245399.2121212122|\n",
      "+------------+------------------+\n",
      "\n"
     ]
    }
   ],
   "source": [
    "# 칼럼 객체 멤버 함수 - alias\n",
    "\n",
    "df.agg( F.sum('girls').alias('여아총합'), F.mean('girls').alias('여아평균') ).show()"
   ]
  },
  {
   "cell_type": "markdown",
   "metadata": {},
   "source": [
    "### 기본적인 규모는 R이나 Pandas\n",
    "### 빅데이터는 Spark"
   ]
  }
 ],
 "metadata": {
  "kernelspec": {
   "display_name": "Python 3",
   "language": "python",
   "name": "python3"
  },
  "language_info": {
   "codemirror_mode": {
    "name": "ipython",
    "version": 3
   },
   "file_extension": ".py",
   "mimetype": "text/x-python",
   "name": "python",
   "nbconvert_exporter": "python",
   "pygments_lexer": "ipython3",
   "version": "3.7.6"
  }
 },
 "nbformat": 4,
 "nbformat_minor": 4
}
