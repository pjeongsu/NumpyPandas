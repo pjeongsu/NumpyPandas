{
 "cells": [
  {
   "cell_type": "markdown",
   "metadata": {},
   "source": [
    "### 실시간 데이터 ex. 주식, log\n"
   ]
  },
  {
   "cell_type": "markdown",
   "metadata": {},
   "source": [
    "### producer와 consumer을 적어주면 된다\n",
    "### kafka cluster는 이미 만들어져 있음"
   ]
  },
  {
   "cell_type": "markdown",
   "metadata": {},
   "source": [
    "### https://www.apache.org/dyn/closer.cgi?path=/kafka/2.7.0/kafka_2.12-2.7.0.tgz\n",
    "### binary로 다운 받기 - 첫 번째 링크"
   ]
  },
  {
   "cell_type": "markdown",
   "metadata": {},
   "source": [
    "# 1. 카프카 서버 스타트\n",
    "- cofig폴더 아래에 있는 zookeeper.properties, server.properties를  bin-window 안에 붙여넣기\n",
    "- ================================================================\n",
    "- bin\\windows\\zookeeper-server-start.bat zookeeper.properties\n",
    "- bin\\windows\\kafka-server-start.bat server.properties\n"
   ]
  },
  {
   "cell_type": "code",
   "execution_count": 2,
   "metadata": {},
   "outputs": [
    {
     "name": "stdout",
     "output_type": "stream",
     "text": [
      "Collecting kafka-python\n",
      "  Downloading kafka_python-2.0.2-py2.py3-none-any.whl (246 kB)\n",
      "Installing collected packages: kafka-python\n",
      "Successfully installed kafka-python-2.0.2\n"
     ]
    }
   ],
   "source": [
    "# !pip install kafka-python"
   ]
  },
  {
   "cell_type": "markdown",
   "metadata": {},
   "source": [
    "### 참고 : bytes타입"
   ]
  },
  {
   "cell_type": "code",
   "execution_count": 7,
   "metadata": {},
   "outputs": [
    {
     "name": "stdout",
     "output_type": "stream",
     "text": [
      "s= <class 'bytes'>\n",
      "<class 'bytes'>\n",
      "104\n",
      "b= <class 'str'>\n"
     ]
    }
   ],
   "source": [
    "# 통신 : octet(byte)\n",
    "# app <---시리얼통신(send, recv)---> 장비\n",
    "# app <---소캣통신(send, recv)-----> 서버\n",
    "# send(str-->bytes변환)\n",
    "# recv(bytes-->str변환)\n",
    "\n",
    "s = 'hello' # 문자열(문자 한 개의 사이즈 2byte)\n",
    "s = s.encode() # send(str-->bytes변환)\n",
    "print('s=', type(s))\n",
    "\n",
    "b = b'hello' # b를 붙이면 1byte -> 그래야 통신할 수 있음\n",
    "print(type(b))\n",
    "print(b[0]) # 104 # 아스키코드\n",
    "b = b.decode() # recv(bytes-->str변환)\n",
    "print('b=', type(b))\n",
    "\n",
    "# 통신의 기준은 bytes타입 -> bytes타입이어야만 됨!"
   ]
  },
  {
   "cell_type": "code",
   "execution_count": 4,
   "metadata": {},
   "outputs": [],
   "source": [
    "from kafka import KafkaProducer\n",
    "import time"
   ]
  },
  {
   "cell_type": "code",
   "execution_count": 12,
   "metadata": {},
   "outputs": [
    {
     "name": "stdout",
     "output_type": "stream",
     "text": [
      "success\n"
     ]
    }
   ],
   "source": [
    "# 카프카 서버가 실행되고 있는 ip주소를 적어주기 \n",
    "# 카프카 서버가 여러군데 있으면 리스트 안에 나열할 수 있음\n",
    "# 프로듀서쪽에서 카프카 클러스터로 데이터를 푸쉬!\n",
    "# 토픽은 sample토픽으로 키, 값 이렇게 전송을 함\n",
    "\n",
    "# 키값이 반드시 bytes타입이어야 함\n",
    "\n",
    "# 카프카클러스터의 서버와 아이피 주소\n",
    "producer = KafkaProducer(bootstrap_servers=['localhost:9092'], api_version=(0, 10))\n",
    "producer.send('sample', key=b'one', value=b'one data')\n",
    "producer.send('sample', key=b'two', value=b'two data')\n",
    "producer.flush() # 통신쪽 출력 버퍼\n",
    "print(\"success\")\n",
    "time.sleep(3) # 3초간 잠시 대기 -> 안해도 됨"
   ]
  }
 ],
 "metadata": {
  "kernelspec": {
   "display_name": "Python 3",
   "language": "python",
   "name": "python3"
  },
  "language_info": {
   "codemirror_mode": {
    "name": "ipython",
    "version": 3
   },
   "file_extension": ".py",
   "mimetype": "text/x-python",
   "name": "python",
   "nbconvert_exporter": "python",
   "pygments_lexer": "ipython3",
   "version": "3.7.6"
  }
 },
 "nbformat": 4,
 "nbformat_minor": 4
}
