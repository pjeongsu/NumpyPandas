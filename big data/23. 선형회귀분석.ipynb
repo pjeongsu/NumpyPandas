{
 "cells": [
  {
   "cell_type": "code",
   "execution_count": 1,
   "metadata": {},
   "outputs": [],
   "source": [
    "from pyspark.sql import  SQLContext \n",
    "from pyspark import SparkContext\n",
    "from pyspark.ml.regression import LinearRegression # 선형회귀\n",
    "from pyspark.ml.feature import VectorAssembler # 특성 데이터를 하나로 묶어줌\n",
    "import matplotlib.pyplot as plt\n",
    "import matplotlib\n",
    "import pandas as pd\n",
    "matplotlib.rcParams['font.family'] = 'Malgun Gothic'\n",
    "matplotlib.rcParams['axes.unicode_minus'] = False"
   ]
  },
  {
   "cell_type": "code",
   "execution_count": 2,
   "metadata": {},
   "outputs": [],
   "source": [
    "sc = SparkContext('local')\n",
    "sqlctx = SQLContext(sc)"
   ]
  },
  {
   "cell_type": "code",
   "execution_count": 4,
   "metadata": {},
   "outputs": [
    {
     "name": "stdout",
     "output_type": "stream",
     "text": [
      "+---+-----+----+\n",
      "|_c0|speed|dist|\n",
      "+---+-----+----+\n",
      "|  1|    4|   2|\n",
      "|  2|    4|  10|\n",
      "|  3|    7|   4|\n",
      "|  4|    7|  22|\n",
      "|  5|    8|  16|\n",
      "|  6|    9|  10|\n",
      "|  7|   10|  18|\n",
      "|  8|   10|  26|\n",
      "|  9|   10|  34|\n",
      "| 10|   11|  17|\n",
      "| 11|   11|  28|\n",
      "| 12|   12|  14|\n",
      "| 13|   12|  20|\n",
      "| 14|   12|  24|\n",
      "| 15|   12|  28|\n",
      "| 16|   13|  26|\n",
      "| 17|   13|  34|\n",
      "| 18|   13|  34|\n",
      "| 19|   13|  46|\n",
      "| 20|   14|  26|\n",
      "+---+-----+----+\n",
      "only showing top 20 rows\n",
      "\n"
     ]
    }
   ],
   "source": [
    "# 자동차 속도와 제동거리 관련 데이터 불러오기\n",
    "\n",
    "cardf = sqlctx.read.csv( '../data/cars.csv', header=True, inferSchema=True)\n",
    "cardf.show()"
   ]
  },
  {
   "cell_type": "code",
   "execution_count": 6,
   "metadata": {
    "scrolled": true
   },
   "outputs": [
    {
     "data": {
      "image/png": "[encoded data removed]",
      "text/plain": [
       "<Figure size 432x288 with 1 Axes>"
      ]
     },
     "metadata": {
      "needs_background": "light"
     },
     "output_type": "display_data"
    }
   ],
   "source": [
    "pdCar = cardf.toPandas()\n",
    "plt.scatter(pdCar['speed'], pdCar['dist'])\n",
    "plt.show()"
   ]
  },
  {
   "cell_type": "code",
   "execution_count": null,
   "metadata": {},
   "outputs": [],
   "source": [
    "# 자동차 속도를 15로 했을 때 제동거리가 얼마로 예측되는가?\n",
    "# y = wx + b\n",
    "# w, b를 구하는 두 가지 방법 : 미분(공식), 학습"
   ]
  },
  {
   "cell_type": "code",
   "execution_count": null,
   "metadata": {},
   "outputs": [],
   "source": [
    "# 1. 공식\n",
    "# 2. 학습 "
   ]
  },
  {
   "cell_type": "code",
   "execution_count": 8,
   "metadata": {},
   "outputs": [
    {
     "data": {
      "text/plain": [
       "0.8068949006892103"
      ]
     },
     "execution_count": 8,
     "metadata": {},
     "output_type": "execute_result"
    }
   ],
   "source": [
    "# 스파크 -> 여기에도 corr이 있음\n",
    "# 판다스 아님\n",
    "\n",
    "cardf.corr('dist', 'speed') # 강한 양적 상관관계(>=0.7)\n",
    "\n",
    "# 상관관계가 높으면 학습이 잘됨 -> w,b를 잘 찾아줌"
   ]
  },
  {
   "cell_type": "code",
   "execution_count": null,
   "metadata": {},
   "outputs": [],
   "source": [
    "# x(자동차 속도) : 특성데이터(feature) N개면 다중선형회귀, 1개면 단일 선형회귀분석\n",
    "# y(제동거리) : Label - 정답"
   ]
  },
  {
   "cell_type": "code",
   "execution_count": 10,
   "metadata": {
    "scrolled": true
   },
   "outputs": [
    {
     "name": "stdout",
     "output_type": "stream",
     "text": [
      "+---+-----+----+--------+\n",
      "|_c0|speed|dist|features|\n",
      "+---+-----+----+--------+\n",
      "|  1|    4|   2|   [4.0]|\n",
      "|  2|    4|  10|   [4.0]|\n",
      "|  3|    7|   4|   [7.0]|\n",
      "|  4|    7|  22|   [7.0]|\n",
      "|  5|    8|  16|   [8.0]|\n",
      "|  6|    9|  10|   [9.0]|\n",
      "|  7|   10|  18|  [10.0]|\n",
      "|  8|   10|  26|  [10.0]|\n",
      "|  9|   10|  34|  [10.0]|\n",
      "| 10|   11|  17|  [11.0]|\n",
      "| 11|   11|  28|  [11.0]|\n",
      "| 12|   12|  14|  [12.0]|\n",
      "| 13|   12|  20|  [12.0]|\n",
      "| 14|   12|  24|  [12.0]|\n",
      "| 15|   12|  28|  [12.0]|\n",
      "| 16|   13|  26|  [13.0]|\n",
      "| 17|   13|  34|  [13.0]|\n",
      "| 18|   13|  34|  [13.0]|\n",
      "| 19|   13|  46|  [13.0]|\n",
      "| 20|   14|  26|  [14.0]|\n",
      "+---+-----+----+--------+\n",
      "only showing top 20 rows\n",
      "\n"
     ]
    }
   ],
   "source": [
    "# f = VectorAssembler(inputCols=['speed', 'engine'], outputCol='features') => ex. [4.0, 2.0]\n",
    "f = VectorAssembler(inputCols=['speed'], outputCol='features') # 특성 데이터를 리스트 안에 묶어줌 - 학습 대상이 되는 칼럼\n",
    "v_df = f.transform(cardf)\n",
    "v_df.show()"
   ]
  },
  {
   "cell_type": "code",
   "execution_count": 11,
   "metadata": {},
   "outputs": [
    {
     "data": {
      "text/plain": [
       "50"
      ]
     },
     "execution_count": 11,
     "metadata": {},
     "output_type": "execute_result"
    }
   ],
   "source": [
    "v_df.count()"
   ]
  },
  {
   "cell_type": "code",
   "execution_count": 18,
   "metadata": {},
   "outputs": [
    {
     "name": "stdout",
     "output_type": "stream",
     "text": [
      "+--------+----+\n",
      "|features|dist|\n",
      "+--------+----+\n",
      "|   [4.0]|   2|\n",
      "|   [4.0]|  10|\n",
      "|   [7.0]|   4|\n",
      "|   [7.0]|  22|\n",
      "|   [8.0]|  16|\n",
      "|   [9.0]|  10|\n",
      "|  [10.0]|  18|\n",
      "|  [10.0]|  26|\n",
      "|  [10.0]|  34|\n",
      "|  [11.0]|  17|\n",
      "|  [11.0]|  28|\n",
      "|  [12.0]|  14|\n",
      "|  [12.0]|  20|\n",
      "|  [12.0]|  24|\n",
      "|  [12.0]|  28|\n",
      "|  [13.0]|  26|\n",
      "|  [13.0]|  34|\n",
      "|  [13.0]|  34|\n",
      "|  [13.0]|  46|\n",
      "|  [14.0]|  26|\n",
      "+--------+----+\n",
      "only showing top 20 rows\n",
      "\n"
     ]
    }
   ],
   "source": [
    "# 필요한 칼럼만 가져옴\n",
    "\n",
    "v_df = v_df.select('features', 'dist')\n",
    "v_df.show()"
   ]
  },
  {
   "cell_type": "code",
   "execution_count": 19,
   "metadata": {},
   "outputs": [],
   "source": [
    "# train(w, b를 구하는 학습용 데이터셋)\n",
    "# test(테스트하는 데이터셋)\n",
    "\n",
    "# 랜덤하게 v_df 를 자르는데 비율을 줌\n",
    "train_df, test_df = v_df.randomSplit([0.7, 0.3])"
   ]
  },
  {
   "cell_type": "code",
   "execution_count": 20,
   "metadata": {},
   "outputs": [
    {
     "name": "stdout",
     "output_type": "stream",
     "text": [
      "44\n",
      "+--------+----+\n",
      "|features|dist|\n",
      "+--------+----+\n",
      "|   [4.0]|   2|\n",
      "|   [4.0]|  10|\n",
      "|   [7.0]|   4|\n",
      "|   [7.0]|  22|\n",
      "|   [8.0]|  16|\n",
      "|   [9.0]|  10|\n",
      "|  [10.0]|  18|\n",
      "|  [10.0]|  26|\n",
      "|  [10.0]|  34|\n",
      "|  [11.0]|  17|\n",
      "|  [11.0]|  28|\n",
      "|  [12.0]|  14|\n",
      "|  [12.0]|  20|\n",
      "|  [12.0]|  24|\n",
      "|  [12.0]|  28|\n",
      "|  [13.0]|  26|\n",
      "|  [13.0]|  34|\n",
      "|  [13.0]|  34|\n",
      "|  [13.0]|  46|\n",
      "|  [14.0]|  36|\n",
      "+--------+----+\n",
      "only showing top 20 rows\n",
      "\n"
     ]
    }
   ],
   "source": [
    "print(train_df.count()) # 70%의 학습용 데이터 셋 : 36개\n",
    "train_df.show()"
   ]
  },
  {
   "cell_type": "code",
   "execution_count": 21,
   "metadata": {},
   "outputs": [
    {
     "name": "stdout",
     "output_type": "stream",
     "text": [
      "6\n",
      "+--------+----+\n",
      "|features|dist|\n",
      "+--------+----+\n",
      "|  [14.0]|  26|\n",
      "|  [16.0]|  32|\n",
      "|  [16.0]|  40|\n",
      "|  [18.0]|  42|\n",
      "|  [19.0]|  46|\n",
      "|  [24.0]| 120|\n",
      "+--------+----+\n",
      "\n"
     ]
    }
   ],
   "source": [
    "print(test_df.count()) # 30%의 학습용 데이터 셋 : 14개\n",
    "test_df.show()"
   ]
  },
  {
   "cell_type": "code",
   "execution_count": 22,
   "metadata": {},
   "outputs": [],
   "source": [
    "# maxIter, regParam : 하이퍼 파라미터(사람이 조정)\n",
    "# maxIter : 몇 번 돌릴건지\n",
    "# regParam : 러닝 보폭\n",
    "\n",
    "lr = LinearRegression(featuresCol='features', labelCol='dist', maxIter=100, regParam=0.01)\n",
    "lr_model = lr.fit(train_df) # 학습을 시작"
   ]
  },
  {
   "cell_type": "code",
   "execution_count": 26,
   "metadata": {},
   "outputs": [
    {
     "name": "stdout",
     "output_type": "stream",
     "text": [
      "기울기(w) : [3.6912324286843443]\n",
      "절편(b) : -13.733797732220928\n"
     ]
    }
   ],
   "source": [
    "#회귀 계수값( 기울기, 절편) y = wx +b  (w,b)\n",
    "print(\"기울기(w) :\",lr_model.coefficients )\n",
    "print(\"절편(b) :\", lr_model.intercept )"
   ]
  },
  {
   "cell_type": "code",
   "execution_count": 28,
   "metadata": {},
   "outputs": [
    {
     "data": {
      "text/plain": [
       "41.634688698044236"
      ]
     },
     "execution_count": 28,
     "metadata": {},
     "output_type": "execute_result"
    }
   ],
   "source": [
    "# 자동차 속도가 15면 제동거리는 얼마로 에측되는가?\n",
    "w = lr_model.coefficients[0] # 리스트 안에 감싸져 있어서 빼놓기 위해서 [0]\n",
    "b = lr_model.intercept\n",
    "p = w*15 + b\n",
    "p"
   ]
  },
  {
   "cell_type": "code",
   "execution_count": 30,
   "metadata": {
    "scrolled": true
   },
   "outputs": [
    {
     "data": {
      "text/html": [
       "<div>\n",
       "<style scoped>\n",
       "    .dataframe tbody tr th:only-of-type {\n",
       "        vertical-align: middle;\n",
       "    }\n",
       "\n",
       "    .dataframe tbody tr th {\n",
       "        vertical-align: top;\n",
       "    }\n",
       "\n",
       "    .dataframe thead th {\n",
       "        text-align: right;\n",
       "    }\n",
       "</style>\n",
       "<table border=\"1\" class=\"dataframe\">\n",
       "  <thead>\n",
       "    <tr style=\"text-align: right;\">\n",
       "      <th></th>\n",
       "      <th>_c0</th>\n",
       "      <th>speed</th>\n",
       "      <th>dist</th>\n",
       "      <th>lr</th>\n",
       "    </tr>\n",
       "  </thead>\n",
       "  <tbody>\n",
       "    <tr>\n",
       "      <th>0</th>\n",
       "      <td>1</td>\n",
       "      <td>4</td>\n",
       "      <td>2</td>\n",
       "      <td>1.031132</td>\n",
       "    </tr>\n",
       "    <tr>\n",
       "      <th>1</th>\n",
       "      <td>2</td>\n",
       "      <td>4</td>\n",
       "      <td>10</td>\n",
       "      <td>1.031132</td>\n",
       "    </tr>\n",
       "    <tr>\n",
       "      <th>2</th>\n",
       "      <td>3</td>\n",
       "      <td>7</td>\n",
       "      <td>4</td>\n",
       "      <td>12.104829</td>\n",
       "    </tr>\n",
       "    <tr>\n",
       "      <th>3</th>\n",
       "      <td>4</td>\n",
       "      <td>7</td>\n",
       "      <td>22</td>\n",
       "      <td>12.104829</td>\n",
       "    </tr>\n",
       "    <tr>\n",
       "      <th>4</th>\n",
       "      <td>5</td>\n",
       "      <td>8</td>\n",
       "      <td>16</td>\n",
       "      <td>15.796062</td>\n",
       "    </tr>\n",
       "    <tr>\n",
       "      <th>5</th>\n",
       "      <td>6</td>\n",
       "      <td>9</td>\n",
       "      <td>10</td>\n",
       "      <td>19.487294</td>\n",
       "    </tr>\n",
       "    <tr>\n",
       "      <th>6</th>\n",
       "      <td>7</td>\n",
       "      <td>10</td>\n",
       "      <td>18</td>\n",
       "      <td>23.178527</td>\n",
       "    </tr>\n",
       "    <tr>\n",
       "      <th>7</th>\n",
       "      <td>8</td>\n",
       "      <td>10</td>\n",
       "      <td>26</td>\n",
       "      <td>23.178527</td>\n",
       "    </tr>\n",
       "    <tr>\n",
       "      <th>8</th>\n",
       "      <td>9</td>\n",
       "      <td>10</td>\n",
       "      <td>34</td>\n",
       "      <td>23.178527</td>\n",
       "    </tr>\n",
       "    <tr>\n",
       "      <th>9</th>\n",
       "      <td>10</td>\n",
       "      <td>11</td>\n",
       "      <td>17</td>\n",
       "      <td>26.869759</td>\n",
       "    </tr>\n",
       "    <tr>\n",
       "      <th>10</th>\n",
       "      <td>11</td>\n",
       "      <td>11</td>\n",
       "      <td>28</td>\n",
       "      <td>26.869759</td>\n",
       "    </tr>\n",
       "    <tr>\n",
       "      <th>11</th>\n",
       "      <td>12</td>\n",
       "      <td>12</td>\n",
       "      <td>14</td>\n",
       "      <td>30.560991</td>\n",
       "    </tr>\n",
       "    <tr>\n",
       "      <th>12</th>\n",
       "      <td>13</td>\n",
       "      <td>12</td>\n",
       "      <td>20</td>\n",
       "      <td>30.560991</td>\n",
       "    </tr>\n",
       "    <tr>\n",
       "      <th>13</th>\n",
       "      <td>14</td>\n",
       "      <td>12</td>\n",
       "      <td>24</td>\n",
       "      <td>30.560991</td>\n",
       "    </tr>\n",
       "    <tr>\n",
       "      <th>14</th>\n",
       "      <td>15</td>\n",
       "      <td>12</td>\n",
       "      <td>28</td>\n",
       "      <td>30.560991</td>\n",
       "    </tr>\n",
       "    <tr>\n",
       "      <th>15</th>\n",
       "      <td>16</td>\n",
       "      <td>13</td>\n",
       "      <td>26</td>\n",
       "      <td>34.252224</td>\n",
       "    </tr>\n",
       "    <tr>\n",
       "      <th>16</th>\n",
       "      <td>17</td>\n",
       "      <td>13</td>\n",
       "      <td>34</td>\n",
       "      <td>34.252224</td>\n",
       "    </tr>\n",
       "    <tr>\n",
       "      <th>17</th>\n",
       "      <td>18</td>\n",
       "      <td>13</td>\n",
       "      <td>34</td>\n",
       "      <td>34.252224</td>\n",
       "    </tr>\n",
       "    <tr>\n",
       "      <th>18</th>\n",
       "      <td>19</td>\n",
       "      <td>13</td>\n",
       "      <td>46</td>\n",
       "      <td>34.252224</td>\n",
       "    </tr>\n",
       "    <tr>\n",
       "      <th>19</th>\n",
       "      <td>20</td>\n",
       "      <td>14</td>\n",
       "      <td>26</td>\n",
       "      <td>37.943456</td>\n",
       "    </tr>\n",
       "    <tr>\n",
       "      <th>20</th>\n",
       "      <td>21</td>\n",
       "      <td>14</td>\n",
       "      <td>36</td>\n",
       "      <td>37.943456</td>\n",
       "    </tr>\n",
       "    <tr>\n",
       "      <th>21</th>\n",
       "      <td>22</td>\n",
       "      <td>14</td>\n",
       "      <td>60</td>\n",
       "      <td>37.943456</td>\n",
       "    </tr>\n",
       "    <tr>\n",
       "      <th>22</th>\n",
       "      <td>23</td>\n",
       "      <td>14</td>\n",
       "      <td>80</td>\n",
       "      <td>37.943456</td>\n",
       "    </tr>\n",
       "    <tr>\n",
       "      <th>23</th>\n",
       "      <td>24</td>\n",
       "      <td>15</td>\n",
       "      <td>20</td>\n",
       "      <td>41.634689</td>\n",
       "    </tr>\n",
       "    <tr>\n",
       "      <th>24</th>\n",
       "      <td>25</td>\n",
       "      <td>15</td>\n",
       "      <td>26</td>\n",
       "      <td>41.634689</td>\n",
       "    </tr>\n",
       "    <tr>\n",
       "      <th>25</th>\n",
       "      <td>26</td>\n",
       "      <td>15</td>\n",
       "      <td>54</td>\n",
       "      <td>41.634689</td>\n",
       "    </tr>\n",
       "    <tr>\n",
       "      <th>26</th>\n",
       "      <td>27</td>\n",
       "      <td>16</td>\n",
       "      <td>32</td>\n",
       "      <td>45.325921</td>\n",
       "    </tr>\n",
       "    <tr>\n",
       "      <th>27</th>\n",
       "      <td>28</td>\n",
       "      <td>16</td>\n",
       "      <td>40</td>\n",
       "      <td>45.325921</td>\n",
       "    </tr>\n",
       "    <tr>\n",
       "      <th>28</th>\n",
       "      <td>29</td>\n",
       "      <td>17</td>\n",
       "      <td>32</td>\n",
       "      <td>49.017154</td>\n",
       "    </tr>\n",
       "    <tr>\n",
       "      <th>29</th>\n",
       "      <td>30</td>\n",
       "      <td>17</td>\n",
       "      <td>40</td>\n",
       "      <td>49.017154</td>\n",
       "    </tr>\n",
       "    <tr>\n",
       "      <th>30</th>\n",
       "      <td>31</td>\n",
       "      <td>17</td>\n",
       "      <td>50</td>\n",
       "      <td>49.017154</td>\n",
       "    </tr>\n",
       "    <tr>\n",
       "      <th>31</th>\n",
       "      <td>32</td>\n",
       "      <td>18</td>\n",
       "      <td>42</td>\n",
       "      <td>52.708386</td>\n",
       "    </tr>\n",
       "    <tr>\n",
       "      <th>32</th>\n",
       "      <td>33</td>\n",
       "      <td>18</td>\n",
       "      <td>56</td>\n",
       "      <td>52.708386</td>\n",
       "    </tr>\n",
       "    <tr>\n",
       "      <th>33</th>\n",
       "      <td>34</td>\n",
       "      <td>18</td>\n",
       "      <td>76</td>\n",
       "      <td>52.708386</td>\n",
       "    </tr>\n",
       "    <tr>\n",
       "      <th>34</th>\n",
       "      <td>35</td>\n",
       "      <td>18</td>\n",
       "      <td>84</td>\n",
       "      <td>52.708386</td>\n",
       "    </tr>\n",
       "    <tr>\n",
       "      <th>35</th>\n",
       "      <td>36</td>\n",
       "      <td>19</td>\n",
       "      <td>36</td>\n",
       "      <td>56.399618</td>\n",
       "    </tr>\n",
       "    <tr>\n",
       "      <th>36</th>\n",
       "      <td>37</td>\n",
       "      <td>19</td>\n",
       "      <td>46</td>\n",
       "      <td>56.399618</td>\n",
       "    </tr>\n",
       "    <tr>\n",
       "      <th>37</th>\n",
       "      <td>38</td>\n",
       "      <td>19</td>\n",
       "      <td>68</td>\n",
       "      <td>56.399618</td>\n",
       "    </tr>\n",
       "    <tr>\n",
       "      <th>38</th>\n",
       "      <td>39</td>\n",
       "      <td>20</td>\n",
       "      <td>32</td>\n",
       "      <td>60.090851</td>\n",
       "    </tr>\n",
       "    <tr>\n",
       "      <th>39</th>\n",
       "      <td>40</td>\n",
       "      <td>20</td>\n",
       "      <td>48</td>\n",
       "      <td>60.090851</td>\n",
       "    </tr>\n",
       "    <tr>\n",
       "      <th>40</th>\n",
       "      <td>41</td>\n",
       "      <td>20</td>\n",
       "      <td>52</td>\n",
       "      <td>60.090851</td>\n",
       "    </tr>\n",
       "    <tr>\n",
       "      <th>41</th>\n",
       "      <td>42</td>\n",
       "      <td>20</td>\n",
       "      <td>56</td>\n",
       "      <td>60.090851</td>\n",
       "    </tr>\n",
       "    <tr>\n",
       "      <th>42</th>\n",
       "      <td>43</td>\n",
       "      <td>20</td>\n",
       "      <td>64</td>\n",
       "      <td>60.090851</td>\n",
       "    </tr>\n",
       "    <tr>\n",
       "      <th>43</th>\n",
       "      <td>44</td>\n",
       "      <td>22</td>\n",
       "      <td>66</td>\n",
       "      <td>67.473316</td>\n",
       "    </tr>\n",
       "    <tr>\n",
       "      <th>44</th>\n",
       "      <td>45</td>\n",
       "      <td>23</td>\n",
       "      <td>54</td>\n",
       "      <td>71.164548</td>\n",
       "    </tr>\n",
       "    <tr>\n",
       "      <th>45</th>\n",
       "      <td>46</td>\n",
       "      <td>24</td>\n",
       "      <td>70</td>\n",
       "      <td>74.855781</td>\n",
       "    </tr>\n",
       "    <tr>\n",
       "      <th>46</th>\n",
       "      <td>47</td>\n",
       "      <td>24</td>\n",
       "      <td>92</td>\n",
       "      <td>74.855781</td>\n",
       "    </tr>\n",
       "    <tr>\n",
       "      <th>47</th>\n",
       "      <td>48</td>\n",
       "      <td>24</td>\n",
       "      <td>93</td>\n",
       "      <td>74.855781</td>\n",
       "    </tr>\n",
       "    <tr>\n",
       "      <th>48</th>\n",
       "      <td>49</td>\n",
       "      <td>24</td>\n",
       "      <td>120</td>\n",
       "      <td>74.855781</td>\n",
       "    </tr>\n",
       "    <tr>\n",
       "      <th>49</th>\n",
       "      <td>50</td>\n",
       "      <td>25</td>\n",
       "      <td>85</td>\n",
       "      <td>78.547013</td>\n",
       "    </tr>\n",
       "  </tbody>\n",
       "</table>\n",
       "</div>"
      ],
      "text/plain": [
       "    _c0  speed  dist         lr\n",
       "0     1      4     2   1.031132\n",
       "1     2      4    10   1.031132\n",
       "2     3      7     4  12.104829\n",
       "3     4      7    22  12.104829\n",
       "4     5      8    16  15.796062\n",
       "5     6      9    10  19.487294\n",
       "6     7     10    18  23.178527\n",
       "7     8     10    26  23.178527\n",
       "8     9     10    34  23.178527\n",
       "9    10     11    17  26.869759\n",
       "10   11     11    28  26.869759\n",
       "11   12     12    14  30.560991\n",
       "12   13     12    20  30.560991\n",
       "13   14     12    24  30.560991\n",
       "14   15     12    28  30.560991\n",
       "15   16     13    26  34.252224\n",
       "16   17     13    34  34.252224\n",
       "17   18     13    34  34.252224\n",
       "18   19     13    46  34.252224\n",
       "19   20     14    26  37.943456\n",
       "20   21     14    36  37.943456\n",
       "21   22     14    60  37.943456\n",
       "22   23     14    80  37.943456\n",
       "23   24     15    20  41.634689\n",
       "24   25     15    26  41.634689\n",
       "25   26     15    54  41.634689\n",
       "26   27     16    32  45.325921\n",
       "27   28     16    40  45.325921\n",
       "28   29     17    32  49.017154\n",
       "29   30     17    40  49.017154\n",
       "30   31     17    50  49.017154\n",
       "31   32     18    42  52.708386\n",
       "32   33     18    56  52.708386\n",
       "33   34     18    76  52.708386\n",
       "34   35     18    84  52.708386\n",
       "35   36     19    36  56.399618\n",
       "36   37     19    46  56.399618\n",
       "37   38     19    68  56.399618\n",
       "38   39     20    32  60.090851\n",
       "39   40     20    48  60.090851\n",
       "40   41     20    52  60.090851\n",
       "41   42     20    56  60.090851\n",
       "42   43     20    64  60.090851\n",
       "43   44     22    66  67.473316\n",
       "44   45     23    54  71.164548\n",
       "45   46     24    70  74.855781\n",
       "46   47     24    92  74.855781\n",
       "47   48     24    93  74.855781\n",
       "48   49     24   120  74.855781\n",
       "49   50     25    85  78.547013"
      ]
     },
     "execution_count": 30,
     "metadata": {},
     "output_type": "execute_result"
    }
   ],
   "source": [
    "pdCar = cardf.toPandas()\n",
    "pdCar['lr'] = w*pdCar['speed'] + b\n",
    "pdCar"
   ]
  },
  {
   "cell_type": "code",
   "execution_count": 31,
   "metadata": {},
   "outputs": [
    {
     "data": {
      "image/png": "[encoded data removed]",
      "text/plain": [
       "<Figure size 432x288 with 1 Axes>"
      ]
     },
     "metadata": {
      "needs_background": "light"
     },
     "output_type": "display_data"
    }
   ],
   "source": [
    "plt.scatter(pdCar['speed'], pdCar['dist'])\n",
    "plt.plot(pdCar['speed'], pdCar['lr'], 'r--')\n",
    "plt.show()"
   ]
  }
 ],
 "metadata": {
  "kernelspec": {
   "display_name": "Python 3",
   "language": "python",
   "name": "python3"
  },
  "language_info": {
   "codemirror_mode": {
    "name": "ipython",
    "version": 3
   },
   "file_extension": ".py",
   "mimetype": "text/x-python",
   "name": "python",
   "nbconvert_exporter": "python",
   "pygments_lexer": "ipython3",
   "version": "3.7.6"
  }
 },
 "nbformat": 4,
 "nbformat_minor": 4
}
