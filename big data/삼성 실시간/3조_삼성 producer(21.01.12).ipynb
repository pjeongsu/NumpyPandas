{
 "cells": [
  {
   "cell_type": "code",
   "execution_count": 10,
   "metadata": {},
   "outputs": [],
   "source": [
    "from kafka import KafkaProducer\n",
    "import time"
   ]
  },
  {
   "cell_type": "code",
   "execution_count": null,
   "metadata": {
    "scrolled": true
   },
   "outputs": [
    {
     "name": "stdout",
     "output_type": "stream",
     "text": [
      "2021-01-04,83000\n",
      "\n",
      "2021-01-04 83000\n",
      "\n",
      "2021-01-05,83900\n",
      "\n",
      "2021-01-05 83900\n",
      "\n",
      "2021-01-06,82200\n",
      "\n",
      "2021-01-06 82200\n",
      "\n",
      "2021-01-07,82900\n",
      "\n",
      "2021-01-07 82900\n",
      "\n",
      "2021-01-08,88800\n",
      "\n",
      "2021-01-08 88800\n",
      "\n",
      "2021-01-11,91000\n",
      "\n",
      "2021-01-11 91000\n",
      "\n",
      "2021-01-12,90600\n",
      "\n",
      "2021-01-12 90600\n",
      "\n"
     ]
    }
   ],
   "source": [
    "producer= KafkaProducer(bootstrap_servers=['localhost:9092'],\n",
    "                       api_version=(0,10) )\n",
    "\n",
    "fp = open(r\"C:\\Users\\pnu\\Desktop\\3.Bigdata_Analysis\\Hadoop,Spark(window)\\Hadoop_Spark-window-\\Kafka\\Work\\samsung.txt\")\n",
    "\n",
    "while True:\n",
    "    pos = fp.tell()\n",
    "    line = fp.readline()\n",
    "    \n",
    "    if line:\n",
    "        print(line)\n",
    "        ln = line.split(',')\n",
    "        print( ln[0],  ln[1] )\n",
    "        date = ln[0].encode()\n",
    "        close = ln[1].encode()\n",
    "        producer.send('samsung',key=date, value=close)\n",
    "        producer.flush()\n",
    "    else:\n",
    "        time.sleep(1)\n",
    "        fp.seek(pos)"
   ]
  },
  {
   "cell_type": "code",
   "execution_count": null,
   "metadata": {},
   "outputs": [],
   "source": []
  }
 ],
 "metadata": {
  "kernelspec": {
   "display_name": "Python 3",
   "language": "python",
   "name": "python3"
  },
  "language_info": {
   "codemirror_mode": {
    "name": "ipython",
    "version": 3
   },
   "file_extension": ".py",
   "mimetype": "text/x-python",
   "name": "python",
   "nbconvert_exporter": "python",
   "pygments_lexer": "ipython3",
   "version": "3.7.6"
  }
 },
 "nbformat": 4,
 "nbformat_minor": 4
}
