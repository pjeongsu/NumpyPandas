{
 "cells": [
  {
   "cell_type": "code",
   "execution_count": 1,
   "metadata": {},
   "outputs": [],
   "source": [
    "from pyspark import SparkContext\n",
    "from pyspark.sql import SQLContext, Row\n",
    "import pandas as pd\n",
    "import numpy as np"
   ]
  },
  {
   "cell_type": "code",
   "execution_count": 2,
   "metadata": {},
   "outputs": [],
   "source": [
    "sc = SparkContext('local')\n",
    "sqlCtx = SQLContext(sc)"
   ]
  },
  {
   "cell_type": "code",
   "execution_count": 4,
   "metadata": {},
   "outputs": [],
   "source": [
    "emp =[('홍길동',1),('이순신',2),\n",
    "      ('임꺽정',3),('김철수',3),('김철수1',5)]\n",
    "dept = [('개발',1), ('연구',2),\n",
    "        ('영업',3),('기획',4) ]"
   ]
  },
  {
   "cell_type": "code",
   "execution_count": 5,
   "metadata": {},
   "outputs": [
    {
     "data": {
      "text/plain": [
       "ParallelCollectionRDD[0] at parallelize at PythonRDD.scala:195"
      ]
     },
     "execution_count": 5,
     "metadata": {},
     "output_type": "execute_result"
    }
   ],
   "source": [
    "empRdd = sc.parallelize(emp)\n",
    "empRdd"
   ]
  },
  {
   "cell_type": "code",
   "execution_count": 7,
   "metadata": {},
   "outputs": [
    {
     "data": {
      "text/plain": [
       "[('홍길동', 1), ('이순신', 2), ('임꺽정', 3), ('김철수', 3), ('김철수1', 5)]"
      ]
     },
     "execution_count": 7,
     "metadata": {},
     "output_type": "execute_result"
    }
   ],
   "source": [
    "empRdd.collect()"
   ]
  },
  {
   "cell_type": "markdown",
   "metadata": {},
   "source": [
    "## rdd : 분산 리스트\n",
    "## dataframe : 분산 데이터프레임"
   ]
  },
  {
   "cell_type": "code",
   "execution_count": 6,
   "metadata": {},
   "outputs": [
    {
     "data": {
      "text/plain": [
       "DataFrame[_1: string, _2: bigint]"
      ]
     },
     "execution_count": 6,
     "metadata": {},
     "output_type": "execute_result"
    }
   ],
   "source": [
    "empDF = empRdd.toDF() # rdd --> dataframe\n",
    "empDF"
   ]
  },
  {
   "cell_type": "code",
   "execution_count": 8,
   "metadata": {},
   "outputs": [
    {
     "name": "stdout",
     "output_type": "stream",
     "text": [
      "+-------+---+\n",
      "|     _1| _2|\n",
      "+-------+---+\n",
      "| 홍길동|  1|\n",
      "| 이순신|  2|\n",
      "| 임꺽정|  3|\n",
      "| 김철수|  3|\n",
      "|김철수1|  5|\n",
      "+-------+---+\n",
      "\n"
     ]
    }
   ],
   "source": [
    "empDF.show() # 개별 데이터프레임을 보여줌\n",
    "\n",
    "# 판다스와 다르게 분산 데이터 프레임\n",
    "# 데이터가 각 클러스터에 분산되어서 적재됨"
   ]
  },
  {
   "cell_type": "markdown",
   "metadata": {},
   "source": [
    "### 또다른 방법"
   ]
  },
  {
   "cell_type": "code",
   "execution_count": 10,
   "metadata": {},
   "outputs": [
    {
     "name": "stdout",
     "output_type": "stream",
     "text": [
      "+-------+---+\n",
      "|     _1| _2|\n",
      "+-------+---+\n",
      "| 홍길동|  1|\n",
      "| 이순신|  2|\n",
      "| 임꺽정|  3|\n",
      "| 김철수|  3|\n",
      "|김철수1|  5|\n",
      "+-------+---+\n",
      "\n"
     ]
    }
   ],
   "source": [
    "empDf1 = sqlCtx.createDataFrame(emp)\n",
    "empDf1.show() # collect가 아니라 print와 같은 개념"
   ]
  },
  {
   "cell_type": "code",
   "execution_count": 11,
   "metadata": {},
   "outputs": [
    {
     "data": {
      "text/html": [
       "<div>\n",
       "<style scoped>\n",
       "    .dataframe tbody tr th:only-of-type {\n",
       "        vertical-align: middle;\n",
       "    }\n",
       "\n",
       "    .dataframe tbody tr th {\n",
       "        vertical-align: top;\n",
       "    }\n",
       "\n",
       "    .dataframe thead th {\n",
       "        text-align: right;\n",
       "    }\n",
       "</style>\n",
       "<table border=\"1\" class=\"dataframe\">\n",
       "  <thead>\n",
       "    <tr style=\"text-align: right;\">\n",
       "      <th></th>\n",
       "      <th>_1</th>\n",
       "      <th>_2</th>\n",
       "    </tr>\n",
       "  </thead>\n",
       "  <tbody>\n",
       "    <tr>\n",
       "      <th>0</th>\n",
       "      <td>홍길동</td>\n",
       "      <td>1</td>\n",
       "    </tr>\n",
       "    <tr>\n",
       "      <th>1</th>\n",
       "      <td>이순신</td>\n",
       "      <td>2</td>\n",
       "    </tr>\n",
       "    <tr>\n",
       "      <th>2</th>\n",
       "      <td>임꺽정</td>\n",
       "      <td>3</td>\n",
       "    </tr>\n",
       "    <tr>\n",
       "      <th>3</th>\n",
       "      <td>김철수</td>\n",
       "      <td>3</td>\n",
       "    </tr>\n",
       "    <tr>\n",
       "      <th>4</th>\n",
       "      <td>김철수1</td>\n",
       "      <td>5</td>\n",
       "    </tr>\n",
       "  </tbody>\n",
       "</table>\n",
       "</div>"
      ],
      "text/plain": [
       "     _1  _2\n",
       "0   홍길동   1\n",
       "1   이순신   2\n",
       "2   임꺽정   3\n",
       "3   김철수   3\n",
       "4  김철수1   5"
      ]
     },
     "execution_count": 11,
     "metadata": {},
     "output_type": "execute_result"
    }
   ],
   "source": [
    "# 분산데이터프레임 -> 판다스의 데이터프레임\n",
    "# collect는 하나의 리스트로 만들어짐\n",
    "\n",
    "df = empDf1.toPandas() # rdd의 멤버함수인 collect()와 비슷 => 따라서 함부로 사용해서는 안됨 => 필터링해서 사용해야..!\n",
    "df"
   ]
  },
  {
   "cell_type": "markdown",
   "metadata": {},
   "source": [
    "#### spark로 빅데이터를 읽고 rdd나 dataframe으로 읽은 다음 어느정도 필터링된 다음 toPandas를 이용해서 판다스로 분석을 함"
   ]
  },
  {
   "cell_type": "code",
   "execution_count": 12,
   "metadata": {},
   "outputs": [
    {
     "name": "stdout",
     "output_type": "stream",
     "text": [
      "+-------+------+\n",
      "|   name|deptid|\n",
      "+-------+------+\n",
      "| 홍길동|     1|\n",
      "| 이순신|     2|\n",
      "| 임꺽정|     3|\n",
      "| 김철수|     3|\n",
      "|김철수1|     5|\n",
      "+-------+------+\n",
      "\n"
     ]
    }
   ],
   "source": [
    "empDf2 = sqlCtx.createDataFrame(emp, ['name', 'deptid']) # 두번째 인자에 칼럼명 지정 가능\n",
    "empDf2.show()"
   ]
  },
  {
   "cell_type": "code",
   "execution_count": 13,
   "metadata": {},
   "outputs": [
    {
     "name": "stdout",
     "output_type": "stream",
     "text": [
      "root\n",
      " |-- name: string (nullable = true)\n",
      " |-- deptid: long (nullable = true)\n",
      "\n"
     ]
    }
   ],
   "source": [
    "empDf2.printSchema() # spark데이터 프레임에서는 각 칼럼에 대한 정보 확인 가능 <-> 데이터프레임 : info()"
   ]
  },
  {
   "cell_type": "markdown",
   "metadata": {},
   "source": [
    "### spark Sql :\n",
    "### hive(hadoop 에코(echo)시스템 : sql을 이용하여 데이터를 분석하는 툴) \n",
    "### https://rfriend.tistory.com/213 : hive ql 함수\n",
    "### spark sql 도큐먼트 : https://spark.apache.org/docs/latest/api/sql/index.html\n"
   ]
  },
  {
   "cell_type": "code",
   "execution_count": 14,
   "metadata": {},
   "outputs": [],
   "source": [
    "empDf2.createOrReplaceTempView('my') # 분산데이터 프레임에 my라는 이름을 부여"
   ]
  },
  {
   "cell_type": "code",
   "execution_count": 49,
   "metadata": {},
   "outputs": [
    {
     "name": "stdout",
     "output_type": "stream",
     "text": [
      "+---+\n",
      "|  s|\n",
      "+---+\n",
      "|  2|\n",
      "|  4|\n",
      "|  6|\n",
      "|  6|\n",
      "| 10|\n",
      "+---+\n",
      "\n"
     ]
    }
   ],
   "source": [
    "# sql = \"select * from my\"\n",
    "# sql = \"select name from my\"\n",
    "# sql = \"select name, deptid from my\"\n",
    "# sql = \"select name, deptid from my where deptid>2\"\n",
    "# sql = \"select name, deptid from my where deptid==2 or deptid==3\"\n",
    "# sql = \"select name, deptid from my where deptid in (1, 2, 3)\"\n",
    "# sql = \"select name, deptid from my where deptid >= 2 and deptid <= 4\"\n",
    "# sql = \"select name, deptid from my where deptid between 2 and 4\"\n",
    "# spq에서 문자열은 홀따옴표\n",
    "# sql = \"select name, deptid from my where name='이순신'\"\n",
    "# sql = \"select name, deptid from my where name like '%김%'\"\n",
    "\n",
    "# 정규식 패턴\n",
    "# 정규식 패턴을 사용하기 위해 rlike -> hive ql 에서는 rlike => 표준은 아님 / DB 마다 다름 \n",
    "# sql = \"select name, deptid from my where name rlike '김'\"\n",
    "# sql = \"select name, deptid from my where name rlike '^김'\"\n",
    "# sql = \"select name, deptid from my where name rlike '수$'\"\n",
    "# sql = \"select name, deptid from my where name rlike '[김정]'\"\n",
    "\n",
    "# 정렬\n",
    "# sql = \"select name, deptid from my order by name\"\n",
    "# sql = \"select name, deptid from my order by name desc\"\n",
    "# sql = \"select name, deptid from my order by deptid\"\n",
    "# sql = \"select name, deptid from my order by deptid desc\"\n",
    "# sql = \"select name, deptid from my order by deptid desc limit 3\" # top3 구할 때\n",
    "\n",
    "# 집계함수(max, min, avg, sum, count) => 표준\n",
    "# sql = \"select max(deptid) from my\"\n",
    "# sql = \"select min(deptid) from my\"\n",
    "# sql = \"select min(deptid), max(deptid) from my\"  # 두 개 나옴\n",
    "# sql = \"select sum(deptid) from my\"\n",
    "# sql = \"select mean(deptid) from my\" # 평균을 구하기 위해서는 => mean 또는 avg\n",
    "# sql = \"select avg(deptid) from my\"\n",
    "# sql = \"select count(deptid) from my\" # 만약 결측치가 있으면 결측치를 제외하고 row 개수 출력\n",
    "# sql = \"select count(*) from my\" # 전체 row의 개수 \n",
    "\n",
    "# 연산 - 요소별 연산\n",
    "# sql = \"select deptid*2 as s from my\"  #  칼럼명을 as로 두기\n",
    "\n",
    "# 그룹바이\n",
    "# sql = '''select `학년`, avg(`중간`) from grade group by `학년`'''\n",
    "\n",
    "# 조건별\n",
    "# sql = '''select name, salary,\n",
    "#         case\n",
    "#             when salary >= 4000 then '많음'\n",
    "#             when salary >= 2000 then '보통'\n",
    "#             else '적음'\n",
    "#         end as sal\n",
    "#         from emp\n",
    "#         '''\n",
    "\n",
    "sql = \"select deptid*2 as s from my\" #  칼럼명을 as로 두기\n",
    "sqlDF = sqlCtx.sql(sql) # saprk Dataframe\n",
    "sqlDF.show()"
   ]
  },
  {
   "cell_type": "markdown",
   "metadata": {},
   "source": [
    "<pre>\n",
    "0. name salary 컬럼명을 가지는 데이터프레임을 만드시요.\n",
    "1. 급여가 가장높은 name과 salary를 출력하시요\n",
    "2. name, salary, tax 를 출력하시요 (tax는 급여에서 세금 3.3을 제한값)\n",
    "3. name 에 '철'이 포함된  name,salary 를 출력하시요\n",
    "4. salary top 5 인 name, salary 출력하시요\n",
    "5. salary  2000  과 4000 사이의 데이터를 출력하시요\n",
    "</pre>"
   ]
  },
  {
   "cell_type": "code",
   "execution_count": 50,
   "metadata": {},
   "outputs": [],
   "source": [
    "data1 = ['홍길동,1000','이순신,2000','임꺽정,3000',\n",
    "         '김철수,4000','이황,5000','이이,6000']"
   ]
  },
  {
   "cell_type": "markdown",
   "metadata": {},
   "source": [
    "# 0. name salary 컬럼명을 가지는 데이터프레임을 만드시요."
   ]
  },
  {
   "cell_type": "code",
   "execution_count": 55,
   "metadata": {},
   "outputs": [
    {
     "data": {
      "text/plain": [
       "['홍길동,1000', '이순신,2000', '임꺽정,3000', '김철수,4000', '이황,5000', '이이,6000']"
      ]
     },
     "execution_count": 55,
     "metadata": {},
     "output_type": "execute_result"
    }
   ],
   "source": [
    "salaryRdd = sc.parallelize(data1)\n",
    "salaryRdd.collect()"
   ]
  },
  {
   "cell_type": "code",
   "execution_count": 76,
   "metadata": {},
   "outputs": [
    {
     "data": {
      "text/plain": [
       "[('홍길동', 1000),\n",
       " ('이순신', 2000),\n",
       " ('임꺽정', 3000),\n",
       " ('김철수', 4000),\n",
       " ('이황', 5000),\n",
       " ('이이', 6000)]"
      ]
     },
     "execution_count": 76,
     "metadata": {},
     "output_type": "execute_result"
    }
   ],
   "source": [
    "salaryRdd1 = salaryRdd.map(lambda v:v.split(',')).map(lambda v:(v[0],int(v[1])))\n",
    "salaryRdd1.collect()"
   ]
  },
  {
   "cell_type": "code",
   "execution_count": 77,
   "metadata": {},
   "outputs": [
    {
     "name": "stdout",
     "output_type": "stream",
     "text": [
      "+------+------+\n",
      "|  name|salary|\n",
      "+------+------+\n",
      "|홍길동|  1000|\n",
      "|이순신|  2000|\n",
      "|임꺽정|  3000|\n",
      "|김철수|  4000|\n",
      "|  이황|  5000|\n",
      "|  이이|  6000|\n",
      "+------+------+\n",
      "\n"
     ]
    }
   ],
   "source": [
    "salaryDF1 = salaryRdd1.toDF(['name','salary'])\n",
    "salaryDF1.show()"
   ]
  },
  {
   "cell_type": "code",
   "execution_count": 78,
   "metadata": {},
   "outputs": [],
   "source": [
    "salaryDF1.createOrReplaceTempView('my')"
   ]
  },
  {
   "cell_type": "code",
   "execution_count": 84,
   "metadata": {},
   "outputs": [
    {
     "name": "stdout",
     "output_type": "stream",
     "text": [
      "root\n",
      " |-- name: string (nullable = true)\n",
      " |-- salary: long (nullable = true)\n",
      "\n"
     ]
    }
   ],
   "source": [
    "salaryDF1.printSchema()"
   ]
  },
  {
   "cell_type": "markdown",
   "metadata": {},
   "source": [
    "# 1. 급여가 가장높은 name과 salary를 출력하시요"
   ]
  },
  {
   "cell_type": "code",
   "execution_count": 79,
   "metadata": {},
   "outputs": [
    {
     "name": "stdout",
     "output_type": "stream",
     "text": [
      "+----+------+\n",
      "|name|salary|\n",
      "+----+------+\n",
      "|이이|  6000|\n",
      "+----+------+\n",
      "\n"
     ]
    }
   ],
   "source": [
    "sql = \"select * from my order by salary desc limit 1\" \n",
    "sqlDF = sqlCtx.sql(sql) \n",
    "sqlDF.show()"
   ]
  },
  {
   "cell_type": "markdown",
   "metadata": {},
   "source": [
    "# 2. name, salary, tax 를 출력하시요 (tax는 급여에서 세금 3.3을 제한값)"
   ]
  },
  {
   "cell_type": "code",
   "execution_count": 80,
   "metadata": {},
   "outputs": [
    {
     "name": "stdout",
     "output_type": "stream",
     "text": [
      "+------+------+--------+\n",
      "|  name|salary|     tax|\n",
      "+------+------+--------+\n",
      "|홍길동|  1000| 967.000|\n",
      "|이순신|  2000|1934.000|\n",
      "|임꺽정|  3000|2901.000|\n",
      "|김철수|  4000|3868.000|\n",
      "|  이황|  5000|4835.000|\n",
      "|  이이|  6000|5802.000|\n",
      "+------+------+--------+\n",
      "\n"
     ]
    }
   ],
   "source": [
    "sql_add = \"select name, salary, (salary-salary*0.033) as tax from my\"\n",
    "sqlDF_add = sqlCtx.sql(sql_add)\n",
    "sqlDF_add.show()"
   ]
  },
  {
   "cell_type": "markdown",
   "metadata": {},
   "source": [
    "# 3. name 에 '철'이 포함된  name,salary 를 출력하시요"
   ]
  },
  {
   "cell_type": "code",
   "execution_count": 81,
   "metadata": {},
   "outputs": [
    {
     "name": "stdout",
     "output_type": "stream",
     "text": [
      "+------+\n",
      "|  name|\n",
      "+------+\n",
      "|김철수|\n",
      "+------+\n",
      "\n"
     ]
    }
   ],
   "source": [
    "sql = \"select name from my where name like '%철%'\" \n",
    "sqlDF = sqlCtx.sql(sql) \n",
    "sqlDF.show()"
   ]
  },
  {
   "cell_type": "markdown",
   "metadata": {},
   "source": [
    "# 4. salary top 5 인 name, salary 출력하시요"
   ]
  },
  {
   "cell_type": "code",
   "execution_count": 82,
   "metadata": {},
   "outputs": [
    {
     "name": "stdout",
     "output_type": "stream",
     "text": [
      "+------+------+\n",
      "|  name|salary|\n",
      "+------+------+\n",
      "|  이이|  6000|\n",
      "|  이황|  5000|\n",
      "|김철수|  4000|\n",
      "|임꺽정|  3000|\n",
      "|이순신|  2000|\n",
      "+------+------+\n",
      "\n"
     ]
    }
   ],
   "source": [
    "sql = \"select * from my order by salary desc limit 5\" \n",
    "sqlDF = sqlCtx.sql(sql) \n",
    "sqlDF.show()"
   ]
  },
  {
   "cell_type": "markdown",
   "metadata": {},
   "source": [
    "# 5. salary  2000  과 4000 사이의 데이터를 출력하시요"
   ]
  },
  {
   "cell_type": "code",
   "execution_count": 83,
   "metadata": {},
   "outputs": [
    {
     "name": "stdout",
     "output_type": "stream",
     "text": [
      "+------+------+\n",
      "|  name|salary|\n",
      "+------+------+\n",
      "|이순신|  2000|\n",
      "|임꺽정|  3000|\n",
      "|김철수|  4000|\n",
      "+------+------+\n",
      "\n"
     ]
    }
   ],
   "source": [
    "sql = \"select * from my where salary between 2000 and 4000\" \n",
    "# sql = \"select * from my where salary >= 2000 and salary <= 4000\" \n",
    "sqlDF = sqlCtx.sql(sql) \n",
    "sqlDF.show()"
   ]
  },
  {
   "cell_type": "markdown",
   "metadata": {},
   "source": [
    "# 추가적으로 보기"
   ]
  },
  {
   "cell_type": "code",
   "execution_count": 85,
   "metadata": {},
   "outputs": [],
   "source": [
    "salaryDF1.createOrReplaceTempView('emp')"
   ]
  },
  {
   "cell_type": "markdown",
   "metadata": {},
   "source": [
    "### sub query - 표준 => DB 종류 상관없이 똑같음"
   ]
  },
  {
   "cell_type": "code",
   "execution_count": 87,
   "metadata": {},
   "outputs": [
    {
     "name": "stdout",
     "output_type": "stream",
     "text": [
      "+----+------+\n",
      "|name|salary|\n",
      "+----+------+\n",
      "|이이|  6000|\n",
      "+----+------+\n",
      "\n"
     ]
    }
   ],
   "source": [
    "# sql = \"select * from emp\" # 전체 row 개수\n",
    "# sql = \"select max(salary) from emp\"\n",
    "\n",
    "sql = \"select * from emp where salary == (select max(salary) from emp)\"\n",
    "sqlDF = sqlCtx.sql(sql)\n",
    "sqlDF.show()"
   ]
  },
  {
   "cell_type": "markdown",
   "metadata": {},
   "source": [
    "### case when then (조건별) - 표준"
   ]
  },
  {
   "cell_type": "code",
   "execution_count": 88,
   "metadata": {},
   "outputs": [
    {
     "name": "stdout",
     "output_type": "stream",
     "text": [
      "+------+------+----+\n",
      "|  name|salary| sal|\n",
      "+------+------+----+\n",
      "|홍길동|  1000|적음|\n",
      "|이순신|  2000|보통|\n",
      "|임꺽정|  3000|보통|\n",
      "|김철수|  4000|많음|\n",
      "|  이황|  5000|많음|\n",
      "|  이이|  6000|많음|\n",
      "+------+------+----+\n",
      "\n"
     ]
    }
   ],
   "source": [
    "sql = '''select name, salary,\n",
    "        case\n",
    "            when salary >= 4000 then '많음'\n",
    "            when salary >= 2000 then '보통'\n",
    "            else '적음'\n",
    "        end as sal\n",
    "        from emp\n",
    "        '''\n",
    "# 새로운 칼럼명을 sal\n",
    "\n",
    "sqlDF = sqlCtx.sql(sql)\n",
    "sqlDF.show()"
   ]
  },
  {
   "cell_type": "markdown",
   "metadata": {},
   "source": [
    "## hive ql 함수\n",
    "### spark sql : hive ql 의 sql문법과 함수를 따른다\n",
    "### 표준 sql : https://www.w3schools.com/sql/\n",
    "### spark sql 함수: https://rfriend.tistory.com/213\n",
    "### spark sql은 hive sql을 따른다\n",
    "### 도큐먼트 : https://spark.apache.org/docs/latest/api/sql/index.html\n"
   ]
  },
  {
   "cell_type": "code",
   "execution_count": 91,
   "metadata": {},
   "outputs": [
    {
     "name": "stdout",
     "output_type": "stream",
     "text": [
      "+------+------+-------+\n",
      "|  name|salary|    tax|\n",
      "+------+------+-------+\n",
      "|홍길동|  1000| 967.00|\n",
      "|이순신|  2000|1934.00|\n",
      "|임꺽정|  3000|2901.00|\n",
      "|김철수|  4000|3868.00|\n",
      "|  이황|  5000|4835.00|\n",
      "|  이이|  6000|5802.00|\n",
      "+------+------+-------+\n",
      "\n"
     ]
    }
   ],
   "source": [
    "sql = \"select name, salary, round((salary*(1-0.033)),2) as tax from emp\"\n",
    "sqlDF_add = sqlCtx.sql(sql)\n",
    "sqlDF_add.show()"
   ]
  },
  {
   "cell_type": "code",
   "execution_count": 92,
   "metadata": {},
   "outputs": [
    {
     "name": "stdout",
     "output_type": "stream",
     "text": [
      "+----+------+-------+\n",
      "|   n|salary|    tax|\n",
      "+----+------+-------+\n",
      "|길동|  1000| 967.00|\n",
      "|순신|  2000|1934.00|\n",
      "|꺽정|  3000|2901.00|\n",
      "|철수|  4000|3868.00|\n",
      "|  황|  5000|4835.00|\n",
      "|  이|  6000|5802.00|\n",
      "+----+------+-------+\n",
      "\n"
     ]
    }
   ],
   "source": [
    "# substr : string A를 시작 색인 지점부터 끝까지 잘라서 반환 - 색인은 1부터 시작함\n",
    "\n",
    "sql = '''select substr(name,2) as n, salary, round( salary*(1-0.033),2) as tax from emp'''\n",
    "sqlDF = sqlCtx.sql( sql )\n",
    "sqlDF.show()"
   ]
  },
  {
   "cell_type": "code",
   "execution_count": 93,
   "metadata": {},
   "outputs": [
    {
     "name": "stdout",
     "output_type": "stream",
     "text": [
      "+-----------------------------------+\n",
      "|stddev_samp(CAST(salary AS DOUBLE))|\n",
      "+-----------------------------------+\n",
      "|                 1870.8286933869706|\n",
      "+-----------------------------------+\n",
      "\n"
     ]
    }
   ],
   "source": [
    "# stddev_samp : 특정 열의 표본 표준편차를 반환\n",
    "\n",
    "sql = '''select stddev_samp(salary) from emp'''\n",
    "sqlDF = sqlCtx.sql( sql )\n",
    "sqlDF.show()"
   ]
  },
  {
   "cell_type": "code",
   "execution_count": 94,
   "metadata": {},
   "outputs": [
    {
     "name": "stdout",
     "output_type": "stream",
     "text": [
      "+------+------+\n",
      "|    p1|    p2|\n",
      "+------+------+\n",
      "|3500.0|4750.0|\n",
      "+------+------+\n",
      "\n"
     ]
    }
   ],
   "source": [
    "# percentile : p1, p2, ... percent에 해당하는 int_expr 백분위수 값을 반환\n",
    "\n",
    "sql = '''select percentile(salary,0.5) as p1,percentile(salary,0.75) as p2 from emp'''\n",
    "sqlDF = sqlCtx.sql( sql )\n",
    "sqlDF.show()"
   ]
  },
  {
   "cell_type": "markdown",
   "metadata": {},
   "source": [
    "#### 참고로 pandas는 sql 구문이 지원이 안됨"
   ]
  }
 ],
 "metadata": {
  "kernelspec": {
   "display_name": "Python 3",
   "language": "python",
   "name": "python3"
  },
  "language_info": {
   "codemirror_mode": {
    "name": "ipython",
    "version": 3
   },
   "file_extension": ".py",
   "mimetype": "text/x-python",
   "name": "python",
   "nbconvert_exporter": "python",
   "pygments_lexer": "ipython3",
   "version": "3.7.6"
  }
 },
 "nbformat": 4,
 "nbformat_minor": 4
}
