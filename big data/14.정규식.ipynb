{
 "cells": [
  {
   "cell_type": "code",
   "execution_count": 1,
   "metadata": {},
   "outputs": [],
   "source": [
    "from pyspark.sql import  SQLContext, Row\n",
    "from pyspark import SparkContext,SparkConf\n",
    "import pandas as pd\n",
    "from pyspark.sql.functions import regexp_extract, regexp_replace, when,udf,col"
   ]
  },
  {
   "cell_type": "code",
   "execution_count": 2,
   "metadata": {},
   "outputs": [],
   "source": [
    "sc = SparkContext('local')\n",
    "sqlCtx = SQLContext( sc )"
   ]
  },
  {
   "cell_type": "code",
   "execution_count": 3,
   "metadata": {},
   "outputs": [
    {
     "name": "stdout",
     "output_type": "stream",
     "text": [
      "+----+--------------------+\n",
      "|  ID|               Notes|\n",
      "+----+--------------------+\n",
      "|2345|     Checked by John|\n",
      "|2398|   Verified by Stacy|\n",
      "|2328|Verified by Srini...|\n",
      "|3983|Double Checked on...|\n",
      "+----+--------------------+\n",
      "\n"
     ]
    }
   ],
   "source": [
    "data =  [('2345', 'Checked by John'),\n",
    "('2398','Verified by Stacy'),\n",
    "('2328','Verified by Srinivas than some random text'),        \n",
    "('3983','Double Checked on 2/23/17 by Marsha')]\n",
    "df = sc.parallelize(data).toDF(['ID','Notes'] )\n",
    "df.show()\n"
   ]
  },
  {
   "cell_type": "code",
   "execution_count": 4,
   "metadata": {},
   "outputs": [
    {
     "name": "stdout",
     "output_type": "stream",
     "text": [
      "+----+---------------+\n",
      "|  ID|          Notes|\n",
      "+----+---------------+\n",
      "|2345|Checked by John|\n",
      "+----+---------------+\n",
      "\n"
     ]
    }
   ],
   "source": [
    "df.where(df['Notes'].rlike('John')).show()"
   ]
  },
  {
   "cell_type": "code",
   "execution_count": 5,
   "metadata": {},
   "outputs": [
    {
     "name": "stdout",
     "output_type": "stream",
     "text": [
      "+----+--------------------+-----------+\n",
      "|  ID|               Notes|      fname|\n",
      "+----+--------------------+-----------+\n",
      "|2345|     Checked by John|    by John|\n",
      "|2398|   Verified by Stacy|   by Stacy|\n",
      "|2328|Verified by Srini...|by Srinivas|\n",
      "|3983|Double Checked on...|  by Marsha|\n",
      "+----+--------------------+-----------+\n",
      "\n"
     ]
    }
   ],
   "source": [
    "# 0은 그룹지정하지 않은 거\n",
    "# + 는 1회 이상 반복\n",
    "\n",
    "df.withColumn('fname', regexp_extract(df['Notes'], 'by [a-zA-Z]+', 0)).show()"
   ]
  },
  {
   "cell_type": "code",
   "execution_count": 6,
   "metadata": {},
   "outputs": [
    {
     "name": "stdout",
     "output_type": "stream",
     "text": [
      "+----+--------------------+-----+\n",
      "|  ID|               Notes|fname|\n",
      "+----+--------------------+-----+\n",
      "|2345|     Checked by John|   by|\n",
      "|2398|   Verified by Stacy|   by|\n",
      "|2328|Verified by Srini...|   by|\n",
      "|3983|Double Checked on...|   by|\n",
      "+----+--------------------+-----+\n",
      "\n"
     ]
    }
   ],
   "source": [
    "# 괄호로 그룹 지정 -> 차례대로 1번 그룹, 2번 그룹, ..\n",
    "\n",
    "df.withColumn('fname', \n",
    "              regexp_extract(df['Notes'], '(by) ([a-zA-Z]+)', 1)).show()"
   ]
  },
  {
   "cell_type": "code",
   "execution_count": 9,
   "metadata": {},
   "outputs": [
    {
     "name": "stdout",
     "output_type": "stream",
     "text": [
      "+----+--------------------+--------+\n",
      "|  ID|               Notes|   fname|\n",
      "+----+--------------------+--------+\n",
      "|2345|     Checked by John| Checked|\n",
      "|2398|   Verified by Stacy|Verified|\n",
      "|2328|Verified by Srini...|Verified|\n",
      "|3983|Double Checked on...| 2/23/17|\n",
      "+----+--------------------+--------+\n",
      "\n"
     ]
    }
   ],
   "source": [
    "df.withColumn('fname', \n",
    "              regexp_extract(df['Notes'], '([a-zA-Z0-9_/]+) by ([a-zA-Z]+)', 1)).show()"
   ]
  },
  {
   "cell_type": "code",
   "execution_count": 11,
   "metadata": {},
   "outputs": [
    {
     "name": "stdout",
     "output_type": "stream",
     "text": [
      "+----+--------------------+--------+\n",
      "|  ID|               Notes|   fname|\n",
      "+----+--------------------+--------+\n",
      "|2345|     Checked by John| Checked|\n",
      "|2398|   Verified by Stacy|Verified|\n",
      "|2328|Verified by Srini...|Verified|\n",
      "|3983|Double Checked on...|      17|\n",
      "+----+--------------------+--------+\n",
      "\n"
     ]
    }
   ],
   "source": [
    "df.withColumn('fname', \n",
    "              regexp_extract(df['Notes'], '([a-zA-Z0-9_]+) by ([a-zA-Z]+)', 1)).show()"
   ]
  },
  {
   "cell_type": "code",
   "execution_count": 10,
   "metadata": {},
   "outputs": [
    {
     "name": "stdout",
     "output_type": "stream",
     "text": [
      "+----+--------------------+--------+\n",
      "|  ID|               Notes|   fname|\n",
      "+----+--------------------+--------+\n",
      "|2345|     Checked by John| Checked|\n",
      "|2398|   Verified by Stacy|Verified|\n",
      "|2328|Verified by Srini...|Verified|\n",
      "|3983|Double Checked on...|      17|\n",
      "+----+--------------------+--------+\n",
      "\n"
     ]
    }
   ],
   "source": [
    "# \\w => a-zA-Z0-9 의미한다\n",
    "\n",
    "df.withColumn('fname', \n",
    "              regexp_extract(df['Notes'], '([\\w]+) by ([a-zA-Z]+)', 1)).show()"
   ]
  },
  {
   "cell_type": "code",
   "execution_count": 12,
   "metadata": {},
   "outputs": [
    {
     "name": "stdout",
     "output_type": "stream",
     "text": [
      "+----+--------------------+--------+\n",
      "|  ID|               Notes|   fname|\n",
      "+----+--------------------+--------+\n",
      "|2345|     Checked by John| Checked|\n",
      "|2398|   Verified by Stacy|Verified|\n",
      "|2328|Verified by Srini...|Verified|\n",
      "|3983|Double Checked on...| 2/23/17|\n",
      "+----+--------------------+--------+\n",
      "\n"
     ]
    }
   ],
   "source": [
    "df.withColumn('fname', \n",
    "              regexp_extract(df['Notes'], '([\\w/]+) by ([a-zA-Z]+)', 1)).show()"
   ]
  },
  {
   "cell_type": "code",
   "execution_count": 15,
   "metadata": {},
   "outputs": [
    {
     "name": "stdout",
     "output_type": "stream",
     "text": [
      "+----+--------------------+--------------------+\n",
      "|  ID|               Notes|               fname|\n",
      "+----+--------------------+--------------------+\n",
      "|2345|     Checked by John|         Checked and|\n",
      "|2398|   Verified by Stacy|        Verified and|\n",
      "|2328|Verified by Srini...|Verified and than...|\n",
      "|3983|Double Checked on...|Double Checked on...|\n",
      "+----+--------------------+--------------------+\n",
      "\n"
     ]
    }
   ],
   "source": [
    "df.withColumn('fname', \n",
    "              regexp_replace(df['Notes'], 'by [a-zA-Z]+', 'and')).show()"
   ]
  }
 ],
 "metadata": {
  "kernelspec": {
   "display_name": "Python 3",
   "language": "python",
   "name": "python3"
  },
  "language_info": {
   "codemirror_mode": {
    "name": "ipython",
    "version": 3
   },
   "file_extension": ".py",
   "mimetype": "text/x-python",
   "name": "python",
   "nbconvert_exporter": "python",
   "pygments_lexer": "ipython3",
   "version": "3.7.6"
  }
 },
 "nbformat": 4,
 "nbformat_minor": 4
}
