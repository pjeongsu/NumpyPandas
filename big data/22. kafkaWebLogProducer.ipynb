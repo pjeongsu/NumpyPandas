{
 "cells": [
  {
   "cell_type": "markdown",
   "metadata": {},
   "source": [
    "# 카프카 서버 스타트\n",
    "- bin\\windows\\zookeeper-server-start.bat zookeeper.properties\n",
    "- bin\\windows\\kafka-server-start.bat server.properties"
   ]
  },
  {
   "cell_type": "code",
   "execution_count": 1,
   "metadata": {},
   "outputs": [],
   "source": [
    "from kafka import KafkaProducer\n",
    "import time"
   ]
  },
  {
   "cell_type": "code",
   "execution_count": null,
   "metadata": {},
   "outputs": [],
   "source": [
    "# fp = open(r\"c:\\a.txt\")\n",
    "# r = fp.read()\n",
    "# print(r)"
   ]
  },
  {
   "cell_type": "code",
   "execution_count": null,
   "metadata": {},
   "outputs": [
    {
     "name": "stdout",
     "output_type": "stream",
     "text": [
      "0:0:0:0:0:0:0:1 /\n",
      "0:0:0:0:0:0:0:1 /tomcat.svg\n",
      "0:0:0:0:0:0:0:1 /tomcat.css\n",
      "0:0:0:0:0:0:0:1 /bg-nav.png\n",
      "0:0:0:0:0:0:0:1 /asf-logo-wide.svg\n",
      "0:0:0:0:0:0:0:1 /bg-middle.png\n",
      "0:0:0:0:0:0:0:1 /bg-button.png\n",
      "0:0:0:0:0:0:0:1 /bg-upper.png\n",
      "0:0:0:0:0:0:0:1 /favicon.ico\n",
      "0:0:0:0:0:0:0:1 /\n",
      "0:0:0:0:0:0:0:1 /a.html\n",
      "0:0:0:0:0:0:0:1 /a.html\n",
      "0:0:0:0:0:0:0:1 /a.html\n",
      "0:0:0:0:0:0:0:1 /a.html\n",
      "0:0:0:0:0:0:0:1 /a.html\n",
      "0:0:0:0:0:0:0:1 /a.html\n",
      "0:0:0:0:0:0:0:1 /a.html\n",
      "0:0:0:0:0:0:0:1 /b.html\n",
      "0:0:0:0:0:0:0:1 /b.html\n",
      "0:0:0:0:0:0:0:1 /a.html\n"
     ]
    }
   ],
   "source": [
    "producer = KafkaProducer(bootstrap_servers=['localhost:9092'], api_version=(0, 10))\n",
    "\n",
    "fp = open(r\"C:\\Program Files\\Apache Software Foundation\\Tomcat 9.0\\logs\\localhost_access_log.2021-01-12.txt\")\n",
    "while True:\n",
    "    pos = fp.tell() # 내가 읽을 대상의 위치값을 찾아줌 - 마지막으로 읽은 곳\n",
    "    line = fp.readline() # 한 줄씩 읽어감\n",
    "    if line:\n",
    "        ln = line.split() # 공백을 기준으로 자름\n",
    "        print(ln[0], ln[6]) # ip\n",
    "        ip = ln[0].encode() # bytes타입으로 변환\n",
    "        doc = ln[6].encode()\n",
    "        producer.send('sample', key=ip, value=doc)\n",
    "        producer.flush() \n",
    "    else:\n",
    "        time.sleep(1) # 1초간 잠시 대기\n",
    "        fp.seek(pos) # 맨 마지막 줄에 커서를 두겠다 # 읽을 대상 위치값을 강제로 변경"
   ]
  },
  {
   "cell_type": "markdown",
   "metadata": {},
   "source": [
    "# 아래는 이해를 돕기 위한 참고"
   ]
  },
  {
   "cell_type": "code",
   "execution_count": 1,
   "metadata": {},
   "outputs": [
    {
     "name": "stdout",
     "output_type": "stream",
     "text": [
      "aaa\n",
      "\n"
     ]
    }
   ],
   "source": [
    "# False : 0, '', []\n",
    "# True : 0이 아닌 숫자, 'ab', [10, 20]\n",
    "\n",
    "fp = open(r\"c:\\a.txt\")\n",
    "# r = fp.read() # 메모리에 가져옴 \n",
    "r = fp.readline() # 더 이상 읽을게 없으면 빈 문자열 생성\n",
    "print(r)"
   ]
  },
  {
   "cell_type": "code",
   "execution_count": null,
   "metadata": {},
   "outputs": [],
   "source": [
    "# False: 0, '', []\n",
    "# True: 0이아닌 숫자, 'ab', [10,20]\n",
    "fp = open(r\"d:\\a.txt\")\n",
    "while True:\n",
    "    r = fp.readline()\n",
    "    if r:\n",
    "        print(r)\n",
    "    else:\n",
    "        print(\"end...\")\n",
    "        break\n",
    "# # r = fp.read()\n",
    "# r = fp.readline()\n",
    "# print( r )\n",
    "# r = fp.readline()\n",
    "# print( r )\n",
    "# r = fp.readline()\n",
    "# print( r )\n",
    "# r = fp.readline()\n",
    "# print( r )\n",
    "# r = fp.readline()\n",
    "# print( r )\n",
    "# r = fp.readline()\n",
    "# print( r )\n",
    "# r = fp.readline()\n",
    "# print( r )\n",
    "# r = fp.readline()\n",
    "# print( r )\n",
    "# print(\"=============\")\n",
    "# r = fp.readline()\n",
    "# print( r )"
   ]
  },
  {
   "cell_type": "code",
   "execution_count": null,
   "metadata": {},
   "outputs": [],
   "source": [
    "fp = open(r\"d:\\b.txt\")\n",
    "print( fp.tell() )\n",
    "r = fp.read(3)\n",
    "fp.seek(2) #읽을 대상위치를 강제로 변경\n",
    "print( fp.tell() )\n",
    "print( r) \n",
    "r = fp.read(3)\n",
    "print( r) \n",
    "fp.close()"
   ]
  }
 ],
 "metadata": {
  "kernelspec": {
   "display_name": "Python 3",
   "language": "python",
   "name": "python3"
  },
  "language_info": {
   "codemirror_mode": {
    "name": "ipython",
    "version": 3
   },
   "file_extension": ".py",
   "mimetype": "text/x-python",
   "name": "python",
   "nbconvert_exporter": "python",
   "pygments_lexer": "ipython3",
   "version": "3.7.6"
  }
 },
 "nbformat": 4,
 "nbformat_minor": 4
}
