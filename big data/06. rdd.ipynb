{
 "cells": [
  {
   "cell_type": "code",
   "execution_count": 1,
   "metadata": {},
   "outputs": [],
   "source": [
    "from pyspark import SparkContext"
   ]
  },
  {
   "cell_type": "code",
   "execution_count": 2,
   "metadata": {},
   "outputs": [],
   "source": [
    "sc = SparkContext('local')"
   ]
  },
  {
   "cell_type": "code",
   "execution_count": 4,
   "metadata": {},
   "outputs": [
    {
     "data": {
      "text/plain": [
       "['year,height,weight,grade,gender,gradecode,gendercode',\n",
       " '2017,152.5,47.9,elementary,man,2,1',\n",
       " '2017,153.2,46.6,elementary,woman,2,0',\n",
       " '2017,170.6,63.8,middle,man,0,1',\n",
       " '2017,160.4,54.2,middle,woman,0,0',\n",
       " '2017,173.9,72.3,high,man,1,1',\n",
       " '2017,160.9,57.7,high,woman,1,0']"
      ]
     },
     "execution_count": 4,
     "metadata": {},
     "output_type": "execute_result"
    }
   ],
   "source": [
    "weightRdd = sc.textFile('../data1/weight.csv')\n",
    "weightRdd.collect()"
   ]
  },
  {
   "cell_type": "code",
   "execution_count": 8,
   "metadata": {},
   "outputs": [
    {
     "data": {
      "text/plain": [
       "[['2017', '152.5', '47.9', 'elementary', 'man', '2', '1'],\n",
       " ['2017', '153.2', '46.6', 'elementary', 'woman', '2', '0'],\n",
       " ['2017', '170.6', '63.8', 'middle', 'man', '0', '1'],\n",
       " ['2017', '160.4', '54.2', 'middle', 'woman', '0', '0'],\n",
       " ['2017', '173.9', '72.3', 'high', 'man', '1', '1'],\n",
       " ['2017', '160.9', '57.7', 'high', 'woman', '1', '0']]"
      ]
     },
     "execution_count": 8,
     "metadata": {},
     "output_type": "execute_result"
    }
   ],
   "source": [
    "# filter : transfomation함수\n",
    "\n",
    "wRdd = weightRdd.map(lambda v: v.split(',')).filter(lambda v:v[0] == '2017')\n",
    "wRdd.collect()"
   ]
  },
  {
   "cell_type": "markdown",
   "metadata": {},
   "source": [
    "## 이차원으로 만들어 주면 분석을 할 수 있음"
   ]
  },
  {
   "cell_type": "markdown",
   "metadata": {},
   "source": [
    "## 1.전체 키의 합과 평균을 구하시오"
   ]
  },
  {
   "cell_type": "code",
   "execution_count": 14,
   "metadata": {},
   "outputs": [
    {
     "data": {
      "text/plain": [
       "(971.5, 161.92)"
      ]
     },
     "execution_count": 14,
     "metadata": {},
     "output_type": "execute_result"
    }
   ],
   "source": [
    "height_data = wRdd.map(lambda v:float(v[1]))\n",
    "round(height_data.sum(),2), round(height_data.mean(),2)"
   ]
  },
  {
   "cell_type": "markdown",
   "metadata": {},
   "source": [
    "\n",
    "##  2.다음과 같이 변경하시오(학년별 갯수)\n",
    "##  [('elementary', 2), ('middle', 2), ('high', 2)]"
   ]
  },
  {
   "cell_type": "code",
   "execution_count": 15,
   "metadata": {},
   "outputs": [
    {
     "data": {
      "text/plain": [
       "[('elementary', 2), ('middle', 2), ('high', 2)]"
      ]
     },
     "execution_count": 15,
     "metadata": {},
     "output_type": "execute_result"
    }
   ],
   "source": [
    "wRdd.map(lambda v: (v[3],1)).reduceByKey(lambda a,b: a+b).collect()"
   ]
  },
  {
   "cell_type": "markdown",
   "metadata": {},
   "source": [
    "## 3.몸무게가 높은 순으로 정렬하시오\n"
   ]
  },
  {
   "cell_type": "code",
   "execution_count": 17,
   "metadata": {},
   "outputs": [
    {
     "data": {
      "text/plain": [
       "[['2017', '173.9', '72.3', 'high', 'man', '1', '1'],\n",
       " ['2017', '170.6', '63.8', 'middle', 'man', '0', '1'],\n",
       " ['2017', '160.9', '57.7', 'high', 'woman', '1', '0'],\n",
       " ['2017', '160.4', '54.2', 'middle', 'woman', '0', '0'],\n",
       " ['2017', '152.5', '47.9', 'elementary', 'man', '2', '1'],\n",
       " ['2017', '153.2', '46.6', 'elementary', 'woman', '2', '0']]"
      ]
     },
     "execution_count": 17,
     "metadata": {},
     "output_type": "execute_result"
    }
   ],
   "source": [
    "wRdd.sortBy(lambda v:v[2], ascending=False).collect()"
   ]
  },
  {
   "cell_type": "markdown",
   "metadata": {},
   "source": [
    "## 4. elementary(초등학생) 데이터를 구하시요\n"
   ]
  },
  {
   "cell_type": "code",
   "execution_count": 18,
   "metadata": {},
   "outputs": [
    {
     "data": {
      "text/plain": [
       "[['2017', '152.5', '47.9', 'elementary', 'man', '2', '1'],\n",
       " ['2017', '153.2', '46.6', 'elementary', 'woman', '2', '0']]"
      ]
     },
     "execution_count": 18,
     "metadata": {},
     "output_type": "execute_result"
    }
   ],
   "source": [
    "wRdd.filter(lambda v:v[3]=='elementary').collect()"
   ]
  },
  {
   "cell_type": "markdown",
   "metadata": {},
   "source": [
    "## 5. 몸무게가 60 이상인 데이터를 구하시요\n"
   ]
  },
  {
   "cell_type": "code",
   "execution_count": 20,
   "metadata": {},
   "outputs": [
    {
     "data": {
      "text/plain": [
       "[['2017', '170.6', '63.8', 'middle', 'man', '0', '1'],\n",
       " ['2017', '173.9', '72.3', 'high', 'man', '1', '1']]"
      ]
     },
     "execution_count": 20,
     "metadata": {},
     "output_type": "execute_result"
    }
   ],
   "source": [
    "wRdd.filter(lambda v:float(v[2])>=60).collect()"
   ]
  },
  {
   "cell_type": "code",
   "execution_count": 21,
   "metadata": {},
   "outputs": [],
   "source": [
    "sc.stop()"
   ]
  }
 ],
 "metadata": {
  "kernelspec": {
   "display_name": "Python 3",
   "language": "python",
   "name": "python3"
  },
  "language_info": {
   "codemirror_mode": {
    "name": "ipython",
    "version": 3
   },
   "file_extension": ".py",
   "mimetype": "text/x-python",
   "name": "python",
   "nbconvert_exporter": "python",
   "pygments_lexer": "ipython3",
   "version": "3.7.6"
  }
 },
 "nbformat": 4,
 "nbformat_minor": 4
}
