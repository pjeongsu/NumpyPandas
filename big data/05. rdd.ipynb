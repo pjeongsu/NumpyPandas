{
 "cells": [
  {
   "cell_type": "code",
   "execution_count": 1,
   "metadata": {},
   "outputs": [],
   "source": [
    "from pyspark import SparkContext"
   ]
  },
  {
   "cell_type": "code",
   "execution_count": 2,
   "metadata": {},
   "outputs": [],
   "source": [
    "sc = SparkContext('local')"
   ]
  },
  {
   "cell_type": "code",
   "execution_count": 3,
   "metadata": {},
   "outputs": [],
   "source": [
    "empList=['1,kim,000-000-000','2,lee,111-111-111',\n",
    "       '3,park,222-222-222','4,song,333-333-333',\n",
    "       '5,han,555-555-555','6,yoon,666-666-666']\n",
    "deptList = ['1,sale','2,developer','3,manager',\n",
    "           '4,sale1','5,developer1','6,manager1']"
   ]
  },
  {
   "cell_type": "code",
   "execution_count": 4,
   "metadata": {},
   "outputs": [],
   "source": [
    "empRdd = sc.parallelize(empList)\n",
    "deptRdd = sc.parallelize(deptList)"
   ]
  },
  {
   "cell_type": "code",
   "execution_count": 5,
   "metadata": {},
   "outputs": [
    {
     "data": {
      "text/plain": [
       "['1,kim,000-000-000',\n",
       " '2,lee,111-111-111',\n",
       " '3,park,222-222-222',\n",
       " '4,song,333-333-333',\n",
       " '5,han,555-555-555',\n",
       " '6,yoon,666-666-666']"
      ]
     },
     "execution_count": 5,
     "metadata": {},
     "output_type": "execute_result"
    }
   ],
   "source": [
    "empRdd.collect()"
   ]
  },
  {
   "cell_type": "code",
   "execution_count": 6,
   "metadata": {},
   "outputs": [
    {
     "data": {
      "text/plain": [
       "['1,sale', '2,developer', '3,manager', '4,sale1', '5,developer1', '6,manager1']"
      ]
     },
     "execution_count": 6,
     "metadata": {},
     "output_type": "execute_result"
    }
   ],
   "source": [
    "deptRdd.collect()"
   ]
  },
  {
   "cell_type": "code",
   "execution_count": 7,
   "metadata": {},
   "outputs": [
    {
     "data": {
      "text/plain": [
       "[['1', 'kim', '000-000-000'],\n",
       " ['2', 'lee', '111-111-111'],\n",
       " ['3', 'park', '222-222-222'],\n",
       " ['4', 'song', '333-333-333'],\n",
       " ['5', 'han', '555-555-555'],\n",
       " ['6', 'yoon', '666-666-666']]"
      ]
     },
     "execution_count": 7,
     "metadata": {},
     "output_type": "execute_result"
    }
   ],
   "source": [
    "empRdd1 = empRdd.map(lambda v: v.split(','))\n",
    "empRdd1.collect()"
   ]
  },
  {
   "cell_type": "code",
   "execution_count": 9,
   "metadata": {},
   "outputs": [
    {
     "data": {
      "text/plain": [
       "[('1', 'kim 000-000-000'),\n",
       " ('2', 'lee 111-111-111'),\n",
       " ('3', 'park 222-222-222'),\n",
       " ('4', 'song 333-333-333'),\n",
       " ('5', 'han 555-555-555'),\n",
       " ('6', 'yoon 666-666-666')]"
      ]
     },
     "execution_count": 9,
     "metadata": {},
     "output_type": "execute_result"
    }
   ],
   "source": [
    "empRdd2 = empRdd1.map(lambda v: (v[0], v[1]+' '+v[2]))\n",
    "empRdd2.collect()"
   ]
  },
  {
   "cell_type": "code",
   "execution_count": 11,
   "metadata": {},
   "outputs": [
    {
     "data": {
      "text/plain": [
       "[('1', 'sale'),\n",
       " ('2', 'developer'),\n",
       " ('3', 'manager'),\n",
       " ('4', 'sale1'),\n",
       " ('5', 'developer1'),\n",
       " ('6', 'manager1')]"
      ]
     },
     "execution_count": 11,
     "metadata": {},
     "output_type": "execute_result"
    }
   ],
   "source": [
    "deptRdd1 = deptRdd.map(lambda v: v.split(',')).map(lambda v: (v[0],v[1]))\n",
    "deptRdd1.collect()"
   ]
  },
  {
   "cell_type": "code",
   "execution_count": 12,
   "metadata": {},
   "outputs": [
    {
     "data": {
      "text/plain": [
       "[('1', ('kim 000-000-000', 'sale')),\n",
       " ('4', ('song 333-333-333', 'sale1')),\n",
       " ('2', ('lee 111-111-111', 'developer')),\n",
       " ('3', ('park 222-222-222', 'manager')),\n",
       " ('5', ('han 555-555-555', 'developer1')),\n",
       " ('6', ('yoon 666-666-666', 'manager1'))]"
      ]
     },
     "execution_count": 12,
     "metadata": {},
     "output_type": "execute_result"
    }
   ],
   "source": [
    "# join : 동일한 키로 rdd를 결합시켜주는 함수\n",
    "\n",
    "joinData = empRdd2.join(deptRdd1)\n",
    "joinData.collect()"
   ]
  },
  {
   "cell_type": "code",
   "execution_count": 14,
   "metadata": {},
   "outputs": [
    {
     "data": {
      "text/plain": [
       "[('1', ('kim 000-000-000', 'sale')),\n",
       " ('2', ('lee 111-111-111', 'developer')),\n",
       " ('3', ('park 222-222-222', 'manager')),\n",
       " ('4', ('song 333-333-333', 'sale1')),\n",
       " ('5', ('han 555-555-555', 'developer1')),\n",
       " ('6', ('yoon 666-666-666', 'manager1'))]"
      ]
     },
     "execution_count": 14,
     "metadata": {},
     "output_type": "execute_result"
    }
   ],
   "source": [
    "sortRdd = joinData.sortByKey()\n",
    "sortRdd.collect()"
   ]
  },
  {
   "cell_type": "code",
   "execution_count": 15,
   "metadata": {},
   "outputs": [
    {
     "data": {
      "text/plain": [
       "[('1', ('kim 000-000-000', 'sale')), ('2', ('lee 111-111-111', 'developer'))]"
      ]
     },
     "execution_count": 15,
     "metadata": {},
     "output_type": "execute_result"
    }
   ],
   "source": [
    "sortRdd.take(2)"
   ]
  },
  {
   "cell_type": "code",
   "execution_count": 17,
   "metadata": {},
   "outputs": [
    {
     "data": {
      "text/plain": [
       "('1', ('kim 000-000-000', 'sale'))"
      ]
     },
     "execution_count": 17,
     "metadata": {},
     "output_type": "execute_result"
    }
   ],
   "source": [
    "sortRdd.first()"
   ]
  },
  {
   "cell_type": "code",
   "execution_count": 18,
   "metadata": {},
   "outputs": [
    {
     "data": {
      "text/plain": [
       "defaultdict(int, {'1': 1, '2': 1, '3': 1, '4': 1, '5': 1, '6': 1})"
      ]
     },
     "execution_count": 18,
     "metadata": {},
     "output_type": "execute_result"
    }
   ],
   "source": [
    "sortRdd.countByKey()"
   ]
  },
  {
   "cell_type": "code",
   "execution_count": 19,
   "metadata": {},
   "outputs": [],
   "source": [
    "sc.stop()"
   ]
  }
 ],
 "metadata": {
  "kernelspec": {
   "display_name": "Python 3",
   "language": "python",
   "name": "python3"
  },
  "language_info": {
   "codemirror_mode": {
    "name": "ipython",
    "version": 3
   },
   "file_extension": ".py",
   "mimetype": "text/x-python",
   "name": "python",
   "nbconvert_exporter": "python",
   "pygments_lexer": "ipython3",
   "version": "3.7.6"
  }
 },
 "nbformat": 4,
 "nbformat_minor": 4
}
