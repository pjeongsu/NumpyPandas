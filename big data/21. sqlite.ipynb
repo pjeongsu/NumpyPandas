{
 "cells": [
  {
   "cell_type": "code",
   "execution_count": 1,
   "metadata": {},
   "outputs": [],
   "source": [
    "import sqlite3 # 단독 DB -> ID, PW가 없음"
   ]
  },
  {
   "cell_type": "code",
   "execution_count": 5,
   "metadata": {},
   "outputs": [],
   "source": [
    "# 디비에 ktest테이블 생성\n",
    "\n",
    "sql = 'create table if not exists ktest(pname varchar(20),ppname varchar(20))'\n",
    "#데이터베이스가 없으면 생성후,접속 있으면 접속\n",
    "db = sqlite3.connect(r'C:\\Users\\master16\\Documents\\my.db')\n",
    "db.execute( sql )\n",
    "db.close()"
   ]
  },
  {
   "cell_type": "code",
   "execution_count": 9,
   "metadata": {},
   "outputs": [],
   "source": [
    "# 테이블에 데이터 집어넣기\n",
    "\n",
    "sql = \"insert into ktest values(?,?)\"\n",
    "db = sqlite3.connect(r'C:\\Users\\master16\\Documents\\my.db')\n",
    "db.execute( sql, ('kbb','vbb') ) # ktest테이블에 kbb, vbb를 넣어줌\n",
    "db.commit()# insert, delete, update\n",
    "db.close()"
   ]
  },
  {
   "cell_type": "markdown",
   "metadata": {},
   "source": [
    "### sqlite설치 - 무료제공\n",
    "### https://sqlitebrowser.org/dl/"
   ]
  }
 ],
 "metadata": {
  "kernelspec": {
   "display_name": "Python 3",
   "language": "python",
   "name": "python3"
  },
  "language_info": {
   "codemirror_mode": {
    "name": "ipython",
    "version": 3
   },
   "file_extension": ".py",
   "mimetype": "text/x-python",
   "name": "python",
   "nbconvert_exporter": "python",
   "pygments_lexer": "ipython3",
   "version": "3.7.6"
  }
 },
 "nbformat": 4,
 "nbformat_minor": 4
}
