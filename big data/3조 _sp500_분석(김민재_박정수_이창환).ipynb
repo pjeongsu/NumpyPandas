{
 "cells": [
  {
   "cell_type": "code",
   "execution_count": 1,
   "metadata": {},
   "outputs": [],
   "source": [
    "from pyspark.sql import  SQLContext, Row\n",
    "from pyspark import SparkContext,SparkConf\n",
    "import pandas as pd\n",
    "from pyspark.sql.functions import regexp_extract, regexp_replace, when,udf,col,count,sum,avg,round\n",
    "import pyspark.sql.functions as F"
   ]
  },
  {
   "cell_type": "code",
   "execution_count": 31,
   "metadata": {},
   "outputs": [],
   "source": [
    "import pandas as pd\n",
    "import numpy as np\n",
    "import matplotlib.pyplot as plt\n",
    "\n",
    "plt.rcParams['font.family']='Malgun Gothic'\n",
    "plt.rcParams['axes.unicode_minus'] = False\n",
    "plt.rcParams[\"font.size\"] = 15\n",
    "plt.rcParams[\"figure.figsize\"] = (8, 6)"
   ]
  },
  {
   "cell_type": "code",
   "execution_count": 3,
   "metadata": {},
   "outputs": [],
   "source": [
    "sc = SparkContext('local')\n",
    "sqlCtx = SQLContext( sc )"
   ]
  },
  {
   "cell_type": "code",
   "execution_count": 4,
   "metadata": {
    "scrolled": true
   },
   "outputs": [
    {
     "name": "stdout",
     "output_type": "stream",
     "text": [
      "+-------------------+-----+-----+-----+-----+--------+----+\n",
      "|               date| open| high|  low|close|  volume|Name|\n",
      "+-------------------+-----+-----+-----+-----+--------+----+\n",
      "|2013-02-08 00:00:00|15.07|15.12|14.63|14.75| 8407500| AAL|\n",
      "|2013-02-11 00:00:00|14.89|15.01|14.26|14.46| 8882000| AAL|\n",
      "|2013-02-12 00:00:00|14.45|14.51| 14.1|14.27| 8126000| AAL|\n",
      "|2013-02-13 00:00:00| 14.3|14.94|14.25|14.66|10259500| AAL|\n",
      "|2013-02-14 00:00:00|14.94|14.96|13.16|13.99|31879900| AAL|\n",
      "|2013-02-15 00:00:00|13.93|14.61|13.93| 14.5|15628000| AAL|\n",
      "|2013-02-19 00:00:00|14.33|14.56|14.08|14.26|11354400| AAL|\n",
      "|2013-02-20 00:00:00|14.17|14.26|13.15|13.33|14725200| AAL|\n",
      "|2013-02-21 00:00:00|13.62|13.95| 12.9|13.37|11922100| AAL|\n",
      "|2013-02-22 00:00:00|13.57| 13.6|13.21|13.57| 6071400| AAL|\n",
      "|2013-02-25 00:00:00| 13.6|13.76| 13.0|13.02| 7186400| AAL|\n",
      "|2013-02-26 00:00:00|13.14|13.42| 12.7|13.26| 9419000| AAL|\n",
      "|2013-02-27 00:00:00|13.28|13.62|13.18|13.41| 7390500| AAL|\n",
      "|2013-02-28 00:00:00|13.49|13.63|13.39|13.43| 6143600| AAL|\n",
      "|2013-03-01 00:00:00|13.37|13.95|13.32|13.61| 7376800| AAL|\n",
      "|2013-03-04 00:00:00| 13.5|14.07|13.47| 13.9| 8174800| AAL|\n",
      "|2013-03-05 00:00:00|14.01|14.05|13.71|14.05| 7676100| AAL|\n",
      "|2013-03-06 00:00:00|14.52|14.68|14.25|14.57|13243200| AAL|\n",
      "|2013-03-07 00:00:00| 14.7|14.93| 14.5|14.82| 9125300| AAL|\n",
      "|2013-03-08 00:00:00|14.99| 15.2|14.84|14.92|10593700| AAL|\n",
      "+-------------------+-----+-----+-----+-----+--------+----+\n",
      "only showing top 20 rows\n",
      "\n"
     ]
    }
   ],
   "source": [
    "df= sqlCtx.read.csv( '../data/sp500.csv', header=True,inferSchema=True )\n",
    "df.show()"
   ]
  },
  {
   "cell_type": "markdown",
   "metadata": {},
   "source": [
    "# <문제>"
   ]
  },
  {
   "cell_type": "markdown",
   "metadata": {},
   "source": [
    "## 1. 거래량이 가장 많은 기간과 데이터"
   ]
  },
  {
   "cell_type": "markdown",
   "metadata": {},
   "source": [
    "## 1-1. 년도별 및 월별 거래량 합계"
   ]
  },
  {
   "cell_type": "code",
   "execution_count": 5,
   "metadata": {
    "scrolled": true
   },
   "outputs": [
    {
     "name": "stdout",
     "output_type": "stream",
     "text": [
      "+----+-----+-----------+\n",
      "|year|month|sum(volume)|\n",
      "+----+-----+-----------+\n",
      "|2016|    1|58442534080|\n",
      "|2016|    2|57104329980|\n",
      "|2014|   10|54971791242|\n",
      "|2013|    4|52238379265|\n",
      "|2016|   11|52111782783|\n",
      "|2015|    8|50735736997|\n",
      "|2013|    5|50722659140|\n",
      "|2013|   10|50522477955|\n",
      "|2014|    1|50255306758|\n",
      "|2016|    3|49771161483|\n",
      "|2015|   10|49516472690|\n",
      "|2013|    6|49310268717|\n",
      "|2016|    6|49209140882|\n",
      "|2015|   12|47989361875|\n",
      "|2014|    4|47939618962|\n",
      "|2018|    1|47581126844|\n",
      "|2015|    9|47572279195|\n",
      "|2017|    6|46661300393|\n",
      "|2013|    7|46375027950|\n",
      "|2017|    3|46276637799|\n",
      "+----+-----+-----------+\n",
      "only showing top 20 rows\n",
      "\n"
     ]
    }
   ],
   "source": [
    "df.groupBy( F.year( 'date') .alias('year'), F.month('date').alias('month') ).sum('volume').orderBy('sum(volume)', ascending=False).show()"
   ]
  },
  {
   "cell_type": "markdown",
   "metadata": {},
   "source": [
    "## 1-2. 월별 거래량 합계"
   ]
  },
  {
   "cell_type": "code",
   "execution_count": 6,
   "metadata": {},
   "outputs": [
    {
     "name": "stdout",
     "output_type": "stream",
     "text": [
      "+-----+------------+\n",
      "|month| sum(volume)|\n",
      "+-----+------------+\n",
      "|    1|243622807925|\n",
      "|   10|241682208425|\n",
      "|    2|233042278219|\n",
      "|    3|231596338854|\n",
      "|    4|224626114237|\n",
      "|    6|224615275435|\n",
      "|   12|215208361304|\n",
      "|   11|214138056348|\n",
      "|    5|213581314556|\n",
      "|    9|213165891846|\n",
      "|    7|212108692551|\n",
      "|    8|207994215093|\n",
      "+-----+------------+\n",
      "\n"
     ]
    }
   ],
   "source": [
    "df.groupBy( F.month('date') .alias('month')).sum('volume').orderBy('sum(volume)', ascending= False).show()"
   ]
  },
  {
   "cell_type": "markdown",
   "metadata": {},
   "source": [
    "#### 분석결과 \n",
    "#### 1. 연초에 거래량이 높은 경향이 있음"
   ]
  },
  {
   "cell_type": "markdown",
   "metadata": {},
   "source": [
    "## 1-3. 년도별 거래량 합계"
   ]
  },
  {
   "cell_type": "code",
   "execution_count": 7,
   "metadata": {
    "scrolled": false
   },
   "outputs": [
    {
     "name": "stdout",
     "output_type": "stream",
     "text": [
      "+----+------------+\n",
      "|year| sum(volume)|\n",
      "+----+------------+\n",
      "|2016|571045692991|\n",
      "|2015|534954787348|\n",
      "|2014|509651540155|\n",
      "|2017|500400300045|\n",
      "|2013|495968612715|\n",
      "|2018| 63360621539|\n",
      "+----+------------+\n",
      "\n"
     ]
    }
   ],
   "source": [
    "df.groupBy( F.year('date') .alias('year')).sum('volume').orderBy('sum(volume)', ascending= False).show()"
   ]
  },
  {
   "cell_type": "markdown",
   "metadata": {},
   "source": [
    "#### 분석결과 \n",
    "#### 1. 년도를 통해 확인했을 때 2016년에 거래량이 가장 많았고 2017년도 떨어진 모습을 보이는데\n",
    "#### 미국 대선시기가 2016년이므로 영향이 있지 않을까 추측함"
   ]
  },
  {
   "cell_type": "markdown",
   "metadata": {},
   "source": [
    "## 1-4. 년도별 및 기업별 거래량 합계"
   ]
  },
  {
   "cell_type": "code",
   "execution_count": 8,
   "metadata": {},
   "outputs": [
    {
     "name": "stdout",
     "output_type": "stream",
     "text": [
      "+----+----+-----------+\n",
      "|year|Name|sum(volume)|\n",
      "+----+----+-----------+\n",
      "|2016| BAC|27334962763|\n",
      "|2013| BAC|25900488539|\n",
      "|2014| BAC|21596355815|\n",
      "|2013|AAPL|21574452606|\n",
      "|2015| BAC|21277893728|\n",
      "|2017| BAC|19779231722|\n",
      "|2017| AMD|16355699307|\n",
      "|2014|AAPL|15934013092|\n",
      "|2015|  GE|13240903695|\n",
      "|2013|  FB|13150863416|\n",
      "|2015|AAPL|13068421452|\n",
      "|2014|  FB|11992840898|\n",
      "|2016| CHK|11660994934|\n",
      "|2017|  GE|11567501957|\n",
      "|2013|MSFT|10884560394|\n",
      "|2016| FCX|10478573933|\n",
      "|2016|AAPL| 9686251480|\n",
      "|2017|   F| 9285512479|\n",
      "|2015|MSFT| 9060335714|\n",
      "|2016|   F| 8997854571|\n",
      "+----+----+-----------+\n",
      "only showing top 20 rows\n",
      "\n"
     ]
    }
   ],
   "source": [
    "df.groupBy( F.year('date').alias('year'), 'Name').sum('volume').orderBy('sum(volume)', ascending= False).show()"
   ]
  },
  {
   "cell_type": "markdown",
   "metadata": {},
   "source": [
    "#### 분석결과 \n",
    "#### 1. BAC 는 매년 거래량이 매우 많은 모습을 보여줌\n",
    "#### 2. AMD 는 그 이전에 비해 2017년도 급격한 거래량 증가를 보여줌 -> 새로운 기술 출시 혹은 대선의 영향 추측\n",
    "#### 3. AAPL(애플) 은 2013 년도 이후 꾸준히 거래량이 하락세를 보임"
   ]
  },
  {
   "cell_type": "markdown",
   "metadata": {},
   "source": [
    "## 1-5. 기업별 2013 ~ 2018까지의 총 거래량"
   ]
  },
  {
   "cell_type": "code",
   "execution_count": 9,
   "metadata": {
    "scrolled": true
   },
   "outputs": [
    {
     "name": "stdout",
     "output_type": "stream",
     "text": [
      "+-----+------------+\n",
      "| Name| sum(volume)|\n",
      "+-----+------------+\n",
      "|  BAC|117884953591|\n",
      "| AAPL| 68046305767|\n",
      "|   GE| 53023644686|\n",
      "|    F| 43388129992|\n",
      "|   FB| 43258314899|\n",
      "| MSFT| 42641653597|\n",
      "|  AMD| 40941468586|\n",
      "|   MU| 38082749687|\n",
      "| INTC| 36922332801|\n",
      "| CSCO| 36075826186|\n",
      "|  PFE| 35527608853|\n",
      "|    T| 31850598073|\n",
      "|  CHK| 31421758366|\n",
      "|CMCSA| 30630585625|\n",
      "|  FCX| 29648463667|\n",
      "|    C| 26044628798|\n",
      "|  WFC| 23305954532|\n",
      "|  JPM| 20885592857|\n",
      "|   RF| 20645650500|\n",
      "| NFLX| 20405882026|\n",
      "+-----+------------+\n",
      "only showing top 20 rows\n",
      "\n"
     ]
    }
   ],
   "source": [
    "df.groupBy('Name').sum('volume').orderBy('sum(volume)', ascending= False).show()"
   ]
  },
  {
   "cell_type": "markdown",
   "metadata": {},
   "source": [
    "#### 분석결과 \n",
    "#### 1. 은행인 BAC 를 제외하면  애플이 기간 중 가장 많은 거래량을 보임\n",
    "#### 2. 상위권을 확인해보면 대체로 컴퓨터, 휴대폰과 관련된 기업들임"
   ]
  },
  {
   "cell_type": "markdown",
   "metadata": {},
   "source": [
    "# 2. 2016년 11월 8일 미국대선을 기준으로 전후 6개월 비교"
   ]
  },
  {
   "cell_type": "markdown",
   "metadata": {},
   "source": [
    "## 2-1. 미국 대선 이전 6개월 기간과 이후 6개월 기간의 년도별 및 월별 평균"
   ]
  },
  {
   "cell_type": "code",
   "execution_count": 10,
   "metadata": {},
   "outputs": [],
   "source": [
    "df_pres_bef_six = df.where(\"date >= '2016-05-08' and date < '2016-11-08'\")\n",
    "df_pres_aft_six = df.where(\"date >= '2016-11-08' and date < '2017-05-08'\")"
   ]
  },
  {
   "cell_type": "code",
   "execution_count": 11,
   "metadata": {},
   "outputs": [
    {
     "name": "stdout",
     "output_type": "stream",
     "text": [
      "+-------------------+-----+-------+-------+-----+--------+----+\n",
      "|               date| open|   high|    low|close|  volume|Name|\n",
      "+-------------------+-----+-------+-------+-----+--------+----+\n",
      "|2016-05-09 00:00:00|33.03|   33.8|  32.94|32.94| 9312525| AAL|\n",
      "|2016-05-10 00:00:00|33.24|   33.8|  33.09|33.77| 8124367| AAL|\n",
      "|2016-05-11 00:00:00|33.68|  34.04|  32.85|32.86| 8148588| AAL|\n",
      "|2016-05-12 00:00:00|33.01|33.0199|  31.29|31.33|14228217| AAL|\n",
      "|2016-05-13 00:00:00|31.09|  32.01|  31.08|31.51|10132516| AAL|\n",
      "|2016-05-16 00:00:00|31.81|   32.3|  30.99|32.12|12397759| AAL|\n",
      "|2016-05-17 00:00:00|32.25|  33.29|  32.02|32.64|13303448| AAL|\n",
      "|2016-05-18 00:00:00|32.61|  33.36|  32.34|32.61| 9136275| AAL|\n",
      "|2016-05-19 00:00:00|32.28|  32.59|  31.69|32.15| 8875353| AAL|\n",
      "|2016-05-20 00:00:00| 32.3|  32.81|  31.95|32.01| 7277953| AAL|\n",
      "|2016-05-23 00:00:00|32.03|  32.29|   31.7|31.73| 6498413| AAL|\n",
      "|2016-05-24 00:00:00|31.89| 32.275|  31.85|32.15| 6962729| AAL|\n",
      "|2016-05-25 00:00:00|32.39|   32.9|   32.1|32.17| 7403238| AAL|\n",
      "|2016-05-26 00:00:00|32.13| 32.341|  31.37|31.51| 7222797| AAL|\n",
      "|2016-05-27 00:00:00| 31.6|  31.84|31.4137|31.65| 8573689| AAL|\n",
      "|2016-05-31 00:00:00|31.75|  31.97|  31.33|31.91| 9618738| AAL|\n",
      "|2016-06-01 00:00:00|31.94|  32.26|  31.73|31.95| 6416243| AAL|\n",
      "|2016-06-02 00:00:00|31.67|  32.07|31.5799|31.67| 6813295| AAL|\n",
      "|2016-06-03 00:00:00|31.59|   31.6|  30.37|30.81|12424133| AAL|\n",
      "|2016-06-06 00:00:00|30.77|   31.3|  30.38|31.26| 8335439| AAL|\n",
      "+-------------------+-----+-------+-------+-----+--------+----+\n",
      "only showing top 20 rows\n",
      "\n"
     ]
    }
   ],
   "source": [
    "df_pres_bef_six.show()"
   ]
  },
  {
   "cell_type": "code",
   "execution_count": 12,
   "metadata": {},
   "outputs": [
    {
     "name": "stdout",
     "output_type": "stream",
     "text": [
      "+-------------------+-----+-------+-----+-----+--------+----+\n",
      "|               date| open|   high|  low|close|  volume|Name|\n",
      "+-------------------+-----+-------+-----+-----+--------+----+\n",
      "|2016-11-08 00:00:00|41.42|  41.85|41.02| 41.7| 5725832| AAL|\n",
      "|2016-11-09 00:00:00|40.76|  42.75|40.44|42.41| 8392383| AAL|\n",
      "|2016-11-10 00:00:00|42.71|  43.39|42.15| 42.3| 8666121| AAL|\n",
      "|2016-11-11 00:00:00|42.07|  42.95|41.68|42.93| 6623490| AAL|\n",
      "|2016-11-14 00:00:00|43.01|  43.61|42.98| 43.4| 7773627| AAL|\n",
      "|2016-11-15 00:00:00| 45.0|  45.28|43.59|44.76|13166625| AAL|\n",
      "|2016-11-16 00:00:00|44.66| 44.795|43.93|44.45| 6166966| AAL|\n",
      "|2016-11-17 00:00:00|44.39|  45.85|44.05|45.83| 8558682| AAL|\n",
      "|2016-11-18 00:00:00|46.15|  46.49|45.62|46.26| 7795053| AAL|\n",
      "|2016-11-21 00:00:00|46.46|  46.75|45.95|46.08| 6651810| AAL|\n",
      "|2016-11-22 00:00:00|46.03|  46.95|45.95|46.08| 5781259| AAL|\n",
      "|2016-11-23 00:00:00|46.05|  46.39| 45.7|46.34| 5160176| AAL|\n",
      "|2016-11-25 00:00:00|46.34|  46.86| 46.3|46.82| 2426632| AAL|\n",
      "|2016-11-28 00:00:00|46.64| 46.885|45.66| 46.5| 7369639| AAL|\n",
      "|2016-11-29 00:00:00|46.59|  47.14|46.17|46.89| 4885442| AAL|\n",
      "|2016-11-30 00:00:00|46.14|  46.86|45.42|46.44| 7904220| AAL|\n",
      "|2016-12-01 00:00:00| 46.2|  47.09|45.66|45.75| 7435186| AAL|\n",
      "|2016-12-02 00:00:00|46.09|  46.86|45.91| 46.1| 6505099| AAL|\n",
      "|2016-12-05 00:00:00|46.45|46.5401|45.58|45.72| 5256443| AAL|\n",
      "|2016-12-06 00:00:00|46.16|  46.55|45.92|46.43| 5334516| AAL|\n",
      "+-------------------+-----+-------+-----+-----+--------+----+\n",
      "only showing top 20 rows\n",
      "\n"
     ]
    }
   ],
   "source": [
    "df_pres_aft_six.show()"
   ]
  },
  {
   "cell_type": "code",
   "execution_count": 13,
   "metadata": {},
   "outputs": [
    {
     "name": "stdout",
     "output_type": "stream",
     "text": [
      "+----------+-----------+-----------------+-----------------+-----------------+-----------------+------------------+\n",
      "|year(date)|month(date)|        avg(open)|        avg(high)|         avg(low)|       avg(close)|       avg(volume)|\n",
      "+----------+-----------+-----------------+-----------------+-----------------+-----------------+------------------+\n",
      "|      2016|          5|84.38501716549294|85.20130323189103|83.66056545523156| 84.4495474723338| 4143722.735663984|\n",
      "|      2016|          6|85.03732521492617|85.84623468081216|84.29035765502114|85.13570794768584| 4500561.631790744|\n",
      "|      2016|          7|87.56923749372403| 88.3065491414798|86.86112068480799| 87.6792891064259|4094392.9464859436|\n",
      "|      2016|          8|89.12112059542544|89.75051917234046|88.45692800768315|89.09827270822394|3645052.5863453816|\n",
      "|      2016|          9|88.10127756741274|88.85160714285685|87.35581932491915|88.12868331420954|  4343106.92216485|\n",
      "|      2016|         10|87.33162398164087|87.98921470644476|86.50325109963703|87.16618742589391|4148939.6410403517|\n",
      "|      2016|         11|85.20046381526112|86.05351923694779|84.24086176706825|85.01708963855401| 4654157.504417671|\n",
      "+----------+-----------+-----------------+-----------------+-----------------+-----------------+------------------+\n",
      "\n"
     ]
    }
   ],
   "source": [
    "# 미국 대선 이전 6개월 기간의 년도별 월별 평균\n",
    "\n",
    "df_pres_bef_six = df_pres_bef_six.groupBy(F.year('date'), F.month('date')).mean().orderBy('month(date)')\n",
    "df_pres_bef_six.show()"
   ]
  },
  {
   "cell_type": "code",
   "execution_count": 14,
   "metadata": {},
   "outputs": [
    {
     "name": "stdout",
     "output_type": "stream",
     "text": [
      "+----------+-----------+-----------------+-----------------+-----------------+-----------------+------------------+\n",
      "|year(date)|month(date)|        avg(open)|        avg(high)|         avg(low)|       avg(close)|       avg(volume)|\n",
      "+----------+-----------+-----------------+-----------------+-----------------+-----------------+------------------+\n",
      "|      2016|         11|88.60249106425671|89.66988000752984|  87.705188315763|88.77985824548196|  5085709.16127008|\n",
      "|      2016|         12| 90.5853482439396|91.35902646497418|89.75728349875939|90.52578202901324|4130377.3358465354|\n",
      "|      2017|          1| 91.5401090309031|92.30373120311958|90.73828479848055|91.60367921792218| 4182645.217221722|\n",
      "|      2017|          2|93.73224743157913|94.53321850526302|93.04421584210552| 93.9180423368421| 4255274.505789474|\n",
      "|      2017|          3|95.25398650434792| 95.9491686956521|94.53938065217417| 95.2569570869569|4024055.4607826085|\n",
      "|      2017|          4| 95.4244197079525|96.12473212522289|94.70969496795875|95.39140906607872|3879889.4020380294|\n",
      "|      2017|          5|97.16221353293409|97.90326662674647|96.37304826347305|97.22855265469065|4154036.0015968066|\n",
      "+----------+-----------+-----------------+-----------------+-----------------+-----------------+------------------+\n",
      "\n"
     ]
    }
   ],
   "source": [
    "# 미국 대선 이후 6개월 기간의 년도별 월별 평균\n",
    "\n",
    "df_pres_aft_six = df_pres_aft_six.groupBy(F.year('date'), F.month('date')).mean().orderBy('year(date)', 'month(date)')\n",
    "df_pres_aft_six.show()"
   ]
  },
  {
   "cell_type": "markdown",
   "metadata": {},
   "source": [
    "## 2-2. 종가 평균, 거래량 평균에 대해 라인차트 그리기"
   ]
  },
  {
   "cell_type": "code",
   "execution_count": 15,
   "metadata": {},
   "outputs": [],
   "source": [
    "# 판다스 데이터프레임으로 변환\n",
    "\n",
    "df_bef_six = df_pres_bef_six.toPandas()\n",
    "df_aft_six = df_pres_aft_six.toPandas()"
   ]
  },
  {
   "cell_type": "code",
   "execution_count": 16,
   "metadata": {
    "collapsed": true
   },
   "outputs": [
    {
     "data": {
      "text/html": [
       "<div>\n",
       "<style scoped>\n",
       "    .dataframe tbody tr th:only-of-type {\n",
       "        vertical-align: middle;\n",
       "    }\n",
       "\n",
       "    .dataframe tbody tr th {\n",
       "        vertical-align: top;\n",
       "    }\n",
       "\n",
       "    .dataframe thead th {\n",
       "        text-align: right;\n",
       "    }\n",
       "</style>\n",
       "<table border=\"1\" class=\"dataframe\">\n",
       "  <thead>\n",
       "    <tr style=\"text-align: right;\">\n",
       "      <th></th>\n",
       "      <th>year(date)</th>\n",
       "      <th>month(date)</th>\n",
       "      <th>avg(open)</th>\n",
       "      <th>avg(high)</th>\n",
       "      <th>avg(low)</th>\n",
       "      <th>avg(close)</th>\n",
       "      <th>avg(volume)</th>\n",
       "    </tr>\n",
       "  </thead>\n",
       "  <tbody>\n",
       "    <tr>\n",
       "      <th>0</th>\n",
       "      <td>2016</td>\n",
       "      <td>5</td>\n",
       "      <td>84.385017</td>\n",
       "      <td>85.201303</td>\n",
       "      <td>83.660565</td>\n",
       "      <td>84.449547</td>\n",
       "      <td>4.143723e+06</td>\n",
       "    </tr>\n",
       "    <tr>\n",
       "      <th>1</th>\n",
       "      <td>2016</td>\n",
       "      <td>6</td>\n",
       "      <td>85.037325</td>\n",
       "      <td>85.846235</td>\n",
       "      <td>84.290358</td>\n",
       "      <td>85.135708</td>\n",
       "      <td>4.500562e+06</td>\n",
       "    </tr>\n",
       "    <tr>\n",
       "      <th>2</th>\n",
       "      <td>2016</td>\n",
       "      <td>7</td>\n",
       "      <td>87.569237</td>\n",
       "      <td>88.306549</td>\n",
       "      <td>86.861121</td>\n",
       "      <td>87.679289</td>\n",
       "      <td>4.094393e+06</td>\n",
       "    </tr>\n",
       "    <tr>\n",
       "      <th>3</th>\n",
       "      <td>2016</td>\n",
       "      <td>8</td>\n",
       "      <td>89.121121</td>\n",
       "      <td>89.750519</td>\n",
       "      <td>88.456928</td>\n",
       "      <td>89.098273</td>\n",
       "      <td>3.645053e+06</td>\n",
       "    </tr>\n",
       "    <tr>\n",
       "      <th>4</th>\n",
       "      <td>2016</td>\n",
       "      <td>9</td>\n",
       "      <td>88.101278</td>\n",
       "      <td>88.851607</td>\n",
       "      <td>87.355819</td>\n",
       "      <td>88.128683</td>\n",
       "      <td>4.343107e+06</td>\n",
       "    </tr>\n",
       "    <tr>\n",
       "      <th>5</th>\n",
       "      <td>2016</td>\n",
       "      <td>10</td>\n",
       "      <td>87.331624</td>\n",
       "      <td>87.989215</td>\n",
       "      <td>86.503251</td>\n",
       "      <td>87.166187</td>\n",
       "      <td>4.148940e+06</td>\n",
       "    </tr>\n",
       "    <tr>\n",
       "      <th>6</th>\n",
       "      <td>2016</td>\n",
       "      <td>11</td>\n",
       "      <td>85.200464</td>\n",
       "      <td>86.053519</td>\n",
       "      <td>84.240862</td>\n",
       "      <td>85.017090</td>\n",
       "      <td>4.654158e+06</td>\n",
       "    </tr>\n",
       "  </tbody>\n",
       "</table>\n",
       "</div>"
      ],
      "text/plain": [
       "   year(date)  month(date)  avg(open)  avg(high)   avg(low)  avg(close)  \\\n",
       "0        2016            5  84.385017  85.201303  83.660565   84.449547   \n",
       "1        2016            6  85.037325  85.846235  84.290358   85.135708   \n",
       "2        2016            7  87.569237  88.306549  86.861121   87.679289   \n",
       "3        2016            8  89.121121  89.750519  88.456928   89.098273   \n",
       "4        2016            9  88.101278  88.851607  87.355819   88.128683   \n",
       "5        2016           10  87.331624  87.989215  86.503251   87.166187   \n",
       "6        2016           11  85.200464  86.053519  84.240862   85.017090   \n",
       "\n",
       "    avg(volume)  \n",
       "0  4.143723e+06  \n",
       "1  4.500562e+06  \n",
       "2  4.094393e+06  \n",
       "3  3.645053e+06  \n",
       "4  4.343107e+06  \n",
       "5  4.148940e+06  \n",
       "6  4.654158e+06  "
      ]
     },
     "execution_count": 16,
     "metadata": {},
     "output_type": "execute_result"
    }
   ],
   "source": [
    "df_bef_six"
   ]
  },
  {
   "cell_type": "code",
   "execution_count": 17,
   "metadata": {
    "collapsed": true
   },
   "outputs": [
    {
     "data": {
      "text/html": [
       "<div>\n",
       "<style scoped>\n",
       "    .dataframe tbody tr th:only-of-type {\n",
       "        vertical-align: middle;\n",
       "    }\n",
       "\n",
       "    .dataframe tbody tr th {\n",
       "        vertical-align: top;\n",
       "    }\n",
       "\n",
       "    .dataframe thead th {\n",
       "        text-align: right;\n",
       "    }\n",
       "</style>\n",
       "<table border=\"1\" class=\"dataframe\">\n",
       "  <thead>\n",
       "    <tr style=\"text-align: right;\">\n",
       "      <th></th>\n",
       "      <th>year(date)</th>\n",
       "      <th>month(date)</th>\n",
       "      <th>avg(open)</th>\n",
       "      <th>avg(high)</th>\n",
       "      <th>avg(low)</th>\n",
       "      <th>avg(close)</th>\n",
       "      <th>avg(volume)</th>\n",
       "    </tr>\n",
       "  </thead>\n",
       "  <tbody>\n",
       "    <tr>\n",
       "      <th>0</th>\n",
       "      <td>2016</td>\n",
       "      <td>11</td>\n",
       "      <td>88.602491</td>\n",
       "      <td>89.669880</td>\n",
       "      <td>87.705188</td>\n",
       "      <td>88.779858</td>\n",
       "      <td>5.085709e+06</td>\n",
       "    </tr>\n",
       "    <tr>\n",
       "      <th>1</th>\n",
       "      <td>2016</td>\n",
       "      <td>12</td>\n",
       "      <td>90.585348</td>\n",
       "      <td>91.359026</td>\n",
       "      <td>89.757283</td>\n",
       "      <td>90.525782</td>\n",
       "      <td>4.130377e+06</td>\n",
       "    </tr>\n",
       "    <tr>\n",
       "      <th>2</th>\n",
       "      <td>2017</td>\n",
       "      <td>1</td>\n",
       "      <td>91.540109</td>\n",
       "      <td>92.303731</td>\n",
       "      <td>90.738285</td>\n",
       "      <td>91.603679</td>\n",
       "      <td>4.182645e+06</td>\n",
       "    </tr>\n",
       "    <tr>\n",
       "      <th>3</th>\n",
       "      <td>2017</td>\n",
       "      <td>2</td>\n",
       "      <td>93.732247</td>\n",
       "      <td>94.533219</td>\n",
       "      <td>93.044216</td>\n",
       "      <td>93.918042</td>\n",
       "      <td>4.255275e+06</td>\n",
       "    </tr>\n",
       "    <tr>\n",
       "      <th>4</th>\n",
       "      <td>2017</td>\n",
       "      <td>3</td>\n",
       "      <td>95.253987</td>\n",
       "      <td>95.949169</td>\n",
       "      <td>94.539381</td>\n",
       "      <td>95.256957</td>\n",
       "      <td>4.024055e+06</td>\n",
       "    </tr>\n",
       "    <tr>\n",
       "      <th>5</th>\n",
       "      <td>2017</td>\n",
       "      <td>4</td>\n",
       "      <td>95.424420</td>\n",
       "      <td>96.124732</td>\n",
       "      <td>94.709695</td>\n",
       "      <td>95.391409</td>\n",
       "      <td>3.879889e+06</td>\n",
       "    </tr>\n",
       "    <tr>\n",
       "      <th>6</th>\n",
       "      <td>2017</td>\n",
       "      <td>5</td>\n",
       "      <td>97.162214</td>\n",
       "      <td>97.903267</td>\n",
       "      <td>96.373048</td>\n",
       "      <td>97.228553</td>\n",
       "      <td>4.154036e+06</td>\n",
       "    </tr>\n",
       "  </tbody>\n",
       "</table>\n",
       "</div>"
      ],
      "text/plain": [
       "   year(date)  month(date)  avg(open)  avg(high)   avg(low)  avg(close)  \\\n",
       "0        2016           11  88.602491  89.669880  87.705188   88.779858   \n",
       "1        2016           12  90.585348  91.359026  89.757283   90.525782   \n",
       "2        2017            1  91.540109  92.303731  90.738285   91.603679   \n",
       "3        2017            2  93.732247  94.533219  93.044216   93.918042   \n",
       "4        2017            3  95.253987  95.949169  94.539381   95.256957   \n",
       "5        2017            4  95.424420  96.124732  94.709695   95.391409   \n",
       "6        2017            5  97.162214  97.903267  96.373048   97.228553   \n",
       "\n",
       "    avg(volume)  \n",
       "0  5.085709e+06  \n",
       "1  4.130377e+06  \n",
       "2  4.182645e+06  \n",
       "3  4.255275e+06  \n",
       "4  4.024055e+06  \n",
       "5  3.879889e+06  \n",
       "6  4.154036e+06  "
      ]
     },
     "execution_count": 17,
     "metadata": {},
     "output_type": "execute_result"
    }
   ],
   "source": [
    "df_aft_six"
   ]
  },
  {
   "cell_type": "code",
   "execution_count": 18,
   "metadata": {},
   "outputs": [],
   "source": [
    "# 년도 칼럼과 월 칼럼을 하나의 칼럼으로 합치기\n",
    "\n",
    "cols = ['year(date)', 'month(date)']\n",
    "df_bef_six['date'] = df_bef_six[cols].apply(lambda row: '-'.join(row.values.astype(str)), axis=1)\n",
    "\n",
    "cols = ['year(date)', 'month(date)']\n",
    "df_aft_six['date'] = df_aft_six[cols].apply(lambda row: '-'.join(row.values.astype(str)), axis=1)"
   ]
  },
  {
   "cell_type": "code",
   "execution_count": 19,
   "metadata": {},
   "outputs": [],
   "source": [
    "# 인덱스 지정\n",
    "\n",
    "df_bef_six.set_index('date', inplace=True)\n",
    "df_bef_six.drop(columns=['year(date)', 'month(date)'], inplace=True)\n",
    "\n",
    "df_aft_six.set_index('date', inplace=True)\n",
    "df_aft_six.drop(columns=['year(date)', 'month(date)'], inplace=True)"
   ]
  },
  {
   "cell_type": "code",
   "execution_count": 20,
   "metadata": {
    "collapsed": true
   },
   "outputs": [
    {
     "data": {
      "text/html": [
       "<div>\n",
       "<style scoped>\n",
       "    .dataframe tbody tr th:only-of-type {\n",
       "        vertical-align: middle;\n",
       "    }\n",
       "\n",
       "    .dataframe tbody tr th {\n",
       "        vertical-align: top;\n",
       "    }\n",
       "\n",
       "    .dataframe thead th {\n",
       "        text-align: right;\n",
       "    }\n",
       "</style>\n",
       "<table border=\"1\" class=\"dataframe\">\n",
       "  <thead>\n",
       "    <tr style=\"text-align: right;\">\n",
       "      <th></th>\n",
       "      <th>avg(open)</th>\n",
       "      <th>avg(high)</th>\n",
       "      <th>avg(low)</th>\n",
       "      <th>avg(close)</th>\n",
       "      <th>avg(volume)</th>\n",
       "    </tr>\n",
       "    <tr>\n",
       "      <th>date</th>\n",
       "      <th></th>\n",
       "      <th></th>\n",
       "      <th></th>\n",
       "      <th></th>\n",
       "      <th></th>\n",
       "    </tr>\n",
       "  </thead>\n",
       "  <tbody>\n",
       "    <tr>\n",
       "      <th>2016-5</th>\n",
       "      <td>84.385017</td>\n",
       "      <td>85.201303</td>\n",
       "      <td>83.660565</td>\n",
       "      <td>84.449547</td>\n",
       "      <td>4.143723e+06</td>\n",
       "    </tr>\n",
       "    <tr>\n",
       "      <th>2016-6</th>\n",
       "      <td>85.037325</td>\n",
       "      <td>85.846235</td>\n",
       "      <td>84.290358</td>\n",
       "      <td>85.135708</td>\n",
       "      <td>4.500562e+06</td>\n",
       "    </tr>\n",
       "    <tr>\n",
       "      <th>2016-7</th>\n",
       "      <td>87.569237</td>\n",
       "      <td>88.306549</td>\n",
       "      <td>86.861121</td>\n",
       "      <td>87.679289</td>\n",
       "      <td>4.094393e+06</td>\n",
       "    </tr>\n",
       "    <tr>\n",
       "      <th>2016-8</th>\n",
       "      <td>89.121121</td>\n",
       "      <td>89.750519</td>\n",
       "      <td>88.456928</td>\n",
       "      <td>89.098273</td>\n",
       "      <td>3.645053e+06</td>\n",
       "    </tr>\n",
       "    <tr>\n",
       "      <th>2016-9</th>\n",
       "      <td>88.101278</td>\n",
       "      <td>88.851607</td>\n",
       "      <td>87.355819</td>\n",
       "      <td>88.128683</td>\n",
       "      <td>4.343107e+06</td>\n",
       "    </tr>\n",
       "    <tr>\n",
       "      <th>2016-10</th>\n",
       "      <td>87.331624</td>\n",
       "      <td>87.989215</td>\n",
       "      <td>86.503251</td>\n",
       "      <td>87.166187</td>\n",
       "      <td>4.148940e+06</td>\n",
       "    </tr>\n",
       "    <tr>\n",
       "      <th>2016-11</th>\n",
       "      <td>85.200464</td>\n",
       "      <td>86.053519</td>\n",
       "      <td>84.240862</td>\n",
       "      <td>85.017090</td>\n",
       "      <td>4.654158e+06</td>\n",
       "    </tr>\n",
       "  </tbody>\n",
       "</table>\n",
       "</div>"
      ],
      "text/plain": [
       "         avg(open)  avg(high)   avg(low)  avg(close)   avg(volume)\n",
       "date                                                              \n",
       "2016-5   84.385017  85.201303  83.660565   84.449547  4.143723e+06\n",
       "2016-6   85.037325  85.846235  84.290358   85.135708  4.500562e+06\n",
       "2016-7   87.569237  88.306549  86.861121   87.679289  4.094393e+06\n",
       "2016-8   89.121121  89.750519  88.456928   89.098273  3.645053e+06\n",
       "2016-9   88.101278  88.851607  87.355819   88.128683  4.343107e+06\n",
       "2016-10  87.331624  87.989215  86.503251   87.166187  4.148940e+06\n",
       "2016-11  85.200464  86.053519  84.240862   85.017090  4.654158e+06"
      ]
     },
     "execution_count": 20,
     "metadata": {},
     "output_type": "execute_result"
    }
   ],
   "source": [
    "df_bef_six"
   ]
  },
  {
   "cell_type": "code",
   "execution_count": 21,
   "metadata": {
    "collapsed": true
   },
   "outputs": [
    {
     "data": {
      "text/html": [
       "<div>\n",
       "<style scoped>\n",
       "    .dataframe tbody tr th:only-of-type {\n",
       "        vertical-align: middle;\n",
       "    }\n",
       "\n",
       "    .dataframe tbody tr th {\n",
       "        vertical-align: top;\n",
       "    }\n",
       "\n",
       "    .dataframe thead th {\n",
       "        text-align: right;\n",
       "    }\n",
       "</style>\n",
       "<table border=\"1\" class=\"dataframe\">\n",
       "  <thead>\n",
       "    <tr style=\"text-align: right;\">\n",
       "      <th></th>\n",
       "      <th>avg(open)</th>\n",
       "      <th>avg(high)</th>\n",
       "      <th>avg(low)</th>\n",
       "      <th>avg(close)</th>\n",
       "      <th>avg(volume)</th>\n",
       "    </tr>\n",
       "    <tr>\n",
       "      <th>date</th>\n",
       "      <th></th>\n",
       "      <th></th>\n",
       "      <th></th>\n",
       "      <th></th>\n",
       "      <th></th>\n",
       "    </tr>\n",
       "  </thead>\n",
       "  <tbody>\n",
       "    <tr>\n",
       "      <th>2016-11</th>\n",
       "      <td>88.602491</td>\n",
       "      <td>89.669880</td>\n",
       "      <td>87.705188</td>\n",
       "      <td>88.779858</td>\n",
       "      <td>5.085709e+06</td>\n",
       "    </tr>\n",
       "    <tr>\n",
       "      <th>2016-12</th>\n",
       "      <td>90.585348</td>\n",
       "      <td>91.359026</td>\n",
       "      <td>89.757283</td>\n",
       "      <td>90.525782</td>\n",
       "      <td>4.130377e+06</td>\n",
       "    </tr>\n",
       "    <tr>\n",
       "      <th>2017-1</th>\n",
       "      <td>91.540109</td>\n",
       "      <td>92.303731</td>\n",
       "      <td>90.738285</td>\n",
       "      <td>91.603679</td>\n",
       "      <td>4.182645e+06</td>\n",
       "    </tr>\n",
       "    <tr>\n",
       "      <th>2017-2</th>\n",
       "      <td>93.732247</td>\n",
       "      <td>94.533219</td>\n",
       "      <td>93.044216</td>\n",
       "      <td>93.918042</td>\n",
       "      <td>4.255275e+06</td>\n",
       "    </tr>\n",
       "    <tr>\n",
       "      <th>2017-3</th>\n",
       "      <td>95.253987</td>\n",
       "      <td>95.949169</td>\n",
       "      <td>94.539381</td>\n",
       "      <td>95.256957</td>\n",
       "      <td>4.024055e+06</td>\n",
       "    </tr>\n",
       "    <tr>\n",
       "      <th>2017-4</th>\n",
       "      <td>95.424420</td>\n",
       "      <td>96.124732</td>\n",
       "      <td>94.709695</td>\n",
       "      <td>95.391409</td>\n",
       "      <td>3.879889e+06</td>\n",
       "    </tr>\n",
       "    <tr>\n",
       "      <th>2017-5</th>\n",
       "      <td>97.162214</td>\n",
       "      <td>97.903267</td>\n",
       "      <td>96.373048</td>\n",
       "      <td>97.228553</td>\n",
       "      <td>4.154036e+06</td>\n",
       "    </tr>\n",
       "  </tbody>\n",
       "</table>\n",
       "</div>"
      ],
      "text/plain": [
       "         avg(open)  avg(high)   avg(low)  avg(close)   avg(volume)\n",
       "date                                                              \n",
       "2016-11  88.602491  89.669880  87.705188   88.779858  5.085709e+06\n",
       "2016-12  90.585348  91.359026  89.757283   90.525782  4.130377e+06\n",
       "2017-1   91.540109  92.303731  90.738285   91.603679  4.182645e+06\n",
       "2017-2   93.732247  94.533219  93.044216   93.918042  4.255275e+06\n",
       "2017-3   95.253987  95.949169  94.539381   95.256957  4.024055e+06\n",
       "2017-4   95.424420  96.124732  94.709695   95.391409  3.879889e+06\n",
       "2017-5   97.162214  97.903267  96.373048   97.228553  4.154036e+06"
      ]
     },
     "execution_count": 21,
     "metadata": {},
     "output_type": "execute_result"
    }
   ],
   "source": [
    "df_aft_six"
   ]
  },
  {
   "cell_type": "code",
   "execution_count": 24,
   "metadata": {},
   "outputs": [],
   "source": [
    "# 문자열을 datetime형으로 변환\n",
    "\n",
    "df_bef_six.index = pd.to_datetime(df_bef_six.index, format='%Y-%m')\n",
    "df_aft_six.index = pd.to_datetime(df_aft_six.index, format='%Y-%m')"
   ]
  },
  {
   "cell_type": "code",
   "execution_count": 25,
   "metadata": {},
   "outputs": [
    {
     "data": {
      "text/plain": [
       "DatetimeIndex(['2016-05-01', '2016-06-01', '2016-07-01', '2016-08-01',\n",
       "               '2016-09-01', '2016-10-01', '2016-11-01'],\n",
       "              dtype='datetime64[ns]', name='date', freq=None)"
      ]
     },
     "execution_count": 25,
     "metadata": {},
     "output_type": "execute_result"
    }
   ],
   "source": [
    "# datetime형으로 변환된 것을 확인할 수 있음!\n",
    "\n",
    "df_bef_six.index"
   ]
  },
  {
   "cell_type": "code",
   "execution_count": 26,
   "metadata": {
    "collapsed": true
   },
   "outputs": [
    {
     "data": {
      "text/plain": [
       "DatetimeIndex(['2016-11-01', '2016-12-01', '2017-01-01', '2017-02-01',\n",
       "               '2017-03-01', '2017-04-01', '2017-05-01'],\n",
       "              dtype='datetime64[ns]', name='date', freq=None)"
      ]
     },
     "execution_count": 26,
     "metadata": {},
     "output_type": "execute_result"
    }
   ],
   "source": [
    "df_aft_six.index"
   ]
  },
  {
   "cell_type": "code",
   "execution_count": 58,
   "metadata": {},
   "outputs": [
    {
     "data": {
      "image/png": "[encoded data removed]",
      "text/plain": [
       "<Figure size 576x432 with 1 Axes>"
      ]
     },
     "metadata": {
      "needs_background": "light"
     },
     "output_type": "display_data"
    }
   ],
   "source": [
    "plt.plot(df_bef_six.index, df_bef_six['avg(close)'],'rs--')\n",
    "plt.plot(df_aft_six.index, df_aft_six['avg(close)'],'bs--')\n",
    "plt.xlabel('날짜')\n",
    "plt.ylabel('종가 평균')\n",
    "plt.title('미국 대선 전후 6개월 기간 동안의 월별 종가 평균')\n",
    "plt.xticks(rotation=45)\n",
    "plt.grid(True)\n",
    "plt.show()"
   ]
  },
  {
   "cell_type": "markdown",
   "metadata": {},
   "source": [
    "#### 분석결과 \n",
    "#### 1. 미국 대선이 주가에 큰 영향을 미쳤음을 알 수 있음\n",
    "#### 2. 미국 대선이 가까워질수록 종가평균이 점점 하락한 반면,  미국 대선 이후로는 급격히 상승함\n",
    "#### 3. 2016년 11월달만 보면, 8일 대선을 기점으로 종가평균이 크게 차이남을 확인할 수 있음 "
   ]
  },
  {
   "cell_type": "code",
   "execution_count": 57,
   "metadata": {},
   "outputs": [
    {
     "data": {
      "image/png": "[encoded data removed]",
      "text/plain": [
       "<Figure size 576x432 with 1 Axes>"
      ]
     },
     "metadata": {
      "needs_background": "light"
     },
     "output_type": "display_data"
    }
   ],
   "source": [
    "plt.plot(df_bef_six.index, df_bef_six['avg(volume)'],'rs--')\n",
    "plt.plot(df_aft_six.index, df_aft_six['avg(volume)'],'bs--')\n",
    "plt.xlabel('날짜')\n",
    "plt.ylabel('거래량 평균')\n",
    "plt.title('미국 대선 전후 6개월 기간 동안의 월별 거래량 평균')\n",
    "plt.xticks(rotation=45)\n",
    "plt.grid(True)\n",
    "plt.show()"
   ]
  },
  {
   "cell_type": "markdown",
   "metadata": {},
   "source": [
    "#### 분석결과 \n",
    "#### 1. 미국 대선이 있는 2016년 11월달에는 거래량이 매우 많음을 알 수 있음\n",
    "#### 2. 미국 대선 이후 2016년 12월달에는 이전 달과 비교했을 때 거래량이 큰 폭으로 감소했음"
   ]
  },
  {
   "cell_type": "markdown",
   "metadata": {},
   "source": [
    "# 3. 미국대선(2016년 11월 8일) 전후 close에서의 변동폭을 조사하여 가장 큰 상승률을 보인 회사 5개"
   ]
  },
  {
   "cell_type": "markdown",
   "metadata": {},
   "source": [
    "### 대선일 기준으로 나누기"
   ]
  },
  {
   "cell_type": "code",
   "execution_count": 42,
   "metadata": {},
   "outputs": [],
   "source": [
    "df_pres_bef=df.where(df['date']<'2016-11-08')\n",
    "df_pres_aft=df.where(df['date']>='2016-11-08')"
   ]
  },
  {
   "cell_type": "code",
   "execution_count": 43,
   "metadata": {},
   "outputs": [
    {
     "name": "stdout",
     "output_type": "stream",
     "text": [
      "+-------------------+-----+-----+-----+-----+--------+----+\n",
      "|               date| open| high|  low|close|  volume|Name|\n",
      "+-------------------+-----+-----+-----+-----+--------+----+\n",
      "|2013-02-08 00:00:00|15.07|15.12|14.63|14.75| 8407500| AAL|\n",
      "|2013-02-11 00:00:00|14.89|15.01|14.26|14.46| 8882000| AAL|\n",
      "|2013-02-12 00:00:00|14.45|14.51| 14.1|14.27| 8126000| AAL|\n",
      "|2013-02-13 00:00:00| 14.3|14.94|14.25|14.66|10259500| AAL|\n",
      "|2013-02-14 00:00:00|14.94|14.96|13.16|13.99|31879900| AAL|\n",
      "+-------------------+-----+-----+-----+-----+--------+----+\n",
      "only showing top 5 rows\n",
      "\n"
     ]
    }
   ],
   "source": [
    "df_pres_bef.show(5)"
   ]
  },
  {
   "cell_type": "markdown",
   "metadata": {},
   "source": [
    "### 회사별 close 평균 구하기"
   ]
  },
  {
   "cell_type": "code",
   "execution_count": 44,
   "metadata": {},
   "outputs": [],
   "source": [
    "df1 = df_pres_bef.groupBy('Name').mean('close')\n",
    "df1 = df1.withColumnRenamed('avg(close)', 'bef_avg(close)')"
   ]
  },
  {
   "cell_type": "code",
   "execution_count": 45,
   "metadata": {},
   "outputs": [],
   "source": [
    "df2 = df_pres_aft.groupBy('Name').mean('close')\n",
    "df2 = df2.withColumnRenamed('avg(close)', 'aft_avg(close)')"
   ]
  },
  {
   "cell_type": "markdown",
   "metadata": {},
   "source": [
    "### 대선전후 데이터 join"
   ]
  },
  {
   "cell_type": "code",
   "execution_count": 46,
   "metadata": {},
   "outputs": [
    {
     "name": "stdout",
     "output_type": "stream",
     "text": [
      "+----+------------------+------------------+\n",
      "|Name|    aft_avg(close)|    bef_avg(close)|\n",
      "+----+------------------+------------------+\n",
      "|ALXN|124.86146496815287|148.38444126984152|\n",
      "| GIS| 57.53429936305735| 54.99088888888893|\n",
      "|   K| 69.42848726114649| 67.20423280423276|\n",
      "| LEN| 51.97154713375796| 42.23455121693121|\n",
      "|SPGI| 144.1562898089173|  86.9627301587301|\n",
      "+----+------------------+------------------+\n",
      "only showing top 5 rows\n",
      "\n"
     ]
    }
   ],
   "source": [
    "df3 = df2.join(df1, on='Name')\n",
    "df3.show(5)"
   ]
  },
  {
   "cell_type": "markdown",
   "metadata": {},
   "source": [
    "### 각 회사별 대선 전후의 차이"
   ]
  },
  {
   "cell_type": "code",
   "execution_count": 47,
   "metadata": {},
   "outputs": [
    {
     "name": "stdout",
     "output_type": "stream",
     "text": [
      "+----+------------------+------------------+-------------------+\n",
      "|Name|    aft_avg(close)|    bef_avg(close)|               차이|\n",
      "+----+------------------+------------------+-------------------+\n",
      "|ALXN|124.86146496815287|148.38444126984152|-23.522976301688644|\n",
      "| GIS| 57.53429936305735| 54.99088888888893|  2.543410474168418|\n",
      "|   K| 69.42848726114649| 67.20423280423276| 2.2242544569137266|\n",
      "| LEN| 51.97154713375796| 42.23455121693121|   9.73699591682675|\n",
      "|SPGI| 144.1562898089173|  86.9627301587301|  57.19355965018721|\n",
      "+----+------------------+------------------+-------------------+\n",
      "only showing top 5 rows\n",
      "\n"
     ]
    }
   ],
   "source": [
    "df4 = df3.withColumn('차이', df3['aft_avg(close)']-df3['bef_avg(close)'])\n",
    "df4.show(5)"
   ]
  },
  {
   "cell_type": "code",
   "execution_count": 48,
   "metadata": {},
   "outputs": [
    {
     "name": "stdout",
     "output_type": "stream",
     "text": [
      "+----+------------------+------------------+-------------------+\n",
      "|Name|    aft_avg(close)|    bef_avg(close)|               차이|\n",
      "+----+------------------+------------------+-------------------+\n",
      "| CMG| 374.5169745222929| 532.7100359788358|-158.19306145654286|\n",
      "|PRGO| 79.85242038216568|141.06538941798945|-61.212969035823775|\n",
      "|  RL| 87.63912420382162|141.74248677248676| -54.10336256866513|\n",
      "|SRCL| 75.52313694267515|117.12031957671972| -41.59718263404457|\n",
      "| RRC|24.112834394904453|59.465375661375695| -35.35254126647124|\n",
      "+----+------------------+------------------+-------------------+\n",
      "only showing top 5 rows\n",
      "\n"
     ]
    }
   ],
   "source": [
    "# 하락한 주식 5개\n",
    "df4_low = df4.orderBy('차이',ascending=True)\n",
    "df4_low.show(5)"
   ]
  },
  {
   "cell_type": "code",
   "execution_count": 49,
   "metadata": {},
   "outputs": [
    {
     "name": "stdout",
     "output_type": "stream",
     "text": [
      "+-----+------------------+------------------+------------------+\n",
      "| Name|    aft_avg(close)|    bef_avg(close)|              차이|\n",
      "+-----+------------------+------------------+------------------+\n",
      "| PCLN|1772.2396496815284|1160.2376021164025| 612.0020475651258|\n",
      "| AMZN| 973.7792675159242|445.00029735449755| 528.7789701614266|\n",
      "|GOOGL|   938.36550955414| 597.1276651851848|341.23784436895517|\n",
      "| GOOG| 921.1591401273885| 632.4119499243569|288.74719020303155|\n",
      "|  MTD| 552.8788216560511| 290.9784126984127| 261.9004089576384|\n",
      "+-----+------------------+------------------+------------------+\n",
      "only showing top 5 rows\n",
      "\n"
     ]
    }
   ],
   "source": [
    "# 상승한 주식 5개\n",
    "df4_high = df4.sort('차이',ascending=False)\n",
    "df4_high.show(5)"
   ]
  },
  {
   "cell_type": "markdown",
   "metadata": {},
   "source": [
    "#### 분석결과 \n",
    "#### 1 .CMG, PRGO, RL, SRCL, RRC의 주식의 마감가의 평균이 대선이후 대폭 하락한것을 알수 있습니다\n",
    "#### 2. PCLN, AMZN, GOOGL, GOOG, MTD의 주식의 마감가의 평균이 대선이후 대폭 상승한것을 알수 있습니다."
   ]
  },
  {
   "cell_type": "markdown",
   "metadata": {},
   "source": [
    "### 하락한 CMG 주식"
   ]
  },
  {
   "cell_type": "code",
   "execution_count": 50,
   "metadata": {},
   "outputs": [],
   "source": [
    "df_CMG = df.where(df['Name']=='CMG')\n",
    "df_CMG = df_CMG.groupby(F.year('date')).mean('close').orderBy('year(date)')"
   ]
  },
  {
   "cell_type": "code",
   "execution_count": 51,
   "metadata": {},
   "outputs": [],
   "source": [
    "df_CMG = df_CMG.toPandas()"
   ]
  },
  {
   "cell_type": "code",
   "execution_count": 52,
   "metadata": {},
   "outputs": [],
   "source": [
    "df_CMG = df_CMG.set_index('year(date)')"
   ]
  },
  {
   "cell_type": "markdown",
   "metadata": {},
   "source": [
    "### 상승한 PCNL 주식"
   ]
  },
  {
   "cell_type": "code",
   "execution_count": 53,
   "metadata": {},
   "outputs": [],
   "source": [
    "df_PCLN = df.where(df['Name']=='PCLN')\n",
    "df_PCLN = df_PCLN.groupby(F.year('date')).mean('close').orderBy('year(date)')"
   ]
  },
  {
   "cell_type": "code",
   "execution_count": 54,
   "metadata": {},
   "outputs": [],
   "source": [
    "df_PCLN = df_PCLN.toPandas()"
   ]
  },
  {
   "cell_type": "code",
   "execution_count": 55,
   "metadata": {},
   "outputs": [],
   "source": [
    "df_PCLN = df_PCLN.set_index('year(date)')"
   ]
  },
  {
   "cell_type": "markdown",
   "metadata": {},
   "source": [
    "### 그래프 표시"
   ]
  },
  {
   "cell_type": "code",
   "execution_count": 56,
   "metadata": {},
   "outputs": [
    {
     "data": {
      "image/png": "[encoded data removed]",
      "text/plain": [
       "<Figure size 576x432 with 1 Axes>"
      ]
     },
     "metadata": {
      "needs_background": "light"
     },
     "output_type": "display_data"
    }
   ],
   "source": [
    "plt.xticks(rotation=45)\n",
    "plt.plot(df_CMG.index, df_CMG['avg(close)'])\n",
    "plt.plot(df_PCLN.index, df_PCLN['avg(close)'])\n",
    "plt.show()"
   ]
  },
  {
   "cell_type": "markdown",
   "metadata": {},
   "source": [
    "#### 분석결과 \n",
    "#### 1. 2016년을 기점으로 두 주식의 상승세와 하락세를 확실히 알수 있음 - 대선이 주식에 영향을 준다고 생각됨"
   ]
  }
 ],
 "metadata": {
  "kernelspec": {
   "display_name": "Python 3",
   "language": "python",
   "name": "python3"
  },
  "language_info": {
   "codemirror_mode": {
    "name": "ipython",
    "version": 3
   },
   "file_extension": ".py",
   "mimetype": "text/x-python",
   "name": "python",
   "nbconvert_exporter": "python",
   "pygments_lexer": "ipython3",
   "version": "3.7.6"
  }
 },
 "nbformat": 4,
 "nbformat_minor": 4
}
