{
 "cells": [
  {
   "cell_type": "code",
   "execution_count": 1,
   "metadata": {},
   "outputs": [],
   "source": [
    "import numpy as np\n",
    "import pandas as pd\n",
    "import matplotlib.pyplot as plt\n",
    "\n",
    "plt.rcParams['font.family']='Malgun Gothic'\n",
    "plt.rcParams['axes.unicode_minus'] = False\n",
    "plt.rcParams[\"font.size\"] = 10\n",
    "plt.rcParams[\"figure.figsize\"] = (8, 6)"
   ]
  },
  {
   "cell_type": "code",
   "execution_count": 2,
   "metadata": {},
   "outputs": [
    {
     "data": {
      "text/plain": [
       "array([[   1880,   90993,  110491],\n",
       "       [   1881,   91954,  100745],\n",
       "       [   1882,  107850,  113688],\n",
       "       [   1883,  112321,  104629],\n",
       "       [   1884,  129022,  114445],\n",
       "       [   1885,  133055,  107800],\n",
       "       [   1886,  144535,  110784],\n",
       "       [   1887,  145982,  101414],\n",
       "       [   1888,  178627,  120853],\n",
       "       [   1889,  178366,  110584],\n",
       "       [   1890,  190377,  111025],\n",
       "       [   1891,  185482,  101196],\n",
       "       [   1892,  212346,  122037],\n",
       "       [   1893,  212906,  112317],\n",
       "       [   1894,  222922,  115772],\n",
       "       [   1895,  233630,  117398],\n",
       "       [   1896,  237920,  119570],\n",
       "       [   1897,  234202,  112758],\n",
       "       [   1898,  258770,  122693],\n",
       "       [   1899,  233023,  106212],\n",
       "       [   1900,  299828,  150499],\n",
       "       [   1901,  239348,  106471],\n",
       "       [   1902,  264077,  122659],\n",
       "       [   1903,  261973,  119234],\n",
       "       [   1904,  275371,  128125],\n",
       "       [   1905,  291629,  132319],\n",
       "       [   1906,  295303,  133159],\n",
       "       [   1907,  318566,  146833],\n",
       "       [   1908,  334313,  154344],\n",
       "       [   1909,  347228,  163999],\n",
       "       [   1910,  396501,  194218],\n",
       "       [   1911,  418299,  225968],\n",
       "       [   1912,  558103,  429945],\n",
       "       [   1913,  624518,  512557],\n",
       "       [   1914,  761548,  654762],\n",
       "       [   1915,  983874,  848603],\n",
       "       [   1916, 1044323,  890099],\n",
       "       [   1917, 1081280,  925511],\n",
       "       [   1918, 1157647, 1013537],\n",
       "       [   1919, 1130145,  980149],\n",
       "       [   1920, 1198283, 1064463],\n",
       "       [   1921, 1232999, 1101457],\n",
       "       [   1922, 1200919, 1088287],\n",
       "       [   1923, 1206330, 1096168],\n",
       "       [   1924, 1248876, 1132751],\n",
       "       [   1925, 1217352, 1115958],\n",
       "       [   1926, 1185304, 1110505],\n",
       "       [   1927, 1192330, 1126717],\n",
       "       [   1928, 1153117, 1107518],\n",
       "       [   1929, 1116422, 1075313],\n",
       "       [   1930, 1125761, 1097176],\n",
       "       [   1931, 1064497, 1039127],\n",
       "       [   1932, 1066994, 1043808],\n",
       "       [   1933, 1007710,  991127],\n",
       "       [   1934, 1044039, 1032291],\n",
       "       [   1935, 1048428, 1040930],\n",
       "       [   1936, 1040202, 1036974],\n",
       "       [   1937, 1063872, 1066309],\n",
       "       [   1938, 1103277, 1108841],\n",
       "       [   1939, 1096518, 1106544],\n",
       "       [   1940, 1143325, 1158900],\n",
       "       [   1941, 1207919, 1227941],\n",
       "       [   1942, 1350545, 1380774],\n",
       "       [   1943, 1395082, 1426846],\n",
       "       [   1944, 1327104, 1362555],\n",
       "       [   1945, 1307028, 1345610],\n",
       "       [   1946, 1571184, 1623650],\n",
       "       [   1947, 1772644, 1829223],\n",
       "       [   1948, 1697814, 1754469],\n",
       "       [   1949, 1710825, 1773725],\n",
       "       [   1950, 1713180, 1790673],\n",
       "       [   1951, 1800042, 1881080],\n",
       "       [   1952, 1854698, 1944277],\n",
       "       [   1953, 1880326, 1969777],\n",
       "       [   1954, 1941682, 2037374],\n",
       "       [   1955, 1954664, 2057918],\n",
       "       [   1956, 2007512, 2113694],\n",
       "       [   1957, 2044160, 2155866],\n",
       "       [   1958, 2010884, 2120712],\n",
       "       [   1959, 2023044, 2133509],\n",
       "       [   1960, 2022093, 2132717],\n",
       "       [   1961, 2017316, 2122502],\n",
       "       [   1962, 1966548, 2068945],\n",
       "       [   1963, 1927217, 2031755],\n",
       "       [   1964, 1894594, 1993270],\n",
       "       [   1965, 1765001, 1861378],\n",
       "       [   1966, 1691868, 1783964],\n",
       "       [   1967, 1650764, 1744527],\n",
       "       [   1968, 1640103, 1738928],\n",
       "       [   1969, 1686947, 1789732],\n",
       "       [   1970, 1748147, 1859594],\n",
       "       [   1971, 1663475, 1769201],\n",
       "       [   1972, 1521185, 1622666],\n",
       "       [   1973, 1458139, 1559338],\n",
       "       [   1974, 1467413, 1573105],\n",
       "       [   1975, 1457699, 1562207],\n",
       "       [   1976, 1465096, 1569904],\n",
       "       [   1977, 1532997, 1643684],\n",
       "       [   1978, 1531658, 1642250],\n",
       "       [   1979, 1605051, 1721947],\n",
       "       [   1980, 1659933, 1783876],\n",
       "       [   1981, 1667465, 1790907],\n",
       "       [   1982, 1692678, 1813970],\n",
       "       [   1983, 1670061, 1791732],\n",
       "       [   1984, 1682973, 1803830],\n",
       "       [   1985, 1720036, 1847032],\n",
       "       [   1986, 1714664, 1840164],\n",
       "       [   1987, 1737891, 1865662],\n",
       "       [   1988, 1779839, 1912602],\n",
       "       [   1989, 1843105, 1999999],\n",
       "       [   1990, 1897709, 2052543],\n",
       "       [   1991, 1874434, 2019463],\n",
       "       [   1992, 1843304, 1996388],\n",
       "       [   1993, 1808379, 1960397],\n",
       "       [   1994, 1785074, 1931157],\n",
       "       [   1995, 1757927, 1902832],\n",
       "       [   1996, 1752249, 1893378],\n",
       "       [   1997, 1739806, 1884122],\n",
       "       [   1998, 1765915, 1910250],\n",
       "       [   1999, 1772632, 1918809],\n",
       "       [   2000, 1814601, 1962406],\n",
       "       [   2001, 1799049, 1941251],\n",
       "       [   2002, 1795206, 1939815],\n",
       "       [   2003, 1825359, 1973434],\n",
       "       [   2004, 1834145, 1982794],\n",
       "       [   2005, 1845379, 1994841],\n",
       "       [   2006, 1898463, 2052377],\n",
       "       [   2007, 1919408, 2072139],\n",
       "       [   2008, 1887234, 2036289],\n",
       "       [   2009, 1832925, 1979303],\n",
       "       [   2010, 1772738, 1913851],\n",
       "       [   2011, 1753500, 1893230]], dtype=int64)"
      ]
     },
     "execution_count": 2,
     "metadata": {},
     "output_type": "execute_result"
    }
   ],
   "source": [
    "birth = np.loadtxt( '../data/births.txt', delimiter=',', dtype=np.int64)\n",
    "birth"
   ]
  },
  {
   "cell_type": "code",
   "execution_count": 3,
   "metadata": {},
   "outputs": [
    {
     "data": {
      "text/html": [
       "<div>\n",
       "<style scoped>\n",
       "    .dataframe tbody tr th:only-of-type {\n",
       "        vertical-align: middle;\n",
       "    }\n",
       "\n",
       "    .dataframe tbody tr th {\n",
       "        vertical-align: top;\n",
       "    }\n",
       "\n",
       "    .dataframe thead th {\n",
       "        text-align: right;\n",
       "    }\n",
       "</style>\n",
       "<table border=\"1\" class=\"dataframe\">\n",
       "  <thead>\n",
       "    <tr style=\"text-align: right;\">\n",
       "      <th></th>\n",
       "      <th>남아수</th>\n",
       "      <th>여아수</th>\n",
       "    </tr>\n",
       "    <tr>\n",
       "      <th>년도</th>\n",
       "      <th></th>\n",
       "      <th></th>\n",
       "    </tr>\n",
       "  </thead>\n",
       "  <tbody>\n",
       "    <tr>\n",
       "      <th>1880</th>\n",
       "      <td>90993</td>\n",
       "      <td>110491</td>\n",
       "    </tr>\n",
       "    <tr>\n",
       "      <th>1881</th>\n",
       "      <td>91954</td>\n",
       "      <td>100745</td>\n",
       "    </tr>\n",
       "    <tr>\n",
       "      <th>1882</th>\n",
       "      <td>107850</td>\n",
       "      <td>113688</td>\n",
       "    </tr>\n",
       "    <tr>\n",
       "      <th>1883</th>\n",
       "      <td>112321</td>\n",
       "      <td>104629</td>\n",
       "    </tr>\n",
       "    <tr>\n",
       "      <th>1884</th>\n",
       "      <td>129022</td>\n",
       "      <td>114445</td>\n",
       "    </tr>\n",
       "    <tr>\n",
       "      <th>...</th>\n",
       "      <td>...</td>\n",
       "      <td>...</td>\n",
       "    </tr>\n",
       "    <tr>\n",
       "      <th>2007</th>\n",
       "      <td>1919408</td>\n",
       "      <td>2072139</td>\n",
       "    </tr>\n",
       "    <tr>\n",
       "      <th>2008</th>\n",
       "      <td>1887234</td>\n",
       "      <td>2036289</td>\n",
       "    </tr>\n",
       "    <tr>\n",
       "      <th>2009</th>\n",
       "      <td>1832925</td>\n",
       "      <td>1979303</td>\n",
       "    </tr>\n",
       "    <tr>\n",
       "      <th>2010</th>\n",
       "      <td>1772738</td>\n",
       "      <td>1913851</td>\n",
       "    </tr>\n",
       "    <tr>\n",
       "      <th>2011</th>\n",
       "      <td>1753500</td>\n",
       "      <td>1893230</td>\n",
       "    </tr>\n",
       "  </tbody>\n",
       "</table>\n",
       "<p>132 rows × 2 columns</p>\n",
       "</div>"
      ],
      "text/plain": [
       "          남아수      여아수\n",
       "년도                    \n",
       "1880    90993   110491\n",
       "1881    91954   100745\n",
       "1882   107850   113688\n",
       "1883   112321   104629\n",
       "1884   129022   114445\n",
       "...       ...      ...\n",
       "2007  1919408  2072139\n",
       "2008  1887234  2036289\n",
       "2009  1832925  1979303\n",
       "2010  1772738  1913851\n",
       "2011  1753500  1893230\n",
       "\n",
       "[132 rows x 2 columns]"
      ]
     },
     "execution_count": 3,
     "metadata": {},
     "output_type": "execute_result"
    }
   ],
   "source": [
    "birthDF = pd.read_csv('../data/births.txt', header=None, index_col=0)\n",
    "birthDF.columns = ['남아수', '여아수']\n",
    "birthDF.index.name = '년도'\n",
    "birthDF"
   ]
  },
  {
   "cell_type": "markdown",
   "metadata": {},
   "source": [
    "# 1. 남아, 여아 출생 평균을 구하시오."
   ]
  },
  {
   "cell_type": "code",
   "execution_count": 4,
   "metadata": {},
   "outputs": [
    {
     "name": "stdout",
     "output_type": "stream",
     "text": [
      "남아 출생 평균 :  1225776.07\n",
      "여아 출생 평균 :  1245399.21\n"
     ]
    }
   ],
   "source": [
    "# 넘파이\n",
    "\n",
    "print('남아 출생 평균 : ', birth[:,1].mean().round(2))\n",
    "print('여아 출생 평균 : ', birth[:,2].mean().round(2))"
   ]
  },
  {
   "cell_type": "code",
   "execution_count": 5,
   "metadata": {},
   "outputs": [
    {
     "name": "stdout",
     "output_type": "stream",
     "text": [
      "남아 출생 평균 :  1225776.07\n",
      "여아 출생 평균 :  1245399.21\n"
     ]
    }
   ],
   "source": [
    "# 데이터프레임\n",
    "\n",
    "print('남아 출생 평균 : ', round(birthDF['남아수'].mean(), 2))\n",
    "print('여아 출생 평균 : ', round(birthDF['여아수'].mean(), 2))"
   ]
  },
  {
   "cell_type": "markdown",
   "metadata": {},
   "source": [
    "# 2. 2000년대 이후 데이터를 구하시오."
   ]
  },
  {
   "cell_type": "markdown",
   "metadata": {},
   "source": [
    "<pre>\n",
    " 년도   남아   여아\n",
    "====================\n",
    " 2000    xx     xx\n",
    "</pre>"
   ]
  },
  {
   "cell_type": "code",
   "execution_count": 6,
   "metadata": {},
   "outputs": [
    {
     "name": "stdout",
     "output_type": "stream",
     "text": [
      "년도\t남아\t여아\n",
      "====================\n",
      "2000 1814601 1962406\n",
      "2001 1799049 1941251\n",
      "2002 1795206 1939815\n",
      "2003 1825359 1973434\n",
      "2004 1834145 1982794\n",
      "2005 1845379 1994841\n",
      "2006 1898463 2052377\n",
      "2007 1919408 2072139\n",
      "2008 1887234 2036289\n",
      "2009 1832925 1979303\n",
      "2010 1772738 1913851\n",
      "2011 1753500 1893230\n"
     ]
    }
   ],
   "source": [
    "# 넘파이\n",
    "\n",
    "birth[birth[:,0]>=2000]\n",
    "\n",
    "print('년도', '남아', '여아', sep='\\t')\n",
    "print('='*20)\n",
    "for a, b, c in birth[birth[:,0]>=2000]:\n",
    "    print(a, b, c)"
   ]
  },
  {
   "cell_type": "code",
   "execution_count": 7,
   "metadata": {},
   "outputs": [
    {
     "name": "stdout",
     "output_type": "stream",
     "text": [
      "년도\t남아\t여아\n",
      "====================\n",
      "2000 1814601 1962406\n",
      "2001 1799049 1941251\n",
      "2002 1795206 1939815\n",
      "2003 1825359 1973434\n",
      "2004 1834145 1982794\n",
      "2005 1845379 1994841\n",
      "2006 1898463 2052377\n",
      "2007 1919408 2072139\n",
      "2008 1887234 2036289\n",
      "2009 1832925 1979303\n",
      "2010 1772738 1913851\n",
      "2011 1753500 1893230\n"
     ]
    }
   ],
   "source": [
    "# 데이터프레임\n",
    "\n",
    "birthDF[birthDF.index>=2000]\n",
    "\n",
    "print('년도', '남아', '여아', sep='\\t')\n",
    "print('='*20)\n",
    "for i, sr in birthDF[birthDF.index>=2000].iterrows():\n",
    "    print(i, sr[0], sr[1])"
   ]
  },
  {
   "cell_type": "markdown",
   "metadata": {},
   "source": [
    "# 3. 남아출생이 가장 많은 년도와 남아수를 구하시오."
   ]
  },
  {
   "cell_type": "code",
   "execution_count": 8,
   "metadata": {},
   "outputs": [
    {
     "name": "stdout",
     "output_type": "stream",
     "text": [
      "남아 출생이 가장 많은 년도 : 1957\n",
      "남아 출생이 가장 많은 년도의 남아수 : 2044160\n"
     ]
    }
   ],
   "source": [
    "# 넘파이\n",
    "\n",
    "boys_1 = birth[birth[:, 1] == birth[:, 1].max()][:, 0:2]\n",
    "\n",
    "for a, b in boys_1:\n",
    "    print('남아 출생이 가장 많은 년도 :', a)\n",
    "    print('남아 출생이 가장 많은 년도의 남아수 :', b)"
   ]
  },
  {
   "cell_type": "code",
   "execution_count": 9,
   "metadata": {},
   "outputs": [
    {
     "data": {
      "text/html": [
       "<div>\n",
       "<style scoped>\n",
       "    .dataframe tbody tr th:only-of-type {\n",
       "        vertical-align: middle;\n",
       "    }\n",
       "\n",
       "    .dataframe tbody tr th {\n",
       "        vertical-align: top;\n",
       "    }\n",
       "\n",
       "    .dataframe thead th {\n",
       "        text-align: right;\n",
       "    }\n",
       "</style>\n",
       "<table border=\"1\" class=\"dataframe\">\n",
       "  <thead>\n",
       "    <tr style=\"text-align: right;\">\n",
       "      <th></th>\n",
       "      <th>남아수</th>\n",
       "      <th>여아수</th>\n",
       "    </tr>\n",
       "    <tr>\n",
       "      <th>년도</th>\n",
       "      <th></th>\n",
       "      <th></th>\n",
       "    </tr>\n",
       "  </thead>\n",
       "  <tbody>\n",
       "    <tr>\n",
       "      <th>1957</th>\n",
       "      <td>2044160</td>\n",
       "      <td>2155866</td>\n",
       "    </tr>\n",
       "  </tbody>\n",
       "</table>\n",
       "</div>"
      ],
      "text/plain": [
       "          남아수      여아수\n",
       "년도                    \n",
       "1957  2044160  2155866"
      ]
     },
     "execution_count": 9,
     "metadata": {},
     "output_type": "execute_result"
    }
   ],
   "source": [
    "# 데이터프레임\n",
    "\n",
    "birthDF.nlargest(1, columns='남아수')"
   ]
  },
  {
   "cell_type": "markdown",
   "metadata": {},
   "source": [
    "# 4. 남아출생이 가장 많은 top5를 구하시오. (년도와 남아수)"
   ]
  },
  {
   "cell_type": "code",
   "execution_count": 10,
   "metadata": {},
   "outputs": [],
   "source": [
    "# 넘파이"
   ]
  },
  {
   "cell_type": "code",
   "execution_count": 11,
   "metadata": {},
   "outputs": [
    {
     "data": {
      "text/plain": [
       "array([[   1957, 2044160],\n",
       "       [   1959, 2023044],\n",
       "       [   1960, 2022093],\n",
       "       [   1961, 2017316],\n",
       "       [   1958, 2010884]], dtype=int64)"
      ]
     },
     "execution_count": 11,
     "metadata": {},
     "output_type": "execute_result"
    }
   ],
   "source": [
    "np.argsort( birth[:,1] )\n",
    "birth[ np.argsort( birth[:,1] ) ][-1:-6:-1][:, [0,1] ]"
   ]
  },
  {
   "cell_type": "code",
   "execution_count": 12,
   "metadata": {},
   "outputs": [],
   "source": [
    "# 데이터프레임"
   ]
  },
  {
   "cell_type": "code",
   "execution_count": 13,
   "metadata": {},
   "outputs": [
    {
     "data": {
      "text/plain": [
       "년도\n",
       "1957    2044160\n",
       "1959    2023044\n",
       "1960    2022093\n",
       "1961    2017316\n",
       "1958    2010884\n",
       "Name: 남아수, dtype: int64"
      ]
     },
     "execution_count": 13,
     "metadata": {},
     "output_type": "execute_result"
    }
   ],
   "source": [
    "birthDF.nlargest(5, columns='남아수')['남아수']"
   ]
  },
  {
   "cell_type": "markdown",
   "metadata": {},
   "source": [
    "# 5. 남아율(%)을 구하고 년도별 남아수가 차지하는 비율을 데이터로 보여주시오."
   ]
  },
  {
   "cell_type": "markdown",
   "metadata": {},
   "source": [
    "<pre>\n",
    "남아    여아    남아율\n",
    "======================\n",
    "..\n",
    "</pre>"
   ]
  },
  {
   "cell_type": "code",
   "execution_count": 14,
   "metadata": {},
   "outputs": [
    {
     "name": "stdout",
     "output_type": "stream",
     "text": [
      "남아\t여아\t남아율\n",
      "==============================\n",
      "90993\t110491\t44.74\n",
      "91954\t100745\t47.26\n",
      "107850\t113688\t48.27\n",
      "112321\t104629\t51.33\n",
      "129022\t114445\t52.59\n",
      "133055\t107800\t54.81\n",
      "144535\t110784\t56.19\n",
      "145982\t101414\t58.56\n",
      "178627\t120853\t59.27\n",
      "178366\t110584\t61.33\n",
      "190377\t111025\t62.77\n",
      "185482\t101196\t64.28\n",
      "212346\t122037\t63.15\n",
      "212906\t112317\t65.09\n",
      "222922\t115772\t65.45\n",
      "233630\t117398\t66.2\n",
      "237920\t119570\t66.2\n",
      "234202\t112758\t67.13\n",
      "258770\t122693\t67.5\n",
      "233023\t106212\t68.31\n",
      "299828\t150499\t66.3\n",
      "239348\t106471\t68.83\n",
      "264077\t122659\t67.95\n",
      "261973\t119234\t68.38\n",
      "275371\t128125\t67.93\n",
      "291629\t132319\t68.48\n",
      "295303\t133159\t68.62\n",
      "318566\t146833\t68.17\n",
      "334313\t154344\t68.15\n",
      "347228\t163999\t67.67\n",
      "396501\t194218\t66.91\n",
      "418299\t225968\t64.73\n",
      "558103\t429945\t56.38\n",
      "624518\t512557\t54.83\n",
      "761548\t654762\t53.7\n",
      "983874\t848603\t53.63\n",
      "1044323\t890099\t53.93\n",
      "1081280\t925511\t53.83\n",
      "1157647\t1013537\t53.27\n",
      "1130145\t980149\t53.51\n",
      "1198283\t1064463\t52.91\n",
      "1232999\t1101457\t52.77\n",
      "1200919\t1088287\t52.42\n",
      "1206330\t1096168\t52.35\n",
      "1248876\t1132751\t52.4\n",
      "1217352\t1115958\t52.13\n",
      "1185304\t1110505\t51.59\n",
      "1192330\t1126717\t51.37\n",
      "1153117\t1107518\t50.97\n",
      "1116422\t1075313\t50.89\n",
      "1125761\t1097176\t50.6\n",
      "1064497\t1039127\t50.56\n",
      "1066994\t1043808\t50.5\n",
      "1007710\t991127\t50.37\n",
      "1044039\t1032291\t50.24\n",
      "1048428\t1040930\t50.13\n",
      "1040202\t1036974\t50.03\n",
      "1063872\t1066309\t49.9\n",
      "1103277\t1108841\t49.83\n",
      "1096518\t1106544\t49.73\n",
      "1143325\t1158900\t49.62\n",
      "1207919\t1227941\t49.55\n",
      "1350545\t1380774\t49.41\n",
      "1395082\t1426846\t49.4\n",
      "1327104\t1362555\t49.31\n",
      "1307028\t1345610\t49.24\n",
      "1571184\t1623650\t49.15\n",
      "1772644\t1829223\t49.19\n",
      "1697814\t1754469\t49.15\n",
      "1710825\t1773725\t49.07\n",
      "1713180\t1790673\t48.87\n",
      "1800042\t1881080\t48.87\n",
      "1854698\t1944277\t48.8\n",
      "1880326\t1969777\t48.81\n",
      "1941682\t2037374\t48.77\n",
      "1954664\t2057918\t48.69\n",
      "2007512\t2113694\t48.69\n",
      "2044160\t2155866\t48.65\n",
      "2010884\t2120712\t48.65\n",
      "2023044\t2133509\t48.65\n",
      "2022093\t2132717\t48.65\n",
      "2017316\t2122502\t48.71\n",
      "1966548\t2068945\t48.71\n",
      "1927217\t2031755\t48.66\n",
      "1894594\t1993270\t48.71\n",
      "1765001\t1861378\t48.64\n",
      "1691868\t1783964\t48.65\n",
      "1650764\t1744527\t48.59\n",
      "1640103\t1738928\t48.51\n",
      "1686947\t1789732\t48.49\n",
      "1748147\t1859594\t48.43\n",
      "1663475\t1769201\t48.43\n",
      "1521185\t1622666\t48.36\n",
      "1458139\t1559338\t48.29\n",
      "1467413\t1573105\t48.23\n",
      "1457699\t1562207\t48.24\n",
      "1465096\t1569904\t48.24\n",
      "1532997\t1643684\t48.23\n",
      "1531658\t1642250\t48.23\n",
      "1605051\t1721947\t48.21\n",
      "1659933\t1783876\t48.17\n",
      "1667465\t1790907\t48.19\n",
      "1692678\t1813970\t48.24\n",
      "1670061\t1791732\t48.22\n",
      "1682973\t1803830\t48.24\n",
      "1720036\t1847032\t48.19\n",
      "1714664\t1840164\t48.21\n",
      "1737891\t1865662\t48.2\n",
      "1779839\t1912602\t48.18\n",
      "1843105\t1999999\t47.93\n",
      "1897709\t2052543\t48.02\n",
      "1874434\t2019463\t48.11\n",
      "1843304\t1996388\t47.98\n",
      "1808379\t1960397\t47.96\n",
      "1785074\t1931157\t48.01\n",
      "1757927\t1902832\t47.99\n",
      "1752249\t1893378\t48.04\n",
      "1739806\t1884122\t47.98\n",
      "1765915\t1910250\t48.01\n",
      "1772632\t1918809\t47.99\n",
      "1814601\t1962406\t48.02\n",
      "1799049\t1941251\t48.07\n",
      "1795206\t1939815\t48.04\n",
      "1825359\t1973434\t48.03\n",
      "1834145\t1982794\t48.03\n",
      "1845379\t1994841\t48.03\n",
      "1898463\t2052377\t48.03\n",
      "1919408\t2072139\t48.06\n",
      "1887234\t2036289\t48.08\n",
      "1832925\t1979303\t48.05\n",
      "1772738\t1913851\t48.06\n",
      "1753500\t1893230\t48.06\n"
     ]
    }
   ],
   "source": [
    "# 넘파이\n",
    "\n",
    "boys = birth[:,1]\n",
    "girls = birth[:,2]\n",
    "boys_ratio = (birth[:,1] / birth.sum(axis=1))*100\n",
    "boys_ratio.round(2)\n",
    "print('남아', '여아', '남아율', sep='\\t')\n",
    "print('='*30)\n",
    "\n",
    "\n",
    "for a, b, c in zip(boys, girls, boys_ratio.round(2)):\n",
    "    print(a, b, c, sep='\\t')"
   ]
  },
  {
   "cell_type": "code",
   "execution_count": 15,
   "metadata": {},
   "outputs": [
    {
     "name": "stdout",
     "output_type": "stream",
     "text": [
      "남아\t\t여아\t\t남아율\n",
      "========================================\n",
      "90993.0\t110491.0\t45.16\n",
      "91954.0\t100745.0\t47.72\n",
      "107850.0\t113688.0\t48.68\n",
      "112321.0\t104629.0\t51.77\n",
      "129022.0\t114445.0\t52.99\n",
      "133055.0\t107800.0\t55.24\n",
      "144535.0\t110784.0\t56.61\n",
      "145982.0\t101414.0\t59.01\n",
      "178627.0\t120853.0\t59.65\n",
      "178366.0\t110584.0\t61.73\n",
      "190377.0\t111025.0\t63.16\n",
      "185482.0\t101196.0\t64.7\n",
      "212346.0\t122037.0\t63.5\n",
      "212906.0\t112317.0\t65.46\n",
      "222922.0\t115772.0\t65.82\n",
      "233630.0\t117398.0\t66.56\n",
      "237920.0\t119570.0\t66.55\n",
      "234202.0\t112758.0\t67.5\n",
      "258770.0\t122693.0\t67.84\n",
      "233023.0\t106212.0\t68.69\n",
      "299828.0\t150499.0\t66.58\n",
      "239348.0\t106471.0\t69.21\n",
      "264077.0\t122659.0\t68.28\n",
      "261973.0\t119234.0\t68.72\n",
      "275371.0\t128125.0\t68.25\n",
      "291629.0\t132319.0\t68.79\n",
      "295303.0\t133159.0\t68.92\n",
      "318566.0\t146833.0\t68.45\n",
      "334313.0\t154344.0\t68.41\n",
      "347228.0\t163999.0\t67.92\n",
      "396501.0\t194218.0\t67.12\n",
      "418299.0\t225968.0\t64.93\n",
      "558103.0\t429945.0\t56.49\n",
      "624518.0\t512557.0\t54.92\n",
      "761548.0\t654762.0\t53.77\n",
      "983874.0\t848603.0\t53.69\n",
      "1044323.0\t890099.0\t53.99\n",
      "1081280.0\t925511.0\t53.88\n",
      "1157647.0\t1013537.0\t53.32\n",
      "1130145.0\t980149.0\t53.55\n",
      "1198283.0\t1064463.0\t52.96\n",
      "1232999.0\t1101457.0\t52.82\n",
      "1200919.0\t1088287.0\t52.46\n",
      "1206330.0\t1096168.0\t52.39\n",
      "1248876.0\t1132751.0\t52.44\n",
      "1217352.0\t1115958.0\t52.17\n",
      "1185304.0\t1110505.0\t51.63\n",
      "1192330.0\t1126717.0\t51.41\n",
      "1153117.0\t1107518.0\t51.01\n",
      "1116422.0\t1075313.0\t50.94\n",
      "1125761.0\t1097176.0\t50.64\n",
      "1064497.0\t1039127.0\t50.6\n",
      "1066994.0\t1043808.0\t50.55\n",
      "1007710.0\t991127.0\t50.41\n",
      "1044039.0\t1032291.0\t50.28\n",
      "1048428.0\t1040930.0\t50.18\n",
      "1040202.0\t1036974.0\t50.08\n",
      "1063872.0\t1066309.0\t49.94\n",
      "1103277.0\t1108841.0\t49.87\n",
      "1096518.0\t1106544.0\t49.77\n",
      "1143325.0\t1158900.0\t49.66\n",
      "1207919.0\t1227941.0\t49.59\n",
      "1350545.0\t1380774.0\t49.45\n",
      "1395082.0\t1426846.0\t49.44\n",
      "1327104.0\t1362555.0\t49.34\n",
      "1307028.0\t1345610.0\t49.27\n",
      "1571184.0\t1623650.0\t49.18\n",
      "1772644.0\t1829223.0\t49.21\n",
      "1697814.0\t1754469.0\t49.18\n",
      "1710825.0\t1773725.0\t49.1\n",
      "1713180.0\t1790673.0\t48.89\n",
      "1800042.0\t1881080.0\t48.9\n",
      "1854698.0\t1944277.0\t48.82\n",
      "1880326.0\t1969777.0\t48.84\n",
      "1941682.0\t2037374.0\t48.8\n",
      "1954664.0\t2057918.0\t48.71\n",
      "2007512.0\t2113694.0\t48.71\n",
      "2044160.0\t2155866.0\t48.67\n",
      "2010884.0\t2120712.0\t48.67\n",
      "2023044.0\t2133509.0\t48.67\n",
      "2022093.0\t2132717.0\t48.67\n",
      "2017316.0\t2122502.0\t48.73\n",
      "1966548.0\t2068945.0\t48.73\n",
      "1927217.0\t2031755.0\t48.68\n",
      "1894594.0\t1993270.0\t48.73\n",
      "1765001.0\t1861378.0\t48.67\n",
      "1691868.0\t1783964.0\t48.68\n",
      "1650764.0\t1744527.0\t48.62\n",
      "1640103.0\t1738928.0\t48.54\n",
      "1686947.0\t1789732.0\t48.52\n",
      "1748147.0\t1859594.0\t48.46\n",
      "1663475.0\t1769201.0\t48.46\n",
      "1521185.0\t1622666.0\t48.39\n",
      "1458139.0\t1559338.0\t48.32\n",
      "1467413.0\t1573105.0\t48.26\n",
      "1457699.0\t1562207.0\t48.27\n",
      "1465096.0\t1569904.0\t48.27\n",
      "1532997.0\t1643684.0\t48.26\n",
      "1531658.0\t1642250.0\t48.26\n",
      "1605051.0\t1721947.0\t48.24\n",
      "1659933.0\t1783876.0\t48.2\n",
      "1667465.0\t1790907.0\t48.22\n",
      "1692678.0\t1813970.0\t48.27\n",
      "1670061.0\t1791732.0\t48.24\n",
      "1682973.0\t1803830.0\t48.27\n",
      "1720036.0\t1847032.0\t48.22\n",
      "1714664.0\t1840164.0\t48.23\n",
      "1737891.0\t1865662.0\t48.23\n",
      "1779839.0\t1912602.0\t48.2\n",
      "1843105.0\t1999999.0\t47.96\n",
      "1897709.0\t2052543.0\t48.04\n",
      "1874434.0\t2019463.0\t48.14\n",
      "1843304.0\t1996388.0\t48.01\n",
      "1808379.0\t1960397.0\t47.98\n",
      "1785074.0\t1931157.0\t48.03\n",
      "1757927.0\t1902832.0\t48.02\n",
      "1752249.0\t1893378.0\t48.06\n",
      "1739806.0\t1884122.0\t48.01\n",
      "1765915.0\t1910250.0\t48.04\n",
      "1772632.0\t1918809.0\t48.02\n",
      "1814601.0\t1962406.0\t48.04\n",
      "1799049.0\t1941251.0\t48.1\n",
      "1795206.0\t1939815.0\t48.06\n",
      "1825359.0\t1973434.0\t48.05\n",
      "1834145.0\t1982794.0\t48.05\n",
      "1845379.0\t1994841.0\t48.05\n",
      "1898463.0\t2052377.0\t48.05\n",
      "1919408.0\t2072139.0\t48.09\n",
      "1887234.0\t2036289.0\t48.1\n",
      "1832925.0\t1979303.0\t48.08\n",
      "1772738.0\t1913851.0\t48.09\n",
      "1753500.0\t1893230.0\t48.08\n"
     ]
    }
   ],
   "source": [
    "# 데이터프레임\n",
    "\n",
    "birthDF['남아율'] = round((birthDF['남아수'] / birthDF.sum(axis=1))*100, 2)\n",
    "\n",
    "print('남아', '여아', '남아율', sep='\\t\\t')\n",
    "print('='*40)\n",
    "for i, sr in birthDF.iterrows():\n",
    "    print(sr['남아수'], sr['여아수'], sr['남아율'], sep='\\t')"
   ]
  },
  {
   "cell_type": "markdown",
   "metadata": {},
   "source": [
    "# 6. 2000년도 이후 데이터에 대해 출생량 을 구하고,\n",
    "# 남아수가 1800000 이상이면 '많음' 아니면 '적음'이라고 보여 주시오."
   ]
  },
  {
   "cell_type": "markdown",
   "metadata": {},
   "source": [
    "<pre>\n",
    "\t남아수 출생량\n",
    "2000   1233   '많음'\n",
    "2001   1234   '적음'\n",
    "</pre>"
   ]
  },
  {
   "cell_type": "code",
   "execution_count": 16,
   "metadata": {},
   "outputs": [
    {
     "name": "stdout",
     "output_type": "stream",
     "text": [
      "2000 1814601 많음\n",
      "2001 1799049 적음\n",
      "2002 1795206 적음\n",
      "2003 1825359 많음\n",
      "2004 1834145 많음\n",
      "2005 1845379 많음\n",
      "2006 1898463 많음\n",
      "2007 1919408 많음\n",
      "2008 1887234 많음\n",
      "2009 1832925 많음\n",
      "2010 1772738 적음\n",
      "2011 1753500 적음\n"
     ]
    }
   ],
   "source": [
    "# 넘파이\n",
    "\n",
    "aft_2000 = birth [ birth[:,0] >= 2000 ]\n",
    "boys    = aft_2000[:,1]\n",
    "amount  = np.where( aft_2000[:,1] >= 1800000 , '많음', '적음')\n",
    "aft_2000 = birth [ birth[:,0] >= 2000 ]\n",
    "for year, boy, amt in zip( aft_2000[:,0],aft_2000[:,1], amount):\n",
    "    print(year, boy, amt)"
   ]
  },
  {
   "cell_type": "code",
   "execution_count": 17,
   "metadata": {},
   "outputs": [
    {
     "name": "stderr",
     "output_type": "stream",
     "text": [
      "<ipython-input-17-3a460d718f03>:4: SettingWithCopyWarning: \n",
      "A value is trying to be set on a copy of a slice from a DataFrame.\n",
      "Try using .loc[row_indexer,col_indexer] = value instead\n",
      "\n",
      "See the caveats in the documentation: https://pandas.pydata.org/pandas-docs/stable/user_guide/indexing.html#returning-a-view-versus-a-copy\n",
      "  y2000['출생량'] = y2000['남아수'].apply( lambda v: '많음' if v>=1800000 else '적음')\n"
     ]
    },
    {
     "data": {
      "text/html": [
       "<div>\n",
       "<style scoped>\n",
       "    .dataframe tbody tr th:only-of-type {\n",
       "        vertical-align: middle;\n",
       "    }\n",
       "\n",
       "    .dataframe tbody tr th {\n",
       "        vertical-align: top;\n",
       "    }\n",
       "\n",
       "    .dataframe thead th {\n",
       "        text-align: right;\n",
       "    }\n",
       "</style>\n",
       "<table border=\"1\" class=\"dataframe\">\n",
       "  <thead>\n",
       "    <tr style=\"text-align: right;\">\n",
       "      <th></th>\n",
       "      <th>남아수</th>\n",
       "      <th>여아수</th>\n",
       "      <th>남아율</th>\n",
       "      <th>출생량</th>\n",
       "    </tr>\n",
       "    <tr>\n",
       "      <th>년도</th>\n",
       "      <th></th>\n",
       "      <th></th>\n",
       "      <th></th>\n",
       "      <th></th>\n",
       "    </tr>\n",
       "  </thead>\n",
       "  <tbody>\n",
       "    <tr>\n",
       "      <th>2000</th>\n",
       "      <td>1814601</td>\n",
       "      <td>1962406</td>\n",
       "      <td>48.04</td>\n",
       "      <td>많음</td>\n",
       "    </tr>\n",
       "    <tr>\n",
       "      <th>2001</th>\n",
       "      <td>1799049</td>\n",
       "      <td>1941251</td>\n",
       "      <td>48.10</td>\n",
       "      <td>적음</td>\n",
       "    </tr>\n",
       "    <tr>\n",
       "      <th>2002</th>\n",
       "      <td>1795206</td>\n",
       "      <td>1939815</td>\n",
       "      <td>48.06</td>\n",
       "      <td>적음</td>\n",
       "    </tr>\n",
       "    <tr>\n",
       "      <th>2003</th>\n",
       "      <td>1825359</td>\n",
       "      <td>1973434</td>\n",
       "      <td>48.05</td>\n",
       "      <td>많음</td>\n",
       "    </tr>\n",
       "    <tr>\n",
       "      <th>2004</th>\n",
       "      <td>1834145</td>\n",
       "      <td>1982794</td>\n",
       "      <td>48.05</td>\n",
       "      <td>많음</td>\n",
       "    </tr>\n",
       "    <tr>\n",
       "      <th>2005</th>\n",
       "      <td>1845379</td>\n",
       "      <td>1994841</td>\n",
       "      <td>48.05</td>\n",
       "      <td>많음</td>\n",
       "    </tr>\n",
       "    <tr>\n",
       "      <th>2006</th>\n",
       "      <td>1898463</td>\n",
       "      <td>2052377</td>\n",
       "      <td>48.05</td>\n",
       "      <td>많음</td>\n",
       "    </tr>\n",
       "    <tr>\n",
       "      <th>2007</th>\n",
       "      <td>1919408</td>\n",
       "      <td>2072139</td>\n",
       "      <td>48.09</td>\n",
       "      <td>많음</td>\n",
       "    </tr>\n",
       "    <tr>\n",
       "      <th>2008</th>\n",
       "      <td>1887234</td>\n",
       "      <td>2036289</td>\n",
       "      <td>48.10</td>\n",
       "      <td>많음</td>\n",
       "    </tr>\n",
       "    <tr>\n",
       "      <th>2009</th>\n",
       "      <td>1832925</td>\n",
       "      <td>1979303</td>\n",
       "      <td>48.08</td>\n",
       "      <td>많음</td>\n",
       "    </tr>\n",
       "    <tr>\n",
       "      <th>2010</th>\n",
       "      <td>1772738</td>\n",
       "      <td>1913851</td>\n",
       "      <td>48.09</td>\n",
       "      <td>적음</td>\n",
       "    </tr>\n",
       "    <tr>\n",
       "      <th>2011</th>\n",
       "      <td>1753500</td>\n",
       "      <td>1893230</td>\n",
       "      <td>48.08</td>\n",
       "      <td>적음</td>\n",
       "    </tr>\n",
       "  </tbody>\n",
       "</table>\n",
       "</div>"
      ],
      "text/plain": [
       "          남아수      여아수    남아율 출생량\n",
       "년도                               \n",
       "2000  1814601  1962406  48.04  많음\n",
       "2001  1799049  1941251  48.10  적음\n",
       "2002  1795206  1939815  48.06  적음\n",
       "2003  1825359  1973434  48.05  많음\n",
       "2004  1834145  1982794  48.05  많음\n",
       "2005  1845379  1994841  48.05  많음\n",
       "2006  1898463  2052377  48.05  많음\n",
       "2007  1919408  2072139  48.09  많음\n",
       "2008  1887234  2036289  48.10  많음\n",
       "2009  1832925  1979303  48.08  많음\n",
       "2010  1772738  1913851  48.09  적음\n",
       "2011  1753500  1893230  48.08  적음"
      ]
     },
     "execution_count": 17,
     "metadata": {},
     "output_type": "execute_result"
    }
   ],
   "source": [
    "# 데이터프레임\n",
    "\n",
    "y2000 = birthDF.loc[2000:]\n",
    "y2000['출생량'] = y2000['남아수'].apply( lambda v: '많음' if v>=1800000 else '적음')\n",
    "y2000"
   ]
  },
  {
   "cell_type": "markdown",
   "metadata": {},
   "source": [
    "# 7. 1800년대, 1900년대, 2000년대 각 남아, 여야수 평균을 구하시오."
   ]
  },
  {
   "cell_type": "code",
   "execution_count": 18,
   "metadata": {},
   "outputs": [
    {
     "name": "stdout",
     "output_type": "stream",
     "text": [
      "176714.15\n",
      "111820.55\n",
      "1362901.51\n",
      "1384145.55\n",
      "1831500.5833333333\n",
      "1978477.5\n"
     ]
    }
   ],
   "source": [
    "# 넘파이\n",
    "\n",
    "print(birth[(birth[:,0] >= 1800)&(birth[:,0]< 1900)][:,1].mean())\n",
    "print(birth[(birth[:,0] >= 1800)&(birth[:,0]< 1900)][:,2].mean())\n",
    "print(birth[(birth[:,0] >= 1900)&(birth[:,0]< 2000)][:,1].mean())\n",
    "print(birth[(birth[:,0] >= 1900)&(birth[:,0]< 2000)][:,2].mean())\n",
    "print(birth[birth[:,0]>=2000][:,1].mean())\n",
    "print(birth[birth[:,0]>=2000][:,2].mean())"
   ]
  },
  {
   "cell_type": "code",
   "execution_count": 19,
   "metadata": {},
   "outputs": [
    {
     "name": "stdout",
     "output_type": "stream",
     "text": [
      "176714.15\n",
      "111820.55\n",
      "1362901.51\n",
      "1384145.55\n",
      "1831500.5833333333\n",
      "1978477.5\n"
     ]
    }
   ],
   "source": [
    "# 데이터프레임\n",
    "\n",
    "print(birthDF[(birthDF.index >= 1800)&(birthDF.index < 1900)]['남아수'].mean())\n",
    "print(birthDF[(birthDF.index >= 1800)&(birthDF.index < 1900)]['여아수'].mean())\n",
    "print(birthDF[(birthDF.index >= 1900)&(birthDF.index < 2000)]['남아수'].mean())\n",
    "print(birthDF[(birthDF.index >= 1900)&(birthDF.index < 2000)]['여아수'].mean())\n",
    "print(birthDF[(birthDF.index >= 2000)]['남아수'].mean())\n",
    "print(birthDF[(birthDF.index >= 2000)]['여아수'].mean())"
   ]
  },
  {
   "cell_type": "markdown",
   "metadata": {},
   "source": [
    "# 8. 여아 25%~75% 사이의 값을 구하시오."
   ]
  },
  {
   "cell_type": "code",
   "execution_count": 20,
   "metadata": {},
   "outputs": [
    {
     "data": {
      "text/plain": [
       "array([ 491904. , 1904686.5])"
      ]
     },
     "execution_count": 20,
     "metadata": {},
     "output_type": "execute_result"
    }
   ],
   "source": [
    "# 넘파이\n",
    "\n",
    "arr_girls = birth[:,2]\n",
    "\n",
    "np.quantile(arr_girls, [0.25, 0.75])"
   ]
  },
  {
   "cell_type": "code",
   "execution_count": 21,
   "metadata": {},
   "outputs": [
    {
     "data": {
      "text/plain": [
       "0.25     491904.0\n",
       "0.75    1904686.5\n",
       "Name: 여아수, dtype: float64"
      ]
     },
     "execution_count": 21,
     "metadata": {},
     "output_type": "execute_result"
    }
   ],
   "source": [
    "# 데이터프레임\n",
    "\n",
    "birthDF['여아수'].quantile([0.25, 0.75])"
   ]
  },
  {
   "cell_type": "markdown",
   "metadata": {},
   "source": [
    "# 9. 2000년대 남아데이터를 바차트로 그리시오."
   ]
  },
  {
   "cell_type": "code",
   "execution_count": 22,
   "metadata": {},
   "outputs": [
    {
     "data": {
      "image/png": "[encoded data removed]",
      "text/plain": [
       "<Figure size 576x432 with 1 Axes>"
      ]
     },
     "metadata": {
      "needs_background": "light"
     },
     "output_type": "display_data"
    }
   ],
   "source": [
    "# 넘파이\n",
    "boys_2000s = birth[ birth[:,0] >= 2000 ][:,0:2]\n",
    "\n",
    "plt.bar( boys_2000s[:,0] ,boys_2000s[:,1], color='salmon')\n",
    "plt.xlabel('year')\n",
    "plt.ylabel('boysBirth')\n",
    "plt.show()"
   ]
  },
  {
   "cell_type": "code",
   "execution_count": 23,
   "metadata": {},
   "outputs": [
    {
     "data": {
      "image/png": "[encoded data removed]",
      "text/plain": [
       "<Figure size 576x432 with 1 Axes>"
      ]
     },
     "metadata": {
      "needs_background": "light"
     },
     "output_type": "display_data"
    }
   ],
   "source": [
    "# 데이터프레임\n",
    "\n",
    "birthDF[birthDF.index>=2000]['남아수'].plot(kind='bar', rot=0)\n",
    "plt.ylabel('남아수')\n",
    "plt.show()"
   ]
  }
 ],
 "metadata": {
  "kernelspec": {
   "display_name": "Python 3",
   "language": "python",
   "name": "python3"
  },
  "language_info": {
   "codemirror_mode": {
    "name": "ipython",
    "version": 3
   },
   "file_extension": ".py",
   "mimetype": "text/x-python",
   "name": "python",
   "nbconvert_exporter": "python",
   "pygments_lexer": "ipython3",
   "version": "3.8.5"
  }
 },
 "nbformat": 4,
 "nbformat_minor": 4
}
