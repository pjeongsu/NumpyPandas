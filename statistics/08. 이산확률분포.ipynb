{
 "cells": [
  {
   "cell_type": "code",
   "execution_count": 16,
   "metadata": {},
   "outputs": [],
   "source": [
    "import scipy.stats as stats\n",
    "from scipy.special import comb,perm\n",
    "import numpy as np\n",
    "import matplotlib.pyplot as plt\n",
    "import matplotlib\n",
    "import math\n",
    "matplotlib.rcParams['font.family']='Malgun Gothic'\n",
    "matplotlib.rcParams['axes.unicode_minus'] = False"
   ]
  },
  {
   "cell_type": "markdown",
   "metadata": {},
   "source": [
    "# 이산확률분포"
   ]
  },
  {
   "cell_type": "markdown",
   "metadata": {},
   "source": [
    "## 베르누이 시행"
   ]
  },
  {
   "cell_type": "markdown",
   "metadata": {},
   "source": [
    "결과가 두 가지 중 하나로만 나오는 실험이나 시행을 **베르누이 시행**(Bernoulli trial)이라고 한다. 예를 들어 동전을 한 번 던져 앞면(H:Head)이 나오거나 뒷면(T:Tail)이 나오게 하는 것도 베르누이 시행이다."
   ]
  },
  {
   "cell_type": "markdown",
   "metadata": {},
   "source": [
    "## 베르누이 확률변수"
   ]
  },
  {
   "cell_type": "markdown",
   "metadata": {},
   "source": [
    "베르누이 시행의 결과를 실수 0 또는 1로 바꾼 것을 **베르누이 확률변수(Bernoulli random variable)**라고 한다. 베르누이 확률변수는 두 값 중 하나만 가질 수 있으므로 이산확률변수(discrete random variable)다. "
   ]
  },
  {
   "cell_type": "markdown",
   "metadata": {},
   "source": [
    "## 베르누이 확률분포"
   ]
  },
  {
   "cell_type": "markdown",
   "metadata": {},
   "source": [
    "베르누이 확률변수의 분포를 베르누이 확률분포 혹은 베르누이분포라고 한다. 만약 어떤 확률변수 $X$가 베르누이분포에 의해 발생된다면 **’확률변수 $X$가 베르누이분포를 따른다’**라고 말하고 다음과 같이 수식으로 쓴다.\n",
    "\n",
    "$$\n",
    "\\begin{align}\n",
    "X \\sim \\text{Bern}(x;p)\n",
    "\\tag{1}\n",
    "\\end{align}\n",
    "$$\n",
    "\n",
    "베르누이분포의 확률질량함수 수식은 다음과 같다.\n",
    "\n",
    "$$\n",
    "\\begin{align}\n",
    "\\text{Bern}(x;p) = \n",
    "\\begin{cases} \n",
    "p   & \\text{if }x=1, \\\\\n",
    "1-p & \\text{if }x=0\n",
    "\\end{cases}\n",
    "\\tag{2}\n",
    "\\end{align}\n",
    "$$\n",
    "\n"
   ]
  },
  {
   "cell_type": "markdown",
   "metadata": {},
   "source": [
    "#### 베르누이"
   ]
  },
  {
   "cell_type": "markdown",
   "metadata": {},
   "source": [
    "p=0.6 으로 설정했다. 이러한 확률변수를 만든 것은 앞면이 나올 확률이 0.6인 동전을 만든 것과 같다."
   ]
  },
  {
   "cell_type": "markdown",
   "metadata": {},
   "source": [
    "1. 숫자 1부터 10까지 적혀있는 카드가 10장 있다. 그럼 이 중에서 하나의 카드를 뽑았을 때, 8이 적힌 카드가 나올 확률을 구하시오.\n",
    "\n",
    "카드를 뽑았을 때 8이 적힌 카드가 나오면 성공이고, 숫자 1, 2, 3, 4, 5, 6, 7, 9, 10 이 적힌 카드가 나오면 실패다. 그래서 성공확률은 1/10이고 실패확률은 9/10이기에, 공식을 사용해서 확률을 구해보면 0.1 or 10%가 나온다."
   ]
  },
  {
   "cell_type": "markdown",
   "metadata": {},
   "source": [
    "베르누이분포의 모멘트는 다음과 같다.\n",
    "\n",
    "* 기댓값\n",
    "\n",
    "$$\n",
    "\\begin{align}\n",
    "\\text{E}[X]  = \\mu\n",
    "\\tag{1}\n",
    "\\end{align}\n",
    "$$\n",
    "\n",
    "(증명)\n",
    "\n",
    "$$\n",
    "\\begin{align}\n",
    "\\begin{aligned}\n",
    "\\text{E}[X] \n",
    "&= \\sum_{x_i \\in \\Omega} x_i p(x_i) \\\\\n",
    "&= 1 \\cdot \\mu + 0 \\cdot (1 - \\mu) \\\\\n",
    "&= \\mu\n",
    "\\end{aligned}\n",
    "\\tag{2}\n",
    "\\end{align}\n",
    "$$\n",
    "\n",
    "==============================================================================\n",
    "* 분산\n",
    "\n",
    "$$\n",
    "\\begin{align}\n",
    "\\text{Var}[X] = \\mu(1-\\mu)\n",
    "\\tag{3}\n",
    "\\end{align}\n",
    "$$\n",
    "\n",
    "(증명)\n",
    "\n",
    "$$\n",
    "\\begin{align}\n",
    "\\begin{aligned}\n",
    "\\text{Var}[X] \n",
    "&= \\sum_{x_i \\in \\Omega} (x_i - \\mu)^2 p(x_i) \\\\\n",
    "&= (1 - \\mu)^2 \\cdot \\mu + (0 - \\mu)^2 \\cdot (1 - \\mu) \\\\\n",
    "&= \\mu(1-\\mu)\n",
    "\\end{aligned}\n",
    "\\tag{4}\n",
    "\\end{align}\n",
    "$$"
   ]
  },
  {
   "cell_type": "code",
   "execution_count": 2,
   "metadata": {},
   "outputs": [
    {
     "data": {
      "text/plain": [
       "array([0.1, 0.9])"
      ]
     },
     "execution_count": 2,
     "metadata": {},
     "output_type": "execute_result"
    }
   ],
   "source": [
    "# 숫자 1부터 10까지 적혀있는 카드가 10장 있다.\n",
    "# 그럼 이 중에서 하나의 카드를 뽑았을 때, 8이 적힌 카드가 나올 확률을 구하시오.\n",
    "\n",
    "mu = 1/10\n",
    "rv = stats.bernoulli(mu)\n",
    "xx = [1, 0] # 베르누이 시행에서는 1 아니면 0이기 때문\n",
    "rv.pmf(xx)"
   ]
  },
  {
   "cell_type": "code",
   "execution_count": 3,
   "metadata": {},
   "outputs": [
    {
     "data": {
      "text/plain": [
       "0.1"
      ]
     },
     "execution_count": 3,
     "metadata": {},
     "output_type": "execute_result"
    }
   ],
   "source": [
    "rv.mean()"
   ]
  },
  {
   "cell_type": "code",
   "execution_count": 4,
   "metadata": {},
   "outputs": [
    {
     "data": {
      "text/plain": [
       "0.09000000000000001"
      ]
     },
     "execution_count": 4,
     "metadata": {},
     "output_type": "execute_result"
    }
   ],
   "source": [
    "rv.var() # 0.1*(1-0.1)"
   ]
  },
  {
   "cell_type": "code",
   "execution_count": 5,
   "metadata": {},
   "outputs": [
    {
     "data": {
      "image/png": "[encoded data removed]",
      "text/plain": [
       "<Figure size 432x288 with 1 Axes>"
      ]
     },
     "metadata": {
      "needs_background": "light"
     },
     "output_type": "display_data"
    }
   ],
   "source": [
    "plt.bar(xx, rv.pmf(xx))\n",
    "plt.xlim(-1, 2)\n",
    "plt.ylim(0, 1)\n",
    "plt.xticks([0, 1], [\"x=0\", \"x=1\"])\n",
    "plt.xlabel(\"표본값\")\n",
    "plt.ylabel(\"P(x)\")\n",
    "plt.title(\"베르누이 확률변수의 확률질량함수\")\n",
    "plt.show()"
   ]
  },
  {
   "cell_type": "code",
   "execution_count": 7,
   "metadata": {},
   "outputs": [
    {
     "data": {
      "text/plain": [
       "array([0.16666667, 0.83333333])"
      ]
     },
     "execution_count": 7,
     "metadata": {},
     "output_type": "execute_result"
    }
   ],
   "source": [
    "# 주사위를 하나 던져서 3이 나올 확률을 구하시오.\n",
    "\n",
    "mu = 1 / 6\n",
    "rv = stats.bernoulli(mu)\n",
    "xx = [1, 0]\n",
    "rv.pmf(xx)"
   ]
  },
  {
   "cell_type": "code",
   "execution_count": 8,
   "metadata": {
    "scrolled": true
   },
   "outputs": [
    {
     "data": {
      "text/plain": [
       "array([0.13888889, 0.86111111])"
      ]
     },
     "execution_count": 8,
     "metadata": {},
     "output_type": "execute_result"
    }
   ],
   "source": [
    "# 주사위 2개를 던졌을 떄 눈금의 합이 6이 나올 확률을 구하시오.\n",
    "# (1, 5), (2, 4), (3, 3), (4, 2), (5, 1)\n",
    "\n",
    "mu = 5 / 36\n",
    "rv = stats.bernoulli(mu)\n",
    "xx = [1, 0]\n",
    "rv.pmf(xx)"
   ]
  },
  {
   "cell_type": "code",
   "execution_count": 9,
   "metadata": {},
   "outputs": [
    {
     "data": {
      "text/plain": [
       "0.1388888888888889"
      ]
     },
     "execution_count": 9,
     "metadata": {},
     "output_type": "execute_result"
    }
   ],
   "source": [
    "rv.mean()"
   ]
  },
  {
   "cell_type": "code",
   "execution_count": 10,
   "metadata": {},
   "outputs": [
    {
     "data": {
      "text/plain": [
       "0.11959876543209878"
      ]
     },
     "execution_count": 10,
     "metadata": {},
     "output_type": "execute_result"
    }
   ],
   "source": [
    "rv.var() # 0.13888889*0.86111111"
   ]
  },
  {
   "cell_type": "markdown",
   "metadata": {},
   "source": [
    "## 비율"
   ]
  },
  {
   "cell_type": "markdown",
   "metadata": {},
   "source": [
    "1000 개의 사탕이 들어있는 바구니가 있다( 갈색, 파랑, 보라)\n",
    "한 주먹을 쥐어서 사탕을 뽑았더니 갈색사탕 비율이 36%가 나왔다.\n",
    "갈색사탕이 몇 %정도 들어있는지 신뢰구간 95%로 추정하시오.\n",
    "( 실제 갈색사탕의비율 40.3%)"
   ]
  },
  {
   "cell_type": "code",
   "execution_count": 27,
   "metadata": {},
   "outputs": [
    {
     "name": "stdout",
     "output_type": "stream",
     "text": [
      "0.45408\n",
      "0.09408\n",
      "0.26592\n"
     ]
    }
   ],
   "source": [
    "# 40.3%-math.sqrt((40.3%*(1-40.3%))/1000) <= 신뢰구간 <=40.3%+math.sqrt((40.3%*(1-40.3%))/1000)\n",
    "\n",
    "p = 0.36\n",
    "n=100\n",
    "\n",
    "print(p + 1.96 * np.sqrt((p*(1-p))/n) )\n",
    "print( 0.45408 - 0.36 ) # 36% +- 0.9%포인트\n",
    "print(p - 1.96 * np.sqrt((p*(1-p))/n) )"
   ]
  },
  {
   "cell_type": "markdown",
   "metadata": {},
   "source": [
    "1000 개의 사탕이 들어있는 바구니가 \n",
    "있다( 갈색, 파랑, 보라)\n",
    "갈색사탕이 몇%정도 들어있는지 \n",
    "50개의 표본을 임의로 추출후 확인해 보았더니\n",
    "20개(갈색), 17(파랑), 13(보라) 있었다.\n",
    "\n",
    "신뢰구간 99%로 갈색사탕비율을추정하시요.\n",
    "( 실제 갈색사탕의비율 40.3%)"
   ]
  },
  {
   "cell_type": "code",
   "execution_count": 33,
   "metadata": {},
   "outputs": [
    {
     "name": "stdout",
     "output_type": "stream",
     "text": [
      "0.22125235665889187  <= p <= 0.5787476433411082\n",
      "갈색사탕은 40% +- 0.17874764334110815 %p로 들어있다\n"
     ]
    }
   ],
   "source": [
    "a= 0.4 - 2.58 * math.sqrt((0.4*(1-0.4))/50)\n",
    "b= 0.4 + 2.58 * math.sqrt((0.4*(1-0.4))/50)\n",
    "print(a,\" <= p <=\", b)\n",
    "print(\"갈색사탕은 40% +-\", b-0.4,\"%p로 들어있다\")"
   ]
  },
  {
   "cell_type": "markdown",
   "metadata": {},
   "source": [
    "## 이항분포"
   ]
  },
  {
   "cell_type": "markdown",
   "metadata": {},
   "source": [
    "\n",
    "베르누이분포를 따르는 확률변수 $Y$의 확률질량함수를 대입하여 정리하면 이항분포 확률변수 $X$의 확률질량함수는 다음과 같아진다.\n",
    "\n",
    "$$\n",
    "\\begin{align}\n",
    "\\text{Bin}(x;N,p) = \\binom N x \\; p^x(1-p)^{N-x}\n",
    "\\tag{1}\n",
    "\\end{align}\n",
    "$$\n",
    "\n",
    "이 식에서 $\\binom N x$ 기호는 **조합(combination)**이라는 기호로 $N$개 원소 중에 $x$개 원소를 순서와 상관없이 선택할 수 있는 경우의 수를 뜻한다. 조합은 다음 공식으로 계산할 수 있다.\n",
    "\n",
    "$$\n",
    "\\begin{align}\n",
    "\\binom N x =\\dfrac{N!}{x!(N-x)!}\n",
    "\\tag{2}\n",
    "\\end{align}\n",
    "$$\n",
    "\n",
    "$!$ 기호는 **팩토리얼(factorial)**이라고 하며 다음처럼 정의한다.\n",
    "\n",
    "$$\n",
    "\\begin{align}\n",
    "N! = N\\cdot (N-1) \\cdots 2 \\cdot 1\n",
    "\\tag{3}\n",
    "\\end{align}\n",
    "$$"
   ]
  },
  {
   "cell_type": "markdown",
   "metadata": {},
   "source": [
    "이항분포는 이산확률분포에서 가장 많이 사용하는 분포로, 이전 글에서 알아보았던 베르누이분포의 업그레이드 버전이다. 먼저 베르누이분포가 “성공”과 “실패” 이렇게 2가지의 상황만 나오는 실험에서 사용한다고 했었는데,(참고) 이항분포도 마찬가지다. 그래서 베르누이분포와 똑같이 성공확률은 p이고, 실패확률은 1-p이다."
   ]
  },
  {
   "cell_type": "code",
   "execution_count": 28,
   "metadata": {},
   "outputs": [],
   "source": [
    "# 주사위를 10번 던졌을 때 눈금 5가 3번 나올 확률"
   ]
  },
  {
   "cell_type": "code",
   "execution_count": null,
   "metadata": {},
   "outputs": [],
   "source": []
  },
  {
   "cell_type": "code",
   "execution_count": null,
   "metadata": {},
   "outputs": [],
   "source": []
  }
 ],
 "metadata": {
  "kernelspec": {
   "display_name": "Python 3",
   "language": "python",
   "name": "python3"
  },
  "language_info": {
   "codemirror_mode": {
    "name": "ipython",
    "version": 3
   },
   "file_extension": ".py",
   "mimetype": "text/x-python",
   "name": "python",
   "nbconvert_exporter": "python",
   "pygments_lexer": "ipython3",
   "version": "3.7.6"
  }
 },
 "nbformat": 4,
 "nbformat_minor": 4
}
