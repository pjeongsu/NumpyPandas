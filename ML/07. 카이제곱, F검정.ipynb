{
 "cells": [
  {
   "cell_type": "code",
   "execution_count": 6,
   "metadata": {},
   "outputs": [],
   "source": [
    "import scipy.stats as stats\n",
    "import numpy as np\n",
    "import matplotlib.pyplot as plt\n",
    "import math\n",
    "import matplotlib\n",
    "import scipy.stats as stats\n",
    "\n",
    "matplotlib.rcParams['font.family']='Malgun Gothic'\n",
    "matplotlib.rcParams['axes.unicode_minus'] = False"
   ]
  },
  {
   "cell_type": "markdown",
   "metadata": {},
   "source": [
    "## t 검정 : 모집단 분산 정보가 없다"
   ]
  },
  {
   "cell_type": "code",
   "execution_count": null,
   "metadata": {},
   "outputs": [],
   "source": [
    "표본: 20명의 벤처기업경영자 \n",
    "    혈압평균 135, 표준편차 25\n",
    "\n",
    "일반인의 혈압평균 115 인경우\n",
    "벤처기업경영자의 혈압이 일반인보다 높은지 아닌지를 검정하시요.\n",
    "(양측검정) 95% 입니다."
   ]
  },
  {
   "cell_type": "code",
   "execution_count": 19,
   "metadata": {},
   "outputs": [
    {
     "data": {
      "text/plain": [
       "0.00017330967556727916"
      ]
     },
     "execution_count": 19,
     "metadata": {},
     "output_type": "execute_result"
    }
   ],
   "source": [
    "rv = stats.norm(0, 1)\n",
    "t_score = (135 - 115) / (25 / math.sqrt(20))\n",
    "p_value = 1 - rv.cdf(t_score)\n",
    "p_value # 0.025보다 작으므로 귀무가설 기각 대립가설 채택!"
   ]
  },
  {
   "cell_type": "code",
   "execution_count": 21,
   "metadata": {},
   "outputs": [
    {
     "name": "stdout",
     "output_type": "stream",
     "text": [
      "reject H0\n"
     ]
    },
    {
     "data": {
      "text/plain": [
       "0.00017330967556727916"
      ]
     },
     "execution_count": 21,
     "metadata": {},
     "output_type": "execute_result"
    }
   ],
   "source": [
    "rv    = stats.norm( 0, 1 )\n",
    "mu    = 115\n",
    "n     = 20\n",
    "xbar  = 135\n",
    "sigma = 25\n",
    "p     = 1 - rv.cdf( (math.sqrt( n )*( xbar - mu ) / sigma) )\n",
    "alpha = 0.05\n",
    "if p < alpha/2:\n",
    "    print('reject H0')\n",
    "else:\n",
    "    print('not reject H0')\n",
    "p"
   ]
  },
  {
   "cell_type": "markdown",
   "metadata": {},
   "source": [
    "## t검정\n",
    "- 평균에 대한 가설검정\n",
    "- 표본평균이 모집단 평균과 동일한지 여부\n",
    "- 모집단에 대한 분산 정보가 없다\n",
    "- 모집단의 분산이 같다는 가정 하에 함\n",
    "\n",
    "$$\n",
    "\\begin{align}\n",
    " t= \\dfrac{ \\bar{x} - \\mu }{ \\dfrac{ s }{ \\sqrt{n} } } \n",
    "\\end{align}\n",
    "$$\n",
    "$ \\bar{x} 는 표본평균 $ <br>\n",
    "$ \\mu 는 모집단 평균 $ <br>\n",
    "$ s 는 표본의 표준편차 $ <br>\n",
    "$ n 는 표본의 크기 $ <br>\n",
    "$ n 는 표본의 크기 $ <br>$  표본평균의 표준편차(표준오차) $ <br>"
   ]
  },
  {
   "cell_type": "markdown",
   "metadata": {},
   "source": [
    "### 1-Sample T-test(단일 표본 t-검정)\n",
    "전체 학생들 중 20명의 학생들을 추려 키를 재서 전체 학생들의 평균 키가 \n",
    "175cm인지 아닌지 알아보고 싶다.<br>\n",
    " 귀무 가설: 학생들의 평균 키가 175cm이다.<br>\n",
    " 대립 가설: 학생들의 평균 키가 175cm가 아니다.\n"
   ]
  },
  {
   "cell_type": "code",
   "execution_count": 3,
   "metadata": {},
   "outputs": [],
   "source": [
    "np.random.seed(1)\n",
    "height = 180+ np.random.normal(0, 5, 20 )"
   ]
  },
  {
   "cell_type": "code",
   "execution_count": 4,
   "metadata": {},
   "outputs": [
    {
     "data": {
      "text/plain": [
       "array([188.12172682, 176.94121793, 177.35914124, 174.63515689,\n",
       "       184.32703815, 168.49230652, 188.72405882, 176.1939655 ,\n",
       "       181.59519548, 178.75314812, 187.31053969, 169.69929645,\n",
       "       178.38791398, 178.07972823, 185.66884721, 174.50054366,\n",
       "       179.13785896, 175.61070791, 180.21106873, 182.91407607])"
      ]
     },
     "execution_count": 4,
     "metadata": {},
     "output_type": "execute_result"
    }
   ],
   "source": [
    "height"
   ]
  },
  {
   "cell_type": "code",
   "execution_count": 11,
   "metadata": {},
   "outputs": [
    {
     "name": "stdout",
     "output_type": "stream",
     "text": [
      "p-value : 0.00277711459981648\n"
     ]
    }
   ],
   "source": [
    "# stats.ttest_1samp\n",
    "\n",
    "tTestResult = stats.ttest_1samp(height, 175)\n",
    "print('p-value :', tTestResult.pvalue)"
   ]
  },
  {
   "cell_type": "markdown",
   "metadata": {},
   "source": [
    "### Unpaired T-test(독립 표본 t-검정):서로 다른 두 집단\n",
    "집단 1과 집단 2에서 각각 20명의 학생들을 추려, 각 집단의 키가 같은지, \n",
    "다른지 알아보고 싶다.<br>\n",
    "- 귀무 가설: 두 집단의 평균 키는 같다.\n",
    "- 대립 가설: 두 집단의 평균 키는 같지 않다.(양측 검정)\n",
    "\n",
    "독립표본\n",
    "- 등분산 가정 두집단\n",
    "- 이분산 가정 두집단\n",
    "- 등분산여부는 F검정으로 확인"
   ]
  },
  {
   "cell_type": "code",
   "execution_count": 16,
   "metadata": {},
   "outputs": [],
   "source": [
    "np.random.seed(1)\n",
    "group1Heights = 170 + np.random.normal(0, 5, 20 )\n",
    "group2Heights = 175 + np.random.normal(0, 10, 20 )"
   ]
  },
  {
   "cell_type": "code",
   "execution_count": 17,
   "metadata": {
    "scrolled": true
   },
   "outputs": [
    {
     "data": {
      "text/plain": [
       "array([178.12172682, 166.94121793, 167.35914124, 164.63515689,\n",
       "       174.32703815, 158.49230652, 178.72405882, 166.1939655 ,\n",
       "       171.59519548, 168.75314812, 177.31053969, 159.69929645,\n",
       "       168.38791398, 168.07972823, 175.66884721, 164.50054366,\n",
       "       169.13785896, 165.61070791, 170.21106873, 172.91407607])"
      ]
     },
     "execution_count": 17,
     "metadata": {},
     "output_type": "execute_result"
    }
   ],
   "source": [
    "group1Heights"
   ]
  },
  {
   "cell_type": "code",
   "execution_count": 18,
   "metadata": {
    "scrolled": true
   },
   "outputs": [
    {
     "data": {
      "text/plain": [
       "array([163.99380823, 186.4472371 , 184.01590721, 180.02494339,\n",
       "       184.00855949, 168.16272141, 173.77109774, 165.64230566,\n",
       "       172.3211192 , 180.30355467, 168.08339248, 171.03246473,\n",
       "       168.128273  , 166.54794359, 168.28753869, 174.87335401,\n",
       "       163.82689651, 177.34415698, 191.59802177, 182.42044161])"
      ]
     },
     "execution_count": 18,
     "metadata": {},
     "output_type": "execute_result"
    }
   ],
   "source": [
    "group2Heights"
   ]
  },
  {
   "cell_type": "code",
   "execution_count": 22,
   "metadata": {},
   "outputs": [
    {
     "data": {
      "text/plain": [
       "Ttest_indResult(statistic=-2.329449625074386, pvalue=0.025249639899591222)"
      ]
     },
     "execution_count": 22,
     "metadata": {},
     "output_type": "execute_result"
    }
   ],
   "source": [
    "# 등분산 가정\n",
    "\n",
    "r1 = stats.ttest_ind( group1Heights, group2Heights)\n",
    "print(r1.pvalue) # 두 집단 평균키는 같지 않다"
   ]
  },
  {
   "cell_type": "code",
   "execution_count": 23,
   "metadata": {},
   "outputs": [
    {
     "name": "stdout",
     "output_type": "stream",
     "text": [
      "0.025992343643634945\n"
     ]
    }
   ],
   "source": [
    "# 이분산 가정 :  equal_var=False 인자를 주기\n",
    "\n",
    "r1 = stats.ttest_ind( group1Heights, group2Heights, equal_var=False)\n",
    "print(r1.pvalue) # 두 집단 평균키는 같지 않다"
   ]
  },
  {
   "cell_type": "markdown",
   "metadata": {},
   "source": [
    "### Paired T-test(짝을 이룬 집단의 평균차이 검정)"
   ]
  },
  {
   "cell_type": "code",
   "execution_count": 25,
   "metadata": {},
   "outputs": [],
   "source": [
    "np.random.seed(1)\n",
    "\n",
    "#before treatment : mean 60, standard deviation 5\n",
    "beforeWeights = [60 + np.random.normal(0, 5) for _ in range(20)]\n",
    "#after treatment : mean 0.99-fold decrease, standard deviation 0.02\n",
    "afterWeights = [w * np.random.normal(0.99, 0.02) for w in beforeWeights]"
   ]
  },
  {
   "cell_type": "code",
   "execution_count": 26,
   "metadata": {
    "scrolled": true
   },
   "outputs": [
    {
     "data": {
      "text/plain": [
       "[68.1217268183162,\n",
       " 56.94121793174962,\n",
       " 57.359141238682724,\n",
       " 54.63515688921915,\n",
       " 64.3270381466234,\n",
       " 48.492306515598585,\n",
       " 68.7240588210824,\n",
       " 56.19396549552449,\n",
       " 61.59519548028549,\n",
       " 58.75314812261295,\n",
       " 67.31053968522487,\n",
       " 49.69929645251173,\n",
       " 58.38791397993246,\n",
       " 58.07972822665792,\n",
       " 65.66884721167719,\n",
       " 54.500543663429845,\n",
       " 59.13785896224782,\n",
       " 55.61070791039314,\n",
       " 60.21106873357797,\n",
       " 62.914076068579114]"
      ]
     },
     "execution_count": 26,
     "metadata": {},
     "output_type": "execute_result"
    }
   ],
   "source": [
    "beforeWeights"
   ]
  },
  {
   "cell_type": "code",
   "execution_count": 27,
   "metadata": {},
   "outputs": [
    {
     "data": {
      "text/plain": [
       "[65.94098797171107,\n",
       " 57.67544499710449,\n",
       " 57.819839215935254,\n",
       " 54.63788246116392,\n",
       " 64.84275566541605,\n",
       " 47.34427263203588,\n",
       " 67.86790793112998,\n",
       " 54.58033393455883,\n",
       " 60.64923115285458,\n",
       " 58.78881770728494,\n",
       " 65.70631311881824,\n",
       " 48.80793606499072,\n",
       " 57.001583230054315,\n",
       " 56.517144665313666,\n",
       " 64.13055954741337,\n",
       " 53.94173367626836,\n",
       " 57.224973536332286,\n",
       " 55.315321289307555,\n",
       " 61.60772730564428,\n",
       " 63.218635763189475]"
      ]
     },
     "execution_count": 27,
     "metadata": {},
     "output_type": "execute_result"
    }
   ],
   "source": [
    "afterWeights"
   ]
  },
  {
   "cell_type": "code",
   "execution_count": 28,
   "metadata": {},
   "outputs": [
    {
     "name": "stdout",
     "output_type": "stream",
     "text": [
      "0.008871163766572827\n"
     ]
    }
   ],
   "source": [
    "t2 = stats.ttest_rel(beforeWeights, afterWeights)\n",
    "print(t2.pvalue) # 차이가 있다"
   ]
  },
  {
   "cell_type": "markdown",
   "metadata": {},
   "source": [
    "## 카이제곱검정\n",
    "- 카이제곱 분포에 기초한 통계적 방법\n",
    "- 관찰된 빈도가 기대빈도와 의미있게 다른지의 여부를 검증하기 위해 사용되는 검증방법\n",
    "- 자료가 빈도로 주어졌을 때, 특히 명목척도 자료의 분석에 이용\n",
    "- 질적자료와 질적자료간에 서로 통계적으로 관계가 있는지 판단하는 검정\n",
    "- 단일표본의 모집단이 정규분포를 따르며 분산을 미리 알고 있는 경우에 적용된다.\n"
   ]
  },
  {
   "cell_type": "code",
   "execution_count": 29,
   "metadata": {},
   "outputs": [
    {
     "data": {
      "text/html": [
       "<div>\n",
       "<style scoped>\n",
       "    .dataframe tbody tr th:only-of-type {\n",
       "        vertical-align: middle;\n",
       "    }\n",
       "\n",
       "    .dataframe tbody tr th {\n",
       "        vertical-align: top;\n",
       "    }\n",
       "\n",
       "    .dataframe thead th {\n",
       "        text-align: right;\n",
       "    }\n",
       "</style>\n",
       "<table border=\"1\" class=\"dataframe\">\n",
       "  <thead>\n",
       "    <tr style=\"text-align: right;\">\n",
       "      <th></th>\n",
       "      <th>Item A</th>\n",
       "      <th>Item B</th>\n",
       "      <th>Item C</th>\n",
       "    </tr>\n",
       "  </thead>\n",
       "  <tbody>\n",
       "    <tr>\n",
       "      <th>관찰</th>\n",
       "      <td>324</td>\n",
       "      <td>78</td>\n",
       "      <td>261</td>\n",
       "    </tr>\n",
       "    <tr>\n",
       "      <th>기대</th>\n",
       "      <td>371</td>\n",
       "      <td>80</td>\n",
       "      <td>212</td>\n",
       "    </tr>\n",
       "  </tbody>\n",
       "</table>\n",
       "</div>"
      ],
      "text/plain": [
       "    Item A  Item B  Item C\n",
       "관찰     324      78     261\n",
       "기대     371      80     212"
      ]
     },
     "execution_count": 29,
     "metadata": {},
     "output_type": "execute_result"
    }
   ],
   "source": [
    "from pandas import DataFrame\n",
    "\n",
    "xo, xe = [324, 78, 261], [371, 80, 212]\n",
    "xc = DataFrame([xo, xe], columns=['Item A', 'Item B', 'Item C'], \n",
    "               index=['관찰', '기대'])\n",
    "xc"
   ]
  },
  {
   "cell_type": "code",
   "execution_count": 30,
   "metadata": {
    "scrolled": false
   },
   "outputs": [
    {
     "data": {
      "image/png": "[encoded data removed]",
      "text/plain": [
       "<Figure size 576x432 with 1 Axes>"
      ]
     },
     "metadata": {
      "needs_background": "light"
     },
     "output_type": "display_data"
    }
   ],
   "source": [
    "import matplotlib.pyplot as plt\n",
    "%matplotlib inline\n",
    "\n",
    "ax = xc.plot(kind='bar', title='Number of Items', figsize=(8, 6))\n",
    "ax.set_ylabel('value')\n",
    "plt.grid(color='darkgray')\n",
    "plt.show()"
   ]
  },
  {
   "cell_type": "code",
   "execution_count": 32,
   "metadata": {},
   "outputs": [
    {
     "data": {
      "text/plain": [
       "[324, 78, 261]"
      ]
     },
     "execution_count": 32,
     "metadata": {},
     "output_type": "execute_result"
    }
   ],
   "source": [
    "xo # 관찰치"
   ]
  },
  {
   "cell_type": "code",
   "execution_count": 33,
   "metadata": {
    "scrolled": true
   },
   "outputs": [
    {
     "data": {
      "text/plain": [
       "[371, 80, 212]"
      ]
     },
     "execution_count": 33,
     "metadata": {},
     "output_type": "execute_result"
    }
   ],
   "source": [
    "xe # 기대치"
   ]
  },
  {
   "cell_type": "code",
   "execution_count": 34,
   "metadata": {
    "scrolled": true
   },
   "outputs": [
    {
     "data": {
      "text/plain": [
       "0.00017254977751013492"
      ]
     },
     "execution_count": 34,
     "metadata": {},
     "output_type": "execute_result"
    }
   ],
   "source": [
    "from scipy.stats import chisquare\n",
    "\n",
    "result = chisquare(xo, f_exp=xe)\n",
    "result.pvalue # 대립가설을 채택 # 관찰과 기대빈도는 다르다"
   ]
  },
  {
   "cell_type": "markdown",
   "metadata": {},
   "source": [
    "## F검정\n",
    "#### 등분산성 여부를 검정"
   ]
  },
  {
   "cell_type": "code",
   "execution_count": 36,
   "metadata": {},
   "outputs": [
    {
     "name": "stdout",
     "output_type": "stream",
     "text": [
      "F_onewayResult(statistic=1.4591624718860445, pvalue=0.24269553293319618)\n",
      "F_onewayResult(statistic=2.835186691980833, pvalue=0.10776455501678371)\n"
     ]
    }
   ],
   "source": [
    "#남녀의 영어 성적에 대한 분산 분석\n",
    "from scipy.stats import f_oneway\n",
    "boy = np.array( [46,47,58,47,27,58,56,26,47,25] )\n",
    "girl= np.array( [78,57,31,28,67,77,36,57,36,57] )\n",
    "\n",
    "# 영화의 광고 전후에 대한 선호도\n",
    "bf = np.array([11,14,18,21,26,28,37,45,48,60,64] )\n",
    "af = np.array([13,15,17,18,19,23,25,28,29,36,37])\n",
    "\n",
    "print( f_oneway( boy, girl) ) # 분산이 같다\n",
    "print( f_oneway( bf, af) ) # 분산이 같다"
   ]
  }
 ],
 "metadata": {
  "kernelspec": {
   "display_name": "Python 3",
   "language": "python",
   "name": "python3"
  },
  "language_info": {
   "codemirror_mode": {
    "name": "ipython",
    "version": 3
   },
   "file_extension": ".py",
   "mimetype": "text/x-python",
   "name": "python",
   "nbconvert_exporter": "python",
   "pygments_lexer": "ipython3",
   "version": "3.7.6"
  }
 },
 "nbformat": 4,
 "nbformat_minor": 4
}
