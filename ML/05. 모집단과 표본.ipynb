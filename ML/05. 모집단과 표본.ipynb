{
 "cells": [
  {
   "cell_type": "code",
   "execution_count": 3,
   "metadata": {},
   "outputs": [],
   "source": [
    "import numpy as np\n",
    "import pandas as pd\n",
    "import matplotlib.pyplot as plt\n",
    "\n",
    "plt.rcParams[\"font.size\"] = 15\n",
    "plt.rcParams[\"figure.figsize\"] = (8, 6)"
   ]
  },
  {
   "cell_type": "markdown",
   "metadata": {},
   "source": [
    "### 기술통계"
   ]
  },
  {
   "cell_type": "markdown",
   "metadata": {},
   "source": [
    " 분포를 표현하는 또다른 방법은 분포의 특징을 나타내는 여러가지 숫자를 계산하여 그 숫자로서 분포를 나타내는 것이다. 이러한 값들을 **기술통계(descriptive statistics)**라고 한다. 대표적인 기술통계는 다음과 같다.\n",
    "\n",
    "* 표본평균, 표본중앙값, 표본최빈값\n",
    "* 표본분산, 표본표준편차\n",
    "* 표본왜도, 표본첨도"
   ]
  },
  {
   "cell_type": "markdown",
   "metadata": {},
   "source": [
    "### 표본평균"
   ]
  },
  {
   "cell_type": "markdown",
   "metadata": {},
   "source": [
    "**표본평균(sample mean, sample average)**:\n",
    "데이터 분포의 대략적인 위치를 나타낸다. 표본평균의 기호로는 알파벳 $m$ 또는 데이터를 나타내는 변수 기호 위에 bar를 붙인 $\\bar x$ 기호를 사용한다.\n",
    "\n",
    "$$ \n",
    "\\begin{align}\n",
    "m = \\bar{x} = \\dfrac{1}{N}\\sum_{i=1}^{N} x_i \n",
    "\\tag{1}\n",
    "\\end{align}\n",
    "$$\n",
    "\n",
    "이 식에서 $N$는 자료의 개수, $i$는 자료의 순서(index)를 뜻한다. "
   ]
  },
  {
   "cell_type": "markdown",
   "metadata": {},
   "source": [
    "### 분산과 표준편차"
   ]
  },
  {
   "cell_type": "markdown",
   "metadata": {},
   "source": [
    "데이터가 얼마나 변동(variation)하고 있는지를 알아야 한다. \n",
    "이러한 정보를 알려주는 특징값이 **표본분산(sample variance)** 또는 **표본표준편차(sample standard deviation)**이다. \n",
    "평균이나 기댓값이 분포의 **위치**를 대표하는 것이라면 분산은 분포의 **폭(width)**을 대표하는 값이다. 표준편차는 분산에 대한 양의 제곱근(square root)값이다.\n",
    "\n",
    "$$\n",
    "\\begin{align}\n",
    "\\text{표준편차} = \\sqrt{\\text{분산}}\n",
    "\\tag{2}\n",
    "\\end{align}\n",
    "$$\n",
    "\n",
    "표본분산은 다음처럼 구한다. 식에서 $\\bar{x}$은 표본평균이다.\n",
    "\n",
    "$$ \n",
    "\\begin{align}\n",
    "s^2 = \\dfrac{1}{N}\\sum_{i=1}^{N} (x_i-\\bar{x})^2 \n",
    "\\tag{3}\n",
    "\\end{align}\n",
    "$$"
   ]
  },
  {
   "cell_type": "markdown",
   "metadata": {},
   "source": [
    "위 식에서 구한 표본분산은 정확하게 말하면 편향오차를 가진 **편향 표본분산(biased sample variance)**이다. 이와 대조되는 **비편향 표본분산(unbiased sample variance)**은 다음과 같이 구한다.\n",
    "\n",
    "$$ \n",
    "\\begin{align}\n",
    "s^2_{\\text{unbiased}} = \\dfrac{1}{N-1}\\sum_{i=1}^{N} (x_i-\\bar{x})^2\n",
    "\\tag{4}\n",
    "\\end{align}\n",
    "$$\n"
   ]
  },
  {
   "cell_type": "markdown",
   "metadata": {},
   "source": [
    "## 자유도"
   ]
  },
  {
   "cell_type": "markdown",
   "metadata": {},
   "source": [
    "통계학에서 자유도(degrees of freedom)는 통계적 추정을 할 때 표본자료 중 모집단에 대한 정보를 주는 독립적인 자료의 수를 말한다.<br>\n",
    "크기가 n인 표본의 관측값\n",
    "$({\\displaystyle x_{1},x_{2},\\dots ,x_{n}}{\\displaystyle x_{1},x_{2},\\dots ,x_{n}})의 자유도는 n-1이다.$<br>\n",
    "$거기서 구한 표본 {\\displaystyle {\\bar {x}}}에 대해서도 마찬가지이다.$\n",
    "$$\n",
    "\\begin{align}\n",
    "분산 {\\displaystyle s^{2}={\\frac {\\sum _{i=1}^{n}({\\bar {x}}-x_{i})^{2}}{n-1}}}에 대해, {\\displaystyle {\\bar {x}}={\\frac {1}{n}}\\sum _{i=1}^{n}x_{i}}인 관계식(여기서 {\\displaystyle {\\bar {x}}}는 모집단의 평균 μ의 추정치이다)이 있기 때문에\n",
    "자유도는 1 적은 n-1이 된다.\n",
    "\\end{align}\n",
    "$$\n",
    "\n",
    "위키백과"
   ]
  },
  {
   "cell_type": "markdown",
   "metadata": {},
   "source": [
    "다음의 자료를 살펴보자.\n",
    "\n",
    "10 14 12 18 16\n",
    "\n",
    "이 자료의 합계는 70이고, 평균은 14이다. 우리는 평균이 14임을 알고 있으므로 만약 위의 숫자 중 하나를 모르더라도 그 숫자를 찾아낼 수 있다. 마지막 숫자 16을 모르고 평균이 14임을 안다고 가정하자. 평균이 14이면 숫자들의 합계가 70인 것도 알 수 있다. 그리고 나머지 4개의 숫자가 각각 10, 14, 12, 18이므로 전체 합계에서 위 4개의 숫자를 빼면 마지막 숫자는 16이라는 것을 알 수 있다.\n",
    "\n",
    "그러므로 표본평균 값을 알고 있으면 전체 자료 중 자유롭게 값을 취할 수 있는 관찰치의 개수는 4개인 것이다.\n",
    " \n",
    "\n",
    "그러면 모집단분산의 계산에서는 자유도가 N인데, 왜 표본분산에서는 n-1인가? 분산을 계산하기 위해서는 자료의 중심인 모집단평균을 사용해야 하지만, 표본에서는 모집단평균을 알 수가 없으므로 표본평균을 모집단평균 대신에 사용한다. 그러나 표본평균이 모집단평균과 일치한다고 볼 수는 없다. 그리고 표본평균은 표본자료에서 계산되었으므로 전체 자료 중 분산의 계산에는 n-1개만 사용된다고 할 수 있다"
   ]
  },
  {
   "cell_type": "markdown",
   "metadata": {},
   "source": [
    "### 파이썬을 사용한 표본분산 및 표본표준편차의 계산"
   ]
  },
  {
   "cell_type": "markdown",
   "metadata": {},
   "source": [
    "파이썬에서 표본분산과 표본표준편차를 구할 때는 다음 함수를 사용한다. `ddof` 인수를 이용하면 비편향 표본분산과 표본표준편차를 구할 수 있다.\n",
    "\n",
    "* [`var()`](https://docs.scipy.org/doc/numpy/reference/generated/numpy.var.html)\n",
    "* [`std()`](https://docs.scipy.org/doc/numpy/reference/generated/numpy.std.html)"
   ]
  },
  {
   "cell_type": "markdown",
   "metadata": {},
   "source": [
    "정리 잘된곳\n",
    "https://angeloyeo.github.io/2020/02/12/standard_error.html"
   ]
  },
  {
   "cell_type": "code",
   "execution_count": 4,
   "metadata": {},
   "outputs": [
    {
     "data": {
      "text/plain": [
       "array([76, 55, 80, 80, 74, 61, 81, 76, 23, 80], dtype=int64)"
      ]
     },
     "execution_count": 4,
     "metadata": {},
     "output_type": "execute_result"
    }
   ],
   "source": [
    "df = pd.read_csv('../data3/ch4_scores400.csv')\n",
    "scores = np.array(df['score']) # 또는 df['score'].values\n",
    "scores[:10]"
   ]
  },
  {
   "cell_type": "code",
   "execution_count": 5,
   "metadata": {},
   "outputs": [
    {
     "data": {
      "text/html": [
       "<div>\n",
       "<style scoped>\n",
       "    .dataframe tbody tr th:only-of-type {\n",
       "        vertical-align: middle;\n",
       "    }\n",
       "\n",
       "    .dataframe tbody tr th {\n",
       "        vertical-align: top;\n",
       "    }\n",
       "\n",
       "    .dataframe thead th {\n",
       "        text-align: right;\n",
       "    }\n",
       "</style>\n",
       "<table border=\"1\" class=\"dataframe\">\n",
       "  <thead>\n",
       "    <tr style=\"text-align: right;\">\n",
       "      <th></th>\n",
       "      <th>score</th>\n",
       "    </tr>\n",
       "  </thead>\n",
       "  <tbody>\n",
       "    <tr>\n",
       "      <th>0</th>\n",
       "      <td>76</td>\n",
       "    </tr>\n",
       "    <tr>\n",
       "      <th>1</th>\n",
       "      <td>55</td>\n",
       "    </tr>\n",
       "    <tr>\n",
       "      <th>2</th>\n",
       "      <td>80</td>\n",
       "    </tr>\n",
       "    <tr>\n",
       "      <th>3</th>\n",
       "      <td>80</td>\n",
       "    </tr>\n",
       "    <tr>\n",
       "      <th>4</th>\n",
       "      <td>74</td>\n",
       "    </tr>\n",
       "    <tr>\n",
       "      <th>...</th>\n",
       "      <td>...</td>\n",
       "    </tr>\n",
       "    <tr>\n",
       "      <th>395</th>\n",
       "      <td>77</td>\n",
       "    </tr>\n",
       "    <tr>\n",
       "      <th>396</th>\n",
       "      <td>60</td>\n",
       "    </tr>\n",
       "    <tr>\n",
       "      <th>397</th>\n",
       "      <td>83</td>\n",
       "    </tr>\n",
       "    <tr>\n",
       "      <th>398</th>\n",
       "      <td>80</td>\n",
       "    </tr>\n",
       "    <tr>\n",
       "      <th>399</th>\n",
       "      <td>85</td>\n",
       "    </tr>\n",
       "  </tbody>\n",
       "</table>\n",
       "<p>400 rows × 1 columns</p>\n",
       "</div>"
      ],
      "text/plain": [
       "     score\n",
       "0       76\n",
       "1       55\n",
       "2       80\n",
       "3       80\n",
       "4       74\n",
       "..     ...\n",
       "395     77\n",
       "396     60\n",
       "397     83\n",
       "398     80\n",
       "399     85\n",
       "\n",
       "[400 rows x 1 columns]"
      ]
     },
     "execution_count": 5,
     "metadata": {},
     "output_type": "execute_result"
    }
   ],
   "source": [
    "df"
   ]
  },
  {
   "cell_type": "code",
   "execution_count": 6,
   "metadata": {},
   "outputs": [
    {
     "data": {
      "text/plain": [
       "69.53"
      ]
     },
     "execution_count": 6,
     "metadata": {},
     "output_type": "execute_result"
    }
   ],
   "source": [
    "scores.mean()"
   ]
  },
  {
   "cell_type": "code",
   "execution_count": 7,
   "metadata": {},
   "outputs": [
    {
     "data": {
      "text/plain": [
       "400"
      ]
     },
     "execution_count": 7,
     "metadata": {},
     "output_type": "execute_result"
    }
   ],
   "source": [
    "len(df)"
   ]
  },
  {
   "cell_type": "markdown",
   "metadata": {},
   "source": [
    "## 임의로 표본추출"
   ]
  },
  {
   "cell_type": "code",
   "execution_count": 8,
   "metadata": {},
   "outputs": [
    {
     "data": {
      "text/plain": [
       "array([10,  9,  2])"
      ]
     },
     "execution_count": 8,
     "metadata": {},
     "output_type": "execute_result"
    }
   ],
   "source": [
    "# 참고\n",
    "np.random.choice([1, 2, 3, 4, 5, 6, 7, 8, 9, 10], 3) # 임의로 3개를 추출 - 디폴트 : 복원 "
   ]
  },
  {
   "cell_type": "code",
   "execution_count": 13,
   "metadata": {},
   "outputs": [
    {
     "name": "stdout",
     "output_type": "stream",
     "text": [
      "[49 60 72 86 52 61 77 91 80 56 69 67 90 56 75 79 60 79 68 81]\n",
      "70.4\n"
     ]
    }
   ],
   "source": [
    "# 통일 시키기 위해 seed함수 사용\n",
    "np.random.seed(0) # 똑같은 random결과를 얻기 위해서\n",
    "\n",
    "sample = np.random.choice(scores, 20)\n",
    "print(sample)\n",
    "print(sample.mean())"
   ]
  },
  {
   "cell_type": "code",
   "execution_count": 14,
   "metadata": {},
   "outputs": [
    {
     "data": {
      "text/plain": [
       "150.34000000000003"
      ]
     },
     "execution_count": 14,
     "metadata": {},
     "output_type": "execute_result"
    }
   ],
   "source": [
    "sample.var() # np.var(sample) # 편향 표본분산(n으로 나눔) - 자유도 적용x"
   ]
  },
  {
   "cell_type": "code",
   "execution_count": 15,
   "metadata": {},
   "outputs": [
    {
     "data": {
      "text/plain": [
       "12.261321299109653"
      ]
     },
     "execution_count": 15,
     "metadata": {},
     "output_type": "execute_result"
    }
   ],
   "source": [
    "sample.std() # np.std(sample) # 편향 표본표준편차(n으로 나눔) - 자유도 적용x"
   ]
  },
  {
   "cell_type": "code",
   "execution_count": 16,
   "metadata": {},
   "outputs": [
    {
     "data": {
      "text/plain": [
       "158.25263157894742"
      ]
     },
     "execution_count": 16,
     "metadata": {},
     "output_type": "execute_result"
    }
   ],
   "source": [
    "sample.var(ddof=1) # 비편향 표본분산 - 자유도 적용o"
   ]
  },
  {
   "cell_type": "code",
   "execution_count": 19,
   "metadata": {},
   "outputs": [
    {
     "name": "stdout",
     "output_type": "stream",
     "text": [
      "0 표본평균 : 72.45\n",
      "1 표본평균 : 63.7\n",
      "2 표본평균 : 66.05\n",
      "3 표본평균 : 71.7\n",
      "4 표본평균 : 74.15\n"
     ]
    }
   ],
   "source": [
    "for i in range(5):\n",
    "    sample1 = np.random.choice( scores, 20)\n",
    "    print(i, '표본평균 :', sample1.mean())"
   ]
  },
  {
   "cell_type": "code",
   "execution_count": 24,
   "metadata": {},
   "outputs": [
    {
     "data": {
      "image/png": "[encoded data removed]",
      "text/plain": [
       "<Figure size 576x432 with 1 Axes>"
      ]
     },
     "metadata": {
      "needs_background": "light"
     },
     "output_type": "display_data"
    }
   ],
   "source": [
    "# 모집단\n",
    "\n",
    "plt.xlabel('score')\n",
    "plt.ylabel('relative frequency')\n",
    "plt.hist(scores, bins=100, range=(0, 100), density=True) # density=True는 상대도수로 출력을 의미!\n",
    "plt.xlim(20, 100) # x축 범위 지정\n",
    "plt.show()"
   ]
  },
  {
   "cell_type": "code",
   "execution_count": 26,
   "metadata": {},
   "outputs": [
    {
     "data": {
      "image/png": "[encoded data removed]",
      "text/plain": [
       "<Figure size 576x432 with 1 Axes>"
      ]
     },
     "metadata": {
      "needs_background": "light"
     },
     "output_type": "display_data"
    }
   ],
   "source": [
    "# 표본 추출\n",
    "\n",
    "sample2 = np.random.choice(scores, 10000)\n",
    "\n",
    "plt.hist(sample2, bins=100, range=(0, 100), density=True)\n",
    "plt.xlim(20, 100)\n",
    "plt.show()"
   ]
  },
  {
   "cell_type": "markdown",
   "metadata": {},
   "source": [
    "## <결론>\n",
    "### 1. 표본이 충분히 크면 모집단에 가까워진다."
   ]
  },
  {
   "cell_type": "code",
   "execution_count": 32,
   "metadata": {},
   "outputs": [],
   "source": [
    "# 표본 평균 -> 20개의 샘플을 모집단에서 뽑고 100번 이것을 반복해서 각각 평균을 구함\n",
    "np.random.seed(0)\n",
    "\n",
    "n = 20\n",
    "nSample = 100\n",
    "sample_mean = np.array([np.random.choice(scores, n).mean() for _ in range(nSample)])"
   ]
  },
  {
   "cell_type": "code",
   "execution_count": 33,
   "metadata": {
    "scrolled": true
   },
   "outputs": [
    {
     "data": {
      "text/plain": [
       "array([70.4 , 72.45, 63.7 , 66.05, 71.7 , 74.15, 70.7 , 71.9 , 71.25,\n",
       "       67.4 , 67.7 , 69.15, 69.5 , 71.35, 69.4 , 71.5 , 70.65, 69.95,\n",
       "       68.8 , 69.15, 71.25, 67.85, 73.1 , 75.15, 73.95, 67.4 , 67.45,\n",
       "       70.8 , 66.45, 66.5 , 68.8 , 67.1 , 72.65, 73.85, 73.  , 66.15,\n",
       "       65.15, 72.8 , 72.9 , 62.2 , 67.4 , 65.75, 64.2 , 70.1 , 69.9 ,\n",
       "       69.35, 67.  , 72.7 , 65.1 , 73.7 , 67.45, 74.45, 73.55, 71.45,\n",
       "       70.5 , 67.75, 74.85, 77.25, 69.7 , 64.3 , 74.45, 72.85, 68.9 ,\n",
       "       73.85, 66.7 , 67.7 , 68.05, 72.85, 68.1 , 64.7 , 70.15, 66.  ,\n",
       "       67.8 , 69.1 , 70.45, 71.8 , 63.6 , 74.1 , 70.75, 68.9 , 70.35,\n",
       "       65.1 , 62.95, 73.85, 66.7 , 68.2 , 66.9 , 75.05, 66.4 , 69.9 ,\n",
       "       73.55, 71.15, 68.85, 66.35, 68.1 , 70.05, 67.35, 68.6 , 68.5 ,\n",
       "       73.25])"
      ]
     },
     "execution_count": 33,
     "metadata": {},
     "output_type": "execute_result"
    }
   ],
   "source": [
    "# 각각은 표본평균\n",
    "# 표본 20개씩 10000개\n",
    "\n",
    "sample_mean"
   ]
  },
  {
   "cell_type": "code",
   "execution_count": 34,
   "metadata": {},
   "outputs": [
    {
     "data": {
      "text/plain": [
       "69.53"
      ]
     },
     "execution_count": 34,
     "metadata": {},
     "output_type": "execute_result"
    }
   ],
   "source": [
    "# 모평균 \n",
    "scores.mean()"
   ]
  },
  {
   "cell_type": "code",
   "execution_count": 35,
   "metadata": {},
   "outputs": [
    {
     "data": {
      "text/plain": [
       "69.59750000000001"
      ]
     },
     "execution_count": 35,
     "metadata": {},
     "output_type": "execute_result"
    }
   ],
   "source": [
    "# 표본평균의 평균 # E(X바)\n",
    "sample_mean.mean(0)"
   ]
  },
  {
   "cell_type": "markdown",
   "metadata": {},
   "source": [
    "### 2. 표본의 개수가 충분히 많으면 모집단에 가까워진다"
   ]
  },
  {
   "cell_type": "code",
   "execution_count": 40,
   "metadata": {},
   "outputs": [],
   "source": [
    "import math"
   ]
  },
  {
   "cell_type": "code",
   "execution_count": 45,
   "metadata": {},
   "outputs": [
    {
     "name": "stdout",
     "output_type": "stream",
     "text": [
      "69.53\n",
      "69.59750000000001\n",
      "206.6691\n",
      "10.333454999999999\n",
      "10.050268749999997\n",
      "SEM : 3.2145691779770424\n",
      "3.170215883816116\n"
     ]
    }
   ],
   "source": [
    "# 모평균\n",
    "print(scores.mean())\n",
    "# 표본평균의 평균\n",
    "print(sample_mean.mean())\n",
    "\n",
    "# 모분산\n",
    "print(scores.var())\n",
    "# 표본평균의 분산 - 모집단의 분산을 n으로 나눈 것이랑 같음\n",
    "print(scores.var()/n) # n = 20\n",
    "print(sample_mean.var())\n",
    "\n",
    "# 표본평균의 편차(SEM : Standard Error of the Mean)\n",
    "# 표본평균의 표준편차\n",
    "print('SEM :', scores.std()/math.sqrt(n))\n",
    "print(sample_mean.std())"
   ]
  },
  {
   "cell_type": "markdown",
   "metadata": {},
   "source": [
    "# 모평균 추정"
   ]
  },
  {
   "cell_type": "markdown",
   "metadata": {},
   "source": [
    "### 신뢰구간 1.96(95% 신뢰도), 2.58(99% 신뢰도)"
   ]
  },
  {
   "cell_type": "code",
   "execution_count": 47,
   "metadata": {},
   "outputs": [],
   "source": [
    "n = 30\n",
    "sample1 = np.random.choice(scores, n)\n",
    "sMean = sample1.mean()\n",
    "sStd = sample1.std()"
   ]
  },
  {
   "cell_type": "code",
   "execution_count": 49,
   "metadata": {},
   "outputs": [
    {
     "name": "stdout",
     "output_type": "stream",
     "text": [
      "모평균 : 69.53\n",
      "표본평균 70.36666666666666\n",
      "모편차 14.375990400664575\n",
      "표본편차 12.504621367940556\n"
     ]
    }
   ],
   "source": [
    "print('모평균 :', scores.mean())\n",
    "print('표본평균', sMean)\n",
    "print('모 표준편차', scores.std())\n",
    "print('표본 표준편차', sStd)"
   ]
  },
  {
   "cell_type": "code",
   "execution_count": 55,
   "metadata": {},
   "outputs": [
    {
     "name": "stdout",
     "output_type": "stream",
     "text": [
      "65.22228457043781\n",
      "75.51104876289551\n",
      "신뢰구간 : 10.288764192457705\n"
     ]
    }
   ],
   "source": [
    "# 표본개수가 30개 이사이면 모표준편차와 표준편차를 동일한 것으로 본다\n",
    "# scores.std() 대신에 sStd 써도 됨\n",
    "\n",
    "a = sMean - 1.96*(scores.std()/math.sqrt(n))\n",
    "b = sMean + 1.96*(scores.std()/math.sqrt(n))\n",
    "print(a)\n",
    "print(b)\n",
    "\n",
    "# 95% 신뢰로 모평균은 66점~76점 사이에 존재한다.(추정)\n",
    "print('신뢰구간 :', b-a)"
   ]
  },
  {
   "cell_type": "code",
   "execution_count": 56,
   "metadata": {},
   "outputs": [
    {
     "data": {
      "text/plain": [
       "69.53"
      ]
     },
     "execution_count": 56,
     "metadata": {},
     "output_type": "execute_result"
    }
   ],
   "source": [
    "scores.mean()"
   ]
  },
  {
   "cell_type": "code",
   "execution_count": 57,
   "metadata": {},
   "outputs": [],
   "source": [
    "import scipy.stats as st"
   ]
  },
  {
   "cell_type": "code",
   "execution_count": 58,
   "metadata": {},
   "outputs": [
    {
     "data": {
      "text/plain": [
       "(65.89202760248273, 74.84130573085059)"
      ]
     },
     "execution_count": 58,
     "metadata": {},
     "output_type": "execute_result"
    }
   ],
   "source": [
    "# st.norm.interval 이용하면 신뢰구간을 얻을 수 있음\n",
    "\n",
    "# 95% 신뢰도 \n",
    "# 신뢰구간을 구함\n",
    "\n",
    "st.norm.interval(0.95, sample1.mean(), scale=st.sem(sample1, ddof=0))"
   ]
  },
  {
   "cell_type": "markdown",
   "metadata": {},
   "source": [
    "어느 호수의 납의 농도는 표준편차가 3mg/L 이다\n",
    "이 호수에서 납의 농도를 16번 측정한 결과 평균 농도는 18mg/L 이었다.\n",
    "이 호수에서 남의 농도에 대한 모평균 m 의 신뢰도 95%의 신뢰구간을 구하여라."
   ]
  },
  {
   "cell_type": "code",
   "execution_count": 61,
   "metadata": {},
   "outputs": [
    {
     "name": "stdout",
     "output_type": "stream",
     "text": [
      "16.53\n",
      "19.47\n",
      "신뢰구간 : 2.9399999999999977\n"
     ]
    }
   ],
   "source": [
    "a = 18 - 1.96*(3/math.sqrt(16))\n",
    "b = 18 + 1.96*(3/math.sqrt(16))\n",
    "print(a)\n",
    "print(b)\n",
    "\n",
    "print('신뢰구간 :', b-a)"
   ]
  },
  {
   "cell_type": "markdown",
   "metadata": {},
   "source": [
    "어느 고등학교 남학생 36명의 제자리멀리뛰기 기록은 평균이 216cm 표준편차가 10cm이었다.\n",
    "이 학교 남학생들의 제자리 멀리뛰기 기록에 대한 모평균 m의 신뢰도 99% 신뢰구간을 구하여라.."
   ]
  },
  {
   "cell_type": "code",
   "execution_count": 62,
   "metadata": {},
   "outputs": [
    {
     "name": "stdout",
     "output_type": "stream",
     "text": [
      "211.7\n",
      "220.3\n",
      "신뢰구간 : 8.600000000000023\n"
     ]
    }
   ],
   "source": [
    "# 모편차는 모르지만 표본의 개수가 30개 이상이라서 \n",
    "# 표본편차로 대신 사용할 수 있음!!\n",
    "\n",
    "a = 216 - 2.58*(10/math.sqrt(36))\n",
    "b = 216 + 2.58*(10/math.sqrt(36))\n",
    "print(a)\n",
    "print(b)\n",
    "\n",
    "print('신뢰구간 :', b-a)"
   ]
  },
  {
   "cell_type": "markdown",
   "metadata": {},
   "source": [
    "### 중심극한의 정리 : 표본의 크기가 클 때, 정규 분포 형태에 가까워진다 => 종모양"
   ]
  },
  {
   "cell_type": "code",
   "execution_count": 77,
   "metadata": {},
   "outputs": [],
   "source": [
    "n = 20\n",
    "nSample = 10000\n",
    "\n",
    "# 20개의 데이터가 든 표본이 100개\n",
    "sample_mean = np.array([np.random.choice(scores, n).mean() for X in range(nSample)])"
   ]
  },
  {
   "cell_type": "code",
   "execution_count": 79,
   "metadata": {},
   "outputs": [
    {
     "data": {
      "text/plain": [
       "array([68.25, 76.15, 66.9 , ..., 68.65, 61.75, 64.9 ])"
      ]
     },
     "execution_count": 79,
     "metadata": {},
     "output_type": "execute_result"
    }
   ],
   "source": [
    "sample_mean"
   ]
  },
  {
   "cell_type": "code",
   "execution_count": 81,
   "metadata": {},
   "outputs": [
    {
     "data": {
      "image/png": "[encoded data removed]",
      "text/plain": [
       "<Figure size 576x432 with 1 Axes>"
      ]
     },
     "metadata": {
      "needs_background": "light"
     },
     "output_type": "display_data"
    }
   ],
   "source": [
    "plt.hist(sample_mean, bins=100, range=(0,100), density=True)\n",
    "plt.xlim(50,90) # x축 값의 범위지정\n",
    "plt.vlines(scores.mean(), 0,0.12) # 모집단의 평균지정 # y의 범위지정 0~0.1\n",
    "# plt.axvline(scores)\n",
    "plt.show()"
   ]
  }
 ],
 "metadata": {
  "kernelspec": {
   "display_name": "Python 3",
   "language": "python",
   "name": "python3"
  },
  "language_info": {
   "codemirror_mode": {
    "name": "ipython",
    "version": 3
   },
   "file_extension": ".py",
   "mimetype": "text/x-python",
   "name": "python",
   "nbconvert_exporter": "python",
   "pygments_lexer": "ipython3",
   "version": "3.7.6"
  }
 },
 "nbformat": 4,
 "nbformat_minor": 4
}
