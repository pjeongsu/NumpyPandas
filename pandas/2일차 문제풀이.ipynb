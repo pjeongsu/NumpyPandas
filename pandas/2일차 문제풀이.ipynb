{
 "cells": [
  {
   "cell_type": "code",
   "execution_count": 1,
   "metadata": {},
   "outputs": [],
   "source": [
    "import pandas as pd\n",
    "import numpy as np\n",
    "import matplotlib.pyplot as plt\n",
    "\n",
    "\n",
    "import matplotlib\n",
    "matplotlib.rcParams['font.family']='Malgun Gothic'\n",
    "matplotlib.rcParams['axes.unicode_minus'] = False\n",
    "# 한글 표현위함"
   ]
  },
  {
   "cell_type": "code",
   "execution_count": 2,
   "metadata": {},
   "outputs": [
    {
     "data": {
      "text/plain": [
       "홍길동     90\n",
       "이순신     90\n",
       "임꺽정     55\n",
       "정난정     60\n",
       "이이      76\n",
       "이황      80\n",
       "정도전     76\n",
       "김철수1    88\n",
       "김철수2    30\n",
       "김철수3    25\n",
       "Name: 국어점수, dtype: int64"
      ]
     },
     "execution_count": 2,
     "metadata": {},
     "output_type": "execute_result"
    }
   ],
   "source": [
    "sr = pd.Series( [90,90,55,60,76,80,76,88,30,25],\n",
    "               name=\"국어점수\" )\n",
    "sr.index=['홍길동','이순신','임꺽정','정난정',\n",
    "         '이이','이황','정도전','김철수1',\n",
    "          '김철수2','김철수3']\n",
    "sr"
   ]
  },
  {
   "cell_type": "markdown",
   "metadata": {},
   "source": [
    "### 1. 이름순으로 정렬하시오"
   ]
  },
  {
   "cell_type": "code",
   "execution_count": 3,
   "metadata": {},
   "outputs": [
    {
     "data": {
      "text/plain": [
       "김철수1    88\n",
       "김철수2    30\n",
       "김철수3    25\n",
       "이순신     90\n",
       "이이      76\n",
       "이황      80\n",
       "임꺽정     55\n",
       "정난정     60\n",
       "정도전     76\n",
       "홍길동     90\n",
       "Name: 국어점수, dtype: int64"
      ]
     },
     "execution_count": 3,
     "metadata": {},
     "output_type": "execute_result"
    }
   ],
   "source": [
    "sr.sort_index()"
   ]
  },
  {
   "cell_type": "code",
   "execution_count": 4,
   "metadata": {},
   "outputs": [
    {
     "data": {
      "text/plain": [
       "88"
      ]
     },
     "execution_count": 4,
     "metadata": {},
     "output_type": "execute_result"
    }
   ],
   "source": [
    "sr['김철수1']"
   ]
  },
  {
   "cell_type": "markdown",
   "metadata": {},
   "source": [
    "### 2. 키보드로 입력 받아 검색된 이름의 점수를 구하시오"
   ]
  },
  {
   "cell_type": "code",
   "execution_count": 6,
   "metadata": {},
   "outputs": [
    {
     "name": "stdout",
     "output_type": "stream",
     "text": [
      "a=10 b=20\n"
     ]
    }
   ],
   "source": [
    "a=10\n",
    "b=20\n",
    "s = f'a={a} b={b}' # 3.5버전\n",
    "# s = 'a=%d b=%d'%(a,b)\n",
    "print(s)"
   ]
  },
  {
   "cell_type": "code",
   "execution_count": 5,
   "metadata": {},
   "outputs": [
    {
     "name": "stdout",
     "output_type": "stream",
     "text": [
      "이름을 입력하세요홍길동\n"
     ]
    },
    {
     "data": {
      "text/plain": [
       "90"
      ]
     },
     "execution_count": 5,
     "metadata": {},
     "output_type": "execute_result"
    }
   ],
   "source": [
    "search = input('이름을 입력하세요:')\n",
    "sr[search]\n",
    "# sr['%s'%search]"
   ]
  },
  {
   "cell_type": "markdown",
   "metadata": {},
   "source": [
    "### 3. 데이터를 다음과 같이 출력하시오"
   ]
  },
  {
   "cell_type": "code",
   "execution_count": null,
   "metadata": {},
   "outputs": [],
   "source": [
    "(0~59:F , 60~69:D, 70~79:C, 80~89:B, 90~100:A\n",
    "---------------------\n",
    "    이름    국어   학점\n",
    "---------------------\n",
    "    홍길동  70\t    C\n",
    "    ...\n",
    "    김철수3 25      F\n"
   ]
  },
  {
   "cell_type": "code",
   "execution_count": 7,
   "metadata": {
    "collapsed": true
   },
   "outputs": [
    {
     "name": "stdout",
     "output_type": "stream",
     "text": [
      "----------------------\n",
      "이름\t국어\t학점\n",
      "----------------------\n"
     ]
    },
    {
     "data": {
      "text/plain": [
       "홍길동     A\n",
       "이순신     A\n",
       "임꺽정     F\n",
       "정난정     D\n",
       "이이      C\n",
       "이황      B\n",
       "정도전     C\n",
       "김철수1    B\n",
       "김철수2    F\n",
       "김철수3    F\n",
       "Name: 국어점수, dtype: category\n",
       "Categories (5, object): [F < D < C < B < A]"
      ]
     },
     "execution_count": 7,
     "metadata": {},
     "output_type": "execute_result"
    }
   ],
   "source": [
    "print('-'*22)\n",
    "print('이름','국어', '학점', sep='\\t')\n",
    "print('-'*22)\n",
    "sr_cut = pd.cut(sr,[-1,59,69,79,89,100],labels=['F','D','C', 'B', 'A'])\n",
    "sr_cut"
   ]
  },
  {
   "cell_type": "code",
   "execution_count": 8,
   "metadata": {},
   "outputs": [
    {
     "name": "stdout",
     "output_type": "stream",
     "text": [
      "홍길동\t90\tA\n",
      "이순신\t90\tA\n",
      "임꺽정\t55\tF\n",
      "정난정\t60\tD\n",
      "이이\t76\tC\n",
      "이황\t80\tB\n",
      "정도전\t76\tC\n",
      "김철수1\t88\tB\n",
      "김철수2\t30\tF\n",
      "김철수3\t25\tF\n"
     ]
    }
   ],
   "source": [
    "for n,k,f in zip( sr.index, sr, sr_cut):\n",
    "    print( n,k,f, sep='\\t')"
   ]
  },
  {
   "cell_type": "markdown",
   "metadata": {},
   "source": [
    "### 4. 국어 점수 50점 이하는 가산점 20%, 50점 초과는 가산점 10%"
   ]
  },
  {
   "cell_type": "code",
   "execution_count": null,
   "metadata": {},
   "outputs": [],
   "source": [
    "sr.apply( lambda v: v*1.2 if v<=50 else v*1.1)"
   ]
  },
  {
   "cell_type": "code",
   "execution_count": 53,
   "metadata": {},
   "outputs": [
    {
     "data": {
      "text/plain": [
       "홍길동     99.0\n",
       "이순신     99.0\n",
       "임꺽정     60.5\n",
       "정난정     66.0\n",
       "이이      83.6\n",
       "이황      88.0\n",
       "정도전     83.6\n",
       "김철수1    96.8\n",
       "김철수2    36.0\n",
       "김철수3    30.0\n",
       "Name: 국어점수, dtype: float64"
      ]
     },
     "execution_count": 53,
     "metadata": {},
     "output_type": "execute_result"
    }
   ],
   "source": [
    "sr[sr<=50] = sr[sr<=50]*1.2\n",
    "sr[sr>50] = sr[sr>50]*1.1\n",
    "sr"
   ]
  },
  {
   "cell_type": "markdown",
   "metadata": {},
   "source": [
    "### 5. 국어점수 10%, 50%, 90%에 해당하는 값을 구하시오"
   ]
  },
  {
   "cell_type": "code",
   "execution_count": 55,
   "metadata": {},
   "outputs": [
    {
     "data": {
      "text/plain": [
       "0.1    29.5\n",
       "0.5    76.0\n",
       "0.9    90.0\n",
       "Name: 국어점수, dtype: float64"
      ]
     },
     "execution_count": 55,
     "metadata": {},
     "output_type": "execute_result"
    }
   ],
   "source": [
    "sr.quantile([0.1,0.5,0.9])"
   ]
  },
  {
   "cell_type": "markdown",
   "metadata": {},
   "source": [
    "### 6. 각 국어 점수에 대한 개수를 구하시오"
   ]
  },
  {
   "cell_type": "code",
   "execution_count": 57,
   "metadata": {},
   "outputs": [
    {
     "data": {
      "text/plain": [
       "90    2\n",
       "76    2\n",
       "30    1\n",
       "60    1\n",
       "25    1\n",
       "88    1\n",
       "55    1\n",
       "80    1\n",
       "Name: 국어점수, dtype: int64"
      ]
     },
     "execution_count": 57,
     "metadata": {},
     "output_type": "execute_result"
    }
   ],
   "source": [
    "sr.value_counts()"
   ]
  },
  {
   "cell_type": "markdown",
   "metadata": {},
   "source": [
    "### 7. 국어점수에 대한 boxplot을 그리시오"
   ]
  },
  {
   "cell_type": "code",
   "execution_count": 9,
   "metadata": {},
   "outputs": [
    {
     "data": {
      "image/png": "[encoded data removed]",
      "text/plain": [
       "<Figure size 432x288 with 1 Axes>"
      ]
     },
     "metadata": {
      "needs_background": "light"
     },
     "output_type": "display_data"
    }
   ],
   "source": [
    "sr.plot(kind = 'box', ylim=(0,100))\n",
    "plt.show()"
   ]
  },
  {
   "cell_type": "markdown",
   "metadata": {},
   "source": [
    "### 8. 국어 점수를 10개(0~100점을) 로 분할한 경우 각 점수별 도수분포표를 구하고(아래이미지참조) 히스토그램을 구하시오\n",
    "\n",
    "<img src=\"image/sample.jpg\">"
   ]
  },
  {
   "cell_type": "code",
   "execution_count": 30,
   "metadata": {},
   "outputs": [
    {
     "name": "stdout",
     "output_type": "stream",
     "text": [
      "계급\t계급값\t도수\t누적도수\t상대도수\n",
      "--------------------------------------------------\n"
     ]
    },
    {
     "data": {
      "text/plain": [
       "(0, 10]      0\n",
       "(10, 20]     0\n",
       "(20, 30]     2\n",
       "(30, 40]     0\n",
       "(40, 50]     0\n",
       "(50, 60]     2\n",
       "(60, 70]     0\n",
       "(70, 80]     3\n",
       "(80, 90]     3\n",
       "(90, 100]    0\n",
       "Name: 국어점수, dtype: int64"
      ]
     },
     "execution_count": 30,
     "metadata": {},
     "output_type": "execute_result"
    }
   ],
   "source": [
    "print('계급','계급값', '도수','누적도수','상대도수', sep='\\t')\n",
    "print('-'*50)\n",
    "# a = pd.cut(sr,[0,10,20,30,40,50,60,70,80,90,100]).value_counts().sort_index()\n",
    "result = pd.cut(sr,range(0,101,10)).value_counts().sort_index()\n",
    "result"
   ]
  },
  {
   "cell_type": "code",
   "execution_count": 11,
   "metadata": {},
   "outputs": [],
   "source": [
    "cv = range( 5,96,5) #계급값"
   ]
  },
  {
   "cell_type": "code",
   "execution_count": 31,
   "metadata": {},
   "outputs": [
    {
     "data": {
      "text/plain": [
       "[0, 0, 2, 2, 2, 4, 4, 7, 10, 10]"
      ]
     },
     "execution_count": 31,
     "metadata": {},
     "output_type": "execute_result"
    }
   ],
   "source": [
    "#누적도수\n",
    "srsum = []\n",
    "defalts = 0\n",
    "for i in result:\n",
    "    defalts += i\n",
    "    srsum.append(defalts)\n",
    "srsum"
   ]
  },
  {
   "cell_type": "code",
   "execution_count": 32,
   "metadata": {},
   "outputs": [
    {
     "data": {
      "text/plain": [
       "(0, 10]       0\n",
       "(10, 20]      0\n",
       "(20, 30]      2\n",
       "(30, 40]      2\n",
       "(40, 50]      2\n",
       "(50, 60]      4\n",
       "(60, 70]      4\n",
       "(70, 80]      7\n",
       "(80, 90]     10\n",
       "(90, 100]    10\n",
       "Name: 국어점수, dtype: int64"
      ]
     },
     "execution_count": 32,
     "metadata": {},
     "output_type": "execute_result"
    }
   ],
   "source": [
    "result.cumsum()"
   ]
  },
  {
   "cell_type": "code",
   "execution_count": 33,
   "metadata": {},
   "outputs": [
    {
     "data": {
      "text/plain": [
       "(0, 10]      0.0\n",
       "(10, 20]     0.0\n",
       "(20, 30]     0.2\n",
       "(30, 40]     0.0\n",
       "(40, 50]     0.0\n",
       "(50, 60]     0.2\n",
       "(60, 70]     0.0\n",
       "(70, 80]     0.3\n",
       "(80, 90]     0.3\n",
       "(90, 100]    0.0\n",
       "Name: 국어점수, dtype: float64"
      ]
     },
     "execution_count": 33,
     "metadata": {},
     "output_type": "execute_result"
    }
   ],
   "source": [
    "result/result.sum()"
   ]
  },
  {
   "cell_type": "code",
   "execution_count": 26,
   "metadata": {},
   "outputs": [
    {
     "name": "stdout",
     "output_type": "stream",
     "text": [
      "   10\n"
     ]
    }
   ],
   "source": [
    "a=10\n",
    "s=f'{a:5}'\n",
    "print(s)"
   ]
  },
  {
   "cell_type": "code",
   "execution_count": 38,
   "metadata": {},
   "outputs": [
    {
     "name": "stdout",
     "output_type": "stream",
     "text": [
      "(0, 10]       5    0    0  0.0\n",
      "(10, 20]     10    0    0  0.0\n",
      "(20, 30]     15    2    2  0.2\n",
      "(30, 40]     20    0    2  0.0\n",
      "(40, 50]     25    0    2  0.0\n",
      "(50, 60]     30    2    4  0.2\n",
      "(60, 70]     35    0    4  0.0\n",
      "(70, 80]     40    3    7  0.3\n",
      "(80, 90]     45    3   10  0.3\n",
      "(90, 100]    50    0   10  0.0\n"
     ]
    }
   ],
   "source": [
    "for idx,b,c,d,e in zip(result.index, cv, result, result.cumsum(), result/result.sum() ):\n",
    "#     print(i,b,c,d,e, sep='\\t')\n",
    "#     print(idx,b,c,d,e, sep='\\t')\n",
    "    print( f'{str(idx):10}{b:5}{c:5}{d:5}{e:5}' )"
   ]
  },
  {
   "cell_type": "code",
   "execution_count": 99,
   "metadata": {},
   "outputs": [
    {
     "data": {
      "image/png": "[encoded data removed]",
      "text/plain": [
       "<Figure size 432x288 with 1 Axes>"
      ]
     },
     "metadata": {
      "needs_background": "light"
     },
     "output_type": "display_data"
    }
   ],
   "source": [
    "sr.plot(kind='hist', bins=list(range(0,101,10)))\n",
    "plt.show()"
   ]
  },
  {
   "cell_type": "markdown",
   "metadata": {},
   "source": [
    "### 9. 과일의 비율을 파이차트로 그리시오"
   ]
  },
  {
   "cell_type": "code",
   "execution_count": 43,
   "metadata": {},
   "outputs": [],
   "source": [
    "fruit=pd.Series( [10,20,30,50],index=['사과','딸기','포도','수박'],name='과일' )"
   ]
  },
  {
   "cell_type": "code",
   "execution_count": 41,
   "metadata": {},
   "outputs": [
    {
     "data": {
      "text/plain": [
       "사과    10\n",
       "딸기    20\n",
       "포도    30\n",
       "수박    50\n",
       "dtype: int64"
      ]
     },
     "execution_count": 41,
     "metadata": {},
     "output_type": "execute_result"
    }
   ],
   "source": [
    "fruit"
   ]
  },
  {
   "cell_type": "code",
   "execution_count": 48,
   "metadata": {},
   "outputs": [
    {
     "data": {
      "image/png": "[encoded data removed]",
      "text/plain": [
       "<Figure size 432x288 with 1 Axes>"
      ]
     },
     "metadata": {},
     "output_type": "display_data"
    }
   ],
   "source": [
    "fruit.plot(kind = 'pie',autopct='%.2f',\n",
    "           shadow=True, explode=[0,0,0.1,0.2])\n",
    "plt.show()"
   ]
  },
  {
   "cell_type": "code",
   "execution_count": null,
   "metadata": {},
   "outputs": [],
   "source": []
  }
 ],
 "metadata": {
  "kernelspec": {
   "display_name": "Python 3",
   "language": "python",
   "name": "python3"
  },
  "language_info": {
   "codemirror_mode": {
    "name": "ipython",
    "version": 3
   },
   "file_extension": ".py",
   "mimetype": "text/x-python",
   "name": "python",
   "nbconvert_exporter": "python",
   "pygments_lexer": "ipython3",
   "version": "3.8.5"
  }
 },
 "nbformat": 4,
 "nbformat_minor": 4
}
