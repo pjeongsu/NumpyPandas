{
 "cells": [
  {
   "cell_type": "code",
   "execution_count": 1,
   "metadata": {},
   "outputs": [],
   "source": [
    "import pandas as pd\n",
    "import numpy as np\n",
    "import matplotlib.pyplot as plt\n",
    "import matplotlib\n",
    "\n",
    "matplotlib.rcParams['font.family']='Malgun Gothic'\n",
    "matplotlib.rcParams['axes.unicode_minus'] = False\n",
    "\n",
    "plt.rcParams[\"font.size\"] = 20\n",
    "plt.rcParams[\"figure.figsize\"] = (8, 6)"
   ]
  },
  {
   "cell_type": "code",
   "execution_count": 2,
   "metadata": {},
   "outputs": [],
   "source": [
    "height = [155,160,165,172,177,180,185]\n",
    "weight = [43,55,62,64, 67,74,90]"
   ]
  },
  {
   "cell_type": "code",
   "execution_count": 10,
   "metadata": {},
   "outputs": [
    {
     "data": {
      "image/png": "[encoded data removed]",
      "text/plain": [
       "<Figure size 576x432 with 1 Axes>"
      ]
     },
     "metadata": {
      "needs_background": "light"
     },
     "output_type": "display_data"
    }
   ],
   "source": [
    "plt.scatter(height, weight, s=200, alpha=0.5, c='g') # alpha는 투명도 조절\n",
    "plt.show()"
   ]
  },
  {
   "cell_type": "code",
   "execution_count": 13,
   "metadata": {},
   "outputs": [
    {
     "data": {
      "image/png": "[encoded data removed]",
      "text/plain": [
       "<Figure size 576x432 with 1 Axes>"
      ]
     },
     "metadata": {
      "needs_background": "light"
     },
     "output_type": "display_data"
    }
   ],
   "source": [
    "# 점의 크기 / 점의 색상을 리스트로 따로 지정해 줘도 ok\n",
    "\n",
    "plt.scatter( height, weight,\n",
    "            s=[100,150,200,250,300,350,400], \n",
    "            c=['r','g','b','k','m','y','c'],\n",
    "            alpha=0.5)\n",
    "plt.text(155, 43, '43kg')\n",
    "plt.show()"
   ]
  },
  {
   "cell_type": "markdown",
   "metadata": {},
   "source": [
    "# 키 , 몸무게 문제\n",
    "\n",
    "<pre>\n",
    "표준체중(kg)=(신장(cm)-100)×0.85\n",
    "비만도(%)=현재체중/표준체중×100\n",
    "\n",
    "비만도가\n",
    "90이하:저체중, (y,100)\n",
    "90∼110:정상,  (b ,150)\n",
    "110∼120:과체중, (c, 200)\n",
    "120 이상:비만    (r ,300)\n",
    "그래프각점에 비만도결과값(저체중, 정상,과체중, 비만)글자를\n",
    "표시하고 원의 크기는  각 결과 값에 다른 크기로\n",
    "그리시요.\n",
    "</pre>"
   ]
  },
  {
   "cell_type": "code",
   "execution_count": 49,
   "metadata": {},
   "outputs": [
    {
     "data": {
      "text/html": [
       "<div>\n",
       "<style scoped>\n",
       "    .dataframe tbody tr th:only-of-type {\n",
       "        vertical-align: middle;\n",
       "    }\n",
       "\n",
       "    .dataframe tbody tr th {\n",
       "        vertical-align: top;\n",
       "    }\n",
       "\n",
       "    .dataframe thead th {\n",
       "        text-align: right;\n",
       "    }\n",
       "</style>\n",
       "<table border=\"1\" class=\"dataframe\">\n",
       "  <thead>\n",
       "    <tr style=\"text-align: right;\">\n",
       "      <th></th>\n",
       "      <th>표준체중</th>\n",
       "      <th>비만도</th>\n",
       "    </tr>\n",
       "  </thead>\n",
       "  <tbody>\n",
       "    <tr>\n",
       "      <th>0</th>\n",
       "      <td>91.978610</td>\n",
       "      <td>46.75</td>\n",
       "    </tr>\n",
       "    <tr>\n",
       "      <th>1</th>\n",
       "      <td>107.843137</td>\n",
       "      <td>51.00</td>\n",
       "    </tr>\n",
       "    <tr>\n",
       "      <th>2</th>\n",
       "      <td>112.217195</td>\n",
       "      <td>55.25</td>\n",
       "    </tr>\n",
       "    <tr>\n",
       "      <th>3</th>\n",
       "      <td>104.575163</td>\n",
       "      <td>61.20</td>\n",
       "    </tr>\n",
       "    <tr>\n",
       "      <th>4</th>\n",
       "      <td>102.368220</td>\n",
       "      <td>65.45</td>\n",
       "    </tr>\n",
       "    <tr>\n",
       "      <th>5</th>\n",
       "      <td>108.823529</td>\n",
       "      <td>68.00</td>\n",
       "    </tr>\n",
       "    <tr>\n",
       "      <th>6</th>\n",
       "      <td>124.567474</td>\n",
       "      <td>72.25</td>\n",
       "    </tr>\n",
       "  </tbody>\n",
       "</table>\n",
       "</div>"
      ],
      "text/plain": [
       "         표준체중    비만도\n",
       "0   91.978610  46.75\n",
       "1  107.843137  51.00\n",
       "2  112.217195  55.25\n",
       "3  104.575163  61.20\n",
       "4  102.368220  65.45\n",
       "5  108.823529  68.00\n",
       "6  124.567474  72.25"
      ]
     },
     "execution_count": 49,
     "metadata": {},
     "output_type": "execute_result"
    }
   ],
   "source": [
    "height = [155,160,165,172,177,180,185]\n",
    "weight = [43,55,62,64, 67,74,90]\n",
    "\n",
    "a = [] \n",
    "b = []\n",
    "\n",
    "for n1, n2 in zip(height, weight):\n",
    "    n3 = (n1-100)*0.85\n",
    "    n4 = n2/n3*100\n",
    "    a.append(n3)\n",
    "    b.append(n4)\n",
    "\n",
    "DF = pd.DataFrame(a ,b)\n",
    "DF = DF.reset_index()\n",
    "DF.columns = ['표준체중', '비만도']\n",
    "DF"
   ]
  },
  {
   "cell_type": "code",
   "execution_count": 50,
   "metadata": {},
   "outputs": [
    {
     "name": "stdout",
     "output_type": "stream",
     "text": [
      "<class 'pandas.core.frame.DataFrame'>\n",
      "RangeIndex: 7 entries, 0 to 6\n",
      "Data columns (total 2 columns):\n",
      " #   Column  Non-Null Count  Dtype  \n",
      "---  ------  --------------  -----  \n",
      " 0   표준체중    7 non-null      float64\n",
      " 1   비만도     7 non-null      float64\n",
      "dtypes: float64(2)\n",
      "memory usage: 240.0 bytes\n"
     ]
    }
   ],
   "source": [
    "DF.info()"
   ]
  },
  {
   "cell_type": "code",
   "execution_count": 51,
   "metadata": {},
   "outputs": [],
   "source": [
    "def fn(v):\n",
    "    if v >= 120.0:\n",
    "        return '비만'\n",
    "    elif v > 110.0:\n",
    "        return '과체중'\n",
    "    elif v > 90.0:\n",
    "        return '정상'\n",
    "    else:\n",
    "        return '저체중'"
   ]
  },
  {
   "cell_type": "code",
   "execution_count": 47,
   "metadata": {},
   "outputs": [
    {
     "data": {
      "text/html": [
       "<div>\n",
       "<style scoped>\n",
       "    .dataframe tbody tr th:only-of-type {\n",
       "        vertical-align: middle;\n",
       "    }\n",
       "\n",
       "    .dataframe tbody tr th {\n",
       "        vertical-align: top;\n",
       "    }\n",
       "\n",
       "    .dataframe thead th {\n",
       "        text-align: right;\n",
       "    }\n",
       "</style>\n",
       "<table border=\"1\" class=\"dataframe\">\n",
       "  <thead>\n",
       "    <tr style=\"text-align: right;\">\n",
       "      <th></th>\n",
       "      <th>표준체중</th>\n",
       "      <th>비만도</th>\n",
       "      <th>비만도 결과</th>\n",
       "    </tr>\n",
       "  </thead>\n",
       "  <tbody>\n",
       "    <tr>\n",
       "      <th>0</th>\n",
       "      <td>91.978610</td>\n",
       "      <td>46.75</td>\n",
       "      <td>저체중</td>\n",
       "    </tr>\n",
       "    <tr>\n",
       "      <th>1</th>\n",
       "      <td>107.843137</td>\n",
       "      <td>51.00</td>\n",
       "      <td>저체중</td>\n",
       "    </tr>\n",
       "    <tr>\n",
       "      <th>2</th>\n",
       "      <td>112.217195</td>\n",
       "      <td>55.25</td>\n",
       "      <td>저체중</td>\n",
       "    </tr>\n",
       "    <tr>\n",
       "      <th>3</th>\n",
       "      <td>104.575163</td>\n",
       "      <td>61.20</td>\n",
       "      <td>저체중</td>\n",
       "    </tr>\n",
       "    <tr>\n",
       "      <th>4</th>\n",
       "      <td>102.368220</td>\n",
       "      <td>65.45</td>\n",
       "      <td>저체중</td>\n",
       "    </tr>\n",
       "    <tr>\n",
       "      <th>5</th>\n",
       "      <td>108.823529</td>\n",
       "      <td>68.00</td>\n",
       "      <td>저체중</td>\n",
       "    </tr>\n",
       "    <tr>\n",
       "      <th>6</th>\n",
       "      <td>124.567474</td>\n",
       "      <td>72.25</td>\n",
       "      <td>저체중</td>\n",
       "    </tr>\n",
       "  </tbody>\n",
       "</table>\n",
       "</div>"
      ],
      "text/plain": [
       "         표준체중    비만도 비만도 결과\n",
       "0   91.978610  46.75    저체중\n",
       "1  107.843137  51.00    저체중\n",
       "2  112.217195  55.25    저체중\n",
       "3  104.575163  61.20    저체중\n",
       "4  102.368220  65.45    저체중\n",
       "5  108.823529  68.00    저체중\n",
       "6  124.567474  72.25    저체중"
      ]
     },
     "execution_count": 47,
     "metadata": {},
     "output_type": "execute_result"
    }
   ],
   "source": [
    "DF['비만도 결과'] = DF['비만도'].apply(fn)\n",
    "DF"
   ]
  },
  {
   "cell_type": "markdown",
   "metadata": {},
   "source": [
    "## 강사님 풀이"
   ]
  },
  {
   "cell_type": "code",
   "execution_count": 60,
   "metadata": {},
   "outputs": [],
   "source": [
    "# 차트 그리기\n",
    "colorList=[]\n",
    "sizeList=[]\n",
    "textList=[]\n",
    "def obesity( h, w):\n",
    "    stdW = (h-100)*0.85\n",
    "    fat = (w/stdW)*100\n",
    "    color =''\n",
    "    size=0\n",
    "    text = ''\n",
    "    if fat <=90:\n",
    "        color = 'y'\n",
    "        size = 100\n",
    "        text = '저체중'\n",
    "    elif fat<110:\n",
    "        color = 'b'\n",
    "        size= 150\n",
    "        text = '정상'\n",
    "    elif fat<120:\n",
    "        color = 'c'\n",
    "        size= 200\n",
    "        text = '과체중'\n",
    "    else:\n",
    "        color = 'r'\n",
    "        size= 300\n",
    "        text = '비만'\n",
    "    colorList.append(color)\n",
    "    sizeList.append(size)\n",
    "    textList.append(text)"
   ]
  },
  {
   "cell_type": "code",
   "execution_count": 61,
   "metadata": {},
   "outputs": [],
   "source": [
    "# 함수에 넣어서 리스트 만들어 주기\n",
    "\n",
    "for h, w in zip( height, weight):\n",
    "    obesity( h, w )"
   ]
  },
  {
   "cell_type": "code",
   "execution_count": 62,
   "metadata": {},
   "outputs": [
    {
     "data": {
      "text/plain": [
       "['b', 'b', 'c', 'b', 'b', 'b', 'r']"
      ]
     },
     "execution_count": 62,
     "metadata": {},
     "output_type": "execute_result"
    }
   ],
   "source": [
    "colorList"
   ]
  },
  {
   "cell_type": "code",
   "execution_count": 63,
   "metadata": {},
   "outputs": [
    {
     "data": {
      "text/plain": [
       "[150, 150, 200, 150, 150, 150, 300]"
      ]
     },
     "execution_count": 63,
     "metadata": {},
     "output_type": "execute_result"
    }
   ],
   "source": [
    "sizeList"
   ]
  },
  {
   "cell_type": "code",
   "execution_count": 64,
   "metadata": {},
   "outputs": [
    {
     "data": {
      "text/plain": [
       "['정상', '정상', '과체중', '정상', '정상', '정상', '비만']"
      ]
     },
     "execution_count": 64,
     "metadata": {},
     "output_type": "execute_result"
    }
   ],
   "source": [
    "textList"
   ]
  },
  {
   "cell_type": "code",
   "execution_count": 65,
   "metadata": {},
   "outputs": [
    {
     "data": {
      "image/png": "[encoded data removed]",
      "text/plain": [
       "<Figure size 576x432 with 1 Axes>"
      ]
     },
     "metadata": {
      "needs_background": "light"
     },
     "output_type": "display_data"
    }
   ],
   "source": [
    "plt.scatter( height, weight,s=sizeList, \n",
    "            c=colorList, alpha=0.5)\n",
    "for a,b,c in zip( height, weight,textList):\n",
    "    plt.text( a,b,c)\n",
    "plt.show()"
   ]
  }
 ],
 "metadata": {
  "kernelspec": {
   "display_name": "Python 3",
   "language": "python",
   "name": "python3"
  },
  "language_info": {
   "codemirror_mode": {
    "name": "ipython",
    "version": 3
   },
   "file_extension": ".py",
   "mimetype": "text/x-python",
   "name": "python",
   "nbconvert_exporter": "python",
   "pygments_lexer": "ipython3",
   "version": "3.8.5"
  }
 },
 "nbformat": 4,
 "nbformat_minor": 4
}
