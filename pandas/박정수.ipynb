{
 "cells": [
  {
   "cell_type": "code",
   "execution_count": 35,
   "metadata": {},
   "outputs": [],
   "source": [
    "import pandas as pd\n",
    "import numpy as np\n",
    "import matplotlib.pyplot as plt\n",
    "\n",
    "import matplotlib\n",
    "matplotlib.rcParams['font.family']='Malgun Gothic'\n",
    "matplotlib.rcParams['axes.unicode_minus']=False"
   ]
  },
  {
   "cell_type": "code",
   "execution_count": 36,
   "metadata": {},
   "outputs": [
    {
     "data": {
      "text/plain": [
       "홍길동     90\n",
       "이순신     90\n",
       "임꺽정     55\n",
       "정난정     60\n",
       "이이      76\n",
       "이황      80\n",
       "정도전     76\n",
       "김철수1    88\n",
       "김철수2    30\n",
       "김철수3    25\n",
       "Name: 국어점수, dtype: int64"
      ]
     },
     "execution_count": 36,
     "metadata": {},
     "output_type": "execute_result"
    }
   ],
   "source": [
    "sr = pd.Series( [90,90,55,60,76,80,76,88,30,25],\n",
    "               name=\"국어점수\" )\n",
    "sr.index=['홍길동','이순신','임꺽정','정난정',\n",
    "         '이이','이황','정도전','김철수1',\n",
    "          '김철수2','김철수3']\n",
    "sr"
   ]
  },
  {
   "cell_type": "markdown",
   "metadata": {},
   "source": [
    "# 1. 이름순으로 정렬하시요"
   ]
  },
  {
   "cell_type": "code",
   "execution_count": 37,
   "metadata": {},
   "outputs": [
    {
     "data": {
      "text/plain": [
       "김철수1    88\n",
       "김철수2    30\n",
       "김철수3    25\n",
       "이순신     90\n",
       "이이      76\n",
       "이황      80\n",
       "임꺽정     55\n",
       "정난정     60\n",
       "정도전     76\n",
       "홍길동     90\n",
       "Name: 국어점수, dtype: int64"
      ]
     },
     "execution_count": 37,
     "metadata": {},
     "output_type": "execute_result"
    }
   ],
   "source": [
    "sr.sort_index()"
   ]
  },
  {
   "cell_type": "markdown",
   "metadata": {},
   "source": [
    "# 2. 키보드로 입력받아 검색된 이름의 점수를 구하시요\n",
    "# 이름:홍길동\n",
    "# 70\n"
   ]
  },
  {
   "cell_type": "code",
   "execution_count": 38,
   "metadata": {},
   "outputs": [
    {
     "name": "stdout",
     "output_type": "stream",
     "text": [
      "입력:\n",
      "<class 'str'>\n",
      "\n"
     ]
    }
   ],
   "source": [
    "# 참고 : 키보드 입력\n",
    "\n",
    "a = input('입력:')\n",
    "print( type(a))\n",
    "print(a)"
   ]
  },
  {
   "cell_type": "code",
   "execution_count": 40,
   "metadata": {},
   "outputs": [
    {
     "name": "stdout",
     "output_type": "stream",
     "text": [
      "이름:홍길동\n"
     ]
    },
    {
     "data": {
      "text/plain": [
       "90"
      ]
     },
     "execution_count": 40,
     "metadata": {},
     "output_type": "execute_result"
    }
   ],
   "source": [
    "a = input('이름:')\n",
    "sr[a]"
   ]
  },
  {
   "cell_type": "markdown",
   "metadata": {},
   "source": [
    "# 3. 데이터를 다음과 같이 출력하시요"
   ]
  },
  {
   "cell_type": "markdown",
   "metadata": {},
   "source": [
    "<pre>\n",
    "(0~59:F , 60~69:D, 70~79:C, 80~89:B, 90~100:A\n",
    "---------------------\n",
    "    이름    국어   학점\n",
    "---------------------\n",
    "    홍길동  70\t    C\n",
    "    ...\n",
    "    김철수3 25      F\n",
    "</pre>\n"
   ]
  },
  {
   "cell_type": "code",
   "execution_count": 6,
   "metadata": {},
   "outputs": [
    {
     "name": "stdout",
     "output_type": "stream",
     "text": [
      "=========================\n",
      "이름\t국어\t학점\n",
      "=========================\n",
      "홍길동\t90\tD\n",
      "이순신\t90\tD\n",
      "임꺽정\t55\tF\n",
      "정난정\t60\tD\n",
      "이이\t76\tD\n",
      "이황\t80\tD\n",
      "정도전\t76\tD\n",
      "김철수1\t88\tD\n",
      "김철수2\t30\tF\n",
      "김철수3\t25\tF\n"
     ]
    }
   ],
   "source": [
    "print('='*25)\n",
    "print('이름','국어','학점',sep='\\t')\n",
    "print('='*25)\n",
    "\n",
    "for i,v in sr.items():\n",
    "    if v >=90:\n",
    "        s='A'\n",
    "    if v >=80:\n",
    "        s='B'\n",
    "    if v >=70:\n",
    "        s='C'\n",
    "    if v >=60:\n",
    "        s='D'\n",
    "    else:\n",
    "        s='F'\n",
    "    print(i,v,s,sep='\\t')"
   ]
  },
  {
   "cell_type": "code",
   "execution_count": 25,
   "metadata": {},
   "outputs": [
    {
     "name": "stdout",
     "output_type": "stream",
     "text": [
      "=========================\n",
      "이름\t국어\t학점\n",
      "=========================\n",
      "홍길동\t90\tA\n",
      "이순신\t90\tA\n",
      "임꺽정\t55\tF\n",
      "정난정\t60\tD\n",
      "이이\t76\tC\n",
      "이황\t80\tB\n",
      "정도전\t76\tC\n",
      "김철수1\t88\tB\n",
      "김철수2\t30\tF\n",
      "김철수3\t25\tF\n"
     ]
    }
   ],
   "source": [
    "def fn(v):\n",
    "    if v >=90:\n",
    "        return 'A'\n",
    "    if v >=80:\n",
    "        return 'B'\n",
    "    if v >=70:\n",
    "        return 'C'\n",
    "    if v >=60:\n",
    "        return 'D'\n",
    "    else:\n",
    "        return 'F'\n",
    "\n",
    "sr_score = sr.apply( fn)\n",
    "\n",
    "print('='*25)\n",
    "print('이름','국어','학점',sep='\\t')\n",
    "print('='*25)\n",
    "for n,k,f in zip( sr.index, sr, sr_score):\n",
    "    print( n,k,f, sep='\\t')"
   ]
  },
  {
   "cell_type": "markdown",
   "metadata": {},
   "source": [
    "# 4. 국어 점수 50점이하는 가산점20를 부여하고\n",
    "#    국어 점수 50점초과는 가산점10를 부여하시오."
   ]
  },
  {
   "cell_type": "code",
   "execution_count": 9,
   "metadata": {},
   "outputs": [
    {
     "data": {
      "text/plain": [
       "홍길동     100\n",
       "이순신     100\n",
       "임꺽정      65\n",
       "정난정      70\n",
       "이이       86\n",
       "이황       90\n",
       "정도전      86\n",
       "김철수1     98\n",
       "김철수2     50\n",
       "김철수3     45\n",
       "Name: 국어점수, dtype: int64"
      ]
     },
     "execution_count": 9,
     "metadata": {},
     "output_type": "execute_result"
    }
   ],
   "source": [
    "sr.apply(lambda v: v+10 if v > 50 else v+20)"
   ]
  },
  {
   "cell_type": "markdown",
   "metadata": {},
   "source": [
    "# 5. 국어점수 10%, 50%, 90%에 해당하는 값을 구하시오."
   ]
  },
  {
   "cell_type": "code",
   "execution_count": 10,
   "metadata": {},
   "outputs": [
    {
     "data": {
      "text/plain": [
       "0.1    29.5\n",
       "0.5    76.0\n",
       "0.9    90.0\n",
       "Name: 국어점수, dtype: float64"
      ]
     },
     "execution_count": 10,
     "metadata": {},
     "output_type": "execute_result"
    }
   ],
   "source": [
    "sr.quantile([0.1, 0.5, 0.9])"
   ]
  },
  {
   "cell_type": "markdown",
   "metadata": {},
   "source": [
    "# 6. 각 국어점수에 대한 갯수를 구하시오."
   ]
  },
  {
   "cell_type": "code",
   "execution_count": 11,
   "metadata": {},
   "outputs": [
    {
     "data": {
      "text/plain": [
       "(0, 50]      2\n",
       "(50, 70]     2\n",
       "(70, 100]    6\n",
       "Name: 국어점수, dtype: int64"
      ]
     },
     "execution_count": 11,
     "metadata": {},
     "output_type": "execute_result"
    }
   ],
   "source": [
    "# 국어점수 범위를 임의로 [0,50,70,100]로 잡음\n",
    "pd.cut(sr,[0,50,70,100]).value_counts().sort_index()"
   ]
  },
  {
   "cell_type": "markdown",
   "metadata": {},
   "source": [
    "# 7. 국어점수에 대한 boxplot을 그리시요."
   ]
  },
  {
   "cell_type": "code",
   "execution_count": 41,
   "metadata": {},
   "outputs": [
    {
     "data": {
      "image/png": "[encoded data removed]",
      "text/plain": [
       "<Figure size 432x288 with 1 Axes>"
      ]
     },
     "metadata": {
      "needs_background": "light"
     },
     "output_type": "display_data"
    }
   ],
   "source": [
    "sr.plot(kind='box', ylim=(0, 100))\n",
    "plt.show()"
   ]
  },
  {
   "cell_type": "markdown",
   "metadata": {},
   "source": [
    "# 8. 국어 점수를 10개(0~100점을) 로 분할한 경우 각 점수별  \n",
    "# 도수분포표를 구하고(아래이미지참조) 히스토그램을 구하시요\n",
    "# (도수분포표 샘플)"
   ]
  },
  {
   "cell_type": "code",
   "execution_count": 13,
   "metadata": {},
   "outputs": [
    {
     "name": "stdout",
     "output_type": "stream",
     "text": [
      "계급\t계급값\t도수\t누적도수\t상대도수\n",
      "--------------------------------------------------\n",
      "--------------------------------------------------\n"
     ]
    }
   ],
   "source": [
    "print('계급','계급값','도수', '누적도수', '상대도수',sep='\\t')\n",
    "print('-'*50)\n",
    "for a, b, c, d, e in zip():\n",
    "    print(a, b, c, d, e)\n",
    "print('-'*50)"
   ]
  },
  {
   "cell_type": "code",
   "execution_count": 14,
   "metadata": {},
   "outputs": [
    {
     "data": {
      "text/plain": [
       "[(83.5, 90.0], (83.5, 90.0], (51.0, 57.5], (57.5, 64.0], (70.5, 77.0], (77.0, 83.5], (70.5, 77.0], (83.5, 90.0], (24.935, 31.5], (24.935, 31.5]]\n",
       "Categories (10, interval[float64]): [(24.935, 31.5] < (31.5, 38.0] < (38.0, 44.5] < (44.5, 51.0] ... (64.0, 70.5] < (70.5, 77.0] < (77.0, 83.5] < (83.5, 90.0]]"
      ]
     },
     "execution_count": 14,
     "metadata": {},
     "output_type": "execute_result"
    }
   ],
   "source": [
    "# 계급\n",
    "pd.cut(sr, [0, 10, 20, 30, 40, 50, 60, 70, 80, 90, 100]).values"
   ]
  },
  {
   "cell_type": "code",
   "execution_count": 16,
   "metadata": {},
   "outputs": [],
   "source": [
    "# 계급값"
   ]
  },
  {
   "cell_type": "code",
   "execution_count": 15,
   "metadata": {},
   "outputs": [
    {
     "data": {
      "text/plain": [
       "pandas.core.arrays.categorical.Categorical"
      ]
     },
     "execution_count": 15,
     "metadata": {},
     "output_type": "execute_result"
    }
   ],
   "source": [
    "type(pd.cut(sr, 10).values)"
   ]
  },
  {
   "cell_type": "code",
   "execution_count": 17,
   "metadata": {},
   "outputs": [
    {
     "data": {
      "text/plain": [
       "array([3, 2, 2, 1, 1, 1, 0, 0, 0, 0], dtype=int64)"
      ]
     },
     "execution_count": 17,
     "metadata": {},
     "output_type": "execute_result"
    }
   ],
   "source": [
    "# 도수\n",
    "pd.cut(sr, 10).value_counts().values"
   ]
  },
  {
   "cell_type": "code",
   "execution_count": 48,
   "metadata": {},
   "outputs": [
    {
     "data": {
      "text/plain": [
       "[3, 5, 7, 8, 9, 10, 10, 10, 10, 10]"
      ]
     },
     "execution_count": 48,
     "metadata": {},
     "output_type": "execute_result"
    }
   ],
   "source": [
    "# 누적도수\n",
    "# 시리즈의 멤버함수로서 a.cumsum()을 사용하면 계급과 도수가 함께 나옴\n",
    "a = []\n",
    "i = 0\n",
    "for v in (pd.cut(sr, 10).value_counts().values):\n",
    "    i += v\n",
    "    a.append(i)\n",
    "a"
   ]
  },
  {
   "cell_type": "code",
   "execution_count": 49,
   "metadata": {},
   "outputs": [
    {
     "ename": "AttributeError",
     "evalue": "'list' object has no attribute 'sum'",
     "output_type": "error",
     "traceback": [
      "\u001b[1;31m---------------------------------------------------------------------------\u001b[0m",
      "\u001b[1;31mAttributeError\u001b[0m                            Traceback (most recent call last)",
      "\u001b[1;32m<ipython-input-49-5901cd22b0d9>\u001b[0m in \u001b[0;36m<module>\u001b[1;34m\u001b[0m\n\u001b[0;32m      1\u001b[0m \u001b[1;31m# 상대도수\u001b[0m\u001b[1;33m\u001b[0m\u001b[1;33m\u001b[0m\u001b[1;33m\u001b[0m\u001b[0m\n\u001b[1;32m----> 2\u001b[1;33m \u001b[0ma\u001b[0m\u001b[1;33m/\u001b[0m\u001b[0ma\u001b[0m\u001b[1;33m.\u001b[0m\u001b[0msum\u001b[0m\u001b[1;33m(\u001b[0m\u001b[1;33m)\u001b[0m\u001b[1;33m\u001b[0m\u001b[1;33m\u001b[0m\u001b[0m\n\u001b[0m",
      "\u001b[1;31mAttributeError\u001b[0m: 'list' object has no attribute 'sum'"
     ]
    }
   ],
   "source": [
    "# 상대도수\n",
    "a/a.sum()"
   ]
  },
  {
   "cell_type": "markdown",
   "metadata": {},
   "source": [
    "# 9. 과일의 비율을 파이차트로 그리시요"
   ]
  },
  {
   "cell_type": "code",
   "execution_count": 50,
   "metadata": {},
   "outputs": [],
   "source": [
    "fruit=pd.Series( [10,20,30,50],index=['사과','딸기','포도','수박'] , name='과일')"
   ]
  },
  {
   "cell_type": "code",
   "execution_count": 57,
   "metadata": {},
   "outputs": [
    {
     "data": {
      "image/png": "[encoded data removed]",
      "text/plain": [
       "<Figure size 432x288 with 1 Axes>"
      ]
     },
     "metadata": {},
     "output_type": "display_data"
    }
   ],
   "source": [
    "fruit.plot(kind='pie', autopct='%.2f', shadow=True, explode=[0, 0, 0, 0.058]) # autopct : 비율지정\n",
    "plt.show()"
   ]
  }
 ],
 "metadata": {
  "kernelspec": {
   "display_name": "Python 3",
   "language": "python",
   "name": "python3"
  },
  "language_info": {
   "codemirror_mode": {
    "name": "ipython",
    "version": 3
   },
   "file_extension": ".py",
   "mimetype": "text/x-python",
   "name": "python",
   "nbconvert_exporter": "python",
   "pygments_lexer": "ipython3",
   "version": "3.8.5"
  }
 },
 "nbformat": 4,
 "nbformat_minor": 4
}
