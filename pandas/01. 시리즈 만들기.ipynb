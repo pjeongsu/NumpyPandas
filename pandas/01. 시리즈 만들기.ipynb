{
 "cells": [
  {
   "cell_type": "markdown",
   "metadata": {},
   "source": [
    "<판다스의 핵심 클래스>\n",
    "\n",
    "- Series(1차원 데이터)<br>\n",
    "https://pandas.pydata.org/pandas-docs/stable/reference/api/pandas.Series.html\n",
    "- Dataframe(2차원 데이터(이상))"
   ]
  },
  {
   "cell_type": "code",
   "execution_count": 1,
   "metadata": {},
   "outputs": [],
   "source": [
    "import pandas as pd\n",
    "import numpy as np"
   ]
  },
  {
   "cell_type": "code",
   "execution_count": 2,
   "metadata": {},
   "outputs": [],
   "source": [
    "# 1차원 데이터...\n",
    "myList = [10,20,30,40]\n",
    "t = (10,20,30,40)\n",
    "d = {'aa':10,'bb':20,'cc':30}"
   ]
  },
  {
   "cell_type": "code",
   "execution_count": 5,
   "metadata": {},
   "outputs": [
    {
     "data": {
      "text/plain": [
       "aa    10\n",
       "bb    20\n",
       "cc    30\n",
       "dd    40\n",
       "Name: kor, dtype: int32"
      ]
     },
     "execution_count": 5,
     "metadata": {},
     "output_type": "execute_result"
    }
   ],
   "source": [
    "# 시리즈에 리스트, 튜플, 딕셔너리 넣을 수 있음\n",
    "sr1 = pd.Series(myList, \n",
    "                index=['aa', 'bb', 'cc', 'dd'], \n",
    "                dtype=np.int32,\n",
    "                name = 'kor')\n",
    "sr1\n",
    "# 인덱스를 안 주면 0, 1, 2, 3 ..."
   ]
  },
  {
   "cell_type": "code",
   "execution_count": 6,
   "metadata": {},
   "outputs": [
    {
     "data": {
      "text/plain": [
       "0    10\n",
       "1    20\n",
       "2    30\n",
       "3    40\n",
       "dtype: int64"
      ]
     },
     "execution_count": 6,
     "metadata": {},
     "output_type": "execute_result"
    }
   ],
   "source": [
    "sr2 = pd.Series(t)\n",
    "sr2"
   ]
  },
  {
   "cell_type": "code",
   "execution_count": 8,
   "metadata": {},
   "outputs": [
    {
     "data": {
      "text/plain": [
       "aa    10.0\n",
       "bb    20.0\n",
       "cc    30.0\n",
       "dtype: float32"
      ]
     },
     "execution_count": 8,
     "metadata": {},
     "output_type": "execute_result"
    }
   ],
   "source": [
    "# sr2 = pd.Series(d, dtype=np.float32)\n",
    "sr2 = pd.Series(d, dtype=np.float32)\n",
    "sr2"
   ]
  }
 ],
 "metadata": {
  "kernelspec": {
   "display_name": "Python 3",
   "language": "python",
   "name": "python3"
  },
  "language_info": {
   "codemirror_mode": {
    "name": "ipython",
    "version": 3
   },
   "file_extension": ".py",
   "mimetype": "text/x-python",
   "name": "python",
   "nbconvert_exporter": "python",
   "pygments_lexer": "ipython3",
   "version": "3.8.5"
  }
 },
 "nbformat": 4,
 "nbformat_minor": 4
}
