{
 "cells": [
  {
   "cell_type": "code",
   "execution_count": 2,
   "metadata": {},
   "outputs": [],
   "source": [
    "import numpy as np"
   ]
  },
  {
   "cell_type": "code",
   "execution_count": 3,
   "metadata": {},
   "outputs": [
    {
     "data": {
      "text/plain": [
       "array([[   1880,   90993,  110491],\n",
       "       [   1881,   91954,  100745],\n",
       "       [   1882,  107850,  113688],\n",
       "       [   1883,  112321,  104629],\n",
       "       [   1884,  129022,  114445],\n",
       "       [   1885,  133055,  107800],\n",
       "       [   1886,  144535,  110784],\n",
       "       [   1887,  145982,  101414],\n",
       "       [   1888,  178627,  120853],\n",
       "       [   1889,  178366,  110584],\n",
       "       [   1890,  190377,  111025],\n",
       "       [   1891,  185482,  101196],\n",
       "       [   1892,  212346,  122037],\n",
       "       [   1893,  212906,  112317],\n",
       "       [   1894,  222922,  115772],\n",
       "       [   1895,  233630,  117398],\n",
       "       [   1896,  237920,  119570],\n",
       "       [   1897,  234202,  112758],\n",
       "       [   1898,  258770,  122693],\n",
       "       [   1899,  233023,  106212],\n",
       "       [   1900,  299828,  150499],\n",
       "       [   1901,  239348,  106471],\n",
       "       [   1902,  264077,  122659],\n",
       "       [   1903,  261973,  119234],\n",
       "       [   1904,  275371,  128125],\n",
       "       [   1905,  291629,  132319],\n",
       "       [   1906,  295303,  133159],\n",
       "       [   1907,  318566,  146833],\n",
       "       [   1908,  334313,  154344],\n",
       "       [   1909,  347228,  163999],\n",
       "       [   1910,  396501,  194218],\n",
       "       [   1911,  418299,  225968],\n",
       "       [   1912,  558103,  429945],\n",
       "       [   1913,  624518,  512557],\n",
       "       [   1914,  761548,  654762],\n",
       "       [   1915,  983874,  848603],\n",
       "       [   1916, 1044323,  890099],\n",
       "       [   1917, 1081280,  925511],\n",
       "       [   1918, 1157647, 1013537],\n",
       "       [   1919, 1130145,  980149],\n",
       "       [   1920, 1198283, 1064463],\n",
       "       [   1921, 1232999, 1101457],\n",
       "       [   1922, 1200919, 1088287],\n",
       "       [   1923, 1206330, 1096168],\n",
       "       [   1924, 1248876, 1132751],\n",
       "       [   1925, 1217352, 1115958],\n",
       "       [   1926, 1185304, 1110505],\n",
       "       [   1927, 1192330, 1126717],\n",
       "       [   1928, 1153117, 1107518],\n",
       "       [   1929, 1116422, 1075313],\n",
       "       [   1930, 1125761, 1097176],\n",
       "       [   1931, 1064497, 1039127],\n",
       "       [   1932, 1066994, 1043808],\n",
       "       [   1933, 1007710,  991127],\n",
       "       [   1934, 1044039, 1032291],\n",
       "       [   1935, 1048428, 1040930],\n",
       "       [   1936, 1040202, 1036974],\n",
       "       [   1937, 1063872, 1066309],\n",
       "       [   1938, 1103277, 1108841],\n",
       "       [   1939, 1096518, 1106544],\n",
       "       [   1940, 1143325, 1158900],\n",
       "       [   1941, 1207919, 1227941],\n",
       "       [   1942, 1350545, 1380774],\n",
       "       [   1943, 1395082, 1426846],\n",
       "       [   1944, 1327104, 1362555],\n",
       "       [   1945, 1307028, 1345610],\n",
       "       [   1946, 1571184, 1623650],\n",
       "       [   1947, 1772644, 1829223],\n",
       "       [   1948, 1697814, 1754469],\n",
       "       [   1949, 1710825, 1773725],\n",
       "       [   1950, 1713180, 1790673],\n",
       "       [   1951, 1800042, 1881080],\n",
       "       [   1952, 1854698, 1944277],\n",
       "       [   1953, 1880326, 1969777],\n",
       "       [   1954, 1941682, 2037374],\n",
       "       [   1955, 1954664, 2057918],\n",
       "       [   1956, 2007512, 2113694],\n",
       "       [   1957, 2044160, 2155866],\n",
       "       [   1958, 2010884, 2120712],\n",
       "       [   1959, 2023044, 2133509],\n",
       "       [   1960, 2022093, 2132717],\n",
       "       [   1961, 2017316, 2122502],\n",
       "       [   1962, 1966548, 2068945],\n",
       "       [   1963, 1927217, 2031755],\n",
       "       [   1964, 1894594, 1993270],\n",
       "       [   1965, 1765001, 1861378],\n",
       "       [   1966, 1691868, 1783964],\n",
       "       [   1967, 1650764, 1744527],\n",
       "       [   1968, 1640103, 1738928],\n",
       "       [   1969, 1686947, 1789732],\n",
       "       [   1970, 1748147, 1859594],\n",
       "       [   1971, 1663475, 1769201],\n",
       "       [   1972, 1521185, 1622666],\n",
       "       [   1973, 1458139, 1559338],\n",
       "       [   1974, 1467413, 1573105],\n",
       "       [   1975, 1457699, 1562207],\n",
       "       [   1976, 1465096, 1569904],\n",
       "       [   1977, 1532997, 1643684],\n",
       "       [   1978, 1531658, 1642250],\n",
       "       [   1979, 1605051, 1721947],\n",
       "       [   1980, 1659933, 1783876],\n",
       "       [   1981, 1667465, 1790907],\n",
       "       [   1982, 1692678, 1813970],\n",
       "       [   1983, 1670061, 1791732],\n",
       "       [   1984, 1682973, 1803830],\n",
       "       [   1985, 1720036, 1847032],\n",
       "       [   1986, 1714664, 1840164],\n",
       "       [   1987, 1737891, 1865662],\n",
       "       [   1988, 1779839, 1912602],\n",
       "       [   1989, 1843105, 1999999],\n",
       "       [   1990, 1897709, 2052543],\n",
       "       [   1991, 1874434, 2019463],\n",
       "       [   1992, 1843304, 1996388],\n",
       "       [   1993, 1808379, 1960397],\n",
       "       [   1994, 1785074, 1931157],\n",
       "       [   1995, 1757927, 1902832],\n",
       "       [   1996, 1752249, 1893378],\n",
       "       [   1997, 1739806, 1884122],\n",
       "       [   1998, 1765915, 1910250],\n",
       "       [   1999, 1772632, 1918809],\n",
       "       [   2000, 1814601, 1962406],\n",
       "       [   2001, 1799049, 1941251],\n",
       "       [   2002, 1795206, 1939815],\n",
       "       [   2003, 1825359, 1973434],\n",
       "       [   2004, 1834145, 1982794],\n",
       "       [   2005, 1845379, 1994841],\n",
       "       [   2006, 1898463, 2052377],\n",
       "       [   2007, 1919408, 2072139],\n",
       "       [   2008, 1887234, 2036289],\n",
       "       [   2009, 1832925, 1979303],\n",
       "       [   2010, 1772738, 1913851],\n",
       "       [   2011, 1753500, 1893230]], dtype=int64)"
      ]
     },
     "execution_count": 3,
     "metadata": {},
     "output_type": "execute_result"
    }
   ],
   "source": [
    "birth = np.loadtxt('data/births.txt', delimiter=',', dtype=np.int64)\n",
    "birth"
   ]
  },
  {
   "cell_type": "code",
   "execution_count": 5,
   "metadata": {},
   "outputs": [
    {
     "name": "stdout",
     "output_type": "stream",
     "text": [
      "남아 출생 평균 :  1225776.07\n",
      "여아 출생 평균 :  1245399.21\n"
     ]
    }
   ],
   "source": [
    "# 1. 남아 ,여아 출생 평균을 구하시요\n",
    "\n",
    "print('남아 출생 평균 : ', birth[:,1].mean().round(2))\n",
    "print('여아 출생 평균 : ', birth[:,2].mean().round(2))"
   ]
  },
  {
   "cell_type": "code",
   "execution_count": 6,
   "metadata": {},
   "outputs": [
    {
     "name": "stdout",
     "output_type": "stream",
     "text": [
      "1225776.0681818181\n",
      "1245399.2121212122\n"
     ]
    }
   ],
   "source": [
    "result = birth.mean(axis=0)\n",
    "print(result[1])\n",
    "print(result[2])"
   ]
  },
  {
   "cell_type": "code",
   "execution_count": 102,
   "metadata": {},
   "outputs": [
    {
     "data": {
      "text/plain": [
       "array([[   2000, 1814601, 1962406],\n",
       "       [   2001, 1799049, 1941251],\n",
       "       [   2002, 1795206, 1939815],\n",
       "       [   2003, 1825359, 1973434],\n",
       "       [   2004, 1834145, 1982794],\n",
       "       [   2005, 1845379, 1994841],\n",
       "       [   2006, 1898463, 2052377],\n",
       "       [   2007, 1919408, 2072139],\n",
       "       [   2008, 1887234, 2036289],\n",
       "       [   2009, 1832925, 1979303],\n",
       "       [   2010, 1772738, 1913851],\n",
       "       [   2011, 1753500, 1893230]], dtype=int64)"
      ]
     },
     "execution_count": 102,
     "metadata": {},
     "output_type": "execute_result"
    }
   ],
   "source": [
    "# 2. 2000년대 이후 데이터를 구하시요\n",
    "# 년도   남아   여아\n",
    "# ==============\n",
    "# 2000     xx     xx\n",
    "\n",
    "birth_2000 = birth[:,[0]]>=2000 # 2차원 불리안\n",
    "birth_2000 = birth_2000.reshape(-1) # 1차원 불리안\n",
    "\n",
    "birth[birth_2000]"
   ]
  },
  {
   "cell_type": "code",
   "execution_count": 41,
   "metadata": {},
   "outputs": [
    {
     "name": "stdout",
     "output_type": "stream",
     "text": [
      "년도  남아  여아\n",
      "====================\n",
      "2000 1814601 1962406\n",
      "2001 1799049 1941251\n",
      "2002 1795206 1939815\n",
      "2003 1825359 1973434\n",
      "2004 1834145 1982794\n",
      "2005 1845379 1994841\n",
      "2006 1898463 2052377\n",
      "2007 1919408 2072139\n",
      "2008 1887234 2036289\n",
      "2009 1832925 1979303\n",
      "2010 1772738 1913851\n",
      "2011 1753500 1893230\n"
     ]
    }
   ],
   "source": [
    "print('년도 ','남아 ','여아')\n",
    "print('='*20)\n",
    "for a,b,c in birth[birth_2000]:\n",
    "    print(a,b,c)"
   ]
  },
  {
   "cell_type": "code",
   "execution_count": 104,
   "metadata": {},
   "outputs": [
    {
     "data": {
      "text/plain": [
       "array([[   1957, 2044160]], dtype=int64)"
      ]
     },
     "execution_count": 104,
     "metadata": {},
     "output_type": "execute_result"
    }
   ],
   "source": [
    "# 3. 남아출생이 가장 많은 년도와 남아수를 구하시요.\n",
    "\n",
    "birth_max_m = birth[birth[:,1] == birth[:,1].max()]\n",
    "np.delete(birth_max_m, [-1], axis = 1)"
   ]
  },
  {
   "cell_type": "code",
   "execution_count": 110,
   "metadata": {},
   "outputs": [
    {
     "data": {
      "text/plain": [
       "array([[   1957, 2044160],\n",
       "       [   1959, 2023044],\n",
       "       [   1960, 2022093],\n",
       "       [   1961, 2017316],\n",
       "       [   1958, 2010884]], dtype=int64)"
      ]
     },
     "execution_count": 110,
     "metadata": {},
     "output_type": "execute_result"
    }
   ],
   "source": [
    "# 4. 남아출생이 가장 많은 top5를 구하시오(년도와 남아수)\n",
    "\n",
    "np.argsort(birth[:,1])[-1:-6:-1] \n",
    "birth_top5 = birth[np.argsort(birth[:,1])[-1:-6:-1]]\n",
    "np.delete(birth_top5, [-1], axis = 1)\n",
    "\n",
    "# np.sort(birth[:,1])[-1:-6:-1] "
   ]
  },
  {
   "cell_type": "code",
   "execution_count": 11,
   "metadata": {},
   "outputs": [
    {
     "name": "stdout",
     "output_type": "stream",
     "text": [
      "남아  여아  남아율\n",
      "====================\n",
      "90993.0 110491.0 0.4516140239423478\n",
      "91954.0 100745.0 0.47718981416613476\n",
      "107850.0 113688.0 0.4868239308831893\n",
      "112321.0 104629.0 0.5177275870016133\n",
      "129022.0 114445.0 0.5299362952679418\n",
      "133055.0 107800.0 0.5524278092628345\n",
      "144535.0 110784.0 0.5660957468891857\n",
      "145982.0 101414.0 0.5900742130026354\n",
      "178627.0 120853.0 0.5964571924669427\n",
      "178366.0 110584.0 0.617290188613947\n",
      "190377.0 111025.0 0.6316381444051467\n",
      "185482.0 101196.0 0.6470046533044043\n",
      "212346.0 122037.0 0.6350382645050735\n",
      "212906.0 112317.0 0.6546461966097109\n",
      "222922.0 115772.0 0.6581811310504467\n",
      "233630.0 117398.0 0.6655594425515913\n",
      "237920.0 119570.0 0.6655291057092506\n",
      "234202.0 112758.0 0.6750115287064792\n",
      "258770.0 122693.0 0.6783619905469207\n",
      "233023.0 106212.0 0.686907306144708\n",
      "299828.0 150499.0 0.6658006293204716\n",
      "239348.0 106471.0 0.692119287835544\n",
      "264077.0 122659.0 0.6828353191841463\n",
      "261973.0 119234.0 0.6872198044631919\n",
      "275371.0 128125.0 0.6824627753434979\n",
      "291629.0 132319.0 0.6878886089803466\n",
      "295303.0 133159.0 0.6892163132319785\n",
      "318566.0 146833.0 0.6845008261728108\n",
      "334313.0 154344.0 0.6841465486015753\n",
      "347228.0 163999.0 0.6792051280546606\n",
      "396501.0 194218.0 0.6712176178521428\n",
      "418299.0 225968.0 0.6492634264986411\n",
      "558103.0 429945.0 0.5648541366411348\n",
      "624518.0 512557.0 0.5492320207550073\n",
      "761548.0 654762.0 0.537698667664565\n",
      "983874.0 848603.0 0.5369093309220252\n",
      "1044323.0 890099.0 0.5398630702090857\n",
      "1081280.0 925511.0 0.5388104690523328\n",
      "1157647.0 1013537.0 0.5331869615840942\n",
      "1130145.0 980149.0 0.5355391239324947\n",
      "1198283.0 1064463.0 0.5295702655092529\n",
      "1232999.0 1101457.0 0.5281740157021593\n",
      "1200919.0 1088287.0 0.5246006694024041\n",
      "1206330.0 1096168.0 0.5239222791941621\n",
      "1248876.0 1132751.0 0.5243793423571366\n",
      "1217352.0 1115958.0 0.5217275029893156\n",
      "1185304.0 1110505.0 0.5162903359992055\n",
      "1192330.0 1126717.0 0.5141465438173526\n",
      "1153117.0 1107518.0 0.510085440595231\n",
      "1116422.0 1075313.0 0.5093781866877154\n",
      "1125761.0 1097176.0 0.5064295569330125\n",
      "1064497.0 1039127.0 0.5060300700125118\n",
      "1066994.0 1043808.0 0.505492225230031\n",
      "1007710.0 991127.0 0.5041481621562939\n",
      "1044039.0 1032291.0 0.5028290300674748\n",
      "1048428.0 1040930.0 0.501794331081605\n",
      "1040202.0 1036974.0 0.50077701648777\n",
      "1063872.0 1066309.0 0.499427982880328\n",
      "1103277.0 1108841.0 0.4987423817355132\n",
      "1096518.0 1106544.0 0.497724530675941\n",
      "1143325.0 1158900.0 0.49661740272996774\n",
      "1207919.0 1227941.0 0.49589015789084756\n",
      "1350545.0 1380774.0 0.49446622675710894\n",
      "1395082.0 1426846.0 0.4943719329479703\n",
      "1327104.0 1362555.0 0.49340975937841935\n",
      "1307028.0 1345610.0 0.49272761681013394\n",
      "1571184.0 1623650.0 0.49178893175670474\n",
      "1772644.0 1829223.0 0.49214587879008304\n",
      "1697814.0 1754469.0 0.4917945602953176\n",
      "1710825.0 1773725.0 0.4909744443328407\n",
      "1713180.0 1790673.0 0.48894174498758936\n",
      "1800042.0 1881080.0 0.4889927581862269\n",
      "1854698.0 1944277.0 0.4882101093057996\n",
      "1880326.0 1969777.0 0.4883832977974875\n",
      "1941682.0 2037374.0 0.48797553992705806\n",
      "1954664.0 2057918.0 0.4871337208809689\n",
      "2007512.0 2113694.0 0.4871176058658558\n",
      "2044160.0 2155866.0 0.4867017489891729\n",
      "2010884.0 2120712.0 0.48670876823387377\n",
      "2023044.0 2133509.0 0.4867119461727061\n",
      "2022093.0 2132717.0 0.48668723720218254\n",
      "2017316.0 2122502.0 0.4872958183185831\n",
      "1966548.0 2068945.0 0.48731295036318983\n",
      "1927217.0 2031755.0 0.4867973302160258\n",
      "1894594.0 1993270.0 0.4873097412872467\n",
      "1765001.0 1861378.0 0.48671167575148655\n",
      "1691868.0 1783964.0 0.486751948885907\n",
      "1650764.0 1744527.0 0.48619219972603234\n",
      "1640103.0 1738928.0 0.4853767248657973\n",
      "1686947.0 1789732.0 0.4852179335509548\n",
      "1748147.0 1859594.0 0.4845544621967042\n",
      "1663475.0 1769201.0 0.48460006129328836\n",
      "1521185.0 1622666.0 0.48386039923647783\n",
      "1458139.0 1559338.0 0.48323118950036736\n",
      "1467413.0 1573105.0 0.48261940892966265\n",
      "1457699.0 1562207.0 0.48269681241734014\n",
      "1465096.0 1569904.0 0.4827334431630972\n",
      "1532997.0 1643684.0 0.4825782003292115\n",
      "1531658.0 1642250.0 0.48257794491837824\n",
      "1605051.0 1721947.0 0.4824322106595796\n",
      "1659933.0 1783876.0 0.4820049543978775\n",
      "1667465.0 1790907.0 0.48215316339595626\n",
      "1692678.0 1813970.0 0.4827054212455884\n",
      "1670061.0 1791732.0 0.4824265922312513\n",
      "1682973.0 1803830.0 0.48266936789947695\n",
      "1720036.0 1847032.0 0.48219882547795556\n",
      "1714664.0 1840164.0 0.4823479504493607\n",
      "1737891.0 1865662.0 0.482271524797887\n",
      "1779839.0 1912602.0 0.4820223261522662\n",
      "1843105.0 1999999.0 0.47958759377836246\n",
      "1897709.0 2052543.0 0.48040200979583075\n",
      "1874434.0 2019463.0 0.48137739647453437\n",
      "1843304.0 1996388.0 0.48006558859408516\n",
      "1808379.0 1960397.0 0.479831913597412\n",
      "1785074.0 1931157.0 0.4803452745537078\n",
      "1757927.0 1902832.0 0.4802083393088701\n",
      "1752249.0 1893378.0 0.4806440702792688\n",
      "1739806.0 1884122.0 0.48008845650355086\n",
      "1765915.0 1910250.0 0.4803688082553422\n",
      "1772632.0 1918809.0 0.48020055040836357\n",
      "1814601.0 1962406.0 0.4804335814045354\n",
      "1799049.0 1941251.0 0.48099056225436465\n",
      "1795206.0 1939815.0 0.48064147430496373\n",
      "1825359.0 1973434.0 0.4805102568105185\n",
      "1834145.0 1982794.0 0.4805277212970917\n",
      "1845379.0 1994841.0 0.4805399169839228\n",
      "1898463.0 2052377.0 0.48052135748347186\n",
      "1919408.0 2072139.0 0.48086819471247616\n",
      "1887234.0 2036289.0 0.4810049539661167\n",
      "1832925.0 1979303.0 0.480801515544191\n",
      "1772738.0 1913851.0 0.48086130566765106\n",
      "1753500.0 1893230.0 0.4808417404085304\n"
     ]
    }
   ],
   "source": [
    "# 5. 남아율(%) 을 구하고 각년도별\n",
    "# 남아수가 차지하는비율을 데이터로\n",
    "# 보여주시요.\n",
    "# 남아    여아    남아율\n",
    "# ===================\n",
    "# ..\n",
    "\n",
    "birth_m_percent = birth[:,1] / (birth[:,1]+birth[:,2]).round(2)\n",
    "a = birth_m_percent.reshape(-1,1)\n",
    "b = birth[:, 1:3]\n",
    "c = np.append(b,a, axis=1)\n",
    "\n",
    "print('남아 ','여아 ','남아율')\n",
    "print('='*20)\n",
    "for q, w, e in c:\n",
    "    print(q,w,e)"
   ]
  },
  {
   "cell_type": "code",
   "execution_count": 157,
   "metadata": {},
   "outputs": [
    {
     "name": "stdout",
     "output_type": "stream",
     "text": [
      "남아수 출생량\n",
      "2000 1814601 많음\n",
      "2001 1799049 적음\n",
      "2002 1795206 적음\n",
      "2003 1825359 많음\n",
      "2004 1834145 많음\n",
      "2005 1845379 많음\n",
      "2006 1898463 많음\n",
      "2007 1919408 많음\n",
      "2008 1887234 많음\n",
      "2009 1832925 많음\n",
      "2010 1772738 적음\n",
      "2011 1753500 적음\n"
     ]
    }
   ],
   "source": [
    "# 6. 2000년도 이후 데이터에 대해\n",
    "# 출생량 을 구하고\n",
    "# 남아수가 1800000 이상이면 '많음' 아니면 '적음'\n",
    "# 이라고 보여 주시요\n",
    "# \t남아수 출생량\n",
    "# 2000   1233   '많음'\n",
    "# 2001   1234   '적음'\n",
    "\n",
    "m = np.where(birth[:,1] >= 1800000, '많음', '적음').reshape(-1,1)\n",
    "n = birth[:, :2]\n",
    "z = np.append(n, m, axis=1)\n",
    "\n",
    "z = z[z[:, 0].astype(np.int64) >= 2000]\n",
    "\n",
    "print('남아수 출생량')\n",
    "for q, w, e in z:\n",
    "    print(q,w,e)"
   ]
  },
  {
   "cell_type": "code",
   "execution_count": 83,
   "metadata": {},
   "outputs": [
    {
     "name": "stdout",
     "output_type": "stream",
     "text": [
      "176714.15 111820.55\n",
      "1362901.51 1384145.55\n",
      "1831500.5833333333 1978477.5\n"
     ]
    }
   ],
   "source": [
    "# 7. 1800년대,1900년대,2000년대 \n",
    "# 각 남아,여야수 평균을 구하시요\n",
    "\n",
    "birth_1800 = birth[(birth[:,0] >= 1800) & (birth[:,0] <= 1899)]\n",
    "birth_1900 = birth[(birth[:,0] >= 1900) & (birth[:,0] <= 1999)]\n",
    "birth_2000 = birth[(birth[:,0] >= 2000)]\n",
    "print(birth_1800[:,1].mean(), birth_1800[:,2].mean())\n",
    "print(birth_1900[:,1].mean(), birth_1900[:,2].mean())\n",
    "print(birth_2000[:,1].mean(), birth_2000[:,2].mean())"
   ]
  },
  {
   "cell_type": "code",
   "execution_count": 79,
   "metadata": {},
   "outputs": [
    {
     "data": {
      "text/plain": [
       "array([[   1913,  624518,  512557],\n",
       "       [   1914,  761548,  654762],\n",
       "       [   1915,  983874,  848603],\n",
       "       [   1916, 1044323,  890099],\n",
       "       [   1917, 1081280,  925511],\n",
       "       [   1918, 1157647, 1013537],\n",
       "       [   1919, 1130145,  980149],\n",
       "       [   1920, 1198283, 1064463],\n",
       "       [   1921, 1232999, 1101457],\n",
       "       [   1922, 1200919, 1088287],\n",
       "       [   1923, 1206330, 1096168],\n",
       "       [   1924, 1248876, 1132751],\n",
       "       [   1925, 1217352, 1115958],\n",
       "       [   1926, 1185304, 1110505],\n",
       "       [   1927, 1192330, 1126717],\n",
       "       [   1928, 1153117, 1107518],\n",
       "       [   1929, 1116422, 1075313],\n",
       "       [   1930, 1125761, 1097176],\n",
       "       [   1931, 1064497, 1039127],\n",
       "       [   1932, 1066994, 1043808],\n",
       "       [   1933, 1007710,  991127],\n",
       "       [   1934, 1044039, 1032291],\n",
       "       [   1935, 1048428, 1040930],\n",
       "       [   1936, 1040202, 1036974],\n",
       "       [   1937, 1063872, 1066309],\n",
       "       [   1938, 1103277, 1108841],\n",
       "       [   1939, 1096518, 1106544],\n",
       "       [   1940, 1143325, 1158900],\n",
       "       [   1941, 1207919, 1227941],\n",
       "       [   1942, 1350545, 1380774],\n",
       "       [   1943, 1395082, 1426846],\n",
       "       [   1944, 1327104, 1362555],\n",
       "       [   1945, 1307028, 1345610],\n",
       "       [   1946, 1571184, 1623650],\n",
       "       [   1947, 1772644, 1829223],\n",
       "       [   1948, 1697814, 1754469],\n",
       "       [   1949, 1710825, 1773725],\n",
       "       [   1950, 1713180, 1790673],\n",
       "       [   1951, 1800042, 1881080],\n",
       "       [   1965, 1765001, 1861378],\n",
       "       [   1966, 1691868, 1783964],\n",
       "       [   1967, 1650764, 1744527],\n",
       "       [   1968, 1640103, 1738928],\n",
       "       [   1969, 1686947, 1789732],\n",
       "       [   1970, 1748147, 1859594],\n",
       "       [   1971, 1663475, 1769201],\n",
       "       [   1972, 1521185, 1622666],\n",
       "       [   1973, 1458139, 1559338],\n",
       "       [   1974, 1467413, 1573105],\n",
       "       [   1975, 1457699, 1562207],\n",
       "       [   1976, 1465096, 1569904],\n",
       "       [   1977, 1532997, 1643684],\n",
       "       [   1978, 1531658, 1642250],\n",
       "       [   1979, 1605051, 1721947],\n",
       "       [   1980, 1659933, 1783876],\n",
       "       [   1981, 1667465, 1790907],\n",
       "       [   1982, 1692678, 1813970],\n",
       "       [   1983, 1670061, 1791732],\n",
       "       [   1984, 1682973, 1803830],\n",
       "       [   1985, 1720036, 1847032],\n",
       "       [   1986, 1714664, 1840164],\n",
       "       [   1987, 1737891, 1865662],\n",
       "       [   1995, 1757927, 1902832],\n",
       "       [   1996, 1752249, 1893378],\n",
       "       [   1997, 1739806, 1884122],\n",
       "       [   2011, 1753500, 1893230]], dtype=int64)"
      ]
     },
     "execution_count": 79,
     "metadata": {},
     "output_type": "execute_result"
    }
   ],
   "source": [
    "# 8. 여아 25%~75%사이의 값을 구하시요\n",
    "\n",
    "birth[(birth[:,2] >= np.quantile(birth[:,2], 0.25)) & (birth[:,2] <= np.quantile(birth[:,2], 0.75))]"
   ]
  },
  {
   "cell_type": "code",
   "execution_count": null,
   "metadata": {},
   "outputs": [],
   "source": [
    "# 9. 2000년대 남아데이터를 바차트로 그리시요."
   ]
  },
  {
   "cell_type": "code",
   "execution_count": 13,
   "metadata": {},
   "outputs": [
    {
     "data": {
      "text/plain": [
       "array([[   2000, 1814601],\n",
       "       [   2001, 1799049],\n",
       "       [   2002, 1795206],\n",
       "       [   2003, 1825359],\n",
       "       [   2004, 1834145],\n",
       "       [   2005, 1845379],\n",
       "       [   2006, 1898463],\n",
       "       [   2007, 1919408],\n",
       "       [   2008, 1887234],\n",
       "       [   2009, 1832925],\n",
       "       [   2010, 1772738],\n",
       "       [   2011, 1753500]], dtype=int64)"
      ]
     },
     "execution_count": 13,
     "metadata": {},
     "output_type": "execute_result"
    }
   ],
   "source": [
    "birth_m = birth[birth[:,0] >= 2000]\n",
    "birth_m = np.delete(birth_m, [2], axis=1)\n",
    "birth_m"
   ]
  },
  {
   "cell_type": "code",
   "execution_count": 14,
   "metadata": {},
   "outputs": [],
   "source": [
    "a = birth_m[:, 0]\n",
    "b = birth_m[:, 1]"
   ]
  },
  {
   "cell_type": "code",
   "execution_count": 15,
   "metadata": {},
   "outputs": [],
   "source": [
    "import matplotlib.pyplot as plt"
   ]
  },
  {
   "cell_type": "code",
   "execution_count": 16,
   "metadata": {},
   "outputs": [
    {
     "data": {
      "image/png": "[encoded data removed]",
      "text/plain": [
       "<Figure size 432x288 with 1 Axes>"
      ]
     },
     "metadata": {
      "needs_background": "light"
     },
     "output_type": "display_data"
    }
   ],
   "source": [
    "plt.title('2000_boys')\n",
    "plt.xlabel('year')\n",
    "plt.ylabel('boys')\n",
    "plt.bar(a, b) # bar차트\n",
    "plt.show()"
   ]
  },
  {
   "cell_type": "code",
   "execution_count": null,
   "metadata": {},
   "outputs": [],
   "source": []
  }
 ],
 "metadata": {
  "kernelspec": {
   "display_name": "Python 3",
   "language": "python",
   "name": "python3"
  },
  "language_info": {
   "codemirror_mode": {
    "name": "ipython",
    "version": 3
   },
   "file_extension": ".py",
   "mimetype": "text/x-python",
   "name": "python",
   "nbconvert_exporter": "python",
   "pygments_lexer": "ipython3",
   "version": "3.8.5"
  }
 },
 "nbformat": 4,
 "nbformat_minor": 4
}
