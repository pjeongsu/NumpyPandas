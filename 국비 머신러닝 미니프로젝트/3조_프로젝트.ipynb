{
 "cells": [
  {
   "cell_type": "code",
   "execution_count": 1,
   "metadata": {},
   "outputs": [],
   "source": [
    "from sklearn.datasets import make_classification\n",
    "from sklearn.linear_model import LogisticRegression\n",
    "from sklearn.model_selection import train_test_split, GridSearchCV\n",
    "from sklearn.model_selection import cross_val_score, cross_validate\n",
    "import multiprocessing\n",
    "\n",
    "from sklearn.svm import SVC, SVR\n",
    "from sklearn.manifold import TSNE\n",
    "from sklearn.linear_model import SGDRegressor, SGDClassifier\n",
    "from sklearn.datasets import load_boston, load_breast_cancer,load_iris\n",
    "from sklearn.datasets import load_wine\n",
    "from sklearn.pipeline import make_pipeline, Pipeline\n",
    "from sklearn.preprocessing import StandardScaler, MinMaxScaler\n",
    "# from sklearn.naive_bayes import GaussianNB, BernoulliNB, MultinomialNB\n",
    "from sklearn import metrics\n",
    "from sklearn.svm import SVC\n",
    "\n",
    "import pandas as pd\n",
    "import numpy as np\n",
    "import matplotlib.pyplot as plt\n",
    "import seaborn as sns\n",
    "from bayes_opt import BayesianOptimization\n",
    "\n",
    "from warnings import filterwarnings\n",
    "filterwarnings('ignore')\n",
    "\n",
    "import matplotlib\n",
    "matplotlib.rcParams['font.family']='Malgun Gothic'\n",
    "plt.rcParams['font.family'] = 'NanumGothic'\n",
    "plt.rcParams['font.family'] = 'Malgun Gothic'\n",
    "matplotlib.rcParams['axes.unicode_minus'] = False\n"
   ]
  },
  {
   "cell_type": "code",
   "execution_count": null,
   "metadata": {},
   "outputs": [],
   "source": [
    "# KNN 과 동일 옵션만 바뀐 상태로 범위를 지정해주고 최적값을 탐색\n",
    "SVM_search_point = {'C': int(1,30),\n",
    "            'kernel': (['linear','poly','rbf','sigmoid','precomputed']),\n",
    "            'gamma': (0.00001, 10),\n",
    "            'tol': (0.0001, 1),\n",
    "            'max_iter':(100, 1000)\n",
    "            }\n",
    "\n",
    "\n",
    "\n",
    "scores_all = list()\n",
    "c_all = list()\n",
    "gamma_all = list()\n",
    "tol_all  = list()\n",
    "max_all = list()\n",
    "\n",
    "def SVM_opt(C,kernel, gamma, tol, max_iter):\n",
    "    cvscores = []\n",
    "    \n",
    "    for train_index, val_index in skfolds.split(x_data, y_data):\n",
    "        print(train_index)\n",
    "        x_skftrain, x_val = x_train.values[train_index],x_train.values[val_index]\n",
    "        Y_skftrain, Y_val = np.array(y_train)[train_index],np.array(y_train)[val_index]\n",
    "\n",
    "        SVMmodel = SVC( C= int(C) , kernel=kernel , probability = True, \n",
    "                       gamma= gamma, tol=tol, max_iter=int(max_iter)) # SVM  \n",
    "        \n",
    "        SVMmodel_fit = SVMmodel.fit(x_skftrain,Y_skftrain)      # 모델학습\n",
    "        y_pred = SVMmodel_fit.predict(x_val)                    # 예측\n",
    "\n",
    "        report = f1_score(Y_val, y_pred, average='weighted') # F1\n",
    "        cvscores.append(report)\n",
    "    \n",
    "    scores_all.append(np.mean(cvscores))\n",
    "    c_all.append(int(C))\n",
    "    gamma_all.append(gamma)\n",
    "    tol_all.append(tol)\n",
    "    max_all.append(int(max_iter))\n",
    "    return np.mean(cvscores)\n",
    "\n",
    "result = BayesianOptimization(SVM_opt, SVM_search_point, random_state=3, verbose=2) \n",
    "result.maximize(acq='ucb',n_iter=20, kappa=2.576, init_points=1 )"
   ]
  },
  {
   "cell_type": "code",
   "execution_count": 2,
   "metadata": {},
   "outputs": [],
   "source": [
    "import pandas as pd"
   ]
  },
  {
   "cell_type": "code",
   "execution_count": 3,
   "metadata": {
    "scrolled": true
   },
   "outputs": [],
   "source": [
    "df = pd.read_csv('aug_train_5.csv')\n",
    "df =df.astype({'target': 'int'})"
   ]
  },
  {
   "cell_type": "markdown",
   "metadata": {},
   "source": [
    "<pre>\n",
    "training_hours 가 이직 성공에 얼마나 영향을 줄 것인가\n",
    "이직에 성공했을 경우 가장 큰 영향을 주는 특성데이터는 어떤 것일까\n",
    "신입이 회사로 취직할 때의 영향력 있는 특성데이터가 어떤 것이며 중요도가 어떠할까\n",
    "    -> 세부적으로  학력, 전공 중 어떤 것이 중요한가 -> 학력의 비율을 체크하기\n",
    "    -> 전 회사의 규모가 줄 수 있는 영향은?  -- 클 수록 오히려 이직을 안하려할 것인데 이직성공률은 높지않을까\n",
    "    -> 이직에 경력이 주는 영향력이 어느정도일까\n",
    "    -> 남성과 여성의 비율 차이는?\n",
    " </pre>"
   ]
  },
  {
   "cell_type": "markdown",
   "metadata": {},
   "source": [
    "# 분석하기"
   ]
  },
  {
   "cell_type": "code",
   "execution_count": 4,
   "metadata": {},
   "outputs": [],
   "source": [
    "target_df = df[df['target'] == 1]\n",
    "non_target_df = df[df['target'] == 0]"
   ]
  },
  {
   "cell_type": "code",
   "execution_count": 5,
   "metadata": {},
   "outputs": [
    {
     "data": {
      "text/plain": [
       "1         47\n",
       "2          8\n",
       "3         24\n",
       "6        108\n",
       "7         23\n",
       "        ... \n",
       "14369     23\n",
       "14370     60\n",
       "14371     25\n",
       "14374     44\n",
       "14375     97\n",
       "Name: training_hours, Length: 11066, dtype: int64"
      ]
     },
     "execution_count": 5,
     "metadata": {},
     "output_type": "execute_result"
    }
   ],
   "source": [
    "# target_df\n",
    "non_target_df['training_hours']"
   ]
  },
  {
   "cell_type": "code",
   "execution_count": 6,
   "metadata": {},
   "outputs": [
    {
     "data": {
      "text/plain": [
       "65.96511838062534"
      ]
     },
     "execution_count": 6,
     "metadata": {},
     "output_type": "execute_result"
    }
   ],
   "source": [
    "non_target_df['training_hours'].mean()"
   ]
  },
  {
   "cell_type": "code",
   "execution_count": 7,
   "metadata": {},
   "outputs": [
    {
     "data": {
      "image/png": "[encoded data removed]",
      "text/plain": [
       "<Figure size 432x288 with 1 Axes>"
      ]
     },
     "metadata": {
      "needs_background": "light"
     },
     "output_type": "display_data"
    }
   ],
   "source": [
    "target_df['training_hours'].plot()\n",
    "plt.show()"
   ]
  },
  {
   "cell_type": "code",
   "execution_count": 8,
   "metadata": {},
   "outputs": [
    {
     "data": {
      "text/plain": [
       "학사    2338\n",
       "석사     640\n",
       "고졸     269\n",
       "박사      43\n",
       "초졸      20\n",
       "Name: education_level, dtype: int64"
      ]
     },
     "execution_count": 8,
     "metadata": {},
     "output_type": "execute_result"
    }
   ],
   "source": [
    "target_df['education_level'].value_counts()"
   ]
  },
  {
   "cell_type": "code",
   "execution_count": 9,
   "metadata": {},
   "outputs": [
    {
     "data": {
      "text/plain": [
       "학사    6781\n",
       "석사    2632\n",
       "고졸    1184\n",
       "박사     283\n",
       "초졸     186\n",
       "Name: education_level, dtype: int64"
      ]
     },
     "execution_count": 9,
     "metadata": {},
     "output_type": "execute_result"
    }
   ],
   "source": [
    "non_target_df['education_level'].value_counts()"
   ]
  },
  {
   "cell_type": "code",
   "execution_count": 10,
   "metadata": {},
   "outputs": [
    {
     "data": {
      "text/plain": [
       "학사    9119\n",
       "석사    3272\n",
       "고졸    1453\n",
       "박사     326\n",
       "초졸     206\n",
       "Name: education_level, dtype: int64"
      ]
     },
     "execution_count": 10,
     "metadata": {},
     "output_type": "execute_result"
    }
   ],
   "source": [
    "df['education_level'].value_counts()"
   ]
  },
  {
   "cell_type": "code",
   "execution_count": 11,
   "metadata": {},
   "outputs": [
    {
     "data": {
      "text/plain": [
       "0         True\n",
       "4         True\n",
       "5         True\n",
       "10        True\n",
       "15       False\n",
       "         ...  \n",
       "14357     True\n",
       "14367     True\n",
       "14368    False\n",
       "14372     True\n",
       "14373     True\n",
       "Name: education_level, Length: 3310, dtype: bool"
      ]
     },
     "execution_count": 11,
     "metadata": {},
     "output_type": "execute_result"
    }
   ],
   "source": [
    "target_df['education_level'] =='학사'"
   ]
  },
  {
   "cell_type": "markdown",
   "metadata": {},
   "source": [
    "### 성별의 비율, 이직을 하게되는 사람들중 남성의 비율은?"
   ]
  },
  {
   "cell_type": "code",
   "execution_count": 12,
   "metadata": {},
   "outputs": [
    {
     "data": {
      "text/plain": [
       "남성    13144\n",
       "여성     1232\n",
       "Name: gender, dtype: int64"
      ]
     },
     "execution_count": 12,
     "metadata": {},
     "output_type": "execute_result"
    }
   ],
   "source": [
    "df['gender'].value_counts()"
   ]
  },
  {
   "cell_type": "code",
   "execution_count": 13,
   "metadata": {},
   "outputs": [
    {
     "data": {
      "text/plain": [
       "13144"
      ]
     },
     "execution_count": 13,
     "metadata": {},
     "output_type": "execute_result"
    }
   ],
   "source": [
    "df['gender'][df['gender']== '남성'].count()"
   ]
  },
  {
   "cell_type": "code",
   "execution_count": 14,
   "metadata": {},
   "outputs": [],
   "source": [
    "man  = df['gender'][df['gender']== '남성'].count() / df['gender'].count()"
   ]
  },
  {
   "cell_type": "code",
   "execution_count": 15,
   "metadata": {},
   "outputs": [],
   "source": [
    "woman = df['gender'][df['gender']== '여성'].count()/ df['gender'].count()"
   ]
  },
  {
   "cell_type": "code",
   "execution_count": 16,
   "metadata": {
    "scrolled": true
   },
   "outputs": [
    {
     "data": {
      "image/png": "[encoded data removed]",
      "text/plain": [
       "<Figure size 432x288 with 1 Axes>"
      ]
     },
     "metadata": {},
     "output_type": "display_data"
    }
   ],
   "source": [
    "plt.pie([man,woman],labels= ['man','woman'],autopct='%.1f%%'\n",
    "       ,startangle=120)\n",
    "plt.show()"
   ]
  },
  {
   "cell_type": "markdown",
   "metadata": {},
   "source": [
    "          업종 전체 성별 비율"
   ]
  },
  {
   "cell_type": "code",
   "execution_count": 17,
   "metadata": {},
   "outputs": [],
   "source": [
    "target_man = target_df['gender'].value_counts()[0]/target_df['gender'].count()"
   ]
  },
  {
   "cell_type": "code",
   "execution_count": 18,
   "metadata": {},
   "outputs": [],
   "source": [
    "target_woman = target_df['gender'].value_counts()[1]/target_df['gender'].count()"
   ]
  },
  {
   "cell_type": "code",
   "execution_count": 19,
   "metadata": {},
   "outputs": [],
   "source": [
    "non_target_man = non_target_df['gender'].value_counts()[0]/non_target_df['gender'].count()\n",
    "non_target_woman = non_target_df['gender'].value_counts()[1]/non_target_df['gender'].count()"
   ]
  },
  {
   "cell_type": "code",
   "execution_count": 20,
   "metadata": {
    "scrolled": true
   },
   "outputs": [
    {
     "data": {
      "image/png": "[encoded data removed]",
      "text/plain": [
       "<Figure size 432x288 with 1 Axes>"
      ]
     },
     "metadata": {},
     "output_type": "display_data"
    }
   ],
   "source": [
    "plt.pie([target_man,target_woman],labels= ['man','woman'],autopct='%.1f%%'\n",
    "       ,startangle=120)\n",
    "plt.show()"
   ]
  },
  {
   "cell_type": "code",
   "execution_count": 21,
   "metadata": {},
   "outputs": [
    {
     "data": {
      "image/png": "[encoded data removed]",
      "text/plain": [
       "<Figure size 432x288 with 1 Axes>"
      ]
     },
     "metadata": {},
     "output_type": "display_data"
    }
   ],
   "source": [
    "plt.pie([non_target_man,non_target_woman],labels= ['man','woman'],autopct='%.1f%%'\n",
    "       ,startangle=120)\n",
    "plt.show()"
   ]
  },
  {
   "cell_type": "markdown",
   "metadata": {},
   "source": [
    "이직에 대한 여부에 성별은 큰 영향을 주지 않는듯함<br>\n",
    "업종의 성별비율과 이직시의 성별비율이 비슷한 비율을 가짐"
   ]
  },
  {
   "cell_type": "markdown",
   "metadata": {},
   "source": [
    "### 학력과 전공은 트레이닝 시간에 영향을 주는가"
   ]
  },
  {
   "cell_type": "code",
   "execution_count": 22,
   "metadata": {},
   "outputs": [],
   "source": [
    "df3c = df[['education_level','major_discipline','training_hours']]"
   ]
  },
  {
   "cell_type": "code",
   "execution_count": 23,
   "metadata": {},
   "outputs": [],
   "source": [
    "df3c = df3c.sort_values(by=['training_hours'])"
   ]
  },
  {
   "cell_type": "markdown",
   "metadata": {},
   "source": [
    "## trainig 기준으로 정렬했을때는 구분하기 힘듬"
   ]
  },
  {
   "cell_type": "code",
   "execution_count": 24,
   "metadata": {},
   "outputs": [
    {
     "data": {
      "text/html": [
       "<div>\n",
       "<style scoped>\n",
       "    .dataframe tbody tr th:only-of-type {\n",
       "        vertical-align: middle;\n",
       "    }\n",
       "\n",
       "    .dataframe tbody tr th {\n",
       "        vertical-align: top;\n",
       "    }\n",
       "\n",
       "    .dataframe thead th {\n",
       "        text-align: right;\n",
       "    }\n",
       "</style>\n",
       "<table border=\"1\" class=\"dataframe\">\n",
       "  <thead>\n",
       "    <tr style=\"text-align: right;\">\n",
       "      <th></th>\n",
       "      <th>education_level</th>\n",
       "      <th>major_discipline</th>\n",
       "      <th>training_hours</th>\n",
       "    </tr>\n",
       "  </thead>\n",
       "  <tbody>\n",
       "    <tr>\n",
       "      <th>10323</th>\n",
       "      <td>석사</td>\n",
       "      <td>공학</td>\n",
       "      <td>336</td>\n",
       "    </tr>\n",
       "    <tr>\n",
       "      <th>11720</th>\n",
       "      <td>학사</td>\n",
       "      <td>공학</td>\n",
       "      <td>336</td>\n",
       "    </tr>\n",
       "    <tr>\n",
       "      <th>3354</th>\n",
       "      <td>초졸</td>\n",
       "      <td>기타 전공</td>\n",
       "      <td>336</td>\n",
       "    </tr>\n",
       "    <tr>\n",
       "      <th>12593</th>\n",
       "      <td>학사</td>\n",
       "      <td>공학</td>\n",
       "      <td>336</td>\n",
       "    </tr>\n",
       "    <tr>\n",
       "      <th>4801</th>\n",
       "      <td>학사</td>\n",
       "      <td>공학</td>\n",
       "      <td>336</td>\n",
       "    </tr>\n",
       "    <tr>\n",
       "      <th>3658</th>\n",
       "      <td>학사</td>\n",
       "      <td>공학</td>\n",
       "      <td>336</td>\n",
       "    </tr>\n",
       "    <tr>\n",
       "      <th>10450</th>\n",
       "      <td>석사</td>\n",
       "      <td>인문학</td>\n",
       "      <td>336</td>\n",
       "    </tr>\n",
       "    <tr>\n",
       "      <th>7739</th>\n",
       "      <td>석사</td>\n",
       "      <td>공학</td>\n",
       "      <td>334</td>\n",
       "    </tr>\n",
       "    <tr>\n",
       "      <th>2473</th>\n",
       "      <td>석사</td>\n",
       "      <td>공학</td>\n",
       "      <td>334</td>\n",
       "    </tr>\n",
       "    <tr>\n",
       "      <th>4591</th>\n",
       "      <td>석사</td>\n",
       "      <td>공학</td>\n",
       "      <td>334</td>\n",
       "    </tr>\n",
       "    <tr>\n",
       "      <th>10497</th>\n",
       "      <td>학사</td>\n",
       "      <td>공학</td>\n",
       "      <td>334</td>\n",
       "    </tr>\n",
       "    <tr>\n",
       "      <th>4177</th>\n",
       "      <td>학사</td>\n",
       "      <td>공학</td>\n",
       "      <td>334</td>\n",
       "    </tr>\n",
       "    <tr>\n",
       "      <th>11680</th>\n",
       "      <td>학사</td>\n",
       "      <td>공학</td>\n",
       "      <td>334</td>\n",
       "    </tr>\n",
       "    <tr>\n",
       "      <th>10857</th>\n",
       "      <td>학사</td>\n",
       "      <td>공학</td>\n",
       "      <td>334</td>\n",
       "    </tr>\n",
       "    <tr>\n",
       "      <th>2416</th>\n",
       "      <td>학사</td>\n",
       "      <td>인문학</td>\n",
       "      <td>334</td>\n",
       "    </tr>\n",
       "  </tbody>\n",
       "</table>\n",
       "</div>"
      ],
      "text/plain": [
       "      education_level major_discipline  training_hours\n",
       "10323              석사               공학             336\n",
       "11720              학사               공학             336\n",
       "3354               초졸            기타 전공             336\n",
       "12593              학사               공학             336\n",
       "4801               학사               공학             336\n",
       "3658               학사               공학             336\n",
       "10450              석사              인문학             336\n",
       "7739               석사               공학             334\n",
       "2473               석사               공학             334\n",
       "4591               석사               공학             334\n",
       "10497              학사               공학             334\n",
       "4177               학사               공학             334\n",
       "11680              학사               공학             334\n",
       "10857              학사               공학             334\n",
       "2416               학사              인문학             334"
      ]
     },
     "execution_count": 24,
     "metadata": {},
     "output_type": "execute_result"
    }
   ],
   "source": [
    "df3c.nlargest(10, 'training_hours', keep='all')"
   ]
  },
  {
   "cell_type": "code",
   "execution_count": 25,
   "metadata": {},
   "outputs": [
    {
     "data": {
      "text/html": [
       "<div>\n",
       "<style scoped>\n",
       "    .dataframe tbody tr th:only-of-type {\n",
       "        vertical-align: middle;\n",
       "    }\n",
       "\n",
       "    .dataframe tbody tr th {\n",
       "        vertical-align: top;\n",
       "    }\n",
       "\n",
       "    .dataframe thead th {\n",
       "        text-align: right;\n",
       "    }\n",
       "</style>\n",
       "<table border=\"1\" class=\"dataframe\">\n",
       "  <thead>\n",
       "    <tr style=\"text-align: right;\">\n",
       "      <th></th>\n",
       "      <th>education_level</th>\n",
       "      <th>major_discipline</th>\n",
       "      <th>training_hours</th>\n",
       "    </tr>\n",
       "  </thead>\n",
       "  <tbody>\n",
       "    <tr>\n",
       "      <th>13383</th>\n",
       "      <td>학사</td>\n",
       "      <td>공학</td>\n",
       "      <td>1</td>\n",
       "    </tr>\n",
       "    <tr>\n",
       "      <th>6668</th>\n",
       "      <td>학사</td>\n",
       "      <td>기타 전공</td>\n",
       "      <td>1</td>\n",
       "    </tr>\n",
       "    <tr>\n",
       "      <th>4835</th>\n",
       "      <td>학사</td>\n",
       "      <td>공학</td>\n",
       "      <td>1</td>\n",
       "    </tr>\n",
       "    <tr>\n",
       "      <th>7654</th>\n",
       "      <td>석사</td>\n",
       "      <td>경영학</td>\n",
       "      <td>1</td>\n",
       "    </tr>\n",
       "    <tr>\n",
       "      <th>10544</th>\n",
       "      <td>초졸</td>\n",
       "      <td>기타 전공</td>\n",
       "      <td>1</td>\n",
       "    </tr>\n",
       "    <tr>\n",
       "      <th>4463</th>\n",
       "      <td>석사</td>\n",
       "      <td>공학</td>\n",
       "      <td>1</td>\n",
       "    </tr>\n",
       "    <tr>\n",
       "      <th>2561</th>\n",
       "      <td>석사</td>\n",
       "      <td>공학</td>\n",
       "      <td>1</td>\n",
       "    </tr>\n",
       "  </tbody>\n",
       "</table>\n",
       "</div>"
      ],
      "text/plain": [
       "      education_level major_discipline  training_hours\n",
       "13383              학사               공학               1\n",
       "6668               학사            기타 전공               1\n",
       "4835               학사               공학               1\n",
       "7654               석사              경영학               1\n",
       "10544              초졸            기타 전공               1\n",
       "4463               석사               공학               1\n",
       "2561               석사               공학               1"
      ]
     },
     "execution_count": 25,
     "metadata": {},
     "output_type": "execute_result"
    }
   ],
   "source": [
    "df3c.nsmallest(5, 'training_hours', keep='all')"
   ]
  },
  {
   "cell_type": "markdown",
   "metadata": {},
   "source": [
    "## 각 학력별 트레이닝  평균을 찾아보기로"
   ]
  },
  {
   "cell_type": "code",
   "execution_count": 26,
   "metadata": {},
   "outputs": [
    {
     "data": {
      "text/plain": [
       "array(['학사', '석사', '초졸', '고졸', '박사'], dtype=object)"
      ]
     },
     "execution_count": 26,
     "metadata": {},
     "output_type": "execute_result"
    }
   ],
   "source": [
    "df3c['education_level'].unique()"
   ]
  },
  {
   "cell_type": "code",
   "execution_count": 27,
   "metadata": {},
   "outputs": [
    {
     "data": {
      "text/html": [
       "<div>\n",
       "<style scoped>\n",
       "    .dataframe tbody tr th:only-of-type {\n",
       "        vertical-align: middle;\n",
       "    }\n",
       "\n",
       "    .dataframe tbody tr th {\n",
       "        vertical-align: top;\n",
       "    }\n",
       "\n",
       "    .dataframe thead th {\n",
       "        text-align: right;\n",
       "    }\n",
       "</style>\n",
       "<table border=\"1\" class=\"dataframe\">\n",
       "  <thead>\n",
       "    <tr style=\"text-align: right;\">\n",
       "      <th></th>\n",
       "      <th>training_hours</th>\n",
       "    </tr>\n",
       "    <tr>\n",
       "      <th>education_level</th>\n",
       "      <th></th>\n",
       "    </tr>\n",
       "  </thead>\n",
       "  <tbody>\n",
       "    <tr>\n",
       "      <th>고졸</th>\n",
       "      <td>67.478321</td>\n",
       "    </tr>\n",
       "    <tr>\n",
       "      <th>박사</th>\n",
       "      <td>67.184049</td>\n",
       "    </tr>\n",
       "    <tr>\n",
       "      <th>석사</th>\n",
       "      <td>62.989609</td>\n",
       "    </tr>\n",
       "    <tr>\n",
       "      <th>초졸</th>\n",
       "      <td>64.038835</td>\n",
       "    </tr>\n",
       "    <tr>\n",
       "      <th>학사</th>\n",
       "      <td>65.774537</td>\n",
       "    </tr>\n",
       "  </tbody>\n",
       "</table>\n",
       "</div>"
      ],
      "text/plain": [
       "                 training_hours\n",
       "education_level                \n",
       "고졸                    67.478321\n",
       "박사                    67.184049\n",
       "석사                    62.989609\n",
       "초졸                    64.038835\n",
       "학사                    65.774537"
      ]
     },
     "execution_count": 27,
     "metadata": {},
     "output_type": "execute_result"
    }
   ],
   "source": [
    "df3c.groupby('education_level').mean()"
   ]
  },
  {
   "cell_type": "markdown",
   "metadata": {},
   "source": [
    "학력은 트레이닝시간에 영향을 주지않는다.<br>\n",
    "그렇다면 트레이닝 시간은 이직에 영향을 줄 수 있는가"
   ]
  },
  {
   "cell_type": "code",
   "execution_count": 28,
   "metadata": {},
   "outputs": [],
   "source": [
    "df2c = df[['training_hours','target']]"
   ]
  },
  {
   "cell_type": "code",
   "execution_count": 29,
   "metadata": {},
   "outputs": [
    {
     "data": {
      "text/html": [
       "<div>\n",
       "<style scoped>\n",
       "    .dataframe tbody tr th:only-of-type {\n",
       "        vertical-align: middle;\n",
       "    }\n",
       "\n",
       "    .dataframe tbody tr th {\n",
       "        vertical-align: top;\n",
       "    }\n",
       "\n",
       "    .dataframe thead tr th {\n",
       "        text-align: left;\n",
       "    }\n",
       "\n",
       "    .dataframe thead tr:last-of-type th {\n",
       "        text-align: right;\n",
       "    }\n",
       "</style>\n",
       "<table border=\"1\" class=\"dataframe\">\n",
       "  <thead>\n",
       "    <tr>\n",
       "      <th></th>\n",
       "      <th colspan=\"2\" halign=\"left\">training_hours</th>\n",
       "    </tr>\n",
       "    <tr>\n",
       "      <th></th>\n",
       "      <th>min</th>\n",
       "      <th>max</th>\n",
       "    </tr>\n",
       "    <tr>\n",
       "      <th>target</th>\n",
       "      <th></th>\n",
       "      <th></th>\n",
       "    </tr>\n",
       "  </thead>\n",
       "  <tbody>\n",
       "    <tr>\n",
       "      <th>0</th>\n",
       "      <td>1</td>\n",
       "      <td>336</td>\n",
       "    </tr>\n",
       "    <tr>\n",
       "      <th>1</th>\n",
       "      <td>1</td>\n",
       "      <td>336</td>\n",
       "    </tr>\n",
       "  </tbody>\n",
       "</table>\n",
       "</div>"
      ],
      "text/plain": [
       "       training_hours     \n",
       "                  min  max\n",
       "target                    \n",
       "0                   1  336\n",
       "1                   1  336"
      ]
     },
     "execution_count": 29,
     "metadata": {},
     "output_type": "execute_result"
    }
   ],
   "source": [
    "df2c.groupby('target').agg((min,max))"
   ]
  },
  {
   "cell_type": "code",
   "execution_count": 30,
   "metadata": {},
   "outputs": [
    {
     "data": {
      "text/html": [
       "<div>\n",
       "<style scoped>\n",
       "    .dataframe tbody tr th:only-of-type {\n",
       "        vertical-align: middle;\n",
       "    }\n",
       "\n",
       "    .dataframe tbody tr th {\n",
       "        vertical-align: top;\n",
       "    }\n",
       "\n",
       "    .dataframe thead th {\n",
       "        text-align: right;\n",
       "    }\n",
       "</style>\n",
       "<table border=\"1\" class=\"dataframe\">\n",
       "  <thead>\n",
       "    <tr style=\"text-align: right;\">\n",
       "      <th></th>\n",
       "      <th>training_hours</th>\n",
       "    </tr>\n",
       "    <tr>\n",
       "      <th>target</th>\n",
       "      <th></th>\n",
       "    </tr>\n",
       "  </thead>\n",
       "  <tbody>\n",
       "    <tr>\n",
       "      <th>0</th>\n",
       "      <td>65.965118</td>\n",
       "    </tr>\n",
       "    <tr>\n",
       "      <th>1</th>\n",
       "      <td>63.163142</td>\n",
       "    </tr>\n",
       "  </tbody>\n",
       "</table>\n",
       "</div>"
      ],
      "text/plain": [
       "        training_hours\n",
       "target                \n",
       "0            65.965118\n",
       "1            63.163142"
      ]
     },
     "execution_count": 30,
     "metadata": {},
     "output_type": "execute_result"
    }
   ],
   "source": [
    "df2c.groupby('target').mean()"
   ]
  },
  {
   "cell_type": "markdown",
   "metadata": {},
   "source": [
    "확인해봤는데 별로 영향없는거같음.. 비슷한 수치를 가짐"
   ]
  },
  {
   "cell_type": "markdown",
   "metadata": {},
   "source": [
    "## 학력 전공으로 이직 확인"
   ]
  },
  {
   "cell_type": "code",
   "execution_count": 31,
   "metadata": {},
   "outputs": [],
   "source": [
    "df4c = df[['education_level','major_discipline','training_hours','target']]"
   ]
  },
  {
   "cell_type": "code",
   "execution_count": 32,
   "metadata": {},
   "outputs": [
    {
     "data": {
      "text/html": [
       "<div>\n",
       "<style scoped>\n",
       "    .dataframe tbody tr th:only-of-type {\n",
       "        vertical-align: middle;\n",
       "    }\n",
       "\n",
       "    .dataframe tbody tr th {\n",
       "        vertical-align: top;\n",
       "    }\n",
       "\n",
       "    .dataframe thead th {\n",
       "        text-align: right;\n",
       "    }\n",
       "</style>\n",
       "<table border=\"1\" class=\"dataframe\">\n",
       "  <thead>\n",
       "    <tr style=\"text-align: right;\">\n",
       "      <th></th>\n",
       "      <th></th>\n",
       "      <th>training_hours</th>\n",
       "      <th>target</th>\n",
       "    </tr>\n",
       "    <tr>\n",
       "      <th>education_level</th>\n",
       "      <th>major_discipline</th>\n",
       "      <th></th>\n",
       "      <th></th>\n",
       "    </tr>\n",
       "  </thead>\n",
       "  <tbody>\n",
       "    <tr>\n",
       "      <th rowspan=\"5\" valign=\"top\">고졸</th>\n",
       "      <th>기타 전공</th>\n",
       "      <td>97</td>\n",
       "      <td>0</td>\n",
       "    </tr>\n",
       "    <tr>\n",
       "      <th>기타 전공</th>\n",
       "      <td>310</td>\n",
       "      <td>0</td>\n",
       "    </tr>\n",
       "    <tr>\n",
       "      <th>기타 전공</th>\n",
       "      <td>141</td>\n",
       "      <td>0</td>\n",
       "    </tr>\n",
       "    <tr>\n",
       "      <th>기타 전공</th>\n",
       "      <td>62</td>\n",
       "      <td>0</td>\n",
       "    </tr>\n",
       "    <tr>\n",
       "      <th>기타 전공</th>\n",
       "      <td>163</td>\n",
       "      <td>0</td>\n",
       "    </tr>\n",
       "    <tr>\n",
       "      <th>...</th>\n",
       "      <th>...</th>\n",
       "      <td>...</td>\n",
       "      <td>...</td>\n",
       "    </tr>\n",
       "    <tr>\n",
       "      <th rowspan=\"5\" valign=\"top\">학사</th>\n",
       "      <th>공학</th>\n",
       "      <td>27</td>\n",
       "      <td>0</td>\n",
       "    </tr>\n",
       "    <tr>\n",
       "      <th>공학</th>\n",
       "      <td>51</td>\n",
       "      <td>1</td>\n",
       "    </tr>\n",
       "    <tr>\n",
       "      <th>공학</th>\n",
       "      <td>79</td>\n",
       "      <td>0</td>\n",
       "    </tr>\n",
       "    <tr>\n",
       "      <th>공학</th>\n",
       "      <td>36</td>\n",
       "      <td>0</td>\n",
       "    </tr>\n",
       "    <tr>\n",
       "      <th>공학</th>\n",
       "      <td>23</td>\n",
       "      <td>1</td>\n",
       "    </tr>\n",
       "  </tbody>\n",
       "</table>\n",
       "<p>14376 rows × 2 columns</p>\n",
       "</div>"
      ],
      "text/plain": [
       "                                  training_hours  target\n",
       "education_level major_discipline                        \n",
       "고졸              기타 전공                         97       0\n",
       "                기타 전공                        310       0\n",
       "                기타 전공                        141       0\n",
       "                기타 전공                         62       0\n",
       "                기타 전공                        163       0\n",
       "...                                          ...     ...\n",
       "학사              공학                            27       0\n",
       "                공학                            51       1\n",
       "                공학                            79       0\n",
       "                공학                            36       0\n",
       "                공학                            23       1\n",
       "\n",
       "[14376 rows x 2 columns]"
      ]
     },
     "execution_count": 32,
     "metadata": {},
     "output_type": "execute_result"
    }
   ],
   "source": [
    "df4c.set_index(['education_level','major_discipline']).sort_values(by='education_level')"
   ]
  },
  {
   "cell_type": "code",
   "execution_count": 33,
   "metadata": {},
   "outputs": [
    {
     "data": {
      "text/html": [
       "<div>\n",
       "<style scoped>\n",
       "    .dataframe tbody tr th:only-of-type {\n",
       "        vertical-align: middle;\n",
       "    }\n",
       "\n",
       "    .dataframe tbody tr th {\n",
       "        vertical-align: top;\n",
       "    }\n",
       "\n",
       "    .dataframe thead th {\n",
       "        text-align: right;\n",
       "    }\n",
       "</style>\n",
       "<table border=\"1\" class=\"dataframe\">\n",
       "  <thead>\n",
       "    <tr style=\"text-align: right;\">\n",
       "      <th></th>\n",
       "      <th></th>\n",
       "      <th></th>\n",
       "      <th>training_hours</th>\n",
       "    </tr>\n",
       "    <tr>\n",
       "      <th>education_level</th>\n",
       "      <th>major_discipline</th>\n",
       "      <th>target</th>\n",
       "      <th></th>\n",
       "    </tr>\n",
       "  </thead>\n",
       "  <tbody>\n",
       "    <tr>\n",
       "      <th rowspan=\"2\" valign=\"top\">고졸</th>\n",
       "      <th rowspan=\"2\" valign=\"top\">기타 전공</th>\n",
       "      <th>0</th>\n",
       "      <td>67.722973</td>\n",
       "    </tr>\n",
       "    <tr>\n",
       "      <th>1</th>\n",
       "      <td>66.401487</td>\n",
       "    </tr>\n",
       "    <tr>\n",
       "      <th rowspan=\"8\" valign=\"top\">박사</th>\n",
       "      <th>경영학</th>\n",
       "      <th>0</th>\n",
       "      <td>69.000000</td>\n",
       "    </tr>\n",
       "    <tr>\n",
       "      <th rowspan=\"2\" valign=\"top\">공학</th>\n",
       "      <th>0</th>\n",
       "      <td>67.675573</td>\n",
       "    </tr>\n",
       "    <tr>\n",
       "      <th>1</th>\n",
       "      <td>63.275000</td>\n",
       "    </tr>\n",
       "    <tr>\n",
       "      <th>기타 전공</th>\n",
       "      <th>0</th>\n",
       "      <td>51.666667</td>\n",
       "    </tr>\n",
       "    <tr>\n",
       "      <th rowspan=\"2\" valign=\"top\">예술</th>\n",
       "      <th>0</th>\n",
       "      <td>48.000000</td>\n",
       "    </tr>\n",
       "    <tr>\n",
       "      <th>1</th>\n",
       "      <td>62.000000</td>\n",
       "    </tr>\n",
       "    <tr>\n",
       "      <th rowspan=\"2\" valign=\"top\">인문학</th>\n",
       "      <th>0</th>\n",
       "      <td>68.750000</td>\n",
       "    </tr>\n",
       "    <tr>\n",
       "      <th>1</th>\n",
       "      <td>128.500000</td>\n",
       "    </tr>\n",
       "    <tr>\n",
       "      <th rowspan=\"12\" valign=\"top\">석사</th>\n",
       "      <th rowspan=\"2\" valign=\"top\">경영학</th>\n",
       "      <th>0</th>\n",
       "      <td>67.632653</td>\n",
       "    </tr>\n",
       "    <tr>\n",
       "      <th>1</th>\n",
       "      <td>60.538462</td>\n",
       "    </tr>\n",
       "    <tr>\n",
       "      <th rowspan=\"2\" valign=\"top\">공학</th>\n",
       "      <th>0</th>\n",
       "      <td>63.948564</td>\n",
       "    </tr>\n",
       "    <tr>\n",
       "      <th>1</th>\n",
       "      <td>59.452632</td>\n",
       "    </tr>\n",
       "    <tr>\n",
       "      <th rowspan=\"2\" valign=\"top\">기타 전공</th>\n",
       "      <th>0</th>\n",
       "      <td>57.508197</td>\n",
       "    </tr>\n",
       "    <tr>\n",
       "      <th>1</th>\n",
       "      <td>87.000000</td>\n",
       "    </tr>\n",
       "    <tr>\n",
       "      <th rowspan=\"2\" valign=\"top\">예술</th>\n",
       "      <th>0</th>\n",
       "      <td>58.900000</td>\n",
       "    </tr>\n",
       "    <tr>\n",
       "      <th>1</th>\n",
       "      <td>51.750000</td>\n",
       "    </tr>\n",
       "    <tr>\n",
       "      <th rowspan=\"2\" valign=\"top\">인문학</th>\n",
       "      <th>0</th>\n",
       "      <td>64.380000</td>\n",
       "    </tr>\n",
       "    <tr>\n",
       "      <th>1</th>\n",
       "      <td>56.517241</td>\n",
       "    </tr>\n",
       "    <tr>\n",
       "      <th rowspan=\"2\" valign=\"top\">전공 없음</th>\n",
       "      <th>0</th>\n",
       "      <td>57.000000</td>\n",
       "    </tr>\n",
       "    <tr>\n",
       "      <th>1</th>\n",
       "      <td>34.666667</td>\n",
       "    </tr>\n",
       "    <tr>\n",
       "      <th rowspan=\"2\" valign=\"top\">초졸</th>\n",
       "      <th rowspan=\"2\" valign=\"top\">기타 전공</th>\n",
       "      <th>0</th>\n",
       "      <td>65.096774</td>\n",
       "    </tr>\n",
       "    <tr>\n",
       "      <th>1</th>\n",
       "      <td>54.200000</td>\n",
       "    </tr>\n",
       "    <tr>\n",
       "      <th rowspan=\"12\" valign=\"top\">학사</th>\n",
       "      <th rowspan=\"2\" valign=\"top\">경영학</th>\n",
       "      <th>0</th>\n",
       "      <td>65.940741</td>\n",
       "    </tr>\n",
       "    <tr>\n",
       "      <th>1</th>\n",
       "      <td>79.660000</td>\n",
       "    </tr>\n",
       "    <tr>\n",
       "      <th rowspan=\"2\" valign=\"top\">공학</th>\n",
       "      <th>0</th>\n",
       "      <td>66.363873</td>\n",
       "    </tr>\n",
       "    <tr>\n",
       "      <th>1</th>\n",
       "      <td>63.559040</td>\n",
       "    </tr>\n",
       "    <tr>\n",
       "      <th rowspan=\"2\" valign=\"top\">기타 전공</th>\n",
       "      <th>0</th>\n",
       "      <td>68.150838</td>\n",
       "    </tr>\n",
       "    <tr>\n",
       "      <th>1</th>\n",
       "      <td>69.393617</td>\n",
       "    </tr>\n",
       "    <tr>\n",
       "      <th rowspan=\"2\" valign=\"top\">예술</th>\n",
       "      <th>0</th>\n",
       "      <td>58.789474</td>\n",
       "    </tr>\n",
       "    <tr>\n",
       "      <th>1</th>\n",
       "      <td>75.275862</td>\n",
       "    </tr>\n",
       "    <tr>\n",
       "      <th rowspan=\"2\" valign=\"top\">인문학</th>\n",
       "      <th>0</th>\n",
       "      <td>68.533333</td>\n",
       "    </tr>\n",
       "    <tr>\n",
       "      <th>1</th>\n",
       "      <td>55.231707</td>\n",
       "    </tr>\n",
       "    <tr>\n",
       "      <th rowspan=\"2\" valign=\"top\">전공 없음</th>\n",
       "      <th>0</th>\n",
       "      <td>71.045045</td>\n",
       "    </tr>\n",
       "    <tr>\n",
       "      <th>1</th>\n",
       "      <td>51.476190</td>\n",
       "    </tr>\n",
       "  </tbody>\n",
       "</table>\n",
       "</div>"
      ],
      "text/plain": [
       "                                         training_hours\n",
       "education_level major_discipline target                \n",
       "고졸              기타 전공            0            67.722973\n",
       "                                 1            66.401487\n",
       "박사              경영학              0            69.000000\n",
       "                공학               0            67.675573\n",
       "                                 1            63.275000\n",
       "                기타 전공            0            51.666667\n",
       "                예술               0            48.000000\n",
       "                                 1            62.000000\n",
       "                인문학              0            68.750000\n",
       "                                 1           128.500000\n",
       "석사              경영학              0            67.632653\n",
       "                                 1            60.538462\n",
       "                공학               0            63.948564\n",
       "                                 1            59.452632\n",
       "                기타 전공            0            57.508197\n",
       "                                 1            87.000000\n",
       "                예술               0            58.900000\n",
       "                                 1            51.750000\n",
       "                인문학              0            64.380000\n",
       "                                 1            56.517241\n",
       "                전공 없음            0            57.000000\n",
       "                                 1            34.666667\n",
       "초졸              기타 전공            0            65.096774\n",
       "                                 1            54.200000\n",
       "학사              경영학              0            65.940741\n",
       "                                 1            79.660000\n",
       "                공학               0            66.363873\n",
       "                                 1            63.559040\n",
       "                기타 전공            0            68.150838\n",
       "                                 1            69.393617\n",
       "                예술               0            58.789474\n",
       "                                 1            75.275862\n",
       "                인문학              0            68.533333\n",
       "                                 1            55.231707\n",
       "                전공 없음            0            71.045045\n",
       "                                 1            51.476190"
      ]
     },
     "execution_count": 33,
     "metadata": {},
     "output_type": "execute_result"
    }
   ],
   "source": [
    "df4c.groupby(by=['education_level','major_discipline','target']).mean()"
   ]
  },
  {
   "cell_type": "markdown",
   "metadata": {},
   "source": [
    "## 21년 이상은 모두 21로 표현함"
   ]
  },
  {
   "cell_type": "code",
   "execution_count": 34,
   "metadata": {},
   "outputs": [],
   "source": [
    "df_exper = df['experience'].value_counts().sort_index()"
   ]
  },
  {
   "cell_type": "code",
   "execution_count": 35,
   "metadata": {},
   "outputs": [
    {
     "data": {
      "image/png": "[encoded data removed]",
      "text/plain": [
       "<Figure size 432x288 with 1 Axes>"
      ]
     },
     "metadata": {
      "needs_background": "light"
     },
     "output_type": "display_data"
    }
   ],
   "source": [
    "plt.plot(df_exper)\n",
    "plt.show()"
   ]
  },
  {
   "cell_type": "markdown",
   "metadata": {},
   "source": [
    "예상외로 20년 이상으로 경력을 가진사람들이 꽤 많음<br>\n",
    "최근에 데이터 사이언티스가 관심도가 높아지면서 다른 분야의 사람들이 자신의 경력을 포기해가며<br>"
   ]
  },
  {
   "cell_type": "code",
   "execution_count": 36,
   "metadata": {
    "scrolled": false
   },
   "outputs": [],
   "source": [
    "df_com = df['company_size'].value_counts().sort_values()"
   ]
  },
  {
   "cell_type": "code",
   "execution_count": null,
   "metadata": {},
   "outputs": [],
   "source": []
  },
  {
   "cell_type": "markdown",
   "metadata": {},
   "source": [
    "데이터상에서 0은 경력이 없던 사람이 취직을 했을때이고 그 숫자가 많다는건 최근 데이터사이언스에 대한 취업이 늘었다고 볼 수 있지않을까?<br>\n",
    "-- 확실히 중소기업에서 이직이 많이 증가하고있는데 대기업에서 데이터사이언스에 대한 수요가 늘어난거 아닐까"
   ]
  },
  {
   "cell_type": "markdown",
   "metadata": {},
   "source": [
    "## 경력이 그럼 이직에 얼마나 영향을 줄까"
   ]
  },
  {
   "cell_type": "code",
   "execution_count": 37,
   "metadata": {},
   "outputs": [],
   "source": [
    "df_ex= df[['experience','target']]"
   ]
  },
  {
   "cell_type": "code",
   "execution_count": 38,
   "metadata": {
    "scrolled": true
   },
   "outputs": [
    {
     "data": {
      "text/plain": [
       "experience    8.727492\n",
       "target        1.000000\n",
       "dtype: float64"
      ]
     },
     "execution_count": 38,
     "metadata": {},
     "output_type": "execute_result"
    }
   ],
   "source": [
    "df_ex[df_ex['target']==1].mean()"
   ]
  },
  {
   "cell_type": "code",
   "execution_count": 39,
   "metadata": {},
   "outputs": [
    {
     "data": {
      "text/plain": [
       "Empty        1633\n",
       "50-99         362\n",
       "100-500       312\n",
       "10000+        270\n",
       "10/49         235\n",
       "<10           147\n",
       "1000-4999     147\n",
       "500-999       104\n",
       "5000-9999      71\n",
       "0              29\n",
       "Name: company_size, dtype: int64"
      ]
     },
     "execution_count": 39,
     "metadata": {},
     "output_type": "execute_result"
    }
   ],
   "source": [
    "target_df['company_size'].value_counts()"
   ]
  },
  {
   "cell_type": "code",
   "execution_count": 40,
   "metadata": {},
   "outputs": [
    {
     "data": {
      "text/plain": [
       "experience    11.334538\n",
       "target         0.000000\n",
       "dtype: float64"
      ]
     },
     "execution_count": 40,
     "metadata": {},
     "output_type": "execute_result"
    }
   ],
   "source": [
    "df_ex[df_ex['target']==0].mean()"
   ]
  },
  {
   "cell_type": "code",
   "execution_count": 41,
   "metadata": {},
   "outputs": [
    {
     "data": {
      "text/plain": [
       "Empty        2483\n",
       "50-99        1962\n",
       "100-500      1739\n",
       "10000+       1286\n",
       "10/49         887\n",
       "1000-4999     886\n",
       "<10           841\n",
       "500-999       565\n",
       "5000-9999     371\n",
       "0              46\n",
       "Name: company_size, dtype: int64"
      ]
     },
     "execution_count": 41,
     "metadata": {},
     "output_type": "execute_result"
    }
   ],
   "source": [
    "non_target_df['company_size'].value_counts()"
   ]
  },
  {
   "cell_type": "markdown",
   "metadata": {},
   "source": [
    "오히려 이직을 실패한 경우가 더 평균이 높은데..? 더 자세히 알아볼 필요있을듯<br>\n",
    "오히려 경력이 쌓일수록 이직을 꺼리는 경향이 있는거아닐까"
   ]
  },
  {
   "cell_type": "code",
   "execution_count": 42,
   "metadata": {
    "scrolled": false
   },
   "outputs": [
    {
     "data": {
      "text/plain": [
       "18    0.113537\n",
       "16    0.132212\n",
       "19    0.136000\n",
       "21    0.151844\n",
       "15    0.167587\n",
       "17    0.170139\n",
       "14    0.175325\n",
       "12    0.182266\n",
       "10    0.196451\n",
       "13    0.202532\n",
       "11    0.210428\n",
       "20    0.213115\n",
       "9     0.214474\n",
       "8     0.243781\n",
       "6     0.260523\n",
       "5     0.280193\n",
       "7     0.290076\n",
       "4     0.303253\n",
       "2     0.311475\n",
       "3     0.327904\n",
       "1     0.397516\n",
       "0     0.452107\n",
       "Name: experience, dtype: float64"
      ]
     },
     "execution_count": 42,
     "metadata": {},
     "output_type": "execute_result"
    }
   ],
   "source": [
    "(target_df['experience'].value_counts()/df['experience'].value_counts()).sort_values()"
   ]
  },
  {
   "cell_type": "markdown",
   "metadata": {},
   "source": [
    "이직된 사람들의 경력별 수 /  전체사람의 경력별 수 => 경력별 이직 성공 사람들의 비율<br>\n",
    "그럼 반대는 경력별 이직 실패사람들의 비율"
   ]
  },
  {
   "cell_type": "code",
   "execution_count": 43,
   "metadata": {},
   "outputs": [
    {
     "data": {
      "text/plain": [
       "0    194\n",
       "1    128\n",
       "Name: target, dtype: int64"
      ]
     },
     "execution_count": 43,
     "metadata": {},
     "output_type": "execute_result"
    }
   ],
   "source": [
    "df[df['experience']==1]['target'].value_counts()"
   ]
  },
  {
   "cell_type": "code",
   "execution_count": 44,
   "metadata": {},
   "outputs": [
    {
     "data": {
      "text/html": [
       "<div>\n",
       "<style scoped>\n",
       "    .dataframe tbody tr th:only-of-type {\n",
       "        vertical-align: middle;\n",
       "    }\n",
       "\n",
       "    .dataframe tbody tr th {\n",
       "        vertical-align: top;\n",
       "    }\n",
       "\n",
       "    .dataframe thead th {\n",
       "        text-align: right;\n",
       "    }\n",
       "</style>\n",
       "<table border=\"1\" class=\"dataframe\">\n",
       "  <thead>\n",
       "    <tr style=\"text-align: right;\">\n",
       "      <th></th>\n",
       "      <th>city_development_index</th>\n",
       "      <th>last_new_job</th>\n",
       "      <th>training_hours</th>\n",
       "      <th>target</th>\n",
       "    </tr>\n",
       "    <tr>\n",
       "      <th>experience</th>\n",
       "      <th></th>\n",
       "      <th></th>\n",
       "      <th></th>\n",
       "      <th></th>\n",
       "    </tr>\n",
       "  </thead>\n",
       "  <tbody>\n",
       "    <tr>\n",
       "      <th>0</th>\n",
       "      <td>0.750444</td>\n",
       "      <td>0.980843</td>\n",
       "      <td>58.766284</td>\n",
       "      <td>0.452107</td>\n",
       "    </tr>\n",
       "    <tr>\n",
       "      <th>1</th>\n",
       "      <td>0.793314</td>\n",
       "      <td>0.621118</td>\n",
       "      <td>65.360248</td>\n",
       "      <td>0.397516</td>\n",
       "    </tr>\n",
       "    <tr>\n",
       "      <th>2</th>\n",
       "      <td>0.791531</td>\n",
       "      <td>0.867486</td>\n",
       "      <td>62.131148</td>\n",
       "      <td>0.311475</td>\n",
       "    </tr>\n",
       "    <tr>\n",
       "      <th>3</th>\n",
       "      <td>0.794724</td>\n",
       "      <td>1.119435</td>\n",
       "      <td>66.396308</td>\n",
       "      <td>0.327904</td>\n",
       "    </tr>\n",
       "    <tr>\n",
       "      <th>4</th>\n",
       "      <td>0.802726</td>\n",
       "      <td>1.210913</td>\n",
       "      <td>64.961175</td>\n",
       "      <td>0.303253</td>\n",
       "    </tr>\n",
       "    <tr>\n",
       "      <th>5</th>\n",
       "      <td>0.810225</td>\n",
       "      <td>1.419324</td>\n",
       "      <td>65.792271</td>\n",
       "      <td>0.280193</td>\n",
       "    </tr>\n",
       "    <tr>\n",
       "      <th>6</th>\n",
       "      <td>0.814340</td>\n",
       "      <td>1.594994</td>\n",
       "      <td>66.716724</td>\n",
       "      <td>0.260523</td>\n",
       "    </tr>\n",
       "    <tr>\n",
       "      <th>7</th>\n",
       "      <td>0.815356</td>\n",
       "      <td>1.751908</td>\n",
       "      <td>64.896947</td>\n",
       "      <td>0.290076</td>\n",
       "    </tr>\n",
       "    <tr>\n",
       "      <th>8</th>\n",
       "      <td>0.824420</td>\n",
       "      <td>1.829187</td>\n",
       "      <td>67.119403</td>\n",
       "      <td>0.243781</td>\n",
       "    </tr>\n",
       "    <tr>\n",
       "      <th>9</th>\n",
       "      <td>0.841042</td>\n",
       "      <td>2.081579</td>\n",
       "      <td>63.809211</td>\n",
       "      <td>0.214474</td>\n",
       "    </tr>\n",
       "    <tr>\n",
       "      <th>10</th>\n",
       "      <td>0.843236</td>\n",
       "      <td>2.103929</td>\n",
       "      <td>65.100127</td>\n",
       "      <td>0.196451</td>\n",
       "    </tr>\n",
       "    <tr>\n",
       "      <th>11</th>\n",
       "      <td>0.851028</td>\n",
       "      <td>2.128492</td>\n",
       "      <td>63.376164</td>\n",
       "      <td>0.210428</td>\n",
       "    </tr>\n",
       "    <tr>\n",
       "      <th>12</th>\n",
       "      <td>0.846219</td>\n",
       "      <td>2.354680</td>\n",
       "      <td>68.519704</td>\n",
       "      <td>0.182266</td>\n",
       "    </tr>\n",
       "    <tr>\n",
       "      <th>13</th>\n",
       "      <td>0.856712</td>\n",
       "      <td>2.443038</td>\n",
       "      <td>63.335443</td>\n",
       "      <td>0.202532</td>\n",
       "    </tr>\n",
       "    <tr>\n",
       "      <th>14</th>\n",
       "      <td>0.861071</td>\n",
       "      <td>2.419913</td>\n",
       "      <td>71.798701</td>\n",
       "      <td>0.175325</td>\n",
       "    </tr>\n",
       "    <tr>\n",
       "      <th>15</th>\n",
       "      <td>0.869882</td>\n",
       "      <td>2.705341</td>\n",
       "      <td>65.893186</td>\n",
       "      <td>0.167587</td>\n",
       "    </tr>\n",
       "    <tr>\n",
       "      <th>16</th>\n",
       "      <td>0.871303</td>\n",
       "      <td>2.622596</td>\n",
       "      <td>69.314904</td>\n",
       "      <td>0.132212</td>\n",
       "    </tr>\n",
       "    <tr>\n",
       "      <th>17</th>\n",
       "      <td>0.858826</td>\n",
       "      <td>2.753472</td>\n",
       "      <td>58.291667</td>\n",
       "      <td>0.170139</td>\n",
       "    </tr>\n",
       "    <tr>\n",
       "      <th>18</th>\n",
       "      <td>0.869782</td>\n",
       "      <td>2.917031</td>\n",
       "      <td>67.410480</td>\n",
       "      <td>0.113537</td>\n",
       "    </tr>\n",
       "    <tr>\n",
       "      <th>19</th>\n",
       "      <td>0.873804</td>\n",
       "      <td>2.900000</td>\n",
       "      <td>70.264000</td>\n",
       "      <td>0.136000</td>\n",
       "    </tr>\n",
       "    <tr>\n",
       "      <th>20</th>\n",
       "      <td>0.874057</td>\n",
       "      <td>2.901639</td>\n",
       "      <td>63.245902</td>\n",
       "      <td>0.213115</td>\n",
       "    </tr>\n",
       "    <tr>\n",
       "      <th>21</th>\n",
       "      <td>0.894661</td>\n",
       "      <td>3.254519</td>\n",
       "      <td>64.670282</td>\n",
       "      <td>0.151844</td>\n",
       "    </tr>\n",
       "  </tbody>\n",
       "</table>\n",
       "</div>"
      ],
      "text/plain": [
       "            city_development_index  last_new_job  training_hours    target\n",
       "experience                                                                \n",
       "0                         0.750444      0.980843       58.766284  0.452107\n",
       "1                         0.793314      0.621118       65.360248  0.397516\n",
       "2                         0.791531      0.867486       62.131148  0.311475\n",
       "3                         0.794724      1.119435       66.396308  0.327904\n",
       "4                         0.802726      1.210913       64.961175  0.303253\n",
       "5                         0.810225      1.419324       65.792271  0.280193\n",
       "6                         0.814340      1.594994       66.716724  0.260523\n",
       "7                         0.815356      1.751908       64.896947  0.290076\n",
       "8                         0.824420      1.829187       67.119403  0.243781\n",
       "9                         0.841042      2.081579       63.809211  0.214474\n",
       "10                        0.843236      2.103929       65.100127  0.196451\n",
       "11                        0.851028      2.128492       63.376164  0.210428\n",
       "12                        0.846219      2.354680       68.519704  0.182266\n",
       "13                        0.856712      2.443038       63.335443  0.202532\n",
       "14                        0.861071      2.419913       71.798701  0.175325\n",
       "15                        0.869882      2.705341       65.893186  0.167587\n",
       "16                        0.871303      2.622596       69.314904  0.132212\n",
       "17                        0.858826      2.753472       58.291667  0.170139\n",
       "18                        0.869782      2.917031       67.410480  0.113537\n",
       "19                        0.873804      2.900000       70.264000  0.136000\n",
       "20                        0.874057      2.901639       63.245902  0.213115\n",
       "21                        0.894661      3.254519       64.670282  0.151844"
      ]
     },
     "execution_count": 44,
     "metadata": {},
     "output_type": "execute_result"
    }
   ],
   "source": [
    "df.groupby(by='experience').mean()"
   ]
  },
  {
   "cell_type": "markdown",
   "metadata": {},
   "source": [
    "경력이 높아질"
   ]
  },
  {
   "cell_type": "code",
   "execution_count": 45,
   "metadata": {},
   "outputs": [
    {
     "data": {
      "text/html": [
       "<div>\n",
       "<style scoped>\n",
       "    .dataframe tbody tr th:only-of-type {\n",
       "        vertical-align: middle;\n",
       "    }\n",
       "\n",
       "    .dataframe tbody tr th {\n",
       "        vertical-align: top;\n",
       "    }\n",
       "\n",
       "    .dataframe thead th {\n",
       "        text-align: right;\n",
       "    }\n",
       "</style>\n",
       "<table border=\"1\" class=\"dataframe\">\n",
       "  <thead>\n",
       "    <tr style=\"text-align: right;\">\n",
       "      <th></th>\n",
       "      <th>city_development_index</th>\n",
       "      <th>experience</th>\n",
       "      <th>last_new_job</th>\n",
       "      <th>training_hours</th>\n",
       "      <th>target</th>\n",
       "    </tr>\n",
       "    <tr>\n",
       "      <th>company_size</th>\n",
       "      <th></th>\n",
       "      <th></th>\n",
       "      <th></th>\n",
       "      <th></th>\n",
       "      <th></th>\n",
       "    </tr>\n",
       "  </thead>\n",
       "  <tbody>\n",
       "    <tr>\n",
       "      <th>0</th>\n",
       "      <td>0.741813</td>\n",
       "      <td>0.000000</td>\n",
       "      <td>0.000000</td>\n",
       "      <td>67.480000</td>\n",
       "      <td>0.386667</td>\n",
       "    </tr>\n",
       "    <tr>\n",
       "      <th>10/49</th>\n",
       "      <td>0.827856</td>\n",
       "      <td>10.018717</td>\n",
       "      <td>2.041889</td>\n",
       "      <td>67.475045</td>\n",
       "      <td>0.209447</td>\n",
       "    </tr>\n",
       "    <tr>\n",
       "      <th>100-500</th>\n",
       "      <td>0.843803</td>\n",
       "      <td>11.508045</td>\n",
       "      <td>2.319844</td>\n",
       "      <td>62.399805</td>\n",
       "      <td>0.152121</td>\n",
       "    </tr>\n",
       "    <tr>\n",
       "      <th>1000-4999</th>\n",
       "      <td>0.865798</td>\n",
       "      <td>12.631171</td>\n",
       "      <td>2.563408</td>\n",
       "      <td>64.863504</td>\n",
       "      <td>0.142304</td>\n",
       "    </tr>\n",
       "    <tr>\n",
       "      <th>10000+</th>\n",
       "      <td>0.853310</td>\n",
       "      <td>11.884319</td>\n",
       "      <td>2.496787</td>\n",
       "      <td>64.971080</td>\n",
       "      <td>0.173522</td>\n",
       "    </tr>\n",
       "    <tr>\n",
       "      <th>50-99</th>\n",
       "      <td>0.841127</td>\n",
       "      <td>10.724613</td>\n",
       "      <td>2.149742</td>\n",
       "      <td>68.194923</td>\n",
       "      <td>0.155766</td>\n",
       "    </tr>\n",
       "    <tr>\n",
       "      <th>500-999</th>\n",
       "      <td>0.846714</td>\n",
       "      <td>11.829596</td>\n",
       "      <td>2.361734</td>\n",
       "      <td>61.887892</td>\n",
       "      <td>0.155456</td>\n",
       "    </tr>\n",
       "    <tr>\n",
       "      <th>5000-9999</th>\n",
       "      <td>0.860609</td>\n",
       "      <td>12.223982</td>\n",
       "      <td>2.570136</td>\n",
       "      <td>64.341629</td>\n",
       "      <td>0.160633</td>\n",
       "    </tr>\n",
       "    <tr>\n",
       "      <th>&lt;10</th>\n",
       "      <td>0.836733</td>\n",
       "      <td>10.570850</td>\n",
       "      <td>2.022267</td>\n",
       "      <td>65.069838</td>\n",
       "      <td>0.148785</td>\n",
       "    </tr>\n",
       "    <tr>\n",
       "      <th>Empty</th>\n",
       "      <td>0.828263</td>\n",
       "      <td>9.535228</td>\n",
       "      <td>1.620019</td>\n",
       "      <td>65.494412</td>\n",
       "      <td>0.396744</td>\n",
       "    </tr>\n",
       "  </tbody>\n",
       "</table>\n",
       "</div>"
      ],
      "text/plain": [
       "              city_development_index  experience  last_new_job  \\\n",
       "company_size                                                     \n",
       "0                           0.741813    0.000000      0.000000   \n",
       "10/49                       0.827856   10.018717      2.041889   \n",
       "100-500                     0.843803   11.508045      2.319844   \n",
       "1000-4999                   0.865798   12.631171      2.563408   \n",
       "10000+                      0.853310   11.884319      2.496787   \n",
       "50-99                       0.841127   10.724613      2.149742   \n",
       "500-999                     0.846714   11.829596      2.361734   \n",
       "5000-9999                   0.860609   12.223982      2.570136   \n",
       "<10                         0.836733   10.570850      2.022267   \n",
       "Empty                       0.828263    9.535228      1.620019   \n",
       "\n",
       "              training_hours    target  \n",
       "company_size                            \n",
       "0                  67.480000  0.386667  \n",
       "10/49              67.475045  0.209447  \n",
       "100-500            62.399805  0.152121  \n",
       "1000-4999          64.863504  0.142304  \n",
       "10000+             64.971080  0.173522  \n",
       "50-99              68.194923  0.155766  \n",
       "500-999            61.887892  0.155456  \n",
       "5000-9999          64.341629  0.160633  \n",
       "<10                65.069838  0.148785  \n",
       "Empty              65.494412  0.396744  "
      ]
     },
     "execution_count": 45,
     "metadata": {},
     "output_type": "execute_result"
    }
   ],
   "source": [
    "df.groupby(by='company_size').mean()"
   ]
  },
  {
   "cell_type": "code",
   "execution_count": 46,
   "metadata": {},
   "outputs": [
    {
     "data": {
      "text/html": [
       "<div>\n",
       "<style scoped>\n",
       "    .dataframe tbody tr th:only-of-type {\n",
       "        vertical-align: middle;\n",
       "    }\n",
       "\n",
       "    .dataframe tbody tr th {\n",
       "        vertical-align: top;\n",
       "    }\n",
       "\n",
       "    .dataframe thead th {\n",
       "        text-align: right;\n",
       "    }\n",
       "</style>\n",
       "<table border=\"1\" class=\"dataframe\">\n",
       "  <thead>\n",
       "    <tr style=\"text-align: right;\">\n",
       "      <th></th>\n",
       "      <th>city_development_index</th>\n",
       "      <th>experience</th>\n",
       "      <th>last_new_job</th>\n",
       "      <th>training_hours</th>\n",
       "    </tr>\n",
       "    <tr>\n",
       "      <th>target</th>\n",
       "      <th></th>\n",
       "      <th></th>\n",
       "      <th></th>\n",
       "      <th></th>\n",
       "    </tr>\n",
       "  </thead>\n",
       "  <tbody>\n",
       "    <tr>\n",
       "      <th>0</th>\n",
       "      <td>0.860415</td>\n",
       "      <td>11.334538</td>\n",
       "      <td>2.159226</td>\n",
       "      <td>65.965118</td>\n",
       "    </tr>\n",
       "    <tr>\n",
       "      <th>1</th>\n",
       "      <td>0.771402</td>\n",
       "      <td>8.727492</td>\n",
       "      <td>1.832628</td>\n",
       "      <td>63.163142</td>\n",
       "    </tr>\n",
       "  </tbody>\n",
       "</table>\n",
       "</div>"
      ],
      "text/plain": [
       "        city_development_index  experience  last_new_job  training_hours\n",
       "target                                                                  \n",
       "0                     0.860415   11.334538      2.159226       65.965118\n",
       "1                     0.771402    8.727492      1.832628       63.163142"
      ]
     },
     "execution_count": 46,
     "metadata": {},
     "output_type": "execute_result"
    }
   ],
   "source": [
    "df.groupby(by='target').mean()"
   ]
  },
  {
   "cell_type": "markdown",
   "metadata": {},
   "source": [
    "60시간정도의 훈련과정 시간을 가지게되면 이 직장에서 일할 능력이 갖춰졌다고 판단할 수 있지않을까<br>\n",
    "그렇다면 비슷한 훈련시간을 갖췄는데도 오히려 더길게 했는데도 이직을 못한걸까"
   ]
  },
  {
   "cell_type": "code",
   "execution_count": 47,
   "metadata": {},
   "outputs": [
    {
     "data": {
      "text/html": [
       "<div>\n",
       "<style scoped>\n",
       "    .dataframe tbody tr th:only-of-type {\n",
       "        vertical-align: middle;\n",
       "    }\n",
       "\n",
       "    .dataframe tbody tr th {\n",
       "        vertical-align: top;\n",
       "    }\n",
       "\n",
       "    .dataframe thead th {\n",
       "        text-align: right;\n",
       "    }\n",
       "</style>\n",
       "<table border=\"1\" class=\"dataframe\">\n",
       "  <thead>\n",
       "    <tr style=\"text-align: right;\">\n",
       "      <th></th>\n",
       "      <th>company_size</th>\n",
       "      <th>relevent_experience</th>\n",
       "      <th>experience</th>\n",
       "    </tr>\n",
       "  </thead>\n",
       "  <tbody>\n",
       "    <tr>\n",
       "      <th>0</th>\n",
       "      <td>Empty</td>\n",
       "      <td>관련 경험 있음</td>\n",
       "      <td>21</td>\n",
       "    </tr>\n",
       "    <tr>\n",
       "      <th>4</th>\n",
       "      <td>&lt;10</td>\n",
       "      <td>관련 경험 있음</td>\n",
       "      <td>13</td>\n",
       "    </tr>\n",
       "    <tr>\n",
       "      <th>5</th>\n",
       "      <td>50-99</td>\n",
       "      <td>관련 경험 있음</td>\n",
       "      <td>7</td>\n",
       "    </tr>\n",
       "    <tr>\n",
       "      <th>10</th>\n",
       "      <td>Empty</td>\n",
       "      <td>관련 경험 있음</td>\n",
       "      <td>4</td>\n",
       "    </tr>\n",
       "    <tr>\n",
       "      <th>15</th>\n",
       "      <td>&lt;10</td>\n",
       "      <td>관련 경험 있음</td>\n",
       "      <td>11</td>\n",
       "    </tr>\n",
       "    <tr>\n",
       "      <th>...</th>\n",
       "      <td>...</td>\n",
       "      <td>...</td>\n",
       "      <td>...</td>\n",
       "    </tr>\n",
       "    <tr>\n",
       "      <th>14357</th>\n",
       "      <td>10000+</td>\n",
       "      <td>관련 경험 있음</td>\n",
       "      <td>8</td>\n",
       "    </tr>\n",
       "    <tr>\n",
       "      <th>14367</th>\n",
       "      <td>100-500</td>\n",
       "      <td>관련 경험 없음</td>\n",
       "      <td>1</td>\n",
       "    </tr>\n",
       "    <tr>\n",
       "      <th>14368</th>\n",
       "      <td>50-99</td>\n",
       "      <td>관련 경험 있음</td>\n",
       "      <td>9</td>\n",
       "    </tr>\n",
       "    <tr>\n",
       "      <th>14372</th>\n",
       "      <td>Empty</td>\n",
       "      <td>관련 경험 없음</td>\n",
       "      <td>14</td>\n",
       "    </tr>\n",
       "    <tr>\n",
       "      <th>14373</th>\n",
       "      <td>Empty</td>\n",
       "      <td>관련 경험 있음</td>\n",
       "      <td>14</td>\n",
       "    </tr>\n",
       "  </tbody>\n",
       "</table>\n",
       "<p>3310 rows × 3 columns</p>\n",
       "</div>"
      ],
      "text/plain": [
       "      company_size relevent_experience  experience\n",
       "0            Empty            관련 경험 있음          21\n",
       "4              <10            관련 경험 있음          13\n",
       "5            50-99            관련 경험 있음           7\n",
       "10           Empty            관련 경험 있음           4\n",
       "15             <10            관련 경험 있음          11\n",
       "...            ...                 ...         ...\n",
       "14357       10000+            관련 경험 있음           8\n",
       "14367      100-500            관련 경험 없음           1\n",
       "14368        50-99            관련 경험 있음           9\n",
       "14372        Empty            관련 경험 없음          14\n",
       "14373        Empty            관련 경험 있음          14\n",
       "\n",
       "[3310 rows x 3 columns]"
      ]
     },
     "execution_count": 47,
     "metadata": {},
     "output_type": "execute_result"
    }
   ],
   "source": [
    "target_df[['company_size','relevent_experience','experience']]"
   ]
  },
  {
   "cell_type": "code",
   "execution_count": 48,
   "metadata": {},
   "outputs": [],
   "source": [
    "len_rele =len(target_df[target_df['relevent_experience']=='관련 경험 있음'])\n",
    "len_rele_non =len(non_target_df[non_target_df['relevent_experience']=='관련 경험 있음'])"
   ]
  },
  {
   "cell_type": "code",
   "execution_count": 49,
   "metadata": {},
   "outputs": [],
   "source": [
    "count_rele = target_df['relevent_experience'].count()\n",
    "count_rele_non = non_target_df['relevent_experience'].count()"
   ]
  },
  {
   "cell_type": "code",
   "execution_count": 50,
   "metadata": {},
   "outputs": [
    {
     "data": {
      "text/plain": [
       "0.6474320241691843"
      ]
     },
     "execution_count": 50,
     "metadata": {},
     "output_type": "execute_result"
    }
   ],
   "source": [
    "len_rele/count_rele"
   ]
  },
  {
   "cell_type": "code",
   "execution_count": 51,
   "metadata": {},
   "outputs": [
    {
     "data": {
      "text/plain": [
       "0.7804084583408639"
      ]
     },
     "execution_count": 51,
     "metadata": {},
     "output_type": "execute_result"
    }
   ],
   "source": [
    "len_rele_non/count_rele_non"
   ]
  },
  {
   "cell_type": "code",
   "execution_count": 52,
   "metadata": {},
   "outputs": [
    {
     "data": {
      "text/plain": [
       "0    11066\n",
       "1     3310\n",
       "Name: target, dtype: int64"
      ]
     },
     "execution_count": 52,
     "metadata": {},
     "output_type": "execute_result"
    }
   ],
   "source": [
    "df['target'].value_counts()"
   ]
  },
  {
   "cell_type": "markdown",
   "metadata": {},
   "source": [
    "## 시각화"
   ]
  },
  {
   "cell_type": "code",
   "execution_count": 84,
   "metadata": {},
   "outputs": [
    {
     "data": {
      "image/png": "[encoded data removed]",
      "text/plain": [
       "<Figure size 432x288 with 1 Axes>"
      ]
     },
     "metadata": {},
     "output_type": "display_data"
    },
    {
     "data": {
      "text/plain": [
       "<Figure size 432x288 with 0 Axes>"
      ]
     },
     "metadata": {},
     "output_type": "display_data"
    }
   ],
   "source": [
    "df_exper = df['experience'].value_counts().sort_index()\n",
    "plt.plot(df_exper, 'o-')\n",
    "plt.title(' 경력별 이직목표자 수')\n",
    "plt.show()\n",
    "plt.savefig('경력별 이직목표자 수.jpg')"
   ]
  },
  {
   "cell_type": "markdown",
   "metadata": {},
   "source": [
    "21 이라는 수치는 21년이상의 경력자들을 모두 합쳐놓은수치임<br>\n",
    "자신의 직종에서 20년 이상의 경력을 쌓은 사람도 생각보다 많이 이직을 목표로 훈련을 받고 있음을 알수 있음<br>\n",
    "데이터 사이언스에 대한 관심도가 생기고 필수적인 요소로 작용해서 그런거아닐까"
   ]
  },
  {
   "cell_type": "code",
   "execution_count": 54,
   "metadata": {},
   "outputs": [],
   "source": [
    "## 기업들의 수를 파악하기 위한 지표를 칼럼에 추가\n",
    "df['ForCount']= 1"
   ]
  },
  {
   "cell_type": "code",
   "execution_count": 55,
   "metadata": {
    "scrolled": true
   },
   "outputs": [
    {
     "data": {
      "text/html": [
       "<div>\n",
       "<style scoped>\n",
       "    .dataframe tbody tr th:only-of-type {\n",
       "        vertical-align: middle;\n",
       "    }\n",
       "\n",
       "    .dataframe tbody tr th {\n",
       "        vertical-align: top;\n",
       "    }\n",
       "\n",
       "    .dataframe thead th {\n",
       "        text-align: right;\n",
       "    }\n",
       "</style>\n",
       "<table border=\"1\" class=\"dataframe\">\n",
       "  <thead>\n",
       "    <tr style=\"text-align: right;\">\n",
       "      <th></th>\n",
       "      <th>ForCount</th>\n",
       "    </tr>\n",
       "    <tr>\n",
       "      <th>company_type</th>\n",
       "      <th></th>\n",
       "    </tr>\n",
       "  </thead>\n",
       "  <tbody>\n",
       "    <tr>\n",
       "      <th>신입</th>\n",
       "      <td>75</td>\n",
       "    </tr>\n",
       "    <tr>\n",
       "      <th>기타</th>\n",
       "      <td>89</td>\n",
       "    </tr>\n",
       "    <tr>\n",
       "      <th>비정부기구</th>\n",
       "      <td>399</td>\n",
       "    </tr>\n",
       "    <tr>\n",
       "      <th>신생 스타트업</th>\n",
       "      <td>427</td>\n",
       "    </tr>\n",
       "    <tr>\n",
       "      <th>공공기관</th>\n",
       "      <td>704</td>\n",
       "    </tr>\n",
       "    <tr>\n",
       "      <th>투자받은 스타트업</th>\n",
       "      <td>831</td>\n",
       "    </tr>\n",
       "    <tr>\n",
       "      <th>other</th>\n",
       "      <td>4229</td>\n",
       "    </tr>\n",
       "    <tr>\n",
       "      <th>유한책임회사</th>\n",
       "      <td>7622</td>\n",
       "    </tr>\n",
       "  </tbody>\n",
       "</table>\n",
       "</div>"
      ],
      "text/plain": [
       "              ForCount\n",
       "company_type          \n",
       "신입                  75\n",
       "기타                  89\n",
       "비정부기구              399\n",
       "신생 스타트업            427\n",
       "공공기관               704\n",
       "투자받은 스타트업          831\n",
       "other             4229\n",
       "유한책임회사            7622"
      ]
     },
     "execution_count": 55,
     "metadata": {},
     "output_type": "execute_result"
    }
   ],
   "source": [
    "df_comty = df.groupby(by='company_type').sum()[['ForCount']].sort_values(by='ForCount')\n",
    "df_comty"
   ]
  },
  {
   "cell_type": "code",
   "execution_count": 56,
   "metadata": {},
   "outputs": [],
   "source": [
    "df_comty_val= df_comty['ForCount'].values.reshape(8)"
   ]
  },
  {
   "cell_type": "code",
   "execution_count": 57,
   "metadata": {},
   "outputs": [],
   "source": [
    "df_ex0 = df[df['experience']==0]"
   ]
  },
  {
   "cell_type": "code",
   "execution_count": 58,
   "metadata": {},
   "outputs": [
    {
     "data": {
      "text/html": [
       "<div>\n",
       "<style scoped>\n",
       "    .dataframe tbody tr th:only-of-type {\n",
       "        vertical-align: middle;\n",
       "    }\n",
       "\n",
       "    .dataframe tbody tr th {\n",
       "        vertical-align: top;\n",
       "    }\n",
       "\n",
       "    .dataframe thead th {\n",
       "        text-align: right;\n",
       "    }\n",
       "</style>\n",
       "<table border=\"1\" class=\"dataframe\">\n",
       "  <thead>\n",
       "    <tr style=\"text-align: right;\">\n",
       "      <th></th>\n",
       "      <th></th>\n",
       "      <th>ForCount</th>\n",
       "    </tr>\n",
       "    <tr>\n",
       "      <th>relevent_experience</th>\n",
       "      <th>target</th>\n",
       "      <th></th>\n",
       "    </tr>\n",
       "  </thead>\n",
       "  <tbody>\n",
       "    <tr>\n",
       "      <th rowspan=\"2\" valign=\"top\">관련 경험 없음</th>\n",
       "      <th>0</th>\n",
       "      <td>98</td>\n",
       "    </tr>\n",
       "    <tr>\n",
       "      <th>1</th>\n",
       "      <td>76</td>\n",
       "    </tr>\n",
       "    <tr>\n",
       "      <th rowspan=\"2\" valign=\"top\">관련 경험 있음</th>\n",
       "      <th>0</th>\n",
       "      <td>45</td>\n",
       "    </tr>\n",
       "    <tr>\n",
       "      <th>1</th>\n",
       "      <td>42</td>\n",
       "    </tr>\n",
       "  </tbody>\n",
       "</table>\n",
       "</div>"
      ],
      "text/plain": [
       "                            ForCount\n",
       "relevent_experience target          \n",
       "관련 경험 없음            0             98\n",
       "                    1             76\n",
       "관련 경험 있음            0             45\n",
       "                    1             42"
      ]
     },
     "execution_count": 58,
     "metadata": {},
     "output_type": "execute_result"
    }
   ],
   "source": [
    "df_ex0[['relevent_experience','target','ForCount']].groupby(by=['relevent_experience','target']).sum()"
   ]
  },
  {
   "cell_type": "code",
   "execution_count": 59,
   "metadata": {},
   "outputs": [],
   "source": [
    "sns.set(font=\"Malgun Gothic\",style='darkgrid')"
   ]
  },
  {
   "cell_type": "code",
   "execution_count": 85,
   "metadata": {},
   "outputs": [
    {
     "data": {
      "image/png": "[encoded data removed]",
      "text/plain": [
       "<Figure size 432x288 with 1 Axes>"
      ]
     },
     "metadata": {},
     "output_type": "display_data"
    },
    {
     "data": {
      "text/plain": [
       "<Figure size 432x288 with 0 Axes>"
      ]
     },
     "metadata": {},
     "output_type": "display_data"
    }
   ],
   "source": [
    "sns.countplot(x=\"relevent_experience\", hue=\"target\", data=df_ex0)\n",
    "plt.show()\n",
    "plt.savefig('신입의 취업여부와 관련경험.jpg')"
   ]
  },
  {
   "cell_type": "markdown",
   "metadata": {},
   "source": [
    "신입들을 기준으로 확인해본 결과 관련 경험이 없었던 사람도 훈련을 받은 뒤 취업하는 것에 큰 영향이 없었음"
   ]
  },
  {
   "cell_type": "code",
   "execution_count": 61,
   "metadata": {},
   "outputs": [],
   "source": [
    "tar_df_ex0   = df_ex0[df_ex0['target']==1]\n",
    "notar_df_ex0 = df_ex0[df_ex0['target']==0]\n",
    "## 신입중 이직에 성공한 사람"
   ]
  },
  {
   "cell_type": "code",
   "execution_count": 62,
   "metadata": {},
   "outputs": [
    {
     "data": {
      "text/html": [
       "<div>\n",
       "<style scoped>\n",
       "    .dataframe tbody tr th:only-of-type {\n",
       "        vertical-align: middle;\n",
       "    }\n",
       "\n",
       "    .dataframe tbody tr th {\n",
       "        vertical-align: top;\n",
       "    }\n",
       "\n",
       "    .dataframe thead th {\n",
       "        text-align: right;\n",
       "    }\n",
       "</style>\n",
       "<table border=\"1\" class=\"dataframe\">\n",
       "  <thead>\n",
       "    <tr style=\"text-align: right;\">\n",
       "      <th></th>\n",
       "      <th></th>\n",
       "      <th>ForCount</th>\n",
       "    </tr>\n",
       "    <tr>\n",
       "      <th>education_level</th>\n",
       "      <th>target</th>\n",
       "      <th></th>\n",
       "    </tr>\n",
       "  </thead>\n",
       "  <tbody>\n",
       "    <tr>\n",
       "      <th rowspan=\"2\" valign=\"top\">고졸</th>\n",
       "      <th>0</th>\n",
       "      <td>40</td>\n",
       "    </tr>\n",
       "    <tr>\n",
       "      <th>1</th>\n",
       "      <td>14</td>\n",
       "    </tr>\n",
       "    <tr>\n",
       "      <th rowspan=\"2\" valign=\"top\">박사</th>\n",
       "      <th>0</th>\n",
       "      <td>1</td>\n",
       "    </tr>\n",
       "    <tr>\n",
       "      <th>1</th>\n",
       "      <td>1</td>\n",
       "    </tr>\n",
       "    <tr>\n",
       "      <th rowspan=\"2\" valign=\"top\">석사</th>\n",
       "      <th>0</th>\n",
       "      <td>17</td>\n",
       "    </tr>\n",
       "    <tr>\n",
       "      <th>1</th>\n",
       "      <td>14</td>\n",
       "    </tr>\n",
       "    <tr>\n",
       "      <th rowspan=\"2\" valign=\"top\">초졸</th>\n",
       "      <th>0</th>\n",
       "      <td>12</td>\n",
       "    </tr>\n",
       "    <tr>\n",
       "      <th>1</th>\n",
       "      <td>3</td>\n",
       "    </tr>\n",
       "    <tr>\n",
       "      <th rowspan=\"2\" valign=\"top\">학사</th>\n",
       "      <th>0</th>\n",
       "      <td>73</td>\n",
       "    </tr>\n",
       "    <tr>\n",
       "      <th>1</th>\n",
       "      <td>86</td>\n",
       "    </tr>\n",
       "  </tbody>\n",
       "</table>\n",
       "</div>"
      ],
      "text/plain": [
       "                        ForCount\n",
       "education_level target          \n",
       "고졸              0             40\n",
       "                1             14\n",
       "박사              0              1\n",
       "                1              1\n",
       "석사              0             17\n",
       "                1             14\n",
       "초졸              0             12\n",
       "                1              3\n",
       "학사              0             73\n",
       "                1             86"
      ]
     },
     "execution_count": 62,
     "metadata": {},
     "output_type": "execute_result"
    }
   ],
   "source": [
    "df_ex0[['education_level','major_discipline','target','ForCount']].groupby(by=['education_level','target']).sum()"
   ]
  },
  {
   "cell_type": "code",
   "execution_count": 86,
   "metadata": {},
   "outputs": [
    {
     "data": {
      "image/png": "[encoded data removed]",
      "text/plain": [
       "<Figure size 432x288 with 1 Axes>"
      ]
     },
     "metadata": {},
     "output_type": "display_data"
    },
    {
     "data": {
      "text/plain": [
       "<Figure size 432x288 with 0 Axes>"
      ]
     },
     "metadata": {},
     "output_type": "display_data"
    }
   ],
   "source": [
    "sns.countplot(x=\"education_level\", hue=\"target\", data=df_ex0)\n",
    "plt.show()\n",
    "plt.savefig('신입의 취업과 학력관계.jpg')"
   ]
  },
  {
   "cell_type": "code",
   "execution_count": 87,
   "metadata": {
    "scrolled": true
   },
   "outputs": [
    {
     "data": {
      "image/png": "[encoded data removed]",
      "text/plain": [
       "<Figure size 432x288 with 1 Axes>"
      ]
     },
     "metadata": {},
     "output_type": "display_data"
    },
    {
     "data": {
      "text/plain": [
       "<Figure size 432x288 with 0 Axes>"
      ]
     },
     "metadata": {},
     "output_type": "display_data"
    }
   ],
   "source": [
    "sns.countplot(x=\"major_discipline\", hue=\"target\", data=df_ex0)\n",
    "plt.show()\n",
    "plt.savefig('신입의 전공과 학력관계.jpg')"
   ]
  },
  {
   "cell_type": "code",
   "execution_count": 65,
   "metadata": {
    "scrolled": true
   },
   "outputs": [
    {
     "data": {
      "text/html": [
       "<div>\n",
       "<style scoped>\n",
       "    .dataframe tbody tr th:only-of-type {\n",
       "        vertical-align: middle;\n",
       "    }\n",
       "\n",
       "    .dataframe tbody tr th {\n",
       "        vertical-align: top;\n",
       "    }\n",
       "\n",
       "    .dataframe thead th {\n",
       "        text-align: right;\n",
       "    }\n",
       "</style>\n",
       "<table border=\"1\" class=\"dataframe\">\n",
       "  <thead>\n",
       "    <tr style=\"text-align: right;\">\n",
       "      <th></th>\n",
       "      <th>training_hours</th>\n",
       "    </tr>\n",
       "    <tr>\n",
       "      <th>target</th>\n",
       "      <th></th>\n",
       "    </tr>\n",
       "  </thead>\n",
       "  <tbody>\n",
       "    <tr>\n",
       "      <th>0</th>\n",
       "      <td>59.804196</td>\n",
       "    </tr>\n",
       "    <tr>\n",
       "      <th>1</th>\n",
       "      <td>57.508475</td>\n",
       "    </tr>\n",
       "  </tbody>\n",
       "</table>\n",
       "</div>"
      ],
      "text/plain": [
       "        training_hours\n",
       "target                \n",
       "0            59.804196\n",
       "1            57.508475"
      ]
     },
     "execution_count": 65,
     "metadata": {},
     "output_type": "execute_result"
    }
   ],
   "source": [
    "df_ex0[['training_hours','target']].groupby(by='target').mean()"
   ]
  },
  {
   "cell_type": "code",
   "execution_count": 66,
   "metadata": {
    "scrolled": true
   },
   "outputs": [],
   "source": [
    "df_company =df[['company_size','company_type','target','ForCount']].groupby(by=['company_type','company_size']).sum().sort_values(by=['company_type','ForCount'])"
   ]
  },
  {
   "cell_type": "code",
   "execution_count": 67,
   "metadata": {},
   "outputs": [],
   "source": [
    "df_company_type = df[['company_size','company_type','target','ForCount']].groupby(by=['company_type']).sum().sort_values(by=['company_type','ForCount'])"
   ]
  },
  {
   "cell_type": "code",
   "execution_count": 68,
   "metadata": {},
   "outputs": [
    {
     "data": {
      "text/html": [
       "<div>\n",
       "<style scoped>\n",
       "    .dataframe tbody tr th:only-of-type {\n",
       "        vertical-align: middle;\n",
       "    }\n",
       "\n",
       "    .dataframe tbody tr th {\n",
       "        vertical-align: top;\n",
       "    }\n",
       "\n",
       "    .dataframe thead th {\n",
       "        text-align: right;\n",
       "    }\n",
       "</style>\n",
       "<table border=\"1\" class=\"dataframe\">\n",
       "  <thead>\n",
       "    <tr style=\"text-align: right;\">\n",
       "      <th></th>\n",
       "      <th>target</th>\n",
       "      <th>ForCount</th>\n",
       "    </tr>\n",
       "    <tr>\n",
       "      <th>company_type</th>\n",
       "      <th></th>\n",
       "      <th></th>\n",
       "    </tr>\n",
       "  </thead>\n",
       "  <tbody>\n",
       "    <tr>\n",
       "      <th>other</th>\n",
       "      <td>1601</td>\n",
       "      <td>4229</td>\n",
       "    </tr>\n",
       "    <tr>\n",
       "      <th>공공기관</th>\n",
       "      <td>142</td>\n",
       "      <td>704</td>\n",
       "    </tr>\n",
       "    <tr>\n",
       "      <th>기타</th>\n",
       "      <td>18</td>\n",
       "      <td>89</td>\n",
       "    </tr>\n",
       "    <tr>\n",
       "      <th>비정부기구</th>\n",
       "      <td>65</td>\n",
       "      <td>399</td>\n",
       "    </tr>\n",
       "    <tr>\n",
       "      <th>신생 스타트업</th>\n",
       "      <td>94</td>\n",
       "      <td>427</td>\n",
       "    </tr>\n",
       "    <tr>\n",
       "      <th>신입</th>\n",
       "      <td>29</td>\n",
       "      <td>75</td>\n",
       "    </tr>\n",
       "    <tr>\n",
       "      <th>유한책임회사</th>\n",
       "      <td>1249</td>\n",
       "      <td>7622</td>\n",
       "    </tr>\n",
       "    <tr>\n",
       "      <th>투자받은 스타트업</th>\n",
       "      <td>112</td>\n",
       "      <td>831</td>\n",
       "    </tr>\n",
       "  </tbody>\n",
       "</table>\n",
       "</div>"
      ],
      "text/plain": [
       "              target  ForCount\n",
       "company_type                  \n",
       "other           1601      4229\n",
       "공공기관             142       704\n",
       "기타                18        89\n",
       "비정부기구             65       399\n",
       "신생 스타트업           94       427\n",
       "신입                29        75\n",
       "유한책임회사          1249      7622\n",
       "투자받은 스타트업        112       831"
      ]
     },
     "execution_count": 68,
     "metadata": {},
     "output_type": "execute_result"
    }
   ],
   "source": [
    "df_company_type"
   ]
  },
  {
   "cell_type": "code",
   "execution_count": 69,
   "metadata": {},
   "outputs": [],
   "source": [
    "data_com = (df_company_type['target']/df_company_type['ForCount']).sort_values()"
   ]
  },
  {
   "cell_type": "code",
   "execution_count": 88,
   "metadata": {
    "scrolled": true
   },
   "outputs": [
    {
     "data": {
      "image/png": "[encoded data removed]",
      "text/plain": [
       "<Figure size 432x288 with 1 Axes>"
      ]
     },
     "metadata": {},
     "output_type": "display_data"
    },
    {
     "data": {
      "text/plain": [
       "<Figure size 432x288 with 0 Axes>"
      ]
     },
     "metadata": {},
     "output_type": "display_data"
    }
   ],
   "source": [
    "plt.barh(data_com.index , data_com.values)\n",
    "plt.show()\n",
    "plt.savefig('회사별 입사, 이직 성공률.jpg')"
   ]
  },
  {
   "cell_type": "markdown",
   "metadata": {},
   "source": [
    "<pre>\n",
    "신입들의 입사 성공율이 가장 높았고, other의 경우 회사를 밝히기 꺼려하는 사람들이므로 제외한다면 \n",
    "신생 스타트업에서의 이직하는 경우가 가장 높은 이직 성공률을 보였지만 다른 경우와 크게 차이는 없다\n",
    "아무래도 스타트업에서 경력을 쌓은 뒤 이직을 하는 케이스가 많기 때문이라고 생각하는데\n",
    "그만큼 성공률도 높으니 후에 취직을 준비할 때 스타트업에서 경력을 쌓으며 시작하는 방법 또한 하나의 선택지라고 생각든다.\n",
    "</pre>"
   ]
  },
  {
   "cell_type": "markdown",
   "metadata": {},
   "source": [
    "## 경력직의 경우"
   ]
  },
  {
   "cell_type": "code",
   "execution_count": 89,
   "metadata": {},
   "outputs": [
    {
     "data": {
      "image/png": "[encoded data removed]",
      "text/plain": [
       "<Figure size 432x288 with 1 Axes>"
      ]
     },
     "metadata": {},
     "output_type": "display_data"
    },
    {
     "data": {
      "text/plain": [
       "<Figure size 432x288 with 0 Axes>"
      ]
     },
     "metadata": {},
     "output_type": "display_data"
    }
   ],
   "source": [
    "plt.plot(df.groupby(by='experience').mean()['target'], 'bo-')\n",
    "plt.title('경력별 이직성공률')\n",
    "plt.xlim(0,23)\n",
    "plt.show()\n",
    "plt.savefig('경력별 이직성공률.jpg')"
   ]
  },
  {
   "cell_type": "code",
   "execution_count": 90,
   "metadata": {
    "scrolled": false
   },
   "outputs": [
    {
     "data": {
      "image/png": "[encoded data removed]",
      "text/plain": [
       "<Figure size 432x288 with 1 Axes>"
      ]
     },
     "metadata": {},
     "output_type": "display_data"
    },
    {
     "data": {
      "text/plain": [
       "<Figure size 432x288 with 0 Axes>"
      ]
     },
     "metadata": {},
     "output_type": "display_data"
    }
   ],
   "source": [
    "plt.plot(df.groupby(by='experience').mean()['last_new_job'], 'ro-')\n",
    "plt.title('경력별 공백기')\n",
    "plt.xlim(0,23)\n",
    "plt.show()\n",
    "plt.savefig('경력별 공백기.jpg')"
   ]
  },
  {
   "cell_type": "code",
   "execution_count": 91,
   "metadata": {},
   "outputs": [
    {
     "data": {
      "image/png": "[encoded data removed]",
      "text/plain": [
       "<Figure size 432x288 with 2 Axes>"
      ]
     },
     "metadata": {},
     "output_type": "display_data"
    },
    {
     "data": {
      "text/plain": [
       "<Figure size 432x288 with 0 Axes>"
      ]
     },
     "metadata": {},
     "output_type": "display_data"
    }
   ],
   "source": [
    "fig, ax1 = plt.subplots( )\n",
    "ax1.set_xlabel('경력')\n",
    "ax1.set_ylabel('경력별 이직 성공률', color =  'blue')\n",
    "ax1.plot(df.groupby(by='experience').mean()['target'],'bo-')\n",
    "\n",
    "ax2 = ax1.twinx()\n",
    "ax2.plot(df.groupby(by='experience').mean()['last_new_job'], 'ro-')\n",
    "ax2.set_ylabel('경력별 공백기',color =  'red')\n",
    "\n",
    "plt.show()\n",
    "plt.savefig('경력별 공백기 + 이직성공률.jpg')"
   ]
  },
  {
   "cell_type": "markdown",
   "metadata": {},
   "source": [
    "\n",
    "<pre>\n",
    "이직 성공 확률은 경력이 낮을 수록 높은데\n",
    "경력이 많을 수록 이전 직장과의 공백기가 늘어남\n",
    "경력이 많을 수록 다른 직종에 대한 이직이 힘든것을 알 수있음\n",
    "    -> 만족하는 조건이 아니라서..?\n",
    "    -> 다른 직종으로의 이동에 대한 리스크가 큼\n",
    "    \n",
    "</pre>"
   ]
  },
  {
   "cell_type": "code",
   "execution_count": null,
   "metadata": {},
   "outputs": [],
   "source": []
  },
  {
   "cell_type": "code",
   "execution_count": null,
   "metadata": {},
   "outputs": [],
   "source": []
  },
  {
   "cell_type": "code",
   "execution_count": null,
   "metadata": {},
   "outputs": [],
   "source": []
  },
  {
   "cell_type": "code",
   "execution_count": null,
   "metadata": {},
   "outputs": [],
   "source": []
  },
  {
   "cell_type": "code",
   "execution_count": null,
   "metadata": {},
   "outputs": [],
   "source": []
  },
  {
   "cell_type": "code",
   "execution_count": null,
   "metadata": {},
   "outputs": [],
   "source": []
  }
 ],
 "metadata": {
  "kernelspec": {
   "display_name": "Python 3",
   "language": "python",
   "name": "python3"
  },
  "language_info": {
   "codemirror_mode": {
    "name": "ipython",
    "version": 3
   },
   "file_extension": ".py",
   "mimetype": "text/x-python",
   "name": "python",
   "nbconvert_exporter": "python",
   "pygments_lexer": "ipython3",
   "version": "3.7.6"
  }
 },
 "nbformat": 4,
 "nbformat_minor": 4
}
