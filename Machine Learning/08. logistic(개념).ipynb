{
 "cells": [
  {
   "cell_type": "code",
   "execution_count": 23,
   "metadata": {},
   "outputs": [],
   "source": [
    "import numpy as np\n",
    "import pandas as pd\n",
    "import matplotlib.pyplot as plt\n",
    "import math"
   ]
  },
  {
   "cell_type": "code",
   "execution_count": 2,
   "metadata": {},
   "outputs": [],
   "source": [
    "x = np.array( [1., 2., 3., 4., 5., 6.] )\n",
    "y = np.array( [ 5.,  7.,  9., 11., 13., 15.] )"
   ]
  },
  {
   "cell_type": "code",
   "execution_count": 14,
   "metadata": {},
   "outputs": [],
   "source": [
    "w = 0\n",
    "b = 0\n",
    "n = len(x)\n",
    "epochs = 5001\n",
    "learning_rate = 0.01"
   ]
  },
  {
   "cell_type": "code",
   "execution_count": 15,
   "metadata": {
    "scrolled": true
   },
   "outputs": [
    {
     "name": "stdout",
     "output_type": "stream",
     "text": [
      "epochs : 0, cost : 111.66666666666667, w : 0.8166666666666668, b : 0.2\n",
      "epochs : 100, cost : 0.5342873401160694, w : 2.387793668244803, b : 1.339778329300845\n",
      "epochs : 200, cost : 0.2571632313800838, w : 2.2690405295020555, b : 1.8481840887259684\n",
      "epochs : 300, cost : 0.12377783003332864, w : 2.1866528838450576, b : 2.200901953709994\n",
      "epochs : 400, cost : 0.059576756465295755, w : 2.1294946122510163, b : 2.445607860306259\n",
      "epochs : 500, cost : 0.0286754898673648, w : 2.0898397831129194, b : 2.6153780553198094\n",
      "epochs : 600, cost : 0.013802089403983099, w : 2.062328358604843, b : 2.7331599246495557\n",
      "epochs : 700, cost : 0.0066432229334763135, w : 2.043241692619528, b : 2.8148737304309663\n",
      "epochs : 800, cost : 0.003197516669550752, w : 2.0299998912606765, b : 2.871564510542364\n",
      "epochs : 900, cost : 0.0015390290156504782, w : 2.0208130954440477, b : 2.910895007009953\n",
      "epochs : 1000, cost : 0.0007407655864846235, w : 2.014439550403666, b : 2.938181418474874\n",
      "epochs : 1100, cost : 0.0003565453597948745, w : 2.010017761001506, b : 2.9571119766295766\n",
      "epochs : 1200, cost : 0.0001716124451657724, w : 2.0069500457201097, b : 2.970245474689927\n",
      "epochs : 1300, cost : 8.260051779307777e-05, w : 2.004821749640898, b : 2.9793571326712556\n",
      "epochs : 1400, cost : 3.9757288774087215e-05, w : 2.0033451966412574, b : 2.9856785491581057\n",
      "epochs : 1500, cost : 1.913598186667069e-05, w : 2.0023208049778787, b : 2.990064173210512\n",
      "epochs : 1600, cost : 9.210532541149304e-06, w : 2.0016101103531305, b : 2.993106797971758\n",
      "epochs : 1700, cost : 4.433214364577098e-06, w : 2.0011170500640807, b : 2.9952176869415195\n",
      "epochs : 1800, cost : 2.1337951431685626e-06, w : 2.000774978462338, b : 2.9966821633697065\n",
      "epochs : 1900, cost : 1.0270384733455162e-06, w : 2.0005376586389456, b : 2.997698176641573\n",
      "epochs : 2000, cost : 4.943342518661313e-07, w : 2.000373012704328, b : 2.998403058569845\n",
      "epochs : 2100, cost : 2.3793300729160866e-07, w : 2.000258785905241, b : 2.998892086170728\n",
      "epochs : 2200, cost : 1.1452193681724697e-07, w : 2.0001795385089416, b : 2.999231360004873\n",
      "epochs : 2300, cost : 5.512170909639442e-08, w : 2.000124558855564, b : 2.9994667388144296\n",
      "epochs : 2400, cost : 2.653118606044429e-08, w : 2.000086415491534, b : 2.9996300381272913\n",
      "epochs : 2500, cost : 1.2769992899576074e-08, w : 2.0000599526797447, b : 2.99974333067742\n",
      "epochs : 2600, cost : 6.146454149774728e-09, w : 2.000041593512284, b : 2.9998219299176103\n",
      "epochs : 2700, cost : 2.958411873277616e-09, w : 2.0000288564292954, b : 2.9998764598981924\n",
      "epochs : 2800, cost : 1.423943073195788e-09, w : 2.0000200197931344, b : 2.999914291291669\n",
      "epochs : 2900, cost : 6.853724100995356e-10, w : 2.0000138891791854, b : 2.999940537666909\n",
      "epochs : 3000, cost : 3.2988351107423224e-10, w : 2.0000096359286608, b : 2.9999587466766733\n",
      "epochs : 3100, cost : 1.5877956171450953e-10, w : 2.000006685140995, b : 2.999971379584401\n",
      "epochs : 3200, cost : 7.642379315205423e-11, w : 2.0000046379660636, b : 2.9999801439466456\n",
      "epochs : 3300, cost : 3.678430709768686e-11, w : 2.0000032176926745, b : 2.999986224418949\n",
      "epochs : 3400, cost : 1.770502605799383e-11, w : 2.0000022323462496, b : 2.9999904428825848\n",
      "epochs : 3500, cost : 8.521784765368757e-12, w : 2.000001548740133, b : 2.999993369536067\n",
      "epochs : 3600, cost : 4.101706222326803e-12, w : 2.000001074473101, b : 2.999995399967371\n",
      "epochs : 3700, cost : 1.9742336144679045e-12, w : 2.0000007454397424, b : 2.9999968086244926\n",
      "epochs : 3800, cost : 9.502383049829395e-13, w : 2.0000005171654913, b : 2.999997785911873\n",
      "epochs : 3900, cost : 4.573687873707166e-13, w : 2.000000358795125, b : 2.999998463926849\n",
      "epochs : 4000, cost : 2.2014078726026654e-13, w : 2.000000248922142, b : 2.999998934314899\n",
      "epochs : 4100, cost : 1.0595818399159759e-13, w : 2.0000001726953025, b : 2.9999992606571295\n",
      "epochs : 4200, cost : 5.0999803102676363e-14, w : 2.0000001198112285, b : 2.9999994870643483\n",
      "epochs : 4300, cost : 2.4547229681914358e-14, w : 2.000000083121719, b : 2.9999996441394217\n",
      "epochs : 4400, cost : 1.1815074896829065e-14, w : 2.0000000576675516, b : 2.999999753113765\n",
      "epochs : 4500, cost : 5.686832920323817e-15, w : 2.0000000400081537, b : 2.999999828717154\n",
      "epochs : 4600, cost : 2.7371869553135458e-15, w : 2.0000000277565513, b : 2.9999998811686948\n",
      "epochs : 4700, cost : 1.3174631406556278e-15, w : 2.0000000192567287, b : 2.999999917558123\n",
      "epochs : 4800, cost : 6.341215143271541e-16, w : 2.0000000133597866, b : 2.9999999428041018\n",
      "epochs : 4900, cost : 3.052154434702336e-16, w : 2.0000000092686507, b : 2.9999999603190663\n",
      "epochs : 5000, cost : 1.4690633397215578e-16, w : 2.0000000064303336, b : 2.999999972470464\n"
     ]
    }
   ],
   "source": [
    "for i in range(epochs):\n",
    "    hy = w*x + b # w=2, b=3\n",
    "    cost = np.sum((hy-y)**2)/n\n",
    "#     cost = np.sum((w*x+b-y)**2)/n\n",
    "    gradientW = np.sum( (w*x+b-y)*2*x )/n\n",
    "    gradientB = np.sum( (w*x+b-y)*2 )/n\n",
    "    w = w - learning_rate * gradientW\n",
    "    b = b - learning_rate * gradientB\n",
    "    if i%100==0: # 백 번에 한 번씩 찍도록 하기\n",
    "        print(f'epochs : {i}, cost : {cost}, w : {w}, b : {b}')"
   ]
  },
  {
   "cell_type": "code",
   "execution_count": 16,
   "metadata": {},
   "outputs": [
    {
     "name": "stdout",
     "output_type": "stream",
     "text": [
      "w=2.0000000064303336\n",
      "b=2.999999972470464\n"
     ]
    }
   ],
   "source": [
    "print(f'w={w}')\n",
    "print(f'b={b}')"
   ]
  },
  {
   "cell_type": "code",
   "execution_count": null,
   "metadata": {},
   "outputs": [],
   "source": []
  },
  {
   "cell_type": "code",
   "execution_count": 25,
   "metadata": {},
   "outputs": [],
   "source": [
    "x_data = np.array( [1., 2., 3., 4., 5., 6.] )\n",
    "y_data = np.array( [0, 0, 0, 1, 1, 1] )"
   ]
  },
  {
   "cell_type": "code",
   "execution_count": 26,
   "metadata": {},
   "outputs": [],
   "source": [
    "w = 0\n",
    "b = 0\n",
    "n = len(x)\n",
    "epochs = 5001\n",
    "learning_rate = 0.01"
   ]
  },
  {
   "cell_type": "code",
   "execution_count": 21,
   "metadata": {},
   "outputs": [],
   "source": [
    "def sigmoid(z):\n",
    "    return 1/(1+math.e**-z)"
   ]
  },
  {
   "cell_type": "code",
   "execution_count": 24,
   "metadata": {},
   "outputs": [
    {
     "name": "stdout",
     "output_type": "stream",
     "text": [
      "epochs : 0, cost : 0.25, w : 0.05, b : 0.01\n",
      "epochs : 100, cost : 0.20863789763879437, w : 0.18670431670038778, b : -0.09843862633367377\n",
      "epochs : 200, cost : 0.2011851116443243, w : 0.20827454450699753, b : -0.19078505325842765\n",
      "epochs : 300, cost : 0.19612034176273593, w : 0.2232393724188003, b : -0.2548524520633372\n",
      "epochs : 400, cost : 0.19265966805661197, w : 0.2336215564382593, b : -0.2993006427114918\n",
      "epochs : 500, cost : 0.19028500285428393, w : 0.240824428776597, b : -0.3301375689602174\n",
      "epochs : 600, cost : 0.1886503782240122, w : 0.2458215825378048, b : -0.3515313761456811\n",
      "epochs : 700, cost : 0.18752257586216622, w : 0.24928846971005697, b : -0.3663738083063023\n",
      "epochs : 800, cost : 0.1867431706967628, w : 0.25169370021515586, b : -0.3766710775362656\n",
      "epochs : 900, cost : 0.18620390801733896, w : 0.2533623826657879, b : -0.3838150383404577\n",
      "epochs : 1000, cost : 0.1858304909978957, w : 0.25452006843234726, b : -0.38877132090742444\n",
      "epochs : 1100, cost : 0.18557176640460568, w : 0.2553232388220078, b : -0.3922098527746765\n",
      "epochs : 1200, cost : 0.18539243521537965, w : 0.25588045624098393, b : -0.3945954111528274\n",
      "epochs : 1300, cost : 0.18526809959259793, w : 0.25626703828634756, b : -0.3962504456254652\n",
      "epochs : 1400, cost : 0.18518187721947513, w : 0.25653523822538044, b : -0.3973986628020837\n",
      "epochs : 1500, cost : 0.1851220769379545, w : 0.25672130793078957, b : -0.3981952641457288\n",
      "epochs : 1600, cost : 0.1850805980235025, w : 0.2568503979499591, b : -0.39874792414212923\n",
      "epochs : 1700, cost : 0.18505182536850404, w : 0.25693995703757394, b : -0.3991313443736641\n",
      "epochs : 1800, cost : 0.18503186575100747, w : 0.2570020906573998, b : -0.39939735073364613\n",
      "epochs : 1900, cost : 0.18501801930941417, w : 0.25704519724563657, b : -0.39958189859453425\n",
      "epochs : 2000, cost : 0.18500841350717023, w : 0.2570751034052104, b : -0.39970993280003475\n",
      "epochs : 2100, cost : 0.18500174949629597, w : 0.25709585147220054, b : -0.3997987593933056\n",
      "epochs : 2200, cost : 0.18499712630007062, w : 0.25711024590766013, b : -0.3998603848287998\n",
      "epochs : 2300, cost : 0.1849939189074142, w : 0.25712023236916026, b : -0.39990313885279194\n",
      "epochs : 2400, cost : 0.18499169373259725, w : 0.2571271607001514, b : -0.3999328004130367\n",
      "epochs : 2500, cost : 0.18499014998011168, w : 0.2571319673847134, b : -0.3999533787837723\n",
      "epochs : 2600, cost : 0.18498907897322492, w : 0.25713530212961927, b : -0.3999676554886604\n",
      "epochs : 2700, cost : 0.18498833594109718, w : 0.257137615683472, b : -0.3999775602719439\n",
      "epochs : 2800, cost : 0.1849878204473144, w : 0.25713922076319495, b : -0.39998443193684563\n",
      "epochs : 2900, cost : 0.1849874628126351, w : 0.2571403343231468, b : -0.399989199308041\n",
      "epochs : 3000, cost : 0.18498721469589655, w : 0.2571411068802657, b : -0.3999925067784194\n",
      "epochs : 3100, cost : 0.18498704255951356, w : 0.2571416428590435, b : -0.3999948014099588\n",
      "epochs : 3200, cost : 0.18498692313612197, w : 0.2571420147063067, b : -0.3999963933619041\n",
      "epochs : 3300, cost : 0.18498684028350898, w : 0.257142272683661, b : -0.39999749781416644\n",
      "epochs : 3400, cost : 0.18498678280267292, w : 0.2571424516612197, b : -0.39999826405262207\n",
      "epochs : 3500, cost : 0.18498674292406567, w : 0.2571425758309035, b : -0.39999879564768603\n",
      "epochs : 3600, cost : 0.18498671525739405, w : 0.2571426619763984, b : -0.3999991644536496\n",
      "epochs : 3700, cost : 0.18498669606302384, w : 0.2571427217417619, b : -0.3999994203210342\n",
      "epochs : 3800, cost : 0.1849866827465011, w : 0.25714276320531937, b : -0.3999995978347543\n",
      "epochs : 3900, cost : 0.18498667350786624, w : 0.2571427919715896, b : -0.39999972098886727\n",
      "epochs : 4000, cost : 0.18498666709835676, w : 0.2571428119288329, b : -0.3999998064297873\n",
      "epochs : 4100, cost : 0.18498666265161642, w : 0.25714282577461667, b : -0.39999986570633606\n",
      "epochs : 4200, cost : 0.1849866595665909, w : 0.25714283538043886, b : -0.39999990683076747\n",
      "epochs : 4300, cost : 0.18498665742628548, w : 0.25714284204469284, b : -0.39999993536176154\n",
      "epochs : 4400, cost : 0.18498665594140073, w : 0.257142846668168, b : -0.39999995515577663\n",
      "epochs : 4500, cost : 0.1849866549112287, w : 0.2571428498758073, b : -0.39999996888831724\n",
      "epochs : 4600, cost : 0.18498665419652385, w : 0.2571428521011789, b : -0.39999997841557455\n",
      "epochs : 4700, cost : 0.18498665370068146, w : 0.25714285364508005, b : -0.399999985025322\n",
      "epochs : 4800, cost : 0.18498665335667963, w : 0.2571428547161961, b : -0.3999999896109822\n",
      "epochs : 4900, cost : 0.18498665311802073, w : 0.25714285545930665, b : -0.39999999279238635\n",
      "epochs : 5000, cost : 0.18498665295244568, w : 0.25714285597485637, b : -0.3999999949995567\n"
     ]
    }
   ],
   "source": [
    "for i in range(epochs):\n",
    "    z = w*x + b # w=2, b=3\n",
    "    hy =  sigmoid(z) # 시그모이드 함수에 통과시켜주기\n",
    "    \n",
    "    cost = np.sum((hy-y)**2)/n\n",
    "    gradientW = np.sum( (w*x+b-y)*2*x )/n\n",
    "    gradientB = np.sum( (w*x+b-y)*2 )/n\n",
    "    w = w - learning_rate * gradientW\n",
    "    b = b - learning_rate * gradientB\n",
    "    if i%100==0: # 백 번에 한 번씩 찍도록 하기\n",
    "        print(f'epochs : {i}, cost : {cost}, w : {w}, b : {b}')"
   ]
  },
  {
   "cell_type": "code",
   "execution_count": 19,
   "metadata": {},
   "outputs": [
    {
     "name": "stdout",
     "output_type": "stream",
     "text": [
      "w=0.25714284954452316\n",
      "b=-0.399999967470024\n"
     ]
    }
   ],
   "source": [
    "print(f'w={w}')\n",
    "print(f'b={b}')"
   ]
  },
  {
   "cell_type": "code",
   "execution_count": 27,
   "metadata": {},
   "outputs": [],
   "source": [
    "def cost(x, y, w):\n",
    "    n=len(x)\n",
    "    z = w*x # 예측값\n",
    "    hy = sigmoid(z) # 활성함수\n",
    "    loss = np.sum(((hy - y)**2)/n)  # cost\n",
    "    return loss"
   ]
  },
  {
   "cell_type": "code",
   "execution_count": 28,
   "metadata": {},
   "outputs": [
    {
     "data": {
      "image/png": "[encoded data removed]",
      "text/plain": [
       "<Figure size 720x576 with 1 Axes>"
      ]
     },
     "metadata": {
      "needs_background": "light"
     },
     "output_type": "display_data"
    }
   ],
   "source": [
    "plt.figure(figsize=(10, 8))\n",
    "plt.xlabel('w')\n",
    "plt.ylabel('cost')\n",
    "for w in np.linspace(-3, 5, 50):\n",
    "    c = cost(x_data, y_data, w)\n",
    "    plt.plot(w, c, 'ro')\n",
    "plt.show()\n",
    "\n",
    "# 매끄러운 곡선이 안나옴!!\n",
    "# 그러면 미분을 어떻게 하지? 매끄러운 곡선으로 만들어주기 위한 추가적 작업이 필요\n",
    "# 그건 바로! 로그 그래프 이용"
   ]
  },
  {
   "cell_type": "code",
   "execution_count": null,
   "metadata": {},
   "outputs": [],
   "source": []
  },
  {
   "cell_type": "code",
   "execution_count": 32,
   "metadata": {},
   "outputs": [],
   "source": [
    "def cost(x, y, w):\n",
    "    n=len(x)\n",
    "    z = w*x # 예측값\n",
    "    hx = sigmoid(z) # 활성함수\n",
    "    loss_i = y * -np.log(hx) + (1-y)*-np.log(1-hx)\n",
    "    loss = np.sum(loss_i/n)  # cost\n",
    "    return loss"
   ]
  },
  {
   "cell_type": "code",
   "execution_count": 33,
   "metadata": {},
   "outputs": [
    {
     "data": {
      "image/png": "[encoded data removed]",
      "text/plain": [
       "<Figure size 720x576 with 1 Axes>"
      ]
     },
     "metadata": {
      "needs_background": "light"
     },
     "output_type": "display_data"
    }
   ],
   "source": [
    "plt.figure(figsize=(10, 8))\n",
    "plt.xlabel('w')\n",
    "plt.ylabel('cost')\n",
    "for w in np.linspace(-3, 5, 50):\n",
    "    c = cost(x_data, y_data, w)\n",
    "    plt.plot(w, c, 'ro')\n",
    "plt.show()"
   ]
  },
  {
   "cell_type": "code",
   "execution_count": null,
   "metadata": {},
   "outputs": [],
   "source": []
  }
 ],
 "metadata": {
  "kernelspec": {
   "display_name": "Python 3",
   "language": "python",
   "name": "python3"
  },
  "language_info": {
   "codemirror_mode": {
    "name": "ipython",
    "version": 3
   },
   "file_extension": ".py",
   "mimetype": "text/x-python",
   "name": "python",
   "nbconvert_exporter": "python",
   "pygments_lexer": "ipython3",
   "version": "3.7.6"
  }
 },
 "nbformat": 4,
 "nbformat_minor": 4
}
