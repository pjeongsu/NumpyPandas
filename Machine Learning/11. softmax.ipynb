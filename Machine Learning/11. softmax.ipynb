{
 "cells": [
  {
   "cell_type": "markdown",
   "metadata": {},
   "source": [
    "## 다중분류는 로지스틱이라고 하지 않고 softmax라고 함\n",
    "## 0, 1 이진분류가 아니라 A, B, C 이렇게 분류하는 것이 softmax\n",
    "### => 로지스틱에서 옵션을 주면 끝!\n",
    "### => 특성 데이터 수 x 분류 개수 \n",
    "## 다중분류에서는 시그모이드를 통과시키지 않음 - 연속데이터로 출력이 되는데 이 데이터를 softmax함수를 통과시켜서 확률로 바꾸어버림"
   ]
  },
  {
   "cell_type": "code",
   "execution_count": 1,
   "metadata": {},
   "outputs": [],
   "source": [
    "import numpy as np"
   ]
  },
  {
   "cell_type": "markdown",
   "metadata": {},
   "source": [
    "### softmax함수"
   ]
  },
  {
   "cell_type": "code",
   "execution_count": 2,
   "metadata": {},
   "outputs": [],
   "source": [
    "def fn(x):\n",
    "    print(x/sum(x))"
   ]
  },
  {
   "cell_type": "code",
   "execution_count": 6,
   "metadata": {},
   "outputs": [],
   "source": [
    "def softmax(x):\n",
    "    e = np.exp(x) # 2.718^2.0,  2.718^1.0, 2.718^0.1 # 확률이 높은 쪽에 더 가중치를 주는 느낌 / 반면 낮은 확률은 더 낮게\n",
    "    print(e)\n",
    "    print( e/np.sum(e) )"
   ]
  },
  {
   "cell_type": "code",
   "execution_count": 7,
   "metadata": {},
   "outputs": [
    {
     "name": "stdout",
     "output_type": "stream",
     "text": [
      "[7.3890561  2.71828183 1.10517092]\n",
      "[0.65900114 0.24243297 0.09856589]\n"
     ]
    }
   ],
   "source": [
    "a = np.array([2.0, 1.0, 0.1])\n",
    "# fn(a)\n",
    "softmax(a)"
   ]
  }
 ],
 "metadata": {
  "kernelspec": {
   "display_name": "Python 3",
   "language": "python",
   "name": "python3"
  },
  "language_info": {
   "codemirror_mode": {
    "name": "ipython",
    "version": 3
   },
   "file_extension": ".py",
   "mimetype": "text/x-python",
   "name": "python",
   "nbconvert_exporter": "python",
   "pygments_lexer": "ipython3",
   "version": "3.7.6"
  }
 },
 "nbformat": 4,
 "nbformat_minor": 4
}
