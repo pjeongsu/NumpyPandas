{
 "cells": [
  {
   "cell_type": "code",
   "execution_count": 15,
   "metadata": {},
   "outputs": [],
   "source": [
    "import pandas as pd\n",
    "import numpy as np\n",
    "from numpy import linalg\n",
    "import matplotlib.pyplot as plt\n",
    "import math\n",
    "import warnings\n",
    "warnings.simplefilter('ignore')"
   ]
  },
  {
   "cell_type": "markdown",
   "metadata": {},
   "source": [
    "<img src=\"../image/l1.svg\"> <br>\n",
    "\n",
    "## p = 1  L1 Norm\n",
    "## p = 2  L2 Norm\n",
    "\n",
    "https://en.wikipedia.org/wiki/Norm_(mathematics)"
   ]
  },
  {
   "cell_type": "markdown",
   "metadata": {},
   "source": [
    "# L1"
   ]
  },
  {
   "cell_type": "code",
   "execution_count": 2,
   "metadata": {},
   "outputs": [
    {
     "data": {
      "text/html": [
       "<div>\n",
       "<style scoped>\n",
       "    .dataframe tbody tr th:only-of-type {\n",
       "        vertical-align: middle;\n",
       "    }\n",
       "\n",
       "    .dataframe tbody tr th {\n",
       "        vertical-align: top;\n",
       "    }\n",
       "\n",
       "    .dataframe thead th {\n",
       "        text-align: right;\n",
       "    }\n",
       "</style>\n",
       "<table border=\"1\" class=\"dataframe\">\n",
       "  <thead>\n",
       "    <tr style=\"text-align: right;\">\n",
       "      <th></th>\n",
       "      <th>0</th>\n",
       "      <th>1</th>\n",
       "    </tr>\n",
       "  </thead>\n",
       "  <tbody>\n",
       "    <tr>\n",
       "      <th>0</th>\n",
       "      <td>-2</td>\n",
       "      <td>5</td>\n",
       "    </tr>\n",
       "    <tr>\n",
       "      <th>1</th>\n",
       "      <td>5</td>\n",
       "      <td>4</td>\n",
       "    </tr>\n",
       "  </tbody>\n",
       "</table>\n",
       "</div>"
      ],
      "text/plain": [
       "   0  1\n",
       "0 -2  5\n",
       "1  5  4"
      ]
     },
     "execution_count": 2,
     "metadata": {},
     "output_type": "execute_result"
    }
   ],
   "source": [
    "np.random.seed(20)\n",
    "data = np.random.randint(-5, 6, size=(2, 2))\n",
    "data\n",
    "\n",
    "df = pd.DataFrame(data)\n",
    "df"
   ]
  },
  {
   "cell_type": "code",
   "execution_count": 3,
   "metadata": {},
   "outputs": [
    {
     "data": {
      "text/plain": [
       "array([7., 9.])"
      ]
     },
     "execution_count": 3,
     "metadata": {},
     "output_type": "execute_result"
    }
   ],
   "source": [
    "linalg.norm(df, ord=1, axis=1) # row별 L1 적용시킴 => 절대값의 합"
   ]
  },
  {
   "cell_type": "markdown",
   "metadata": {},
   "source": [
    "# L2"
   ]
  },
  {
   "cell_type": "code",
   "execution_count": 4,
   "metadata": {},
   "outputs": [
    {
     "data": {
      "text/html": [
       "<div>\n",
       "<style scoped>\n",
       "    .dataframe tbody tr th:only-of-type {\n",
       "        vertical-align: middle;\n",
       "    }\n",
       "\n",
       "    .dataframe tbody tr th {\n",
       "        vertical-align: top;\n",
       "    }\n",
       "\n",
       "    .dataframe thead th {\n",
       "        text-align: right;\n",
       "    }\n",
       "</style>\n",
       "<table border=\"1\" class=\"dataframe\">\n",
       "  <thead>\n",
       "    <tr style=\"text-align: right;\">\n",
       "      <th></th>\n",
       "      <th>0</th>\n",
       "      <th>1</th>\n",
       "    </tr>\n",
       "  </thead>\n",
       "  <tbody>\n",
       "    <tr>\n",
       "      <th>0</th>\n",
       "      <td>4</td>\n",
       "      <td>5</td>\n",
       "    </tr>\n",
       "    <tr>\n",
       "      <th>1</th>\n",
       "      <td>7</td>\n",
       "      <td>8</td>\n",
       "    </tr>\n",
       "    <tr>\n",
       "      <th>2</th>\n",
       "      <td>3</td>\n",
       "      <td>1</td>\n",
       "    </tr>\n",
       "  </tbody>\n",
       "</table>\n",
       "</div>"
      ],
      "text/plain": [
       "   0  1\n",
       "0  4  5\n",
       "1  7  8\n",
       "2  3  1"
      ]
     },
     "execution_count": 4,
     "metadata": {},
     "output_type": "execute_result"
    }
   ],
   "source": [
    "np.random.seed(20)\n",
    "data = np.random.randint(1, 10, size=(3, 2))\n",
    "data\n",
    "\n",
    "df = pd.DataFrame(data)\n",
    "df"
   ]
  },
  {
   "cell_type": "code",
   "execution_count": 5,
   "metadata": {},
   "outputs": [
    {
     "data": {
      "text/plain": [
       "array([ 6.40312424, 10.63014581,  3.16227766])"
      ]
     },
     "execution_count": 5,
     "metadata": {},
     "output_type": "execute_result"
    }
   ],
   "source": [
    "linalg.norm(df, ord=2, axis=1) # 제곱의 합에다 루트를 씌운 것"
   ]
  },
  {
   "cell_type": "code",
   "execution_count": 6,
   "metadata": {},
   "outputs": [
    {
     "data": {
      "text/plain": [
       "6.4031242374328485"
      ]
     },
     "execution_count": 6,
     "metadata": {},
     "output_type": "execute_result"
    }
   ],
   "source": [
    "np.sqrt(4**2 + 5**2) # 유클리드 거리"
   ]
  },
  {
   "cell_type": "code",
   "execution_count": 7,
   "metadata": {},
   "outputs": [
    {
     "data": {
      "text/plain": [
       "10.63014581273465"
      ]
     },
     "execution_count": 7,
     "metadata": {},
     "output_type": "execute_result"
    }
   ],
   "source": [
    "np.sqrt(7**2 + 8**2) # 유클리드 거리"
   ]
  },
  {
   "cell_type": "code",
   "execution_count": 8,
   "metadata": {},
   "outputs": [
    {
     "data": {
      "text/plain": [
       "3.1622776601683795"
      ]
     },
     "execution_count": 8,
     "metadata": {},
     "output_type": "execute_result"
    }
   ],
   "source": [
    "np.sqrt(3**2 + 1**2) # 유클리드 거리"
   ]
  },
  {
   "cell_type": "code",
   "execution_count": 9,
   "metadata": {},
   "outputs": [
    {
     "data": {
      "image/png": "[encoded data removed]",
      "text/plain": [
       "<Figure size 432x288 with 1 Axes>"
      ]
     },
     "metadata": {
      "needs_background": "light"
     },
     "output_type": "display_data"
    }
   ],
   "source": [
    "# 유클리드 거리\n",
    "\n",
    "plt.scatter( df[0], df[1], s=100, c=['r', 'g', 'b'] )\n",
    "plt.show()"
   ]
  },
  {
   "cell_type": "markdown",
   "metadata": {},
   "source": [
    "# cost"
   ]
  },
  {
   "cell_type": "code",
   "execution_count": 10,
   "metadata": {},
   "outputs": [],
   "source": [
    "x_data = np.array([1, 2, 3])\n",
    "y_data = np.array([1, 2, 3])"
   ]
  },
  {
   "cell_type": "code",
   "execution_count": 11,
   "metadata": {},
   "outputs": [
    {
     "name": "stdout",
     "output_type": "stream",
     "text": [
      "[0 0 0]\n"
     ]
    },
    {
     "data": {
      "text/plain": [
       "4.666666666666666"
      ]
     },
     "execution_count": 11,
     "metadata": {},
     "output_type": "execute_result"
    }
   ],
   "source": [
    "w=0\n",
    "n=len(x_data)\n",
    "hy = w*x_data\n",
    "print(hy)\n",
    "loss = np.sum(((hy - y_data)**2)/n)\n",
    "loss"
   ]
  },
  {
   "cell_type": "code",
   "execution_count": 12,
   "metadata": {},
   "outputs": [],
   "source": [
    "def cost(x, y, w):\n",
    "    n=len(x)\n",
    "    hy = w*x # 예측값\n",
    "    loss = np.sum(((hy - y)**2)/n)  # cost\n",
    "    return loss"
   ]
  },
  {
   "cell_type": "code",
   "execution_count": 13,
   "metadata": {},
   "outputs": [
    {
     "name": "stdout",
     "output_type": "stream",
     "text": [
      "4.666666666666666\n",
      "0.0\n",
      "4.666666666666666\n"
     ]
    }
   ],
   "source": [
    "print( cost( x_data, y_data, 0) )\n",
    "print( cost( x_data, y_data, 1) )\n",
    "print( cost( x_data, y_data, 2) )"
   ]
  },
  {
   "cell_type": "code",
   "execution_count": 14,
   "metadata": {},
   "outputs": [
    {
     "data": {
      "image/png": "[encoded data removed]",
      "text/plain": [
       "<Figure size 720x576 with 1 Axes>"
      ]
     },
     "metadata": {
      "needs_background": "light"
     },
     "output_type": "display_data"
    }
   ],
   "source": [
    "plt.figure(figsize=(10, 8))\n",
    "plt.xlabel('w')\n",
    "plt.ylabel('cost')\n",
    "for w in np.linspace(-3, 5, 50):\n",
    "    c = cost(x_data, y_data, w)\n",
    "    plt.plot(w, c, 'ro')\n",
    "plt.show()"
   ]
  },
  {
   "cell_type": "markdown",
   "metadata": {},
   "source": [
    "## L2 norm"
   ]
  },
  {
   "cell_type": "code",
   "execution_count": 27,
   "metadata": {},
   "outputs": [],
   "source": [
    "def cost_l2norm(x, y, w, a):\n",
    "    n=len(x)\n",
    "    hy = w*x # 예측값\n",
    "    loss = np.sum(((hy - y)**2)/n) + a*(w**2) # L2 norm # 특성 데이터가 하나일 때\n",
    "    return loss"
   ]
  },
  {
   "cell_type": "code",
   "execution_count": 36,
   "metadata": {},
   "outputs": [
    {
     "data": {
      "image/png": "[encoded data removed]",
      "text/plain": [
       "<Figure size 720x576 with 1 Axes>"
      ]
     },
     "metadata": {
      "needs_background": "light"
     },
     "output_type": "display_data"
    }
   ],
   "source": [
    "plt.figure(figsize=(10, 8))\n",
    "plt.xlabel('w')\n",
    "plt.ylabel('cost')\n",
    "for w in np.linspace(-3, 5, 50):\n",
    "    c = cost_l2norm(x_data, y_data, w, a=0)\n",
    "    plt.plot(w, c, 'ro')\n",
    "    c = cost_l2norm(x_data, y_data, w, a=5) # 그래프가 왼쪽으로 치우쳐짐\n",
    "    plt.plot(w, c, 'bo')\n",
    "    c = cost_l2norm(x_data, y_data, w, a=10) # 그래프가 왼쪽으로 치우쳐짐\n",
    "    plt.plot(w, c, 'go')\n",
    "plt.show()"
   ]
  },
  {
   "cell_type": "code",
   "execution_count": 35,
   "metadata": {},
   "outputs": [
    {
     "data": {
      "image/png": "[encoded data removed]",
      "text/plain": [
       "<Figure size 720x576 with 1 Axes>"
      ]
     },
     "metadata": {
      "needs_background": "light"
     },
     "output_type": "display_data"
    }
   ],
   "source": [
    "plt.figure(figsize=(10, 8))\n",
    "plt.xlabel('w')\n",
    "plt.ylabel('cost')\n",
    "for w in np.linspace(-3, 5, 50):\n",
    "    c = cost_l2norm(x_data, y_data, w, a=0)\n",
    "    plt.plot(w, c, 'ro')\n",
    "    c = cost_l2norm(x_data, y_data, w, a=5) # 그래프가 왼쪽으로 치우쳐짐\n",
    "    plt.plot(w, c, 'bo')\n",
    "    c = cost_l2norm(x_data, y_data, w, a=10) # 그래프가 왼쪽으로 치우쳐짐\n",
    "    plt.plot(w, c, 'go')\n",
    "    c = cost_l2norm(x_data, y_data, w, a=100) # 그래프가 왼쪽으로 치우쳐짐\n",
    "    plt.plot(w, c, 'yo')\n",
    "plt.show()"
   ]
  },
  {
   "cell_type": "markdown",
   "metadata": {},
   "source": [
    "#### 결론 : a값이 커질 수록 w(기울기)의 최적값은 0에 근접해진다 \n",
    "#### 기울기가 0이라는 의미는 해당 특성 데이터를 무시해라!"
   ]
  },
  {
   "cell_type": "markdown",
   "metadata": {},
   "source": [
    "## L1 norm"
   ]
  },
  {
   "cell_type": "code",
   "execution_count": 29,
   "metadata": {},
   "outputs": [
    {
     "data": {
      "text/plain": [
       "2.0"
      ]
     },
     "execution_count": 29,
     "metadata": {},
     "output_type": "execute_result"
    }
   ],
   "source": [
    "math.fabs(-2)"
   ]
  },
  {
   "cell_type": "code",
   "execution_count": 30,
   "metadata": {},
   "outputs": [],
   "source": [
    "def cost_l1norm(x, y, w, a):\n",
    "    n=len(x)\n",
    "    hy = w*x # 예측값\n",
    "    loss = np.sum(((hy - y)**2)/n) + a*math.fabs(w) # L1 norm \n",
    "    return loss"
   ]
  },
  {
   "cell_type": "code",
   "execution_count": 37,
   "metadata": {},
   "outputs": [
    {
     "data": {
      "image/png": "[encoded data removed]",
      "text/plain": [
       "<Figure size 720x576 with 1 Axes>"
      ]
     },
     "metadata": {
      "needs_background": "light"
     },
     "output_type": "display_data"
    }
   ],
   "source": [
    "plt.figure(figsize=(10, 8))\n",
    "plt.xlabel('w')\n",
    "plt.ylabel('cost')\n",
    "for w in np.linspace(-3, 5, 50):\n",
    "    c = cost_l1norm(x_data, y_data, w, a=0)\n",
    "    plt.plot(w, c, 'ro')\n",
    "    c = cost_l1norm(x_data, y_data, w, a=5) # 그래프가 왼쪽으로 치우쳐짐\n",
    "    plt.plot(w, c, 'bo')\n",
    "    c = cost_l1norm(x_data, y_data, w, a=10) # 그래프가 왼쪽으로 치우쳐짐\n",
    "    plt.plot(w, c, 'go')\n",
    "    c = cost_l1norm(x_data, y_data, w, a=20) # 그래프가 왼쪽으로 치우쳐짐\n",
    "    plt.plot(w, c, 'go')\n",
    "plt.show()"
   ]
  },
  {
   "cell_type": "code",
   "execution_count": 34,
   "metadata": {},
   "outputs": [
    {
     "data": {
      "image/png": "[encoded data removed]",
      "text/plain": [
       "<Figure size 720x576 with 1 Axes>"
      ]
     },
     "metadata": {
      "needs_background": "light"
     },
     "output_type": "display_data"
    }
   ],
   "source": [
    "plt.figure(figsize=(10, 8))\n",
    "plt.xlabel('w')\n",
    "plt.ylabel('cost')\n",
    "for w in np.linspace(-3, 5, 50):\n",
    "    c = cost_l1norm(x_data, y_data, w, a=0)\n",
    "    plt.plot(w, c, 'ro')\n",
    "    c = cost_l1norm(x_data, y_data, w, a=5) # 그래프가 왼쪽으로 치우쳐짐\n",
    "    plt.plot(w, c, 'bo')\n",
    "    c = cost_l1norm(x_data, y_data, w, a=10) # 그래프가 왼쪽으로 치우쳐짐\n",
    "    plt.plot(w, c, 'go')\n",
    "    c = cost_l1norm(x_data, y_data, w, a=20) # 그래프가 왼쪽으로 치우쳐짐\n",
    "    plt.plot(w, c, 'go')\n",
    "    c = cost_l1norm(x_data, y_data, w, a=100) # 그래프가 왼쪽으로 치우쳐짐\n",
    "    plt.plot(w, c, 'yo')\n",
    "plt.show()"
   ]
  },
  {
   "cell_type": "markdown",
   "metadata": {},
   "source": [
    "#### L1규제는 절대값을 취하기 때문에 뾰족해짐"
   ]
  }
 ],
 "metadata": {
  "kernelspec": {
   "display_name": "Python 3",
   "language": "python",
   "name": "python3"
  },
  "language_info": {
   "codemirror_mode": {
    "name": "ipython",
    "version": 3
   },
   "file_extension": ".py",
   "mimetype": "text/x-python",
   "name": "python",
   "nbconvert_exporter": "python",
   "pygments_lexer": "ipython3",
   "version": "3.7.6"
  }
 },
 "nbformat": 4,
 "nbformat_minor": 4
}
