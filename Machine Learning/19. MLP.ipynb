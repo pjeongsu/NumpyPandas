{
 "cells": [
  {
   "cell_type": "code",
   "execution_count": 1,
   "metadata": {},
   "outputs": [],
   "source": [
    "from sklearn.model_selection import train_test_split, GridSearchCV\n",
    "from sklearn.model_selection import validation_curve\n",
    "from sklearn.pipeline import make_pipeline\n",
    "from sklearn.preprocessing import StandardScaler\n",
    "from sklearn.metrics import confusion_matrix\n",
    "import sklearn.metrics as metrics\n",
    "from sklearn.ensemble import BaggingClassifier, RandomForestClassifier, AdaBoostClassifier\n",
    "from sklearn.ensemble import VotingClassifier\n",
    "from sklearn.neural_network import MLPClassifier\n",
    "\n",
    "import numpy as np\n",
    "import pandas as pd\n",
    "\n",
    "import seaborn as sns\n",
    "import matplotlib.pyplot as plt\n",
    "import matplotlib\n",
    "matplotlib.rcParams[\"font.family\"]=\"Malgun Gothic\"\n",
    "matplotlib.rcParams[\"axes.unicode_minus\"]= False\n",
    "\n",
    "import warnings\n",
    "warnings.simplefilter('ignore')\n"
   ]
  },
  {
   "cell_type": "markdown",
   "metadata": {},
   "source": [
    "## 답러닝 쪽은 워낙 오버피팅이 많이 일어나서 디폴트로 검정데이터를 나누고 validation_fraction=0.1 오버피팅을 확인한다!\n",
    "## 과적합이 일어난 시점에 멈추는 early_stopping=True 을 하는게 중요!!"
   ]
  },
  {
   "cell_type": "code",
   "execution_count": 3,
   "metadata": {},
   "outputs": [
    {
     "data": {
      "text/html": [
       "<div>\n",
       "<style scoped>\n",
       "    .dataframe tbody tr th:only-of-type {\n",
       "        vertical-align: middle;\n",
       "    }\n",
       "\n",
       "    .dataframe tbody tr th {\n",
       "        vertical-align: top;\n",
       "    }\n",
       "\n",
       "    .dataframe thead th {\n",
       "        text-align: right;\n",
       "    }\n",
       "</style>\n",
       "<table border=\"1\" class=\"dataframe\">\n",
       "  <thead>\n",
       "    <tr style=\"text-align: right;\">\n",
       "      <th></th>\n",
       "      <th>Pregnancies</th>\n",
       "      <th>Glucose</th>\n",
       "      <th>BloodPressure</th>\n",
       "      <th>SkinThickness</th>\n",
       "      <th>Insulin</th>\n",
       "      <th>BMI</th>\n",
       "      <th>DiabetesPedigreeFunction</th>\n",
       "      <th>Age</th>\n",
       "      <th>Outcome</th>\n",
       "    </tr>\n",
       "  </thead>\n",
       "  <tbody>\n",
       "    <tr>\n",
       "      <th>0</th>\n",
       "      <td>6</td>\n",
       "      <td>148</td>\n",
       "      <td>72</td>\n",
       "      <td>35</td>\n",
       "      <td>0</td>\n",
       "      <td>33.6</td>\n",
       "      <td>0.627</td>\n",
       "      <td>50</td>\n",
       "      <td>1</td>\n",
       "    </tr>\n",
       "    <tr>\n",
       "      <th>1</th>\n",
       "      <td>1</td>\n",
       "      <td>85</td>\n",
       "      <td>66</td>\n",
       "      <td>29</td>\n",
       "      <td>0</td>\n",
       "      <td>26.6</td>\n",
       "      <td>0.351</td>\n",
       "      <td>31</td>\n",
       "      <td>0</td>\n",
       "    </tr>\n",
       "    <tr>\n",
       "      <th>2</th>\n",
       "      <td>8</td>\n",
       "      <td>183</td>\n",
       "      <td>64</td>\n",
       "      <td>0</td>\n",
       "      <td>0</td>\n",
       "      <td>23.3</td>\n",
       "      <td>0.672</td>\n",
       "      <td>32</td>\n",
       "      <td>1</td>\n",
       "    </tr>\n",
       "    <tr>\n",
       "      <th>3</th>\n",
       "      <td>1</td>\n",
       "      <td>89</td>\n",
       "      <td>66</td>\n",
       "      <td>23</td>\n",
       "      <td>94</td>\n",
       "      <td>28.1</td>\n",
       "      <td>0.167</td>\n",
       "      <td>21</td>\n",
       "      <td>0</td>\n",
       "    </tr>\n",
       "    <tr>\n",
       "      <th>4</th>\n",
       "      <td>0</td>\n",
       "      <td>137</td>\n",
       "      <td>40</td>\n",
       "      <td>35</td>\n",
       "      <td>168</td>\n",
       "      <td>43.1</td>\n",
       "      <td>2.288</td>\n",
       "      <td>33</td>\n",
       "      <td>1</td>\n",
       "    </tr>\n",
       "  </tbody>\n",
       "</table>\n",
       "</div>"
      ],
      "text/plain": [
       "   Pregnancies  Glucose  BloodPressure  SkinThickness  Insulin   BMI  \\\n",
       "0            6      148             72             35        0  33.6   \n",
       "1            1       85             66             29        0  26.6   \n",
       "2            8      183             64              0        0  23.3   \n",
       "3            1       89             66             23       94  28.1   \n",
       "4            0      137             40             35      168  43.1   \n",
       "\n",
       "   DiabetesPedigreeFunction  Age  Outcome  \n",
       "0                     0.627   50        1  \n",
       "1                     0.351   31        0  \n",
       "2                     0.672   32        1  \n",
       "3                     0.167   21        0  \n",
       "4                     2.288   33        1  "
      ]
     },
     "execution_count": 3,
     "metadata": {},
     "output_type": "execute_result"
    }
   ],
   "source": [
    "df = pd.read_csv( '../data5/pima-indians-diabetes.data.csv')\n",
    "df.head()"
   ]
  },
  {
   "cell_type": "code",
   "execution_count": 4,
   "metadata": {},
   "outputs": [],
   "source": [
    "x_data = df.iloc[:,:-1]\n",
    "y_data = df['Outcome']"
   ]
  },
  {
   "cell_type": "code",
   "execution_count": 5,
   "metadata": {},
   "outputs": [],
   "source": [
    "x_train, x_test, y_train, y_test = train_test_split( x_data,y_data,test_size=0.3,stratify=y_data)"
   ]
  },
  {
   "cell_type": "code",
   "execution_count": 6,
   "metadata": {},
   "outputs": [
    {
     "data": {
      "text/plain": [
       "Pipeline(steps=[('standardscaler', StandardScaler()),\n",
       "                ('mlpclassifier', MLPClassifier(early_stopping=True))])"
      ]
     },
     "execution_count": 6,
     "metadata": {},
     "output_type": "execute_result"
    }
   ],
   "source": [
    "m_pip = make_pipeline( StandardScaler(), \n",
    "                    MLPClassifier(early_stopping=True) )\n",
    "m_pip.fit(x_train, y_train)"
   ]
  },
  {
   "cell_type": "code",
   "execution_count": 7,
   "metadata": {
    "scrolled": true
   },
   "outputs": [
    {
     "data": {
      "text/plain": [
       "[0.683275888564093,\n",
       " 0.6636913402623191,\n",
       " 0.6449237232166962,\n",
       " 0.6291798320716754,\n",
       " 0.6151269675975538,\n",
       " 0.6012710297020298,\n",
       " 0.5897804424823225,\n",
       " 0.5784597664354378,\n",
       " 0.5690648576617938,\n",
       " 0.5599338931108234,\n",
       " 0.5520431040980752,\n",
       " 0.5448842789184745,\n",
       " 0.5381980279695804,\n",
       " 0.5319890865786852,\n",
       " 0.5264303298666525,\n",
       " 0.5214083496587707,\n",
       " 0.5165503629150527,\n",
       " 0.5120802678706218,\n",
       " 0.5083119034503208,\n",
       " 0.5042964302840538,\n",
       " 0.50119579203722,\n",
       " 0.49752390868732954]"
      ]
     },
     "execution_count": 7,
     "metadata": {},
     "output_type": "execute_result"
    }
   ],
   "source": [
    "# 파이프라인 단계 중 하나의 속성을 확인하고 싶을 때\n",
    "# 단계이름을 키로 가진 named_steps 함수를 사용\n",
    "\n",
    "m_pip.named_steps['mlpclassifier'].loss_curve_"
   ]
  },
  {
   "cell_type": "code",
   "execution_count": 8,
   "metadata": {
    "scrolled": true
   },
   "outputs": [
    {
     "data": {
      "text/plain": [
       "[0.6111111111111112,\n",
       " 0.6296296296296297,\n",
       " 0.6296296296296297,\n",
       " 0.6296296296296297,\n",
       " 0.6851851851851852,\n",
       " 0.7407407407407407,\n",
       " 0.7777777777777778,\n",
       " 0.7777777777777778,\n",
       " 0.7777777777777778,\n",
       " 0.7962962962962963,\n",
       " 0.8333333333333334,\n",
       " 0.8333333333333334,\n",
       " 0.8333333333333334,\n",
       " 0.8333333333333334,\n",
       " 0.8333333333333334,\n",
       " 0.8333333333333334,\n",
       " 0.8333333333333334,\n",
       " 0.8148148148148148,\n",
       " 0.8148148148148148,\n",
       " 0.8148148148148148,\n",
       " 0.8148148148148148,\n",
       " 0.8148148148148148]"
      ]
     },
     "execution_count": 8,
     "metadata": {},
     "output_type": "execute_result"
    }
   ],
   "source": [
    "m_pip.named_steps['mlpclassifier'].validation_scores_"
   ]
  },
  {
   "cell_type": "code",
   "execution_count": 9,
   "metadata": {
    "scrolled": true
   },
   "outputs": [
    {
     "name": "stdout",
     "output_type": "stream",
     "text": [
      "Iteration 1, loss = 7.38664696\n",
      "Validation score: 0.574074\n",
      "Iteration 2, loss = 6.07056023\n",
      "Validation score: 0.555556\n",
      "Iteration 3, loss = 4.75446725\n",
      "Validation score: 0.574074\n",
      "Iteration 4, loss = 3.34585391\n",
      "Validation score: 0.592593\n",
      "Iteration 5, loss = 1.97636961\n",
      "Validation score: 0.555556\n",
      "Iteration 6, loss = 1.27952454\n",
      "Validation score: 0.518519\n",
      "Iteration 7, loss = 1.35361616\n",
      "Validation score: 0.537037\n",
      "Iteration 8, loss = 1.68738828\n",
      "Validation score: 0.537037\n",
      "Iteration 9, loss = 1.50623743\n",
      "Validation score: 0.555556\n",
      "Iteration 10, loss = 1.10249967\n",
      "Validation score: 0.537037\n",
      "Iteration 11, loss = 0.86663721\n",
      "Validation score: 0.666667\n",
      "Iteration 12, loss = 0.95072545\n",
      "Validation score: 0.629630\n",
      "Iteration 13, loss = 0.94482331\n",
      "Validation score: 0.629630\n",
      "Iteration 14, loss = 0.86301628\n",
      "Validation score: 0.722222\n",
      "Iteration 15, loss = 0.75798564\n",
      "Validation score: 0.629630\n",
      "Iteration 16, loss = 0.79310833\n",
      "Validation score: 0.666667\n",
      "Iteration 17, loss = 0.76635456\n",
      "Validation score: 0.703704\n",
      "Iteration 18, loss = 0.71405284\n",
      "Validation score: 0.666667\n",
      "Iteration 19, loss = 0.70355365\n",
      "Validation score: 0.629630\n",
      "Iteration 20, loss = 0.69530289\n",
      "Validation score: 0.703704\n",
      "Iteration 21, loss = 0.66731987\n",
      "Validation score: 0.759259\n",
      "Iteration 22, loss = 0.65257470\n",
      "Validation score: 0.722222\n",
      "Iteration 23, loss = 0.65065544\n",
      "Validation score: 0.685185\n",
      "Iteration 24, loss = 0.63008380\n",
      "Validation score: 0.685185\n",
      "Iteration 25, loss = 0.62302666\n",
      "Validation score: 0.685185\n",
      "Iteration 26, loss = 0.61793603\n",
      "Validation score: 0.648148\n",
      "Iteration 27, loss = 0.60309589\n",
      "Validation score: 0.703704\n",
      "Iteration 28, loss = 0.59857771\n",
      "Validation score: 0.703704\n",
      "Iteration 29, loss = 0.58968381\n",
      "Validation score: 0.666667\n",
      "Iteration 30, loss = 0.58200368\n",
      "Validation score: 0.611111\n",
      "Iteration 31, loss = 0.58695577\n",
      "Validation score: 0.685185\n",
      "Iteration 32, loss = 0.57978195\n",
      "Validation score: 0.685185\n",
      "Validation score did not improve more than tol=0.000100 for 10 consecutive epochs. Stopping.\n"
     ]
    },
    {
     "data": {
      "text/plain": [
       "MLPClassifier(early_stopping=True, verbose=1)"
      ]
     },
     "execution_count": 9,
     "metadata": {},
     "output_type": "execute_result"
    }
   ],
   "source": [
    "m_pip= MLPClassifier(early_stopping=True, verbose=1)\n",
    "m_pip.fit(x_train, y_train)"
   ]
  },
  {
   "cell_type": "code",
   "execution_count": 10,
   "metadata": {
    "scrolled": true
   },
   "outputs": [
    {
     "data": {
      "text/plain": [
       "[7.3866469597357645,\n",
       " 6.070560228132723,\n",
       " 4.7544672495383,\n",
       " 3.3458539096991076,\n",
       " 1.9763696128845634,\n",
       " 1.2795245432182871,\n",
       " 1.3536161607764754,\n",
       " 1.687388280565074,\n",
       " 1.5062374292107077,\n",
       " 1.1024996656040789,\n",
       " 0.8666372103047519,\n",
       " 0.9507254465676155,\n",
       " 0.9448233109375165,\n",
       " 0.8630162795228301,\n",
       " 0.757985637996658,\n",
       " 0.7931083251770753,\n",
       " 0.7663545606334431,\n",
       " 0.714052843624609,\n",
       " 0.7035536519575051,\n",
       " 0.6953028935352451,\n",
       " 0.6673198668732214,\n",
       " 0.6525747007520232,\n",
       " 0.650655443381632,\n",
       " 0.6300837974922006,\n",
       " 0.6230266580142938,\n",
       " 0.6179360251170585,\n",
       " 0.6030958923461682,\n",
       " 0.598577705083585,\n",
       " 0.5896838054487216,\n",
       " 0.5820036839477473,\n",
       " 0.5869557720943431,\n",
       " 0.5797819468633609]"
      ]
     },
     "execution_count": 10,
     "metadata": {},
     "output_type": "execute_result"
    }
   ],
   "source": [
    "m_pip.loss_curve_"
   ]
  },
  {
   "cell_type": "code",
   "execution_count": 11,
   "metadata": {
    "scrolled": true
   },
   "outputs": [
    {
     "data": {
      "text/plain": [
       "[0.5740740740740741,\n",
       " 0.5555555555555556,\n",
       " 0.5740740740740741,\n",
       " 0.5925925925925926,\n",
       " 0.5555555555555556,\n",
       " 0.5185185185185185,\n",
       " 0.5370370370370371,\n",
       " 0.5370370370370371,\n",
       " 0.5555555555555556,\n",
       " 0.5370370370370371,\n",
       " 0.6666666666666666,\n",
       " 0.6296296296296297,\n",
       " 0.6296296296296297,\n",
       " 0.7222222222222222,\n",
       " 0.6296296296296297,\n",
       " 0.6666666666666666,\n",
       " 0.7037037037037037,\n",
       " 0.6666666666666666,\n",
       " 0.6296296296296297,\n",
       " 0.7037037037037037,\n",
       " 0.7592592592592593,\n",
       " 0.7222222222222222,\n",
       " 0.6851851851851852,\n",
       " 0.6851851851851852,\n",
       " 0.6851851851851852,\n",
       " 0.6481481481481481,\n",
       " 0.7037037037037037,\n",
       " 0.7037037037037037,\n",
       " 0.6666666666666666,\n",
       " 0.6111111111111112,\n",
       " 0.6851851851851852,\n",
       " 0.6851851851851852]"
      ]
     },
     "execution_count": 11,
     "metadata": {},
     "output_type": "execute_result"
    }
   ],
   "source": [
    "m_pip.validation_scores_"
   ]
  },
  {
   "cell_type": "code",
   "execution_count": 12,
   "metadata": {},
   "outputs": [
    {
     "data": {
      "image/png": "[encoded data removed]",
      "text/plain": [
       "<Figure size 432x288 with 1 Axes>"
      ]
     },
     "metadata": {
      "needs_background": "light"
     },
     "output_type": "display_data"
    }
   ],
   "source": [
    "plt.plot( m_pip.loss_curve_ )\n",
    "plt.plot(m_pip.validation_scores_ )\n",
    "plt.show()"
   ]
  },
  {
   "cell_type": "code",
   "execution_count": null,
   "metadata": {},
   "outputs": [],
   "source": []
  }
 ],
 "metadata": {
  "kernelspec": {
   "display_name": "Python 3",
   "language": "python",
   "name": "python3"
  },
  "language_info": {
   "codemirror_mode": {
    "name": "ipython",
    "version": 3
   },
   "file_extension": ".py",
   "mimetype": "text/x-python",
   "name": "python",
   "nbconvert_exporter": "python",
   "pygments_lexer": "ipython3",
   "version": "3.7.6"
  }
 },
 "nbformat": 4,
 "nbformat_minor": 4
}
